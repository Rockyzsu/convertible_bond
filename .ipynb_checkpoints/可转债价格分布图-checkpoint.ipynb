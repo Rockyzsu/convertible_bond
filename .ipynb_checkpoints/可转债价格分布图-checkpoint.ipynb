{
 "cells": [
  {
   "cell_type": "code",
   "execution_count": 1,
   "metadata": {},
   "outputs": [
    {
     "name": "stdout",
     "output_type": "stream",
     "text": [
      "█\r"
     ]
    }
   ],
   "source": [
    "from settings import DBSelector\n",
    "import pandas as pd\n",
    "import pymongo\n",
    "from pyecharts.charts import Bar\n",
    "# from pyecharts import Geo,Style,Map"
   ]
  },
  {
   "cell_type": "code",
   "execution_count": 2,
   "metadata": {
    "scrolled": true
   },
   "outputs": [
    {
     "name": "stdout",
     "output_type": "stream",
     "text": [
      "been called\n"
     ]
    }
   ],
   "source": [
    "DB=DBSelector()"
   ]
  },
  {
   "cell_type": "code",
   "execution_count": 5,
   "metadata": {},
   "outputs": [],
   "source": [
    "engine = DB.get_engine('db_stock','qq')\n",
    "# 堆叠图\n",
    "\n",
    "df = pd.read_sql('tb_bond_jisilu',con=engine)"
   ]
  },
  {
   "cell_type": "code",
   "execution_count": 3,
   "metadata": {
    "scrolled": true
   },
   "outputs": [
    {
     "ename": "AttributeError",
     "evalue": "'str' object has no attribute 'get'",
     "output_type": "error",
     "traceback": [
      "\u001b[1;31m---------------------------------------------------------------------------\u001b[0m",
      "\u001b[1;31mAttributeError\u001b[0m                            Traceback (most recent call last)",
      "\u001b[1;32m<ipython-input-3-aeac1c9caa37>\u001b[0m in \u001b[0;36m<module>\u001b[1;34m\u001b[0m\n\u001b[0;32m     48\u001b[0m             \u001b[0mretAAA\u001b[0m\u001b[1;33m[\u001b[0m\u001b[0mk\u001b[0m\u001b[1;33m]\u001b[0m\u001b[1;33m+=\u001b[0m\u001b[1;36m1\u001b[0m\u001b[1;33m\u001b[0m\u001b[1;33m\u001b[0m\u001b[0m\n\u001b[0;32m     49\u001b[0m \u001b[1;33m\u001b[0m\u001b[0m\n\u001b[1;32m---> 50\u001b[1;33m \u001b[0mbar\u001b[0m \u001b[1;33m=\u001b[0m \u001b[0mBar\u001b[0m\u001b[1;33m(\u001b[0m\u001b[1;34m'可转债价格分布'\u001b[0m\u001b[1;33m)\u001b[0m\u001b[1;33m\u001b[0m\u001b[1;33m\u001b[0m\u001b[0m\n\u001b[0m\u001b[0;32m     51\u001b[0m \u001b[0mbar\u001b[0m\u001b[1;33m.\u001b[0m\u001b[0madd\u001b[0m\u001b[1;33m(\u001b[0m\u001b[1;34m'A+'\u001b[0m\u001b[1;33m,\u001b[0m\u001b[0mvalue\u001b[0m\u001b[1;33m,\u001b[0m\u001b[0mlist\u001b[0m\u001b[1;33m(\u001b[0m\u001b[0mret_A_add\u001b[0m\u001b[1;33m.\u001b[0m\u001b[0mvalues\u001b[0m\u001b[1;33m(\u001b[0m\u001b[1;33m)\u001b[0m\u001b[1;33m)\u001b[0m\u001b[1;33m,\u001b[0m\u001b[0mis_stack\u001b[0m\u001b[1;33m=\u001b[0m\u001b[1;32mTrue\u001b[0m\u001b[1;33m,\u001b[0m\u001b[0myaxis_max\u001b[0m\u001b[1;33m=\u001b[0m\u001b[1;36m11\u001b[0m\u001b[1;33m)\u001b[0m\u001b[1;33m\u001b[0m\u001b[1;33m\u001b[0m\u001b[0m\n\u001b[0;32m     52\u001b[0m \u001b[0mbar\u001b[0m\u001b[1;33m.\u001b[0m\u001b[0madd\u001b[0m\u001b[1;33m(\u001b[0m\u001b[1;34m'AA-'\u001b[0m\u001b[1;33m,\u001b[0m\u001b[0mvalue\u001b[0m\u001b[1;33m,\u001b[0m\u001b[0mlist\u001b[0m\u001b[1;33m(\u001b[0m\u001b[0mretAA_\u001b[0m\u001b[1;33m.\u001b[0m\u001b[0mvalues\u001b[0m\u001b[1;33m(\u001b[0m\u001b[1;33m)\u001b[0m\u001b[1;33m)\u001b[0m\u001b[1;33m,\u001b[0m\u001b[0mis_stack\u001b[0m\u001b[1;33m=\u001b[0m\u001b[1;32mTrue\u001b[0m\u001b[1;33m,\u001b[0m\u001b[0myaxis_max\u001b[0m\u001b[1;33m=\u001b[0m\u001b[1;36m11\u001b[0m\u001b[1;33m)\u001b[0m\u001b[1;33m\u001b[0m\u001b[1;33m\u001b[0m\u001b[0m\n",
      "\u001b[1;32mC:\\anaconda\\lib\\site-packages\\pyecharts\\charts\\chart.py\u001b[0m in \u001b[0;36m__init__\u001b[1;34m(self, init_opts)\u001b[0m\n\u001b[0;32m    161\u001b[0m \u001b[1;32mclass\u001b[0m \u001b[0mRectChart\u001b[0m\u001b[1;33m(\u001b[0m\u001b[0mChart\u001b[0m\u001b[1;33m)\u001b[0m\u001b[1;33m:\u001b[0m\u001b[1;33m\u001b[0m\u001b[1;33m\u001b[0m\u001b[0m\n\u001b[0;32m    162\u001b[0m     \u001b[1;32mdef\u001b[0m \u001b[0m__init__\u001b[0m\u001b[1;33m(\u001b[0m\u001b[0mself\u001b[0m\u001b[1;33m,\u001b[0m \u001b[0minit_opts\u001b[0m\u001b[1;33m:\u001b[0m \u001b[0mtypes\u001b[0m\u001b[1;33m.\u001b[0m\u001b[0mInit\u001b[0m \u001b[1;33m=\u001b[0m \u001b[0mopts\u001b[0m\u001b[1;33m.\u001b[0m\u001b[0mInitOpts\u001b[0m\u001b[1;33m(\u001b[0m\u001b[1;33m)\u001b[0m\u001b[1;33m)\u001b[0m\u001b[1;33m:\u001b[0m\u001b[1;33m\u001b[0m\u001b[1;33m\u001b[0m\u001b[0m\n\u001b[1;32m--> 163\u001b[1;33m         \u001b[0msuper\u001b[0m\u001b[1;33m(\u001b[0m\u001b[1;33m)\u001b[0m\u001b[1;33m.\u001b[0m\u001b[0m__init__\u001b[0m\u001b[1;33m(\u001b[0m\u001b[0minit_opts\u001b[0m\u001b[1;33m=\u001b[0m\u001b[0minit_opts\u001b[0m\u001b[1;33m)\u001b[0m\u001b[1;33m\u001b[0m\u001b[1;33m\u001b[0m\u001b[0m\n\u001b[0m\u001b[0;32m    164\u001b[0m         \u001b[0mself\u001b[0m\u001b[1;33m.\u001b[0m\u001b[0moptions\u001b[0m\u001b[1;33m.\u001b[0m\u001b[0mupdate\u001b[0m\u001b[1;33m(\u001b[0m\u001b[0mxAxis\u001b[0m\u001b[1;33m=\u001b[0m\u001b[1;33m[\u001b[0m\u001b[0mopts\u001b[0m\u001b[1;33m.\u001b[0m\u001b[0mAxisOpts\u001b[0m\u001b[1;33m(\u001b[0m\u001b[1;33m)\u001b[0m\u001b[1;33m.\u001b[0m\u001b[0mopts\u001b[0m\u001b[1;33m]\u001b[0m\u001b[1;33m,\u001b[0m \u001b[0myAxis\u001b[0m\u001b[1;33m=\u001b[0m\u001b[1;33m[\u001b[0m\u001b[0mopts\u001b[0m\u001b[1;33m.\u001b[0m\u001b[0mAxisOpts\u001b[0m\u001b[1;33m(\u001b[0m\u001b[1;33m)\u001b[0m\u001b[1;33m.\u001b[0m\u001b[0mopts\u001b[0m\u001b[1;33m]\u001b[0m\u001b[1;33m)\u001b[0m\u001b[1;33m\u001b[0m\u001b[1;33m\u001b[0m\u001b[0m\n\u001b[0;32m    165\u001b[0m \u001b[1;33m\u001b[0m\u001b[0m\n",
      "\u001b[1;32mC:\\anaconda\\lib\\site-packages\\pyecharts\\charts\\chart.py\u001b[0m in \u001b[0;36m__init__\u001b[1;34m(self, init_opts)\u001b[0m\n\u001b[0;32m     12\u001b[0m             \u001b[0mtemp_opts\u001b[0m\u001b[1;33m.\u001b[0m\u001b[0mupdate\u001b[0m\u001b[1;33m(\u001b[0m\u001b[1;33m**\u001b[0m\u001b[0minit_opts\u001b[0m\u001b[1;33m)\u001b[0m\u001b[1;33m\u001b[0m\u001b[1;33m\u001b[0m\u001b[0m\n\u001b[0;32m     13\u001b[0m             \u001b[0minit_opts\u001b[0m \u001b[1;33m=\u001b[0m \u001b[0mtemp_opts\u001b[0m\u001b[1;33m\u001b[0m\u001b[1;33m\u001b[0m\u001b[0m\n\u001b[1;32m---> 14\u001b[1;33m         \u001b[0msuper\u001b[0m\u001b[1;33m(\u001b[0m\u001b[1;33m)\u001b[0m\u001b[1;33m.\u001b[0m\u001b[0m__init__\u001b[0m\u001b[1;33m(\u001b[0m\u001b[0minit_opts\u001b[0m\u001b[1;33m=\u001b[0m\u001b[0minit_opts\u001b[0m\u001b[1;33m)\u001b[0m\u001b[1;33m\u001b[0m\u001b[1;33m\u001b[0m\u001b[0m\n\u001b[0m\u001b[0;32m     15\u001b[0m         self.colors = (\n\u001b[0;32m     16\u001b[0m             \u001b[1;34m\"#c23531 #2f4554 #61a0a8 #d48265 #749f83 #ca8622 #bda29a #6e7074 \"\u001b[0m\u001b[1;33m\u001b[0m\u001b[1;33m\u001b[0m\u001b[0m\n",
      "\u001b[1;32mC:\\anaconda\\lib\\site-packages\\pyecharts\\charts\\base.py\u001b[0m in \u001b[0;36m__init__\u001b[1;34m(self, init_opts)\u001b[0m\n\u001b[0;32m     27\u001b[0m             \u001b[0m_opts\u001b[0m \u001b[1;33m=\u001b[0m \u001b[0minit_opts\u001b[0m\u001b[1;33m.\u001b[0m\u001b[0mopts\u001b[0m\u001b[1;33m\u001b[0m\u001b[1;33m\u001b[0m\u001b[0m\n\u001b[0;32m     28\u001b[0m \u001b[1;33m\u001b[0m\u001b[0m\n\u001b[1;32m---> 29\u001b[1;33m         \u001b[0mself\u001b[0m\u001b[1;33m.\u001b[0m\u001b[0mwidth\u001b[0m \u001b[1;33m=\u001b[0m \u001b[0m_opts\u001b[0m\u001b[1;33m.\u001b[0m\u001b[0mget\u001b[0m\u001b[1;33m(\u001b[0m\u001b[1;34m\"width\"\u001b[0m\u001b[1;33m,\u001b[0m \u001b[1;34m\"900px\"\u001b[0m\u001b[1;33m)\u001b[0m\u001b[1;33m\u001b[0m\u001b[1;33m\u001b[0m\u001b[0m\n\u001b[0m\u001b[0;32m     30\u001b[0m         \u001b[0mself\u001b[0m\u001b[1;33m.\u001b[0m\u001b[0mheight\u001b[0m \u001b[1;33m=\u001b[0m \u001b[0m_opts\u001b[0m\u001b[1;33m.\u001b[0m\u001b[0mget\u001b[0m\u001b[1;33m(\u001b[0m\u001b[1;34m\"height\"\u001b[0m\u001b[1;33m,\u001b[0m \u001b[1;34m\"500px\"\u001b[0m\u001b[1;33m)\u001b[0m\u001b[1;33m\u001b[0m\u001b[1;33m\u001b[0m\u001b[0m\n\u001b[0;32m     31\u001b[0m         \u001b[0mself\u001b[0m\u001b[1;33m.\u001b[0m\u001b[0mrenderer\u001b[0m \u001b[1;33m=\u001b[0m \u001b[0m_opts\u001b[0m\u001b[1;33m.\u001b[0m\u001b[0mget\u001b[0m\u001b[1;33m(\u001b[0m\u001b[1;34m\"renderer\"\u001b[0m\u001b[1;33m,\u001b[0m \u001b[0mRenderType\u001b[0m\u001b[1;33m.\u001b[0m\u001b[0mCANVAS\u001b[0m\u001b[1;33m)\u001b[0m\u001b[1;33m\u001b[0m\u001b[1;33m\u001b[0m\u001b[0m\n",
      "\u001b[1;31mAttributeError\u001b[0m: 'str' object has no attribute 'get'"
     ]
    }
   ],
   "source": [
    "\n",
    "result ={}\n",
    "for name,grades in df.groupby('评级'):\n",
    "#     print(name,grades[['可转债名称','可转债价格']])\n",
    "    for each in grades['可转债价格']:\n",
    "        result.setdefault(name,[])\n",
    "        result[name].append(each)\n",
    "        \n",
    "        \n",
    "# 确定价格的范围\n",
    "\n",
    "value = [str(i) for i in range(85,140)]\n",
    "ret = [0]*len(value)\n",
    "ret1 = dict(zip(value,ret))\n",
    "\n",
    "ret_A_add = ret1.copy()\n",
    "for item in result['A+']:\n",
    "    for k in ret1:\n",
    "        if float(k)+0.5>item and float(k)-0.5<=item:\n",
    "            ret_A_add[k]+=1\n",
    "            \n",
    "retAA_ = ret1.copy()\n",
    "for item in result['AA-']:\n",
    "    for k in ret1:\n",
    "        if float(k)+0.5>item and float(k)-0.5<=item:\n",
    "            retAA_[k]+=1\n",
    "\n",
    "retAA = ret1.copy()\n",
    "for item in result['AA']:\n",
    "    for k in ret1:\n",
    "        if float(k)+0.5>item and float(k)-0.5<=item:\n",
    "            retAA[k]+=1\n",
    "            \n",
    "retAA_add = ret1.copy()\n",
    "for item in result['AA+']:\n",
    "    for k in ret1:\n",
    "        if float(k)+0.5>item and float(k)-0.5<=item:\n",
    "            retAA_add[k]+=1\n",
    "            \n",
    "retAAA = ret1.copy()\n",
    "for item in result['AAA']:\n",
    "    for k in ret1:\n",
    "        if float(k)+0.5>item and float(k)-0.5<=item:\n",
    "            retAAA[k]+=1\n",
    "\n",
    "bar = Bar('可转债价格分布')\n",
    "bar.add('A+',value,list(ret_A_add.values()),is_stack=True,yaxis_max=11)\n",
    "bar.add('AA-',value,list(retAA_.values()),is_stack=True,yaxis_max=11)\n",
    "bar.add('AA',value,list(retAA.values()),is_stack=True,yaxis_max=11)\n",
    "bar.add('AA+',value,list(retAA_add.values()),is_stack=True,yaxis_max=11)\n",
    "bar.add('AAA',value,list(retAAA.values()),is_stack=True,yaxis_max=11)\n"
   ]
  },
  {
   "cell_type": "code",
   "execution_count": null,
   "metadata": {},
   "outputs": [],
   "source": [
    "from  setting import get_mysql_conn,get_engine\n",
    "import pandas as pd\n",
    "import pymongo\n",
    "from pyecharts import Geo,Style,Map\n",
    "engine = get_engine('db_stock',local='local')\n",
    "# 堆叠图\n",
    "from pyecharts import Bar\n",
    "df = pd.read_sql('tb_bond_jisilu',con=engine)\n",
    "\n",
    "result ={}\n",
    "for name,grades in df.groupby('评级'):\n",
    "#     print(name,grades[['可转债名称','可转债价格']])\n",
    "    for each in grades['可转债价格']:\n",
    "        result.setdefault(name,[])\n",
    "        result[name].append(each)\n",
    "        \n",
    "        \n",
    "# 确定价格的范围\n",
    "\n",
    "value = [str(i) for i in range(85,140)]\n",
    "ret = [0]*len(value)\n",
    "ret1 = dict(zip(value,ret))\n",
    "\n",
    "ret_A_add = ret1.copy()\n",
    "for item in result['A+']:\n",
    "    for k in ret1:\n",
    "        if float(k)+0.5>item and float(k)-0.5<=item:\n",
    "            ret_A_add[k]+=1\n",
    "            \n",
    "retAA_ = ret1.copy()\n",
    "for item in result['AA-']:\n",
    "    for k in ret1:\n",
    "        if float(k)+0.5>item and float(k)-0.5<=item:\n",
    "            retAA_[k]+=1\n",
    "\n",
    "retAA = ret1.copy()\n",
    "for item in result['AA']:\n",
    "    for k in ret1:\n",
    "        if float(k)+0.5>item and float(k)-0.5<=item:\n",
    "            retAA[k]+=1\n",
    "            \n",
    "retAA_add = ret1.copy()\n",
    "for item in result['AA+']:\n",
    "    for k in ret1:\n",
    "        if float(k)+0.5>item and float(k)-0.5<=item:\n",
    "            retAA_add[k]+=1\n",
    "            \n",
    "retAAA = ret1.copy()\n",
    "for item in result['AAA']:\n",
    "    for k in ret1:\n",
    "        if float(k)+0.5>item and float(k)-0.5<=item:\n",
    "            retAAA[k]+=1\n",
    "\n",
    "bar = Bar('可转债价格分布')\n",
    "bar.add('A+',value,list(ret_A_add.values()),is_stack=True,yaxis_max=11)\n",
    "bar.add('AA-',value,list(retAA_.values()),is_stack=True,yaxis_max=11)\n",
    "bar.add('AA',value,list(retAA.values()),is_stack=True,yaxis_max=11)\n",
    "bar.add('AA+',value,list(retAA_add.values()),is_stack=True,yaxis_max=11)\n",
    "bar.add('AAA',value,list(retAAA.values()),is_stack=True,yaxis_max=11)\n"
   ]
  },
  {
   "cell_type": "code",
   "execution_count": 70,
   "metadata": {},
   "outputs": [],
   "source": [
    "from pyecharts import options as opts\n",
    "from pyecharts.charts import Bar\n",
    "from pyecharts.commons.utils import JsCode\n",
    "from pyecharts.globals import ThemeType\n",
    "\n",
    "list2 = [\n",
    "    {\"value\": 12, \"percent\": 12 / (12 + 3)},\n",
    "    {\"value\": 23, \"percent\": 23 / (23 + 21)},\n",
    "    {\"value\": 33, \"percent\": 33 / (33 + 5)},\n",
    "    {\"value\": 3, \"percent\": 3 / (3 + 52)},\n",
    "    {\"value\": 33, \"percent\": 33 / (33 + 43)},\n",
    "]\n",
    "\n",
    "list3 = [\n",
    "    {\"value\": 3, \"percent\": 3 / (12 + 3)},\n",
    "    {\"value\": 21, \"percent\": 21 / (23 + 21)},\n",
    "    {\"value\": 5, \"percent\": 5 / (33 + 5)},\n",
    "    {\"value\": 52, \"percent\": 52 / (3 + 52)},\n",
    "    {\"value\": 43, \"percent\": 43 / (33 + 43)},\n",
    "]\n",
    "\n",
    "c = (\n",
    "    Bar(init_opts=opts.InitOpts(theme=ThemeType.LIGHT))\n",
    "    .add_xaxis([1, 2, 3, 4, 5])\n",
    "    .add_yaxis(\"product1\", list2, stack=\"stack1\", category_gap=\"50%\")\n",
    "    .add_yaxis(\"product2\", list3, stack=\"stack1\", category_gap=\"50%\")\n",
    "    .set_series_opts(\n",
    "        label_opts=opts.LabelOpts(\n",
    "            position=\"right\",\n",
    "            formatter=JsCode(\n",
    "                \"function(x){return Number(x.data.percent * 100).toFixed() + '%';}\"\n",
    "            ),\n",
    "        )\n",
    "    )\n",
    "    .render(\"stack_bar_percent.html\")\n",
    ")"
   ]
  },
  {
   "cell_type": "code",
   "execution_count": 6,
   "metadata": {},
   "outputs": [
    {
     "data": {
      "text/html": [
       "<div>\n",
       "<style scoped>\n",
       "    .dataframe tbody tr th:only-of-type {\n",
       "        vertical-align: middle;\n",
       "    }\n",
       "\n",
       "    .dataframe tbody tr th {\n",
       "        vertical-align: top;\n",
       "    }\n",
       "\n",
       "    .dataframe thead th {\n",
       "        text-align: right;\n",
       "    }\n",
       "</style>\n",
       "<table border=\"1\" class=\"dataframe\">\n",
       "  <thead>\n",
       "    <tr style=\"text-align: right;\">\n",
       "      <th></th>\n",
       "      <th>可转债代码</th>\n",
       "      <th>可转债名称</th>\n",
       "      <th>可转债价格</th>\n",
       "      <th>正股名称</th>\n",
       "      <th>正股代码</th>\n",
       "      <th>正股现价</th>\n",
       "      <th>正股涨跌幅</th>\n",
       "      <th>最新转股价</th>\n",
       "      <th>溢价率</th>\n",
       "      <th>可转债涨幅</th>\n",
       "      <th>...</th>\n",
       "      <th>评级</th>\n",
       "      <th>下修提示</th>\n",
       "      <th>下调次数</th>\n",
       "      <th>转债剩余占总市值比</th>\n",
       "      <th>剩余规模</th>\n",
       "      <th>发行规模</th>\n",
       "      <th>股东配售率</th>\n",
       "      <th>强赎标志</th>\n",
       "      <th>强赎日期</th>\n",
       "      <th>更新日期</th>\n",
       "    </tr>\n",
       "  </thead>\n",
       "  <tbody>\n",
       "    <tr>\n",
       "      <th>0</th>\n",
       "      <td>113035</td>\n",
       "      <td>福莱转债</td>\n",
       "      <td>262.50</td>\n",
       "      <td>福莱特</td>\n",
       "      <td>601865</td>\n",
       "      <td>44.43</td>\n",
       "      <td>8.90</td>\n",
       "      <td>13.56</td>\n",
       "      <td>-19.88</td>\n",
       "      <td>5.08</td>\n",
       "      <td>...</td>\n",
       "      <td>AA</td>\n",
       "      <td></td>\n",
       "      <td>0</td>\n",
       "      <td>1.7</td>\n",
       "      <td>14.500</td>\n",
       "      <td>14.500</td>\n",
       "      <td>92.910</td>\n",
       "      <td>X</td>\n",
       "      <td>None</td>\n",
       "      <td>2020-11-02 15:03</td>\n",
       "    </tr>\n",
       "    <tr>\n",
       "      <th>1</th>\n",
       "      <td>113585</td>\n",
       "      <td>寿仙转债</td>\n",
       "      <td>151.80</td>\n",
       "      <td>寿仙谷</td>\n",
       "      <td>603896</td>\n",
       "      <td>46.75</td>\n",
       "      <td>4.12</td>\n",
       "      <td>28.68</td>\n",
       "      <td>-6.88</td>\n",
       "      <td>4.52</td>\n",
       "      <td>...</td>\n",
       "      <td>AA-</td>\n",
       "      <td></td>\n",
       "      <td>0</td>\n",
       "      <td>5.4</td>\n",
       "      <td>3.600</td>\n",
       "      <td>3.600</td>\n",
       "      <td>82.309</td>\n",
       "      <td>X</td>\n",
       "      <td>None</td>\n",
       "      <td>2020-11-02 15:03</td>\n",
       "    </tr>\n",
       "    <tr>\n",
       "      <th>2</th>\n",
       "      <td>128115</td>\n",
       "      <td>巨星转债</td>\n",
       "      <td>207.00</td>\n",
       "      <td>巨星科技</td>\n",
       "      <td>002444</td>\n",
       "      <td>27.18</td>\n",
       "      <td>4.94</td>\n",
       "      <td>12.28</td>\n",
       "      <td>-6.48</td>\n",
       "      <td>2.73</td>\n",
       "      <td>...</td>\n",
       "      <td>AA</td>\n",
       "      <td></td>\n",
       "      <td>0</td>\n",
       "      <td>3.3</td>\n",
       "      <td>9.730</td>\n",
       "      <td>9.730</td>\n",
       "      <td>74.920</td>\n",
       "      <td>X</td>\n",
       "      <td>None</td>\n",
       "      <td>2020-11-02 15:03</td>\n",
       "    </tr>\n",
       "    <tr>\n",
       "      <th>3</th>\n",
       "      <td>113586</td>\n",
       "      <td>上机转债</td>\n",
       "      <td>227.58</td>\n",
       "      <td>上机数控</td>\n",
       "      <td>603185</td>\n",
       "      <td>80.50</td>\n",
       "      <td>-2.08</td>\n",
       "      <td>33.30</td>\n",
       "      <td>-5.86</td>\n",
       "      <td>-2.24</td>\n",
       "      <td>...</td>\n",
       "      <td>AA-</td>\n",
       "      <td></td>\n",
       "      <td>0</td>\n",
       "      <td>3.6</td>\n",
       "      <td>6.650</td>\n",
       "      <td>6.650</td>\n",
       "      <td>85.553</td>\n",
       "      <td>X</td>\n",
       "      <td>None</td>\n",
       "      <td>2020-11-02 15:03</td>\n",
       "    </tr>\n",
       "    <tr>\n",
       "      <th>4</th>\n",
       "      <td>123055</td>\n",
       "      <td>晨光转债</td>\n",
       "      <td>140.65</td>\n",
       "      <td>晨光生物</td>\n",
       "      <td>300138</td>\n",
       "      <td>17.67</td>\n",
       "      <td>11.98</td>\n",
       "      <td>12.25</td>\n",
       "      <td>-2.49</td>\n",
       "      <td>6.15</td>\n",
       "      <td>...</td>\n",
       "      <td>AA-</td>\n",
       "      <td></td>\n",
       "      <td>0</td>\n",
       "      <td>7.0</td>\n",
       "      <td>6.300</td>\n",
       "      <td>6.300</td>\n",
       "      <td>76.640</td>\n",
       "      <td>X</td>\n",
       "      <td>None</td>\n",
       "      <td>2020-11-02 15:03</td>\n",
       "    </tr>\n",
       "  </tbody>\n",
       "</table>\n",
       "<p>5 rows × 27 columns</p>\n",
       "</div>"
      ],
      "text/plain": [
       "    可转债代码 可转债名称   可转债价格  正股名称    正股代码   正股现价  正股涨跌幅  最新转股价    溢价率  可转债涨幅  ...  \\\n",
       "0  113035  福莱转债  262.50   福莱特  601865  44.43   8.90  13.56 -19.88   5.08  ...   \n",
       "1  113585  寿仙转债  151.80   寿仙谷  603896  46.75   4.12  28.68  -6.88   4.52  ...   \n",
       "2  128115  巨星转债  207.00  巨星科技  002444  27.18   4.94  12.28  -6.48   2.73  ...   \n",
       "3  113586  上机转债  227.58  上机数控  603185  80.50  -2.08  33.30  -5.86  -2.24  ...   \n",
       "4  123055  晨光转债  140.65  晨光生物  300138  17.67  11.98  12.25  -2.49   6.15  ...   \n",
       "\n",
       "    评级 下修提示 下调次数  转债剩余占总市值比    剩余规模    发行规模   股东配售率 强赎标志  强赎日期  \\\n",
       "0   AA         0        1.7  14.500  14.500  92.910    X  None   \n",
       "1  AA-         0        5.4   3.600   3.600  82.309    X  None   \n",
       "2   AA         0        3.3   9.730   9.730  74.920    X  None   \n",
       "3  AA-         0        3.6   6.650   6.650  85.553    X  None   \n",
       "4  AA-         0        7.0   6.300   6.300  76.640    X  None   \n",
       "\n",
       "               更新日期  \n",
       "0  2020-11-02 15:03  \n",
       "1  2020-11-02 15:03  \n",
       "2  2020-11-02 15:03  \n",
       "3  2020-11-02 15:03  \n",
       "4  2020-11-02 15:03  \n",
       "\n",
       "[5 rows x 27 columns]"
      ]
     },
     "execution_count": 6,
     "metadata": {},
     "output_type": "execute_result"
    }
   ],
   "source": [
    "df.head()"
   ]
  },
  {
   "cell_type": "code",
   "execution_count": 7,
   "metadata": {},
   "outputs": [],
   "source": [
    "pct = df['可转债涨幅']"
   ]
  },
  {
   "cell_type": "code",
   "execution_count": 8,
   "metadata": {
    "scrolled": true
   },
   "outputs": [
    {
     "data": {
      "text/plain": [
       "0       5.08\n",
       "1       4.52\n",
       "2       2.73\n",
       "3      -2.24\n",
       "4       6.15\n",
       "       ...  \n",
       "299    -0.09\n",
       "300   -20.60\n",
       "301     6.21\n",
       "302    -2.48\n",
       "303    -9.67\n",
       "Name: 可转债涨幅, Length: 304, dtype: float64"
      ]
     },
     "execution_count": 8,
     "metadata": {},
     "output_type": "execute_result"
    }
   ],
   "source": [
    "pct"
   ]
  },
  {
   "cell_type": "code",
   "execution_count": 58,
   "metadata": {},
   "outputs": [],
   "source": [
    "label = [str(i) for i in range(-20,20,2)]"
   ]
  },
  {
   "cell_type": "code",
   "execution_count": 52,
   "metadata": {},
   "outputs": [
    {
     "data": {
      "text/plain": [
       "['Q-20',\n",
       " 'Q-18',\n",
       " 'Q-16',\n",
       " 'Q-14',\n",
       " 'Q-12',\n",
       " 'Q-10',\n",
       " 'Q-8',\n",
       " 'Q-6',\n",
       " 'Q-4',\n",
       " 'Q-2',\n",
       " 'Q0',\n",
       " 'Q2',\n",
       " 'Q4',\n",
       " 'Q6',\n",
       " 'Q8',\n",
       " 'Q10',\n",
       " 'Q12',\n",
       " 'Q14',\n",
       " 'Q16',\n",
       " 'Q18']"
      ]
     },
     "execution_count": 52,
     "metadata": {},
     "output_type": "execute_result"
    }
   ],
   "source": [
    "label"
   ]
  },
  {
   "cell_type": "code",
   "execution_count": 63,
   "metadata": {},
   "outputs": [],
   "source": [
    "\n",
    "result = pd.qcut(pct, q=20)"
   ]
  },
  {
   "cell_type": "code",
   "execution_count": 68,
   "metadata": {
    "scrolled": false
   },
   "outputs": [
    {
     "data": {
      "text/plain": [
       "0                       (2.926, 14.2]\n",
       "1                       (2.926, 14.2]\n",
       "2                      (1.727, 2.926]\n",
       "3                    (-2.456, -1.978]\n",
       "4                       (2.926, 14.2]\n",
       "                    ...              \n",
       "299                   (-0.121, 0.021]\n",
       "300    (-20.601000000000003, -10.612]\n",
       "301                     (2.926, 14.2]\n",
       "302                  (-3.406, -2.456]\n",
       "303                 (-10.612, -6.293]\n",
       "Name: 可转债涨幅, Length: 304, dtype: category\n",
       "Categories (20, interval[float64]): [(-20.601000000000003, -10.612] < (-10.612, -6.293] < (-6.293, -3.406] < (-3.406, -2.456] ... (0.506, 0.887] < (0.887, 1.727] < (1.727, 2.926] < (2.926, 14.2]]"
      ]
     },
     "execution_count": 68,
     "metadata": {},
     "output_type": "execute_result"
    }
   ],
   "source": [
    "result"
   ]
  },
  {
   "cell_type": "code",
   "execution_count": 65,
   "metadata": {},
   "outputs": [
    {
     "data": {
      "text/plain": [
       "5.08"
      ]
     },
     "execution_count": 65,
     "metadata": {},
     "output_type": "execute_result"
    }
   ],
   "source": [
    "pct[0]"
   ]
  },
  {
   "cell_type": "code",
   "execution_count": 67,
   "metadata": {},
   "outputs": [
    {
     "data": {
      "text/plain": [
       "0       (2.926, 14.2]\n",
       "1       (2.926, 14.2]\n",
       "2      (1.727, 2.926]\n",
       "3    (-2.456, -1.978]\n",
       "4       (2.926, 14.2]\n",
       "5       (2.926, 14.2]\n",
       "6     (-1.978, -1.47]\n",
       "7      (0.506, 0.887]\n",
       "8      (0.245, 0.506]\n",
       "9      (0.887, 1.727]\n",
       "Name: 可转债涨幅, dtype: category\n",
       "Categories (20, interval[float64]): [(-20.601000000000003, -10.612] < (-10.612, -6.293] < (-6.293, -3.406] < (-3.406, -2.456] ... (0.506, 0.887] < (0.887, 1.727] < (1.727, 2.926] < (2.926, 14.2]]"
      ]
     },
     "execution_count": 67,
     "metadata": {},
     "output_type": "execute_result"
    }
   ],
   "source": [
    "result.head()"
   ]
  },
  {
   "cell_type": "code",
   "execution_count": 76,
   "metadata": {},
   "outputs": [],
   "source": [
    "bins=list(range(-20,20,2))"
   ]
  },
  {
   "cell_type": "code",
   "execution_count": 77,
   "metadata": {},
   "outputs": [],
   "source": [
    "bins.insert(0,-90)"
   ]
  },
  {
   "cell_type": "code",
   "execution_count": 78,
   "metadata": {},
   "outputs": [],
   "source": [
    "bins.append(90)"
   ]
  },
  {
   "cell_type": "code",
   "execution_count": 89,
   "metadata": {},
   "outputs": [],
   "source": [
    "label = [str(b+1) for b in bins[:-1]]"
   ]
  },
  {
   "cell_type": "code",
   "execution_count": 90,
   "metadata": {},
   "outputs": [],
   "source": [
    "result = pd.cut(pct,bins,ordered=True,labels=label)"
   ]
  },
  {
   "cell_type": "code",
   "execution_count": 91,
   "metadata": {
    "scrolled": true
   },
   "outputs": [
    {
     "data": {
      "text/plain": [
       "0        5\n",
       "1        5\n",
       "2        3\n",
       "3       -3\n",
       "4        7\n",
       "      ... \n",
       "299     -1\n",
       "300    -89\n",
       "301      7\n",
       "302     -3\n",
       "303     -9\n",
       "Name: 可转债涨幅, Length: 304, dtype: category\n",
       "Categories (21, object): ['-89' < '-19' < '-17' < '-15' ... '13' < '15' < '17' < '19']"
      ]
     },
     "execution_count": 91,
     "metadata": {},
     "output_type": "execute_result"
    }
   ],
   "source": [
    "result"
   ]
  },
  {
   "cell_type": "code",
   "execution_count": 46,
   "metadata": {},
   "outputs": [
    {
     "data": {
      "text/plain": [
       "pandas.core.series.Series"
      ]
     },
     "execution_count": 46,
     "metadata": {},
     "output_type": "execute_result"
    }
   ],
   "source": [
    "type(result)"
   ]
  },
  {
   "cell_type": "code",
   "execution_count": 92,
   "metadata": {},
   "outputs": [],
   "source": [
    "v= pd.value_counts(result)"
   ]
  },
  {
   "cell_type": "code",
   "execution_count": 93,
   "metadata": {},
   "outputs": [
    {
     "data": {
      "text/plain": [
       "pandas.core.series.Series"
      ]
     },
     "execution_count": 93,
     "metadata": {},
     "output_type": "execute_result"
    }
   ],
   "source": [
    "type(v)"
   ]
  },
  {
   "cell_type": "code",
   "execution_count": 100,
   "metadata": {
    "scrolled": true
   },
   "outputs": [
    {
     "data": {
      "text/plain": [
       "-1     135\n",
       "1       66\n",
       "-3      33\n",
       "3       17\n",
       "-5      11\n",
       "-7       7\n",
       "-13      7\n",
       "-9       7\n",
       "-11      5\n",
       "5        5\n",
       "-19      3\n",
       "7        3\n",
       "-17      2\n",
       "-89      1\n",
       "11       1\n",
       "15       1\n",
       "17       0\n",
       "9        0\n",
       "-15      0\n",
       "13       0\n",
       "19       0\n",
       "Name: 可转债涨幅, dtype: int64"
      ]
     },
     "execution_count": 100,
     "metadata": {},
     "output_type": "execute_result"
    }
   ],
   "source": [
    "v"
   ]
  },
  {
   "cell_type": "code",
   "execution_count": 102,
   "metadata": {},
   "outputs": [
    {
     "data": {
      "text/plain": [
       "3"
      ]
     },
     "execution_count": 102,
     "metadata": {},
     "output_type": "execute_result"
    }
   ],
   "source": [
    "v.loc['-19']"
   ]
  },
  {
   "cell_type": "code",
   "execution_count": 99,
   "metadata": {},
   "outputs": [
    {
     "name": "stdout",
     "output_type": "stream",
     "text": [
      "-89\n",
      "-19\n",
      "-17\n",
      "-15\n",
      "-13\n",
      "-11\n",
      "-9\n",
      "-7\n",
      "-5\n",
      "-3\n",
      "-1\n",
      "1\n",
      "3\n",
      "5\n",
      "7\n",
      "9\n",
      "11\n",
      "13\n",
      "15\n",
      "17\n",
      "19\n"
     ]
    }
   ],
   "source": [
    "value = []\n",
    "for i in v:\n",
    "    print(i)\n",
    "    value.append(i)"
   ]
  },
  {
   "cell_type": "code",
   "execution_count": 103,
   "metadata": {},
   "outputs": [],
   "source": [
    "result_dict ={}\n",
    "for i in value:\n",
    "    result_dict.setdefault(i,0)\n",
    "    result_dict[i]+=v.loc[i]"
   ]
  },
  {
   "cell_type": "code",
   "execution_count": 104,
   "metadata": {},
   "outputs": [
    {
     "data": {
      "text/plain": [
       "{'-89': 1,\n",
       " '-19': 3,\n",
       " '-17': 2,\n",
       " '-15': 0,\n",
       " '-13': 7,\n",
       " '-11': 5,\n",
       " '-9': 7,\n",
       " '-7': 7,\n",
       " '-5': 11,\n",
       " '-3': 33,\n",
       " '-1': 135,\n",
       " '1': 66,\n",
       " '3': 17,\n",
       " '5': 5,\n",
       " '7': 3,\n",
       " '9': 0,\n",
       " '11': 1,\n",
       " '13': 0,\n",
       " '15': 1,\n",
       " '17': 0,\n",
       " '19': 0}"
      ]
     },
     "execution_count": 104,
     "metadata": {},
     "output_type": "execute_result"
    }
   ],
   "source": [
    "result_dict"
   ]
  },
  {
   "cell_type": "code",
   "execution_count": 18,
   "metadata": {},
   "outputs": [
    {
     "data": {
      "text/plain": [
       "304"
      ]
     },
     "execution_count": 18,
     "metadata": {},
     "output_type": "execute_result"
    }
   ],
   "source": [
    "len(pct)"
   ]
  },
  {
   "cell_type": "code",
   "execution_count": 32,
   "metadata": {},
   "outputs": [
    {
     "data": {
      "text/plain": [
       "(-2, 0]       135\n",
       "(0, 2]         66\n",
       "(-4, -2]       33\n",
       "(2, 4]         17\n",
       "(-6, -4]       11\n",
       "(-8, -6]        7\n",
       "(-14, -12]      7\n",
       "(-10, -8]       7\n",
       "(-12, -10]      5\n",
       "(4, 6]          5\n",
       "(-20, -18]      3\n",
       "(6, 8]          3\n",
       "(-18, -16]      2\n",
       "(-90, -20]      1\n",
       "(10, 12]        1\n",
       "(14, 16]        1\n",
       "(16, 18]        0\n",
       "(8, 10]         0\n",
       "(-16, -14]      0\n",
       "(12, 14]        0\n",
       "(18, 90]        0\n",
       "Name: 可转债涨幅, dtype: int64"
      ]
     },
     "execution_count": 32,
     "metadata": {},
     "output_type": "execute_result"
    }
   ],
   "source": [
    "v"
   ]
  },
  {
   "cell_type": "code",
   "execution_count": 22,
   "metadata": {},
   "outputs": [
    {
     "data": {
      "text/plain": [
       "303"
      ]
     },
     "execution_count": 22,
     "metadata": {},
     "output_type": "execute_result"
    }
   ],
   "source": [
    "v.sum()"
   ]
  },
  {
   "cell_type": "code",
   "execution_count": 41,
   "metadata": {},
   "outputs": [
    {
     "data": {
      "text/plain": [
       "Interval(-90, -20, closed='right')"
      ]
     },
     "execution_count": 41,
     "metadata": {},
     "output_type": "execute_result"
    }
   ],
   "source": [
    "v.index.categories[0]"
   ]
  },
  {
   "cell_type": "code",
   "execution_count": 121,
   "metadata": {},
   "outputs": [],
   "source": [
    "y_list = []\n",
    "for k,v in result_dict.items():\n",
    "    y_list.append({'value':v,'percent':v})"
   ]
  },
  {
   "cell_type": "code",
   "execution_count": 105,
   "metadata": {},
   "outputs": [],
   "source": [
    "from pyecharts import options as opts\n",
    "from pyecharts.charts import Bar\n",
    "from pyecharts.commons.utils import JsCode\n",
    "from pyecharts.globals import ThemeType\n",
    "\n",
    "c = (\n",
    "    Bar(init_opts=opts.InitOpts(theme=ThemeType.LIGHT))\n",
    "    .add_xaxis('distributed',list(result_dict.keys()))\n",
    "    .add_yaxis(\"product1\", list(result_dict.values()), stack=\"stack1\")\n",
    "    .set_series_opts(\n",
    "        label_opts=opts.LabelOpts(\n",
    "            position=\"right\",\n",
    "            formatter=JsCode(\n",
    "                \"function(x){return Number(x.data.percent * 10,\n",
    "        )\n",
    "    )\n",
    "    .render(\"stack_bar_percent.html\")\n",
    ")"
   ]
  },
  {
   "cell_type": "code",
   "execution_count": 113,
   "metadata": {
    "scrolled": true
   },
   "outputs": [],
   "source": [
    "x=list(result_dict.keys())"
   ]
  },
  {
   "cell_type": "code",
   "execution_count": 114,
   "metadata": {},
   "outputs": [
    {
     "data": {
      "text/plain": [
       "21"
      ]
     },
     "execution_count": 114,
     "metadata": {},
     "output_type": "execute_result"
    }
   ],
   "source": [
    "len(x)"
   ]
  },
  {
   "cell_type": "code",
   "execution_count": 112,
   "metadata": {},
   "outputs": [],
   "source": [
    "y=list(result_dict.values())"
   ]
  },
  {
   "cell_type": "code",
   "execution_count": 115,
   "metadata": {},
   "outputs": [
    {
     "data": {
      "text/plain": [
       "21"
      ]
     },
     "execution_count": 115,
     "metadata": {},
     "output_type": "execute_result"
    }
   ],
   "source": [
    "len(y)"
   ]
  },
  {
   "cell_type": "code",
   "execution_count": 122,
   "metadata": {},
   "outputs": [],
   "source": [
    "c = (\n",
    "    Bar()\n",
    "    .add_xaxis(x)\n",
    "    .add_yaxis(\"Count\", y_list)\n",
    "    .set_global_opts(title_opts=opts.TitleOpts(title=\"Bar-堆叠数据（全部）\"))\n",
    "    .render(\"bar_stack0.html\")\n",
    ")"
   ]
  },
  {
   "cell_type": "code",
   "execution_count": 127,
   "metadata": {},
   "outputs": [
    {
     "data": {
      "text/plain": [
       "[1, 3, 2, 0, 7, 5, 7, 7, 11, 33, 135, 66, 17, 5, 3, 0, 1, 0, 1, 0, 0]"
      ]
     },
     "execution_count": 127,
     "metadata": {},
     "output_type": "execute_result"
    }
   ],
   "source": [
    "y"
   ]
  },
  {
   "cell_type": "code",
   "execution_count": null,
   "metadata": {},
   "outputs": [],
   "source": []
  },
  {
   "cell_type": "code",
   "execution_count": null,
   "metadata": {},
   "outputs": [],
   "source": []
  },
  {
   "cell_type": "code",
   "execution_count": null,
   "metadata": {},
   "outputs": [],
   "source": []
  },
  {
   "cell_type": "code",
   "execution_count": null,
   "metadata": {},
   "outputs": [],
   "source": []
  },
  {
   "cell_type": "code",
   "execution_count": 150,
   "metadata": {},
   "outputs": [],
   "source": [
    "from pyecharts import options as opts\n",
    "from pyecharts.charts import Bar\n",
    "from pyecharts.faker import Faker\n",
    "\n",
    "c = (\n",
    "    Bar()\n",
    "    .add_xaxis(x)\n",
    "    .add_yaxis(\"可转债价格分布\", y_list,category_gap=1, color=Faker.rand_color())\n",
    "    .set_series_opts(label_opts=opts.LabelOpts(is_show=True))\n",
    "    .set_global_opts(title_opts=opts.TitleOpts(title=\"可转债价格分布\"))\n",
    "    .render(\"bar_stack0.html\")\n",
    ")"
   ]
  },
  {
   "cell_type": "code",
   "execution_count": 130,
   "metadata": {},
   "outputs": [
    {
     "data": {
      "text/plain": [
       "numpy.int64"
      ]
     },
     "execution_count": 130,
     "metadata": {},
     "output_type": "execute_result"
    }
   ],
   "source": [
    "type(y[0])"
   ]
  },
  {
   "cell_type": "code",
   "execution_count": 131,
   "metadata": {},
   "outputs": [],
   "source": [
    "y_int = list(map(int,y))"
   ]
  },
  {
   "cell_type": "code",
   "execution_count": 132,
   "metadata": {},
   "outputs": [
    {
     "data": {
      "text/plain": [
       "[1, 3, 2, 0, 7, 5, 7, 7, 11, 33, 135, 66, 17, 5, 3, 0, 1, 0, 1, 0, 0]"
      ]
     },
     "execution_count": 132,
     "metadata": {},
     "output_type": "execute_result"
    }
   ],
   "source": [
    "y_int"
   ]
  },
  {
   "cell_type": "code",
   "execution_count": 135,
   "metadata": {},
   "outputs": [],
   "source": [
    "result_ = []\n",
    "for i in y_int:\n",
    "    result_.append({'value':i,'name':i})"
   ]
  },
  {
   "cell_type": "code",
   "execution_count": 152,
   "metadata": {},
   "outputs": [
    {
     "name": "stdout",
     "output_type": "stream",
     "text": [
      "black\n",
      "black\n",
      "black\n",
      "black\n",
      "black\n",
      "black\n",
      "black\n",
      "black\n",
      "black\n",
      "black\n",
      "black\n",
      "red\n",
      "red\n",
      "red\n",
      "red\n",
      "red\n",
      "red\n",
      "red\n",
      "red\n",
      "red\n",
      "red\n"
     ]
    }
   ],
   "source": [
    "y_list = []\n",
    "for k,v in result_dict.items():\n",
    "    if int(k)>0:\n",
    "        color_=\"#749f83\"\n",
    "        print('red')\n",
    "    else:\n",
    "        print('black')\n",
    "        color_=\"#d48265\"\n",
    "    y_list.append(opts.BarItem(\n",
    "    name=str(v),\n",
    "    value=int(v),\n",
    "    itemstyle_opts=opts.ItemStyleOpts(color=color_),\n",
    "))"
   ]
  },
  {
   "cell_type": "code",
   "execution_count": 146,
   "metadata": {},
   "outputs": [
    {
     "data": {
      "text/plain": [
       "[<pyecharts.options.charts_options.BarItem at 0x18f2bac0>,\n",
       " <pyecharts.options.charts_options.BarItem at 0x18f2b3c0>,\n",
       " <pyecharts.options.charts_options.BarItem at 0x19329fc0>,\n",
       " <pyecharts.options.charts_options.BarItem at 0x18f37640>,\n",
       " <pyecharts.options.charts_options.BarItem at 0x18f379c0>,\n",
       " <pyecharts.options.charts_options.BarItem at 0x18f37dc0>,\n",
       " <pyecharts.options.charts_options.BarItem at 0x18f37e00>,\n",
       " <pyecharts.options.charts_options.BarItem at 0x18f37940>,\n",
       " <pyecharts.options.charts_options.BarItem at 0x18f37a80>,\n",
       " <pyecharts.options.charts_options.BarItem at 0x18f37ac0>,\n",
       " <pyecharts.options.charts_options.BarItem at 0x18f37880>,\n",
       " <pyecharts.options.charts_options.BarItem at 0x19681bc0>,\n",
       " <pyecharts.options.charts_options.BarItem at 0x19687940>,\n",
       " <pyecharts.options.charts_options.BarItem at 0x18f357c0>,\n",
       " <pyecharts.options.charts_options.BarItem at 0x18f35e80>,\n",
       " <pyecharts.options.charts_options.BarItem at 0x1968f540>,\n",
       " <pyecharts.options.charts_options.BarItem at 0x19140240>,\n",
       " <pyecharts.options.charts_options.BarItem at 0x19140200>,\n",
       " <pyecharts.options.charts_options.BarItem at 0x19140080>,\n",
       " <pyecharts.options.charts_options.BarItem at 0x18f27440>,\n",
       " <pyecharts.options.charts_options.BarItem at 0x18f27a00>]"
      ]
     },
     "execution_count": 146,
     "metadata": {},
     "output_type": "execute_result"
    }
   ],
   "source": [
    "y_list"
   ]
  },
  {
   "cell_type": "code",
   "execution_count": 151,
   "metadata": {},
   "outputs": [],
   "source": [
    "from pyecharts import options as opts\n",
    "from pyecharts.charts import Bar\n",
    "from pyecharts.faker import Faker\n",
    "\n",
    "\n",
    "x = Faker.dogs + Faker.animal\n",
    "xlen = len(x)\n",
    "y = []\n",
    "for idx, item in enumerate(x):\n",
    "    if idx <= xlen / 2:\n",
    "        y.append(\n",
    "            opts.BarItem(\n",
    "                name=item,\n",
    "                value=(idx + 1) * 10,\n",
    "                itemstyle_opts=opts.ItemStyleOpts(color=\"#749f83\"),\n",
    "            )\n",
    "        )\n",
    "    else:\n",
    "        y.append(\n",
    "            opts.BarItem(\n",
    "                name=item,\n",
    "                value=(xlen + 1 - idx) * 10,\n",
    "                itemstyle_opts=opts.ItemStyleOpts(color=\"#d48265\"),\n",
    "            )\n",
    "        )\n",
    "\n",
    "c = (\n",
    "    Bar()\n",
    "    .add_xaxis(x)\n",
    "    .add_yaxis(\"series0\", y, category_gap=0, color=Faker.rand_color())\n",
    "    .set_global_opts(title_opts=opts.TitleOpts(title=\"Bar-直方图（颜色区分）\"))\n",
    "    .render(\"bar_histogram_color.html\")\n",
    ")"
   ]
  },
  {
   "cell_type": "code",
   "execution_count": null,
   "metadata": {},
   "outputs": [],
   "source": []
  }
 ],
 "metadata": {
  "kernelspec": {
   "display_name": "Python 3",
   "language": "python",
   "name": "python3"
  },
  "language_info": {
   "codemirror_mode": {
    "name": "ipython",
    "version": 3
   },
   "file_extension": ".py",
   "mimetype": "text/x-python",
   "name": "python",
   "nbconvert_exporter": "python",
   "pygments_lexer": "ipython3",
   "version": "3.8.3"
  }
 },
 "nbformat": 4,
 "nbformat_minor": 2
}
