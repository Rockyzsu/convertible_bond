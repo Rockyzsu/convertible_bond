{
 "cells": [
  {
   "cell_type": "code",
   "execution_count": 22,
   "metadata": {},
   "outputs": [],
   "source": [
    "from setting import get_engine\n",
    "from setting import get_mysql_conn\n",
    "import pandas as pd\n",
    "import numpy as np"
   ]
  },
  {
   "cell_type": "code",
   "execution_count": 10,
   "metadata": {},
   "outputs": [
    {
     "name": "stdout",
     "output_type": "stream",
     "text": [
      "明泰转债 99.94\n",
      "迪森转债 99.888\n",
      "亨通转债 98.76\n"
     ]
    },
    {
     "name": "stderr",
     "output_type": "stream",
     "text": [
      "C:\\ProgramData\\Anaconda3\\lib\\site-packages\\pymysql\\cursors.py:170: Warning: (1366, \"Incorrect string value: '\\\\xD6\\\\xD0\\\\xB9\\\\xFA\\\\xB1\\\\xEA...' for column 'VARIABLE_VALUE' at row 480\")\n",
      "  result = self._query(query)\n"
     ]
    }
   ],
   "source": [
    "# 找出可转债价格低于100但是我还没有买的\n",
    "def find_low_not_buy(position_table):\n",
    "    con1=get_engine('db_position')\n",
    "\n",
    "    df1 = pd.read_sql(position_table,con=con1)\n",
    "    con2=get_engine('db_stock')\n",
    "    df2 = pd.read_sql('tb_bond_jisilu',con=con2)\n",
    "    df_low = df2[df2['可转债价格']<100]\n",
    "    my_code = list(df1['证券代码'].values)\n",
    "    print('低于100但是我还没有买的')\n",
    "    for idx,row in df_low.iterrows():\n",
    "        if row['可转债代码'] not in my_code:\n",
    "            \n",
    "            print(row['可转债名称'],row['可转债价格'])\n",
    "            \n",
    "\n",
    "position_table='tb_position_2019-06-30'\n",
    "find_low_not_buy(position_table)"
   ]
  },
  {
   "cell_type": "code",
   "execution_count": 20,
   "metadata": {},
   "outputs": [
    {
     "name": "stdout",
     "output_type": "stream",
     "text": [
      "可转债价格中位数：105.37\n",
      "可转债价格平均数：109.61\n",
      "可转债价格方差：17.04\n"
     ]
    },
    {
     "name": "stderr",
     "output_type": "stream",
     "text": [
      "C:\\ProgramData\\Anaconda3\\lib\\site-packages\\pymysql\\cursors.py:170: Warning: (1366, \"Incorrect string value: '\\\\xD6\\\\xD0\\\\xB9\\\\xFA\\\\xB1\\\\xEA...' for column 'VARIABLE_VALUE' at row 480\")\n",
      "  result = self._query(query)\n"
     ]
    }
   ],
   "source": [
    "# 当前可转债的中位数\n",
    "def calculation(table_name='tb_bond_jisilu'):\n",
    "    con2=get_engine('db_stock')\n",
    "    df2 = pd.read_sql(table_name,con=con2)\n",
    "    m=df2['可转债价格'].median()\n",
    "    m=round(m,2)\n",
    "    print('可转债价格中位数：{}'.format(m))\n",
    "    \n",
    "    mean=df2['可转债价格'].mean()\n",
    "    \n",
    "    mean=round(mean,2)\n",
    "    print('可转债价格平均数：{}'.format(mean))\n",
    "    \n",
    "    std=df2['可转债价格'].std()\n",
    "    \n",
    "    std=round(std,2)\n",
    "    print('可转债价格方差：{}'.format(std))\n",
    "    \n",
    "calculation()"
   ]
  },
  {
   "cell_type": "code",
   "execution_count": 23,
   "metadata": {},
   "outputs": [],
   "source": [
    "# 测试一下那个方差\n",
    "x=[1,2,3,4,5,6,7,8,9,10]\n",
    "X = np.array(x)"
   ]
  },
  {
   "cell_type": "code",
   "execution_count": 24,
   "metadata": {},
   "outputs": [
    {
     "data": {
      "text/plain": [
       "5.5"
      ]
     },
     "execution_count": 24,
     "metadata": {},
     "output_type": "execute_result"
    }
   ],
   "source": [
    "X.mean()"
   ]
  },
  {
   "cell_type": "code",
   "execution_count": 25,
   "metadata": {},
   "outputs": [
    {
     "data": {
      "text/plain": [
       "2.8722813232690143"
      ]
     },
     "execution_count": 25,
     "metadata": {},
     "output_type": "execute_result"
    }
   ],
   "source": [
    "X.std() # 标准差"
   ]
  },
  {
   "cell_type": "code",
   "execution_count": 26,
   "metadata": {},
   "outputs": [
    {
     "data": {
      "text/plain": [
       "8.25"
      ]
     },
     "execution_count": 26,
     "metadata": {},
     "output_type": "execute_result"
    }
   ],
   "source": [
    "X.var() # 方差"
   ]
  },
  {
   "cell_type": "code",
   "execution_count": 46,
   "metadata": {},
   "outputs": [],
   "source": [
    "def my_fangca(X):\n",
    "    l=len(X)\n",
    "    mean=X.mean()\n",
    "    sum_ = 0\n",
    "    sum_std=0\n",
    "    for i in X:\n",
    "        sum_+=(i-mean)**2\n",
    "    var_=sum_/l\n",
    "    std_=(sum_/(l))**0.5\n",
    "    return var_,std_"
   ]
  },
  {
   "cell_type": "code",
   "execution_count": 47,
   "metadata": {},
   "outputs": [],
   "source": [
    "result = my_fangca(X)"
   ]
  },
  {
   "cell_type": "code",
   "execution_count": 48,
   "metadata": {},
   "outputs": [
    {
     "data": {
      "text/plain": [
       "(8.25, 2.8722813232690143)"
      ]
     },
     "execution_count": 48,
     "metadata": {},
     "output_type": "execute_result"
    }
   ],
   "source": [
    "result"
   ]
  },
  {
   "cell_type": "code",
   "execution_count": null,
   "metadata": {},
   "outputs": [],
   "source": []
  }
 ],
 "metadata": {
  "kernelspec": {
   "display_name": "Python 3",
   "language": "python",
   "name": "python3"
  },
  "language_info": {
   "codemirror_mode": {
    "name": "ipython",
    "version": 3
   },
   "file_extension": ".py",
   "mimetype": "text/x-python",
   "name": "python",
   "nbconvert_exporter": "python",
   "pygments_lexer": "ipython3",
   "version": "3.7.0"
  }
 },
 "nbformat": 4,
 "nbformat_minor": 2
}
