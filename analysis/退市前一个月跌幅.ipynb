{
 "cells": [
  {
   "cell_type": "code",
   "execution_count": 1,
   "metadata": {},
   "outputs": [],
   "source": [
    "import sys\n",
    "sys.path.append('..')\n",
    "from configure.settings import DBSelector"
   ]
  },
  {
   "cell_type": "code",
   "execution_count": 15,
   "metadata": {},
   "outputs": [],
   "source": [
    "conn = DBSelector().get_mysql_conn('ptrade','qq',use_dict=True)"
   ]
  },
  {
   "cell_type": "code",
   "execution_count": 3,
   "metadata": {},
   "outputs": [],
   "source": [
    "import pandas as pd"
   ]
  },
  {
   "cell_type": "code",
   "execution_count": null,
   "metadata": {},
   "outputs": [],
   "source": [
    "df = pd.read_sql('uqerio',con=engine)"
   ]
  },
  {
   "cell_type": "code",
   "execution_count": 16,
   "metadata": {},
   "outputs": [],
   "source": [
    "cursor = conn.cursor()"
   ]
  },
  {
   "cell_type": "code",
   "execution_count": 17,
   "metadata": {},
   "outputs": [],
   "source": [
    "sql='select tickerBond,tradeDate,closePriceBond from uqerio where `tradeDate`>=%s'\n",
    "cursor.execute(sql,('2021-11-01',))\n",
    "ret=cursor.fetchall()"
   ]
  },
  {
   "cell_type": "code",
   "execution_count": 18,
   "metadata": {},
   "outputs": [
    {
     "data": {
      "text/plain": [
       "96608"
      ]
     },
     "execution_count": 18,
     "metadata": {},
     "output_type": "execute_result"
    }
   ],
   "source": [
    "len(ret)"
   ]
  },
  {
   "cell_type": "code",
   "execution_count": 19,
   "metadata": {},
   "outputs": [],
   "source": [
    "df=pd.DataFrame(ret)"
   ]
  },
  {
   "cell_type": "code",
   "execution_count": 20,
   "metadata": {},
   "outputs": [
    {
     "data": {
      "text/html": [
       "<div>\n",
       "<style scoped>\n",
       "    .dataframe tbody tr th:only-of-type {\n",
       "        vertical-align: middle;\n",
       "    }\n",
       "\n",
       "    .dataframe tbody tr th {\n",
       "        vertical-align: top;\n",
       "    }\n",
       "\n",
       "    .dataframe thead th {\n",
       "        text-align: right;\n",
       "    }\n",
       "</style>\n",
       "<table border=\"1\" class=\"dataframe\">\n",
       "  <thead>\n",
       "    <tr style=\"text-align: right;\">\n",
       "      <th></th>\n",
       "      <th>tickerBond</th>\n",
       "      <th>tradeDate</th>\n",
       "      <th>closePriceBond</th>\n",
       "    </tr>\n",
       "  </thead>\n",
       "  <tbody>\n",
       "    <tr>\n",
       "      <th>0</th>\n",
       "      <td>110033</td>\n",
       "      <td>2021-11-01</td>\n",
       "      <td>102.89</td>\n",
       "    </tr>\n",
       "    <tr>\n",
       "      <th>1</th>\n",
       "      <td>110033</td>\n",
       "      <td>2021-11-02</td>\n",
       "      <td>102.10</td>\n",
       "    </tr>\n",
       "    <tr>\n",
       "      <th>2</th>\n",
       "      <td>110033</td>\n",
       "      <td>2021-11-03</td>\n",
       "      <td>101.86</td>\n",
       "    </tr>\n",
       "    <tr>\n",
       "      <th>3</th>\n",
       "      <td>110033</td>\n",
       "      <td>2021-11-04</td>\n",
       "      <td>101.64</td>\n",
       "    </tr>\n",
       "    <tr>\n",
       "      <th>4</th>\n",
       "      <td>110034</td>\n",
       "      <td>2021-11-01</td>\n",
       "      <td>110.03</td>\n",
       "    </tr>\n",
       "  </tbody>\n",
       "</table>\n",
       "</div>"
      ],
      "text/plain": [
       "  tickerBond   tradeDate  closePriceBond\n",
       "0     110033  2021-11-01          102.89\n",
       "1     110033  2021-11-02          102.10\n",
       "2     110033  2021-11-03          101.86\n",
       "3     110033  2021-11-04          101.64\n",
       "4     110034  2021-11-01          110.03"
      ]
     },
     "execution_count": 20,
     "metadata": {},
     "output_type": "execute_result"
    }
   ],
   "source": [
    "df.head()"
   ]
  },
  {
   "cell_type": "code",
   "execution_count": 31,
   "metadata": {},
   "outputs": [],
   "source": [
    "df['tickerBond']=df['tickerBond'].astype(str)"
   ]
  },
  {
   "cell_type": "code",
   "execution_count": 24,
   "metadata": {},
   "outputs": [],
   "source": [
    "last_bond_df = pd.read_excel('../data/lastBond.xlsx')"
   ]
  },
  {
   "cell_type": "code",
   "execution_count": 25,
   "metadata": {},
   "outputs": [
    {
     "data": {
      "text/html": [
       "<div>\n",
       "<style scoped>\n",
       "    .dataframe tbody tr th:only-of-type {\n",
       "        vertical-align: middle;\n",
       "    }\n",
       "\n",
       "    .dataframe tbody tr th {\n",
       "        vertical-align: top;\n",
       "    }\n",
       "\n",
       "    .dataframe thead th {\n",
       "        text-align: right;\n",
       "    }\n",
       "</style>\n",
       "<table border=\"1\" class=\"dataframe\">\n",
       "  <thead>\n",
       "    <tr style=\"text-align: right;\">\n",
       "      <th></th>\n",
       "      <th>code</th>\n",
       "      <th>name</th>\n",
       "      <th>price</th>\n",
       "      <th>lastDate</th>\n",
       "    </tr>\n",
       "  </thead>\n",
       "  <tbody>\n",
       "    <tr>\n",
       "      <th>0</th>\n",
       "      <td>128073</td>\n",
       "      <td>哈尔转债</td>\n",
       "      <td>109.999</td>\n",
       "      <td>2022-10-27</td>\n",
       "    </tr>\n",
       "    <tr>\n",
       "      <th>1</th>\n",
       "      <td>123027</td>\n",
       "      <td>蓝晓转债</td>\n",
       "      <td>403.133</td>\n",
       "      <td>2022-10-18</td>\n",
       "    </tr>\n",
       "    <tr>\n",
       "      <th>2</th>\n",
       "      <td>113635</td>\n",
       "      <td>升21转债</td>\n",
       "      <td>118.324</td>\n",
       "      <td>2022-09-23</td>\n",
       "    </tr>\n",
       "    <tr>\n",
       "      <th>3</th>\n",
       "      <td>123137</td>\n",
       "      <td>锦浪转债</td>\n",
       "      <td>155.000</td>\n",
       "      <td>2022-09-21</td>\n",
       "    </tr>\n",
       "    <tr>\n",
       "      <th>4</th>\n",
       "      <td>118001</td>\n",
       "      <td>金博转债</td>\n",
       "      <td>108.794</td>\n",
       "      <td>2022-09-20</td>\n",
       "    </tr>\n",
       "  </tbody>\n",
       "</table>\n",
       "</div>"
      ],
      "text/plain": [
       "     code   name    price   lastDate\n",
       "0  128073   哈尔转债  109.999 2022-10-27\n",
       "1  123027   蓝晓转债  403.133 2022-10-18\n",
       "2  113635  升21转债  118.324 2022-09-23\n",
       "3  123137   锦浪转债  155.000 2022-09-21\n",
       "4  118001   金博转债  108.794 2022-09-20"
      ]
     },
     "execution_count": 25,
     "metadata": {},
     "output_type": "execute_result"
    }
   ],
   "source": [
    "last_bond_df.head()"
   ]
  },
  {
   "cell_type": "code",
   "execution_count": 39,
   "metadata": {},
   "outputs": [],
   "source": [
    "name_mapper = dict(zip(last_bond_df['code'].tolist(),last_bond_df['name'].tolist()))"
   ]
  },
  {
   "cell_type": "code",
   "execution_count": 33,
   "metadata": {},
   "outputs": [],
   "source": [
    "last_bond_df['code']=last_bond_df['code'].astype(str)"
   ]
  },
  {
   "cell_type": "code",
   "execution_count": 26,
   "metadata": {},
   "outputs": [
    {
     "data": {
      "text/plain": [
       "42"
      ]
     },
     "execution_count": 26,
     "metadata": {},
     "output_type": "execute_result"
    }
   ],
   "source": [
    "len(last_bond_df)"
   ]
  },
  {
   "cell_type": "code",
   "execution_count": 34,
   "metadata": {},
   "outputs": [],
   "source": [
    "last_bond_code_list = last_bond_df['code'].tolist()"
   ]
  },
  {
   "cell_type": "code",
   "execution_count": 35,
   "metadata": {},
   "outputs": [],
   "source": [
    "last_df = df[df['tickerBond'].isin(last_bond_code_list)]"
   ]
  },
  {
   "cell_type": "code",
   "execution_count": 36,
   "metadata": {},
   "outputs": [
    {
     "data": {
      "text/html": [
       "<div>\n",
       "<style scoped>\n",
       "    .dataframe tbody tr th:only-of-type {\n",
       "        vertical-align: middle;\n",
       "    }\n",
       "\n",
       "    .dataframe tbody tr th {\n",
       "        vertical-align: top;\n",
       "    }\n",
       "\n",
       "    .dataframe thead th {\n",
       "        text-align: right;\n",
       "    }\n",
       "</style>\n",
       "<table border=\"1\" class=\"dataframe\">\n",
       "  <thead>\n",
       "    <tr style=\"text-align: right;\">\n",
       "      <th></th>\n",
       "      <th>tickerBond</th>\n",
       "      <th>tradeDate</th>\n",
       "      <th>closePriceBond</th>\n",
       "    </tr>\n",
       "  </thead>\n",
       "  <tbody>\n",
       "    <tr>\n",
       "      <th>1616</th>\n",
       "      <td>113502</td>\n",
       "      <td>2021-11-01</td>\n",
       "      <td>123.55</td>\n",
       "    </tr>\n",
       "    <tr>\n",
       "      <th>1617</th>\n",
       "      <td>113502</td>\n",
       "      <td>2021-11-02</td>\n",
       "      <td>122.56</td>\n",
       "    </tr>\n",
       "    <tr>\n",
       "      <th>1618</th>\n",
       "      <td>113502</td>\n",
       "      <td>2021-11-03</td>\n",
       "      <td>122.78</td>\n",
       "    </tr>\n",
       "    <tr>\n",
       "      <th>1619</th>\n",
       "      <td>113502</td>\n",
       "      <td>2021-11-04</td>\n",
       "      <td>124.64</td>\n",
       "    </tr>\n",
       "    <tr>\n",
       "      <th>1620</th>\n",
       "      <td>113502</td>\n",
       "      <td>2021-11-05</td>\n",
       "      <td>128.65</td>\n",
       "    </tr>\n",
       "  </tbody>\n",
       "</table>\n",
       "</div>"
      ],
      "text/plain": [
       "     tickerBond   tradeDate  closePriceBond\n",
       "1616     113502  2021-11-01          123.55\n",
       "1617     113502  2021-11-02          122.56\n",
       "1618     113502  2021-11-03          122.78\n",
       "1619     113502  2021-11-04          124.64\n",
       "1620     113502  2021-11-05          128.65"
      ]
     },
     "execution_count": 36,
     "metadata": {},
     "output_type": "execute_result"
    }
   ],
   "source": [
    "last_df.head()"
   ]
  },
  {
   "cell_type": "code",
   "execution_count": 32,
   "metadata": {},
   "outputs": [
    {
     "data": {
      "text/plain": [
       "128073"
      ]
     },
     "execution_count": 32,
     "metadata": {},
     "output_type": "execute_result"
    }
   ],
   "source": [
    "last_bond_code_list[0]"
   ]
  },
  {
   "cell_type": "code",
   "execution_count": 37,
   "metadata": {},
   "outputs": [],
   "source": [
    "result_dict ={}\n",
    "for code,sub_df in last_df.groupby('tickerBond'):\n",
    "    tmp_df=sub_df.sort_values('tradeDate')\n",
    "    t1=tmp_df['closePriceBond'].iloc[-1]\n",
    "    t2=tmp_df['closePriceBond'].iloc[-22]\n",
    "    p = (t1-t2)/t2*100\n",
    "    result_dict[code]=p\n"
   ]
  },
  {
   "cell_type": "code",
   "execution_count": 38,
   "metadata": {},
   "outputs": [
    {
     "data": {
      "text/plain": [
       "{'110066': -15.511818100116825,\n",
       " '110071': 20.513753456556564,\n",
       " '113026': 2.1709955001184067,\n",
       " '113034': -15.82927071933142,\n",
       " '113036': -2.6247762974746522,\n",
       " '113502': -28.019942060230406,\n",
       " '113541': 4.831075567161744,\n",
       " '113548': -5.594631981402143,\n",
       " '113550': -12.213697073032101,\n",
       " '113568': 7.229664410992956,\n",
       " '113599': 9.828730134238551,\n",
       " '113620': 0.6559455491792177,\n",
       " '113630': -5.968427881496433,\n",
       " '113635': -15.45205753524499,\n",
       " '118001': -17.35490732300212,\n",
       " '118002': -31.333561878642435,\n",
       " '123023': -29.60352710646636,\n",
       " '123024': -17.39130434782608,\n",
       " '123027': -0.7061576354679849,\n",
       " '123042': -21.214095194499958,\n",
       " '123043': -9.761772853185597,\n",
       " '123045': -20.501237380681157,\n",
       " '123062': -31.945708219593577,\n",
       " '123070': 24.08957842481523,\n",
       " '123073': -15.530177678566059,\n",
       " '123084': 4.406779661016949,\n",
       " '123086': -4.276150772371082,\n",
       " '123097': -24.305850635174135,\n",
       " '123111': -19.649122807017545,\n",
       " '123137': -18.9961797553162,\n",
       " '127011': -22.437673130193904,\n",
       " '127013': 7.232586129080795,\n",
       " '127048': -22.714646952504836,\n",
       " '128050': -3.146399413223783,\n",
       " '128073': -17.891586050400093,\n",
       " '128093': -0.45212198763062583,\n",
       " '128094': -14.15501844302077,\n",
       " '128096': -13.378183436021196,\n",
       " '128103': -7.784675615212534,\n",
       " '128107': -0.14309697018147097,\n",
       " '128113': -6.9190195470059015,\n",
       " '128139': 35.52266419981499}"
      ]
     },
     "execution_count": 38,
     "metadata": {},
     "output_type": "execute_result"
    }
   ],
   "source": [
    "result_dict"
   ]
  },
  {
   "cell_type": "code",
   "execution_count": 50,
   "metadata": {},
   "outputs": [],
   "source": [
    "new_result_dict = {}\n",
    "for k,v in result_dict.items():\n",
    "    new_result_dict[name_mapper.get(k)]=round(v,3)"
   ]
  },
  {
   "cell_type": "code",
   "execution_count": 51,
   "metadata": {},
   "outputs": [
    {
     "data": {
      "text/plain": [
       "-8.48390476190476"
      ]
     },
     "execution_count": 51,
     "metadata": {},
     "output_type": "execute_result"
    }
   ],
   "source": [
    "import numpy as np\n",
    "np.mean(list(new_result_dict.values()))"
   ]
  },
  {
   "cell_type": "code",
   "execution_count": 52,
   "metadata": {},
   "outputs": [
    {
     "data": {
      "text/plain": [
       "{'盛屯转债': -15.512,\n",
       " '湖盐转债': 20.514,\n",
       " '核能转债': 2.171,\n",
       " '滨化转债': -15.829,\n",
       " '宁建转债': -2.625,\n",
       " '嘉澳转债': -28.02,\n",
       " '荣晟转债': 4.831,\n",
       " '石英转债': -5.595,\n",
       " '常汽转债': -12.214,\n",
       " '新春转债': 7.23,\n",
       " '嘉友转债': 9.829,\n",
       " '傲农转债': 0.656,\n",
       " '赛伍转债': -5.968,\n",
       " '升21转债': -15.452,\n",
       " '金博转债': -17.355,\n",
       " '天合转债': -31.334,\n",
       " '迪森转债': -29.604,\n",
       " '岱勒转债': -17.391,\n",
       " '蓝晓转债': -0.706,\n",
       " '银河转债': -21.214,\n",
       " '正元转债': -9.762,\n",
       " '雷迪转债': -20.501,\n",
       " '三超转债': -31.946,\n",
       " '鹏辉转债': 24.09,\n",
       " '同和转债': -15.53,\n",
       " '高澜转债': 4.407,\n",
       " '海兰转债': -4.276,\n",
       " '美力转债': -24.306,\n",
       " '东财转3': -19.649,\n",
       " '锦浪转债': -18.996,\n",
       " '中鼎转2': -22.438,\n",
       " '创维转债': 7.233,\n",
       " '中大转债': -22.715,\n",
       " '钧达转债': -3.146,\n",
       " '哈尔转债': -17.892,\n",
       " '百川转债': -0.452,\n",
       " '星帅转债': -14.155,\n",
       " '奥瑞转债': -13.378,\n",
       " '同德转债': -7.785,\n",
       " '交科转债': -0.143,\n",
       " '比音转债': -6.919,\n",
       " '祥鑫转债': 35.523}"
      ]
     },
     "execution_count": 52,
     "metadata": {},
     "output_type": "execute_result"
    }
   ],
   "source": [
    "new_result_dict"
   ]
  },
  {
   "cell_type": "code",
   "execution_count": 67,
   "metadata": {},
   "outputs": [],
   "source": [
    "from pyecharts import options as opts\n",
    "from pyecharts.charts import Bar,Line,Grid\n",
    "from pyecharts.commons.utils import JsCode\n",
    "import pandas as pd\n",
    "\n",
    "import datetime\n",
    "today = datetime.date.today().strftime('%Y%m%d')\n",
    "color_function = \"\"\"\n",
    "        function (params) {\n",
    "            if(params.value>0){\n",
    "            return 'red';\n",
    "            }else{\n",
    "                return 'green';\n",
    "            }\n",
    "        }\n",
    "        \"\"\"\n",
    "title='可转债 退市前一个月的涨跌幅分布'\n",
    "x=list(new_result_dict.keys())\n",
    "y=list(new_result_dict.values())\n",
    "c = (\n",
    "    Bar()\n",
    "    .add_xaxis(\n",
    "x    \n",
    "    )\n",
    "    .add_yaxis(title,y,itemstyle_opts=opts.ItemStyleOpts(color=JsCode(color_function)),\n",
    "    label_opts=opts.LabelOpts(is_show=False),\n",
    "    )\n",
    "    .set_global_opts(\n",
    "        xaxis_opts=opts.AxisOpts(axislabel_opts=opts.LabelOpts(rotate=90),\n",
    "        min_interval=1,\n",
    "        interval=1,\n",
    "        splitline_opts=opts.SplitLineOpts(is_show=True),\n",
    "        ),\n",
    "         yaxis_opts=opts.AxisOpts(splitline_opts=opts.SplitLineOpts(is_show=True)),\n",
    "        title_opts=opts.TitleOpts(title=title),\n",
    "    ).set_colors(['green'])\n",
    "    .render(\"../plot_image/{}{}.html\".format(title,today))\n",
    ")"
   ]
  },
  {
   "cell_type": "code",
   "execution_count": 68,
   "metadata": {},
   "outputs": [
    {
     "data": {
      "text/plain": [
       "{'盛屯转债': -15.512,\n",
       " '湖盐转债': 20.514,\n",
       " '核能转债': 2.171,\n",
       " '滨化转债': -15.829,\n",
       " '宁建转债': -2.625,\n",
       " '嘉澳转债': -28.02,\n",
       " '荣晟转债': 4.831,\n",
       " '石英转债': -5.595,\n",
       " '常汽转债': -12.214,\n",
       " '新春转债': 7.23,\n",
       " '嘉友转债': 9.829,\n",
       " '傲农转债': 0.656,\n",
       " '赛伍转债': -5.968,\n",
       " '升21转债': -15.452,\n",
       " '金博转债': -17.355,\n",
       " '天合转债': -31.334,\n",
       " '迪森转债': -29.604,\n",
       " '岱勒转债': -17.391,\n",
       " '蓝晓转债': -0.706,\n",
       " '银河转债': -21.214,\n",
       " '正元转债': -9.762,\n",
       " '雷迪转债': -20.501,\n",
       " '三超转债': -31.946,\n",
       " '鹏辉转债': 24.09,\n",
       " '同和转债': -15.53,\n",
       " '高澜转债': 4.407,\n",
       " '海兰转债': -4.276,\n",
       " '美力转债': -24.306,\n",
       " '东财转3': -19.649,\n",
       " '锦浪转债': -18.996,\n",
       " '中鼎转2': -22.438,\n",
       " '创维转债': 7.233,\n",
       " '中大转债': -22.715,\n",
       " '钧达转债': -3.146,\n",
       " '哈尔转债': -17.892,\n",
       " '百川转债': -0.452,\n",
       " '星帅转债': -14.155,\n",
       " '奥瑞转债': -13.378,\n",
       " '同德转债': -7.785,\n",
       " '交科转债': -0.143,\n",
       " '比音转债': -6.919,\n",
       " '祥鑫转债': 35.523}"
      ]
     },
     "execution_count": 68,
     "metadata": {},
     "output_type": "execute_result"
    }
   ],
   "source": [
    "new_result_dict"
   ]
  },
  {
   "cell_type": "code",
   "execution_count": null,
   "metadata": {},
   "outputs": [],
   "source": []
  }
 ],
 "metadata": {
  "interpreter": {
   "hash": "906064a35c7980fda78a8b97014bc5560dca56efd2e047844bdf4fb8a9b9c8a3"
  },
  "kernelspec": {
   "display_name": "Python 3.9.7 ('cpy')",
   "language": "python",
   "name": "python3"
  },
  "language_info": {
   "codemirror_mode": {
    "name": "ipython",
    "version": 3
   },
   "file_extension": ".py",
   "mimetype": "text/x-python",
   "name": "python",
   "nbconvert_exporter": "python",
   "pygments_lexer": "ipython3",
   "version": "3.9.7"
  },
  "orig_nbformat": 4
 },
 "nbformat": 4,
 "nbformat_minor": 2
}
