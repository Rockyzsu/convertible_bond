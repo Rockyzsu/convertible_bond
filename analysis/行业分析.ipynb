{
 "cells": [
  {
   "cell_type": "code",
   "execution_count": 3,
   "source": [],
   "outputs": [],
   "metadata": {}
  },
  {
   "cell_type": "code",
   "execution_count": 2,
   "source": [
    "file = r'C:\\git\\convertible_bond\\data\\df_dict.pkl'"
   ],
   "outputs": [],
   "metadata": {}
  },
  {
   "cell_type": "code",
   "execution_count": 6,
   "source": [
    "dict_df = joblib.load(file)"
   ],
   "outputs": [],
   "metadata": {}
  },
  {
   "cell_type": "code",
   "execution_count": 108,
   "source": [
    "def analysis_industry(v:list)->pd.DataFrame: \r\n",
    "    df = pd.DataFrame(v)\r\n",
    "    df['premium_rt']=df['premium_rt'].map(lambda x:float(x.replace('%','')))\r\n",
    "    df['full_price']=df['full_price'].map(lambda x:float(x))\r\n",
    "    df['price']=df['price'].map(lambda x:float(x))\r\n",
    "    return df"
   ],
   "outputs": [],
   "metadata": {}
  },
  {
   "cell_type": "code",
   "execution_count": 109,
   "source": [
    "industry_dict={}\r\n",
    "for k,v in dict_df.items():\r\n",
    "    # print(k,type(v),v[0])\r\n",
    "    industry_dict[k]=analysis_industry(v)"
   ],
   "outputs": [],
   "metadata": {}
  },
  {
   "cell_type": "code",
   "execution_count": 72,
   "source": [
    "industry_dict.keys()"
   ],
   "outputs": [
    {
     "output_type": "execute_result",
     "data": {
      "text/plain": [
       "dict_keys(['农林牧渔', '采掘', '化工', '钢铁', '有色金属', '电子', '汽车', '家用电器', '食品饮料', '纺织服装', '轻工制造', '医药生物', '公用事业', '交通运输', '商业贸易', '休闲服务', '银行', '非银金融', '建筑材料', '建筑装饰', '电气设备', '机械设备', '国防军工', '计算机', '传媒', '通信'])"
      ]
     },
     "metadata": {},
     "execution_count": 72
    }
   ],
   "metadata": {}
  },
  {
   "cell_type": "code",
   "execution_count": 17,
   "source": [
    "industry_dict['农林牧渔']['premium_rt'].mean()"
   ],
   "outputs": [
    {
     "output_type": "execute_result",
     "data": {
      "text/plain": [
       "53.84400000000001"
      ]
     },
     "metadata": {},
     "execution_count": 17
    }
   ],
   "metadata": {}
  },
  {
   "cell_type": "code",
   "execution_count": 110,
   "source": [
    "simple_result ={}\r\n",
    "for k,v in industry_dict.items():\r\n",
    "    simple_result[k]=round(v['premium_rt'].mean(),2)"
   ],
   "outputs": [],
   "metadata": {}
  },
  {
   "cell_type": "code",
   "execution_count": 58,
   "source": [
    "# 绘图部分\r\n",
    "from pyecharts import options as opts\r\n",
    "from pyecharts.charts import Bar\r\n",
    "from pyecharts.globals import ThemeType\r\n",
    "\r\n",
    "simple_result ={}\r\n",
    "for k,v in industry_dict.items():\r\n",
    "    simple_result[k]=round(v['premium_rt'].mean(),0)\r\n",
    "\r\n",
    "simple_result = list(sorted(simple_result.items(),key=lambda x:x[1],reverse=True))\r\n",
    "X=[i[0] for i in simple_result]\r\n",
    "Y=[i[1] for i in simple_result]\r\n"
   ],
   "outputs": [],
   "metadata": {}
  },
  {
   "cell_type": "code",
   "execution_count": 60,
   "source": [
    "c = (\r\n",
    "    Bar({\"theme\": ThemeType.CHALK})\r\n",
    "    .add_xaxis(X)\r\n",
    "    .add_yaxis(y_axis=Y,series_name='溢价率',\r\n",
    "    category_gap=\"10%\"\r\n",
    "    )\r\n",
    "    # .reversal_axis()\r\n",
    "    # .set_series_opts(label_opts=opts.LabelOpts(position=\"right\"))\r\n",
    "    .set_global_opts(title_opts=opts.TitleOpts(title=\"行业平均溢价率\"),\r\n",
    "    xaxis_opts=opts.AxisOpts(axislabel_opts=opts.LabelOpts(rotate=60)),\r\n",
    "    # datazoom_opts=opts.DataZoomOpts()\r\n",
    "    )\r\n",
    "    .render(\"bar_reversal_axis.html\")\r\n",
    ")"
   ],
   "outputs": [],
   "metadata": {}
  },
  {
   "cell_type": "code",
   "execution_count": 111,
   "source": [
    "joblib.dump(industry_dict,'集思录行业数据.zip')"
   ],
   "outputs": [
    {
     "output_type": "execute_result",
     "data": {
      "text/plain": [
       "['集思录行业数据.zip']"
      ]
     },
     "metadata": {},
     "execution_count": 111
    }
   ],
   "metadata": {}
  },
  {
   "cell_type": "code",
   "execution_count": 112,
   "source": [
    "simple_result ={}\r\n",
    "for k,v in industry_dict.items():\r\n",
    "    simple_result[k]=round(v['premium_rt'].mean(),0)\r\n"
   ],
   "outputs": [],
   "metadata": {}
  },
  {
   "cell_type": "code",
   "execution_count": 125,
   "source": [
    "for k,v in industry_dict.items():\r\n",
    "    mean = v['premium_rt'].mean()\r\n",
    "    temp_v = v[(v['premium_rt']<mean) & (v['premium_rt']<20) & (v['full_price']<130)]\r\n",
    "    if len(temp_v)>0:\r\n",
    "        print(k,f'均值{mean:0.1f}    ',temp_v['bond_nm'].tolist())\r\n"
   ],
   "outputs": [
    {
     "output_type": "stream",
     "name": "stdout",
     "text": [
      "农林牧渔 均值53.8     ['大禹转债', '众兴转债']\n",
      "采掘 均值41.8     ['靖远转债']\n",
      "化工 均值8.9     ['司尔转债', '新凤转债', '鸿达转债', '湖盐转债']\n",
      "有色金属 均值22.5     ['中金转债', '海亮转债', '楚江转债']\n",
      "电子 均值33.5     ['春秋转债', '弘信转债', '景20转债']\n",
      "汽车 均值25.2     ['美力转债', '远东转债', '永安转债', '广汽转债', '汽模转2']\n",
      "家用电器 均值22.5     ['三星转债']\n",
      "食品饮料 均值30.1     ['龙大转债', '华统转债']\n",
      "纺织服装 均值62.4     ['台华转债', '孚日转债', '海澜转债']\n",
      "轻工制造 均值38.9     ['荣晟转债', '景兴转债', '山鹰转债', '鹰19转债']\n",
      "医药生物 均值27.0     ['蓝帆转债', '北陆转债', '九典转债', '现代转债', '健20转债', '英特转债', '新天转债']\n",
      "公用事业 均值25.9     ['G三峡EB1', '伟20转债', '嘉泽转债', '晶科转债', '惠城转债', '旺能转债', '洪城转债', '迪龙转债', '蒙电转债']\n",
      "商业贸易 均值55.1     ['国贸转债', '利群转债']\n",
      "银行 均值33.0     ['张行转债', '无锡转债', '青农转债', '苏银转债', '光大转债']\n",
      "非银金融 均值32.4     ['长证转债']\n",
      "建筑材料 均值27.0     ['濮耐转债']\n",
      "建筑装饰 均值41.0     ['海波转债', '洪涛转债', '东湖转债', '交科转债', '文科转债']\n",
      "电气设备 均值15.0     ['白电转债', '起帆转债']\n",
      "机械设备 均值26.9     ['高澜转债', '万讯转债', '岱勒转债', '三超转债', '百达转债', '君禾转债', '锋龙转债']\n",
      "国防军工 均值14.4     ['海兰转债']\n",
      "计算机 均值45.0     ['博彦转债', '今天转债']\n",
      "通信 均值66.4     ['润建转债']\n"
     ]
    }
   ],
   "metadata": {}
  }
 ],
 "metadata": {
  "orig_nbformat": 4,
  "language_info": {
   "name": "python",
   "version": "3.8.3",
   "mimetype": "text/x-python",
   "codemirror_mode": {
    "name": "ipython",
    "version": 3
   },
   "pygments_lexer": "ipython3",
   "nbconvert_exporter": "python",
   "file_extension": ".py"
  },
  "kernelspec": {
   "name": "python3",
   "display_name": "Python 3.8.3 64-bit ('base': conda)"
  },
  "interpreter": {
   "hash": "513dc2e41d739bb2c947903f3c0bbf636d03aa53ab50e61c694a27481c81805e"
  }
 },
 "nbformat": 4,
 "nbformat_minor": 2
}