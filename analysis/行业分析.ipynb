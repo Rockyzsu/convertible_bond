{
 "cells": [
  {
   "cell_type": "code",
   "execution_count": null,
   "metadata": {},
   "outputs": [],
   "source": [
    "file = r'C:\\git\\convertible_bond\\data\\industry_20220328.pkl'"
   ]
  },
  {
   "cell_type": "code",
   "execution_count": null,
   "metadata": {},
   "outputs": [],
   "source": [
    "import joblib\n",
    "import pandas as pd"
   ]
  },
  {
   "cell_type": "code",
   "execution_count": null,
   "metadata": {},
   "outputs": [],
   "source": [
    "dict_df = joblib.load(file)"
   ]
  },
  {
   "cell_type": "code",
   "execution_count": null,
   "metadata": {},
   "outputs": [],
   "source": [
    "for k,v in dict_df.items():\n",
    "    print(k,v)"
   ]
  },
  {
   "cell_type": "code",
   "execution_count": null,
   "metadata": {},
   "outputs": [],
   "source": [
    "def analysis_industry(v:list)->pd.DataFrame: \n",
    "    df = pd.Data.\n",
    "    \n",
    "    try:\n",
    "        df['premium_rt']=df['premium_rt'].map(lambda x:float(x.replace('%','')))\n",
    "    except:\n",
    "        df['premium_rt']=0\n",
    "    df['full_price']=df['full_price'].map(lambda x:float(x))\n",
    "    df['price']=df['price'].map(lambda x:float(x))\n",
    "    return df"
   ]
  },
  {
   "cell_type": "code",
   "execution_count": null,
   "metadata": {},
   "outputs": [],
   "source": [
    "industry_dict={}\n",
    "for k,v in dict_df.items():\n",
    "    # print(k,type(v),v[0])\n",
    "    if len(v)==0:\n",
    "        print(k,v)\n",
    "        continue\n",
    "    industry_dict[k]=analysis_industry(v)"
   ]
  },
  {
   "cell_type": "code",
   "execution_count": null,
   "metadata": {},
   "outputs": [],
   "source": [
    "industry_dict"
   ]
  },
  {
   "cell_type": "code",
   "execution_count": null,
   "metadata": {},
   "outputs": [],
   "source": [
    "industry_dict.keys()"
   ]
  },
  {
   "cell_type": "code",
   "execution_count": null,
   "metadata": {},
   "outputs": [],
   "source": [
    "industry_dict['农林牧渔']['premium_rt'].mean()"
   ]
  },
  {
   "cell_type": "code",
   "execution_count": null,
   "metadata": {},
   "outputs": [],
   "source": [
    "simple_result ={}\n",
    "for k,v in industry_dict.items():\n",
    "    simple_result[k]=round(v['premium_rt'].mean(),2)"
   ]
  },
  {
   "cell_type": "code",
   "execution_count": null,
   "metadata": {},
   "outputs": [],
   "source": [
    "# 绘图部分\n",
    "from pyecharts import options as opts\n",
    "from pyecharts.charts import Bar\n",
    "from pyecharts.globals import ThemeType\n",
    "\n",
    "simple_result ={}\n",
    "for k,v in industry_dict.items():\n",
    "    simple_result[k]=round(v['premium_rt'].mean(),0)\n",
    "\n",
    "simple_result = list(sorted(simple_result.items(),key=lambda x:x[1],reverse=True))\n",
    "X=[i[0] for i in simple_result]\n",
    "Y=[i[1] for i in simple_result]\n"
   ]
  },
  {
   "cell_type": "code",
   "execution_count": null,
   "metadata": {},
   "outputs": [],
   "source": [
    "c = (\n",
    "    Bar({\"theme\": ThemeType.CHALK})\n",
    "    .add_xaxis(X)\n",
    "    .add_yaxis(y_axis=Y,series_name='溢价率',\n",
    "    category_gap=\"50%\"\n",
    "    )\n",
    "    # .reversal_axis()\n",
    "    # .set_series_opts(label_opts=opts.LabelOpts(position=\"right\"))\n",
    "    .set_global_opts(title_opts=opts.TitleOpts(title=\"行业平均溢价率\"),\n",
    "    xaxis_opts=opts.AxisOpts(axislabel_opts=opts.LabelOpts(rotate=60)),\n",
    "    # datazoom_opts=opts.DataZoomOpts()\n",
    "    )\n",
    "    .render(\"../plot_image/行业溢价率.html\")\n",
    ")"
   ]
  },
  {
   "cell_type": "code",
   "execution_count": null,
   "metadata": {},
   "outputs": [],
   "source": [
    "joblib.dump(industry_dict,'集思录行业数据.zip')"
   ]
  },
  {
   "cell_type": "code",
   "execution_count": null,
   "metadata": {},
   "outputs": [],
   "source": [
    "simple_result ={}\n",
    "for k,v in industry_dict.items():\n",
    "    simple_result[k]=round(v['premium_rt'].mean(),0)\n"
   ]
  },
  {
   "cell_type": "code",
   "execution_count": null,
   "metadata": {},
   "outputs": [],
   "source": [
    "for k,v in industry_dict.items():\n",
    "    mean = v['premium_rt'].mean()\n",
    "    temp_v = v[(v['premium_rt']<mean) & (v['premium_rt']<20) & (v['full_price']<130)]\n",
    "    if len(temp_v)>0:\n",
    "        print(k,f'均值{mean:0.1f}    ',temp_v['bond_nm'].tolist())\n"
   ]
  },
  {
   "cell_type": "code",
   "execution_count": null,
   "metadata": {},
   "outputs": [],
   "source": [
    "result=[]\n",
    "for k,v_df in industry_dict.items():\n",
    "    row={}\n",
    "    row['行业']=k\n",
    "    row['个数']=len(v_df['bond_id'])\n",
    "    row['最小值']=round(v_df['premium_rt'].min(),2)\n",
    "    row['最大值']=round(v_df['premium_rt'].max(),2)\n",
    "    row['平均值']=round(v_df['premium_rt'].mean(),2)\n",
    "    row['中位数']=round(v_df['premium_rt'].median(),2)\n",
    "\n",
    "    result.append(row)\n",
    "\n",
    "\n",
    "\n"
   ]
  },
  {
   "cell_type": "code",
   "execution_count": null,
   "metadata": {},
   "outputs": [],
   "source": [
    "summary_df = pd.DataFrame(result)"
   ]
  },
  {
   "cell_type": "code",
   "execution_count": null,
   "metadata": {},
   "outputs": [],
   "source": [
    "summary_df.sort_values('中位数').head(50).reset_index(drop=True).to_excel('行业溢价率.xlsx',encoding='utf8')"
   ]
  },
  {
   "cell_type": "code",
   "execution_count": null,
   "metadata": {},
   "outputs": [],
   "source": []
  }
 ],
 "metadata": {
  "interpreter": {
   "hash": "513dc2e41d739bb2c947903f3c0bbf636d03aa53ab50e61c694a27481c81805e"
  },
  "kernelspec": {
   "display_name": "Python 3.8.3 64-bit ('base': conda)",
   "name": "python3"
  },
  "language_info": {
   "codemirror_mode": {
    "name": "ipython",
    "version": 3
   },
   "file_extension": ".py",
   "mimetype": "text/x-python",
   "name": "python",
   "nbconvert_exporter": "python",
   "pygments_lexer": "ipython3",
   "version": "3.8.3"
  },
  "orig_nbformat": 4
 },
 "nbformat": 4,
 "nbformat_minor": 2
}
