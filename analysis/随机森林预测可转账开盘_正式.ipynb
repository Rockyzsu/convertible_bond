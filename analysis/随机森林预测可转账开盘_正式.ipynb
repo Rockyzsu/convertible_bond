{
 "cells": [
  {
   "cell_type": "code",
   "execution_count": 140,
   "source": [
    "import pandas as pd\n",
    "import numpy as np\n",
    "from sklearn.model_selection import train_test_split\n",
    "from sklearn.ensemble import RandomForestRegressor\n",
    "from sklearn.model_selection import GridSearchCV,RandomizedSearchCV\n",
    "import joblib\n",
    "import datetime"
   ],
   "outputs": [],
   "metadata": {}
  },
  {
   "cell_type": "code",
   "execution_count": 141,
   "source": [
    "def get_bondPremRatio(conv_price,current_price):\n",
    "    inner_value = get_conv_value(conv_price,current_price)\n",
    "    return (100/inner_value-1)*100\n",
    "\n",
    "def convert_permratio_inner(bondPremRatio):\n",
    "    return 100/(bondPremRatio/100+1)\n",
    "\n",
    "# 转股价值\n",
    "def get_conv_value(conv_price,current_price):\n",
    "    return 100/conv_price*current_price"
   ],
   "outputs": [],
   "metadata": {}
  },
  {
   "cell_type": "code",
   "execution_count": 142,
   "source": [
    "file = '/home/xda/hub/convertible_bond/data/new_bond_v1.xlsx'\n",
    "data = pd.read_excel(file,index_col=0)\n",
    "\n",
    "rate_map = {\n",
    "    'A':0,\n",
    "    'A+':1,\n",
    "    'AA-':2,\n",
    "    'AA':3,\n",
    "    'AA+':4,\n",
    "    'AAA':5\n",
    "}\n",
    "\n",
    "data['rate'] = data['rate'].map(lambda x:rate_map.get(x))\n",
    "\n",
    "industry_map = {\n",
    "'化工':0,\n",
    "'医药生物':    1,\n",
    "'机械设备':    2,\n",
    "'电子':      3,\n",
    "'电气设备':   4,\n",
    "'轻工制造':    5,\n",
    "'汽车':      6,\n",
    "'有色金属':   7,\n",
    "'计算机':     8,\n",
    "'建筑装饰':    9,\n",
    "'公用事业':    10,\n",
    "'农林牧渔':    11,\n",
    "'银行':    12,\n",
    "'纺织服装':    13,\n",
    "'食品饮料':    14,\n",
    "'国防军工':     15,\n",
    "'通信':       16,\n",
    "'非银金融':     17,\n",
    "'交通运输':     18,\n",
    "'家用电器':     19,\n",
    "'建筑材料':     20,\n",
    "'采掘':       21,\n",
    "'钢铁':       22,\n",
    "'传媒':       23,\n",
    "'商业贸易':    24,\n",
    "'休闲服务':  25,\n",
    "}\n",
    "data['industry']=data['industry'].map(lambda x:industry_map.get(x))\n",
    "\n",
    "data['innerValue'] = data['bondPremRatio'].map(lambda x:convert_permratio_inner(x))\n",
    "train_data = data.copy()\n",
    "train_data.drop('secShortNameBond',inplace=True,axis=1)\n",
    "train_data.drop('bondPremRatio',inplace=True,axis=1)\n",
    "\n",
    "data_source = train_data.copy()\n",
    "target = data_source['closePriceBond']\n",
    "data_source.drop('closePriceBond',axis=1,inplace=True)\n",
    "data_source.drop('firstDate',axis=1,inplace=True)\n",
    "data_source['put_trigger_date'].fillna(0,inplace=True)\n",
    "data_source['put_trigger_rate'].fillna(0,inplace=True)\n",
    "data_source.drop('code',axis=1,inplace=True)"
   ],
   "outputs": [],
   "metadata": {}
  },
  {
   "cell_type": "code",
   "execution_count": 143,
   "source": [
    "X_train,X_test,y_train,y_test = train_test_split(data_source,target, test_size=0.2,random_state=4)"
   ],
   "outputs": [],
   "metadata": {}
  },
  {
   "cell_type": "code",
   "execution_count": 146,
   "source": [
    "def evaluate(y_test,y_test_pre):\n",
    "    import sklearn.metrics as sm\n",
    "    print('mean absolute error=',round(sm.mean_absolute_error(y_test,y_test_pre),2))\n",
    "    print('mean squared error=',round(sm.mean_squared_error(y_test,y_test_pre),2))\n",
    "    print('median absolute error=',round(sm.median_absolute_error(y_test,y_test_pre),2))\n",
    "    print('explained variance score=',round(sm.explained_variance_score(y_test,y_test_pre),2))\n",
    "    print('R2 score=',round(sm.r2_score(y_test,y_test_pre),2))\n",
    "\n",
    "\n",
    "\n",
    "    errors = abs(y_test_pre - y_test)\n",
    "    mape = 100 * np.mean(errors / y_test)\n",
    "    accuracy = 100 - mape\n",
    "    print('Model Performance')\n",
    "    print('Average Error: {:0.4f} degrees.'.format(np.mean(errors)))\n",
    "    print('Accuracy = {:0.2f}%.'.format(accuracy))"
   ],
   "outputs": [],
   "metadata": {}
  },
  {
   "cell_type": "code",
   "execution_count": 155,
   "source": [
    "param_grid = {\n",
    "\n",
    "    'max_depth': [4,5,6,7,8,9],\n",
    "    'max_features': [2,3,4,5,6,7,8,9],\n",
    "    'min_samples_leaf': [2,3, 4, 5,6,7,8],\n",
    "    'min_samples_split': [2,4,8, 10, 12],\n",
    "    'n_estimators': [50,70,80]\n",
    "}\n",
    "# Create a based model\n",
    "rf = RandomForestRegressor()# Instantiate the grid search model\n",
    "# grid_search = GridSearchCV(estimator = rf, param_grid = param_grid, \n",
    "#                           cv = 3, n_jobs = -1, verbose = 2)\n",
    "\n",
    "random_search = RandomizedSearchCV(estimator = rf, param_distributions = param_grid, n_iter = 100, cv = 5, verbose=2, random_state=42, n_jobs = -1)\n",
    "random_search.fit(X_train,y_train)\n",
    "print(random_search.best_params_)\n",
    "y_pred_grid = random_search.predict(X_test)\n"
   ],
   "outputs": [
    {
     "output_type": "stream",
     "name": "stdout",
     "text": [
      "Fitting 5 folds for each of 100 candidates, totalling 500 fits\n",
      "{'n_estimators': 70, 'min_samples_split': 2, 'min_samples_leaf': 6, 'max_features': 4, 'max_depth': 8}\n"
     ]
    }
   ],
   "metadata": {}
  },
  {
   "cell_type": "code",
   "execution_count": 148,
   "source": [
    "evaluate(y_test,y_pred_grid)"
   ],
   "outputs": [
    {
     "output_type": "stream",
     "name": "stdout",
     "text": [
      "mean absolute error= 9.51\n",
      "mean squared error= 131.91\n",
      "median absolute error= 8.05\n",
      "explained variance score= 0.08\n",
      "R2 score= 0.05\n",
      "Model Performance\n",
      "Average Error: 9.5080 degrees.\n",
      "Accuracy = 91.38%.\n"
     ]
    }
   ],
   "metadata": {}
  },
  {
   "cell_type": "code",
   "execution_count": 156,
   "source": [
    "rf_model = RandomForestRegressor(**random_search.best_params_)\n",
    "rf_model.fit(X_train,y_train)\n",
    "y_pred_grid = rf_model.predict(X_test)\n",
    "evaluate(y_test,y_pred_grid)"
   ],
   "outputs": [
    {
     "output_type": "stream",
     "name": "stdout",
     "text": [
      "mean absolute error= 9.69\n",
      "mean squared error= 136.16\n",
      "median absolute error= 8.51\n",
      "explained variance score= 0.05\n",
      "R2 score= 0.02\n",
      "Model Performance\n",
      "Average Error: 9.6895 degrees.\n",
      "Accuracy = 91.21%.\n"
     ]
    }
   ],
   "metadata": {}
  },
  {
   "cell_type": "code",
   "execution_count": 149,
   "source": [
    "today_fmt = datetime.datetime.now().strftime('%Y%m%d')\n",
    "joblib.dump(rf_model, f\"train_model_{today_fmt}.m\")"
   ],
   "outputs": [
    {
     "output_type": "execute_result",
     "data": {
      "text/plain": [
       "['train_model_20210722.m']"
      ]
     },
     "metadata": {},
     "execution_count": 149
    }
   ],
   "metadata": {}
  },
  {
   "cell_type": "code",
   "execution_count": 112,
   "source": [
    "date='20210722'\n",
    "rf_model = joblib.load(f\"train_model_{date}.m\")\n",
    "y_pred_grid = rf_model.predict(X_test)\n",
    "evaluate(y_test,y_pred_grid)"
   ],
   "outputs": [
    {
     "output_type": "stream",
     "name": "stdout",
     "text": [
      "mean absolute error= 9.56\n",
      "mean squared error= 134.43\n",
      "median absolute error= 8.58\n",
      "explained variance score= 0.06\n",
      "R2 score= 0.03\n",
      "Model Performance\n",
      "Average Error: 9.5600 degrees.\n",
      "Accuracy = 91.33%.\n"
     ]
    }
   ],
   "metadata": {}
  },
  {
   "cell_type": "code",
   "execution_count": 157,
   "source": [
    "importances = rf_model.feature_importances_\n",
    "importances=list(map(lambda x:round(x*100,0),importances))\n",
    "indices = np.argsort(importances)[::-1]\n",
    "for f in range(X_train.shape[1]):\n",
    "    print(\"%2d) %-*s %.2f\" % (f + 1, 30, X_train.columns[indices[f]], importances[indices[f]]))"
   ],
   "outputs": [
    {
     "output_type": "stream",
     "name": "stdout",
     "text": [
      " 1) innerValue                     37.00\n",
      " 2) industry                       24.00\n",
      " 3) remainSize                     21.00\n",
      " 4) coupon                         9.00\n",
      " 5) rate                           5.00\n",
      " 6) put_trigger_rate               2.00\n",
      " 7) put_trigger_date               1.00\n",
      " 8) call_trigger_rate              0.00\n",
      " 9) call_trigger_date              0.00\n"
     ]
    }
   ],
   "metadata": {}
  },
  {
   "cell_type": "code",
   "execution_count": 128,
   "source": [
    "type(rf_model.feature_importances_)"
   ],
   "outputs": [
    {
     "output_type": "execute_result",
     "data": {
      "text/plain": [
       "numpy.ndarray"
      ]
     },
     "metadata": {},
     "execution_count": 128
    }
   ],
   "metadata": {}
  },
  {
   "cell_type": "code",
   "execution_count": 158,
   "source": [
    "# rf_model = None\n",
    "\n",
    "zg_price =8.29\n",
    "convert_price =8.35\n",
    "\n",
    "innerValue = get_conv_value(conv_price=convert_price,current_price = zg_price)\n",
    "print(f'转股价值{innerValue}')\n",
    "input_data = {\n",
    "'call_trigger_date':30,\n",
    "'call_trigger_rate':130, # 强赎\n",
    "'coupon':0.2,\n",
    "'industry':industry_map.get('交通运输'),\n",
    "'put_trigger_date':30,\n",
    "'put_trigger_rate':70, # triggerRate 回售触发票面比例（%）\n",
    "'rate':rate_map.get('AAA'),\n",
    "'remainSize':30.00*10**9,\n",
    "'innerValue':innerValue,\n",
    "\n",
    "}\n",
    "\n"
   ],
   "outputs": [
    {
     "output_type": "stream",
     "name": "stdout",
     "text": [
      "转股价值99.2814371257485\n"
     ]
    }
   ],
   "metadata": {}
  },
  {
   "cell_type": "code",
   "execution_count": 159,
   "source": [
    "date='20210722'\n",
    "rf_model = joblib.load(f\"train_model_{date}.m\")\n",
    "y_predict_real = rf_model.predict(pd.DataFrame([input_data]))\n",
    "print(y_predict_real[0])"
   ],
   "outputs": [
    {
     "output_type": "stream",
     "name": "stdout",
     "text": [
      "111.10628703361485\n"
     ]
    }
   ],
   "metadata": {}
  },
  {
   "cell_type": "code",
   "execution_count": 160,
   "source": [
    "# 不加载模型, 用训练出来的模型\n",
    "df_real = pd.DataFrame([input_data])\n",
    "print(df_real)\n",
    "y_predict_real = rf_model.predict(df_real)\n",
    "print(y_predict_real[0])"
   ],
   "outputs": [
    {
     "output_type": "stream",
     "name": "stdout",
     "text": [
      "   call_trigger_date  call_trigger_rate  coupon  industry  put_trigger_date  \\\n",
      "0                 30                130     0.2        18                30   \n",
      "\n",
      "   put_trigger_rate  rate    remainSize  innerValue  \n",
      "0                70     5  3.000000e+10   99.281437  \n",
      "111.10628703361485\n"
     ]
    }
   ],
   "metadata": {}
  },
  {
   "cell_type": "code",
   "execution_count": 99,
   "source": [
    "df_real"
   ],
   "outputs": [
    {
     "output_type": "execute_result",
     "data": {
      "text/html": [
       "<div>\n",
       "<style scoped>\n",
       "    .dataframe tbody tr th:only-of-type {\n",
       "        vertical-align: middle;\n",
       "    }\n",
       "\n",
       "    .dataframe tbody tr th {\n",
       "        vertical-align: top;\n",
       "    }\n",
       "\n",
       "    .dataframe thead th {\n",
       "        text-align: right;\n",
       "    }\n",
       "</style>\n",
       "<table border=\"1\" class=\"dataframe\">\n",
       "  <thead>\n",
       "    <tr style=\"text-align: right;\">\n",
       "      <th></th>\n",
       "      <th>call_trigger_date</th>\n",
       "      <th>call_trigger_rate</th>\n",
       "      <th>coupon</th>\n",
       "      <th>industry</th>\n",
       "      <th>put_trigger_date</th>\n",
       "      <th>put_trigger_rate</th>\n",
       "      <th>rate</th>\n",
       "      <th>remainSize</th>\n",
       "      <th>innerValue</th>\n",
       "    </tr>\n",
       "  </thead>\n",
       "  <tbody>\n",
       "    <tr>\n",
       "      <th>0</th>\n",
       "      <td>30</td>\n",
       "      <td>130</td>\n",
       "      <td>0.2</td>\n",
       "      <td>18</td>\n",
       "      <td>30</td>\n",
       "      <td>70</td>\n",
       "      <td>0</td>\n",
       "      <td>3.000000e+10</td>\n",
       "      <td>99.281437</td>\n",
       "    </tr>\n",
       "  </tbody>\n",
       "</table>\n",
       "</div>"
      ],
      "text/plain": [
       "   call_trigger_date  call_trigger_rate  coupon  industry  put_trigger_date  \\\n",
       "0                 30                130     0.2        18                30   \n",
       "\n",
       "   put_trigger_rate  rate    remainSize  innerValue  \n",
       "0                70     0  3.000000e+10   99.281437  "
      ]
     },
     "metadata": {},
     "execution_count": 99
    }
   ],
   "metadata": {}
  },
  {
   "cell_type": "code",
   "execution_count": 79,
   "source": [
    "X_test.iloc[0]"
   ],
   "outputs": [
    {
     "output_type": "execute_result",
     "data": {
      "text/plain": [
       "call_trigger_date     30.000000\n",
       "call_trigger_rate    130.000000\n",
       "coupon                 0.400000\n",
       "industry               2.000000\n",
       "put_trigger_date      30.000000\n",
       "put_trigger_rate      70.000000\n",
       "rate                   3.000000\n",
       "remainSize            12.000000\n",
       "innerValue            96.185846\n",
       "Name: 221, dtype: float64"
      ]
     },
     "metadata": {},
     "execution_count": 79
    }
   ],
   "metadata": {}
  }
 ],
 "metadata": {
  "orig_nbformat": 4,
  "language_info": {
   "name": "python",
   "version": "3.9.5",
   "mimetype": "text/x-python",
   "codemirror_mode": {
    "name": "ipython",
    "version": 3
   },
   "pygments_lexer": "ipython3",
   "nbconvert_exporter": "python",
   "file_extension": ".py"
  },
  "kernelspec": {
   "name": "python3",
   "display_name": "Python 3.9.5 64-bit ('3.9': conda)"
  },
  "interpreter": {
   "hash": "28d2dd8735d5b963e054e321a2b13f416b1a0f524027151d22c8eb8270a4fd3f"
  }
 },
 "nbformat": 4,
 "nbformat_minor": 2
}