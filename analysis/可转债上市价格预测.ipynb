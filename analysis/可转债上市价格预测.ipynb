{
 "cells": [
  {
   "cell_type": "code",
   "execution_count": null,
   "metadata": {},
   "outputs": [],
   "source": [
    "import sys\n",
    "sys.path.append('..')\n",
    "from configure.settings import DBSelector\n",
    "import pandas as pd\n",
    "import pyecharts.options as opts\n",
    "from pyecharts.charts import Bar, Line\n",
    "from pyecharts.charts import Scatter\n",
    "import pyecharts.options as opts\n",
    "from pyecharts.charts import Line, Grid\n",
    "from pyecharts.commons.utils import JsCode\n",
    "import matplotlib.pyplot as plt\n",
    "import numpy as np\n",
    "%matplotlib inline\n",
    "\n",
    "background_color_js = (\n",
    "    \"new echarts.graphic.LinearGradient(0, 0, 0, 1, \"\n",
    "    \"[{offset: 0, color: '#c86589'}, {offset: 1, color: '#06a7ff'}], false)\"\n",
    ")\n",
    "\n",
    "area_color_js = (\n",
    "    \"new echarts.graphic.LinearGradient(0, 0, 0, 1, \"\n",
    "    \"[{offset: 0, color: '#eb64fb'}, {offset: 1, color: '#3fbbff0d'}], false)\"\n",
    ")\n",
    "db = DBSelector()"
   ]
  },
  {
   "cell_type": "code",
   "execution_count": null,
   "metadata": {},
   "outputs": [],
   "source": [
    "engine = db.get_engine('db_stock')"
   ]
  },
  {
   "cell_type": "code",
   "execution_count": null,
   "metadata": {},
   "outputs": [],
   "source": [
    "df = pd.read_sql('tb_bond_jisilu',con=engine)"
   ]
  },
  {
   "cell_type": "code",
   "execution_count": null,
   "metadata": {},
   "outputs": [],
   "source": [
    "df.sample()"
   ]
  },
  {
   "cell_type": "code",
   "execution_count": null,
   "metadata": {},
   "outputs": [],
   "source": [
    "# 溢价率 =（转债现价 - 转股价值）/ 转股价值\n",
    "def stock_value(bond_price,bondPremRatio):\n",
    "    return bond_price/(1+bondPremRatio)\n",
    "    "
   ]
  },
  {
   "cell_type": "code",
   "execution_count": null,
   "metadata": {},
   "outputs": [],
   "source": [
    "stock_value(173.698,-17.39/100)"
   ]
  },
  {
   "cell_type": "code",
   "execution_count": null,
   "metadata": {},
   "outputs": [],
   "source": [
    "file = '/home/xda/hub/convertible_bond/data/new_bond.xlsx'"
   ]
  },
  {
   "cell_type": "code",
   "execution_count": null,
   "metadata": {},
   "outputs": [],
   "source": [
    "data = pd.read_excel(file)"
   ]
  },
  {
   "cell_type": "code",
   "execution_count": null,
   "metadata": {},
   "outputs": [],
   "source": [
    "data.sample()"
   ]
  },
  {
   "cell_type": "code",
   "execution_count": null,
   "metadata": {},
   "outputs": [],
   "source": [
    "data = data.drop(0)"
   ]
  },
  {
   "cell_type": "code",
   "execution_count": null,
   "metadata": {},
   "outputs": [],
   "source": [
    "data.columns"
   ]
  },
  {
   "cell_type": "code",
   "execution_count": null,
   "metadata": {},
   "outputs": [],
   "source": [
    "data.sample()"
   ]
  },
  {
   "cell_type": "code",
   "execution_count": null,
   "metadata": {},
   "outputs": [],
   "source": [
    "data = data.drop('Unnamed: 0',axis=1)"
   ]
  },
  {
   "cell_type": "code",
   "execution_count": null,
   "metadata": {},
   "outputs": [],
   "source": [
    "data.sample()"
   ]
  },
  {
   "cell_type": "code",
   "execution_count": null,
   "metadata": {},
   "outputs": [],
   "source": [
    "data['innerValue'] = data['closePriceBond']/(1+data['bondPremRatio']/100)"
   ]
  },
  {
   "cell_type": "code",
   "execution_count": null,
   "metadata": {},
   "outputs": [],
   "source": [
    "data.sample()"
   ]
  },
  {
   "cell_type": "markdown",
   "metadata": {},
   "source": [
    "# 曲线部分"
   ]
  },
  {
   "cell_type": "code",
   "execution_count": null,
   "metadata": {},
   "outputs": [],
   "source": [
    "X = data['innerValue']\n",
    "Y=data['closePriceBond']"
   ]
  },
  {
   "cell_type": "code",
   "execution_count": null,
   "metadata": {},
   "outputs": [],
   "source": [
    "scatter = (\n",
    "    Scatter(init_opts=opts.InitOpts(width=\"1024px\", height=\"768px\",bg_color=JsCode(background_color_js)))\n",
    "    .add_xaxis(xaxis_data=X)\n",
    "    .add_yaxis(\n",
    "        \n",
    "        series_name=\"上市价格\",\n",
    "        y_axis=Y,\n",
    "        symbol_size=10,\n",
    "        label_opts=opts.LabelOpts(is_show=False),\n",
    "    )\n",
    "    .set_series_opts()\n",
    "    .set_global_opts(\n",
    "        title_opts=opts.TitleOpts(title='转债上市价格预测'),\n",
    "        xaxis_opts=opts.AxisOpts(\n",
    "            type_=\"value\",\n",
    "            name='转债转股价值',\n",
    "            splitline_opts=opts.SplitLineOpts(is_show=True),\n",
    "            min_=60,\n",
    "        ),\n",
    "        yaxis_opts=opts.AxisOpts(\n",
    "            type_=\"value\",\n",
    "            name='转债价格收盘价',\n",
    "            axistick_opts=opts.AxisTickOpts(is_show=True),\n",
    "            splitline_opts=opts.SplitLineOpts(is_show=True),\n",
    "            min_=60,\n",
    "            \n",
    "        ),\n",
    "        tooltip_opts=opts.TooltipOpts(is_show=False),\n",
    "    )\n",
    ")\n",
    "scatter.render('only.html')"
   ]
  },
  {
   "cell_type": "code",
   "execution_count": null,
   "metadata": {},
   "outputs": [],
   "source": [
    "\n",
    "plt.figure(figsize=(12,8))\n",
    "\n",
    "plt.scatter(X,Y)\n",
    "plt.xlabel('innerValue')\n",
    "plt.ylabel('closePriceBond')\n",
    "plt.show()"
   ]
  },
  {
   "cell_type": "code",
   "execution_count": null,
   "metadata": {},
   "outputs": [],
   "source": [
    "z1 = np.polyfit(X,Y,3) #用3次多项式拟合  可以改为5 次多项式。。。。 返回三次多项式系数\n",
    "p1= np.poly1d(z1)\n",
    "print(p1) #在屏幕上打印拟合多项式\n",
    "yvals = p1(X) #也可以使用yvals=np.polyval(z1,x)"
   ]
  },
  {
   "cell_type": "code",
   "execution_count": null,
   "metadata": {},
   "outputs": [],
   "source": []
  },
  {
   "cell_type": "code",
   "execution_count": null,
   "metadata": {},
   "outputs": [],
   "source": [
    "length = len(X)\n",
    "print(length)\n",
    "X2 = [X[i] for i in range(0,length,1)]\n",
    "# X2=\n",
    "yvals = p1(X2) #也可以使用yvals=np.polyval(z1,x)\n",
    "plt.figure(figsize=(12,8))\n",
    "\n",
    "plot1 = plt.plot(X,Y,'.',label='original values')\n",
    "\n",
    "plot2 = plt.plot(X2,yvals,'*',label='polyfit values')\n",
    "\n",
    "plt.xlabel('xaxis')\n",
    "\n",
    "plt.ylabel('yaxis')\n",
    "\n",
    "plt.legend(loc=4)  #指定legend的位置,读者可以自己help它的用法\n",
    "\n",
    "plt.title('polyfitting')\n",
    "plt.savefig('ploy.png')"
   ]
  },
  {
   "cell_type": "code",
   "execution_count": null,
   "metadata": {},
   "outputs": [],
   "source": []
  },
  {
   "cell_type": "code",
   "execution_count": null,
   "metadata": {},
   "outputs": [],
   "source": [
    "data.info()"
   ]
  },
  {
   "cell_type": "code",
   "execution_count": null,
   "metadata": {},
   "outputs": [],
   "source": [
    "x=range(10)\n",
    "y=list(map(lambda x:x**2,x))"
   ]
  },
  {
   "cell_type": "code",
   "execution_count": null,
   "metadata": {},
   "outputs": [],
   "source": [
    "plt.scatter(x,y)"
   ]
  },
  {
   "cell_type": "code",
   "execution_count": null,
   "metadata": {},
   "outputs": [],
   "source": [
    "z2 = np.polyfit(x,y,2)\n",
    "p2 = np.poly1d(z2)\n",
    "print(p2)\n"
   ]
  },
  {
   "cell_type": "code",
   "execution_count": null,
   "metadata": {},
   "outputs": [],
   "source": [
    "# 使用指数拟合\n",
    "from scipy.optimize import curve_fit\n",
    "def func(x,a,b):\n",
    "      return a*np.exp(b/x)\n",
    "\n",
    "\n",
    "popt,pcov=curve_fit(func,X,Y)\n",
    "\n",
    "a=popt[0] #popt里面是拟合系数，读者可以自己help其用法\n",
    "\n",
    "b=popt[1]\n",
    "\n",
    "zs_yvals=func(X,a,b)"
   ]
  },
  {
   "cell_type": "code",
   "execution_count": null,
   "metadata": {},
   "outputs": [],
   "source": [
    "func(93.78,a,b)"
   ]
  },
  {
   "cell_type": "code",
   "execution_count": null,
   "metadata": {},
   "outputs": [],
   "source": [
    "func(90.60,a,b)"
   ]
  },
  {
   "cell_type": "code",
   "execution_count": null,
   "metadata": {},
   "outputs": [],
   "source": [
    "a"
   ]
  },
  {
   "cell_type": "code",
   "execution_count": null,
   "metadata": {},
   "outputs": [],
   "source": [
    "b"
   ]
  },
  {
   "cell_type": "code",
   "execution_count": null,
   "metadata": {},
   "outputs": [],
   "source": [
    "plt.figure(figsize=(12,8))\n",
    "plt.plot(X,Y,'*')\n",
    "plt.plot(X,yvals,'*')"
   ]
  },
  {
   "cell_type": "code",
   "execution_count": null,
   "metadata": {},
   "outputs": [],
   "source": [
    "predict_value =func(93.78,a,b)"
   ]
  },
  {
   "cell_type": "code",
   "execution_count": null,
   "metadata": {},
   "outputs": [],
   "source": [
    "predict_value"
   ]
  },
  {
   "cell_type": "markdown",
   "metadata": {},
   "source": [
    "# pyecharts"
   ]
  },
  {
   "cell_type": "code",
   "execution_count": null,
   "metadata": {},
   "outputs": [],
   "source": [
    "scatter = (\n",
    "    Scatter(init_opts=opts.InitOpts(width=\"1024px\", height=\"768px\",bg_color=JsCode(background_color_js)))\n",
    "    .add_xaxis(xaxis_data=X)\n",
    "    .add_yaxis(\n",
    "        series_name=\"1111\",\n",
    "        y_axis=Y,\n",
    "        symbol_size=3,\n",
    "        label_opts=opts.LabelOpts(is_show=False),\n",
    "    )\n",
    "    .set_series_opts()\n",
    "    .set_global_opts(\n",
    "        xaxis_opts=opts.AxisOpts(\n",
    "            type_=\"value\", \n",
    "            splitline_opts=opts.SplitLineOpts(is_show=True),\n",
    "            min_=60,\n",
    "        ),\n",
    "        yaxis_opts=opts.AxisOpts(\n",
    "            type_=\"value\",\n",
    "            axistick_opts=opts.AxisTickOpts(is_show=True),\n",
    "            splitline_opts=opts.SplitLineOpts(is_show=True),\n",
    "            min_=60,\n",
    "            \n",
    "        ),\n",
    "        tooltip_opts=opts.TooltipOpts(is_show=False),\n",
    "    )\n",
    ")\n",
    "\n",
    "# scatter.render_notebook()\n"
   ]
  },
  {
   "cell_type": "code",
   "execution_count": null,
   "metadata": {},
   "outputs": [],
   "source": [
    "X0=X[::10]\n",
    "Y0=Y[::10]\n",
    "zs_yvals0 = zs_yvals[::10]"
   ]
  },
  {
   "cell_type": "code",
   "execution_count": null,
   "metadata": {},
   "outputs": [],
   "source": [
    "sort_XY = list(sorted(zip(X,zs_yvals),key=lambda x:x[0]))"
   ]
  },
  {
   "cell_type": "code",
   "execution_count": null,
   "metadata": {},
   "outputs": [],
   "source": [
    "sort_XY[0]"
   ]
  },
  {
   "cell_type": "code",
   "execution_count": null,
   "metadata": {},
   "outputs": [],
   "source": [
    "X0=[item[0] for item in sort_XY]\n",
    "Y0=[item[1] for item in sort_XY]"
   ]
  },
  {
   "cell_type": "code",
   "execution_count": null,
   "metadata": {},
   "outputs": [],
   "source": [
    "scatter = (\n",
    "    Scatter(init_opts=opts.InitOpts(width=\"1024px\", height=\"768px\",bg_color=JsCode(background_color_js)))\n",
    "    .add_xaxis(xaxis_data=X)\n",
    "    .add_yaxis(\n",
    "        series_name=\"上市价格\",\n",
    "        y_axis=Y,\n",
    "        symbol_size=5,\n",
    "        label_opts=opts.LabelOpts(is_show=False),\n",
    "    )\n",
    "    .set_series_opts()\n",
    "    .set_global_opts(\n",
    "        title_opts=opts.TitleOpts(title='转债上市价格预测'),\n",
    "        xaxis_opts=opts.AxisOpts(\n",
    "            name='转股价值',\n",
    "            type_=\"value\", \n",
    "            splitline_opts=opts.SplitLineOpts(is_show=True),\n",
    "            min_=60,\n",
    "        ),\n",
    "        yaxis_opts=opts.AxisOpts(\n",
    "            type_=\"value\",\n",
    "            name='转债上市首日收盘价',\n",
    "            axistick_opts=opts.AxisTickOpts(is_show=True),\n",
    "            splitline_opts=opts.SplitLineOpts(is_show=True),\n",
    "            min_=60,\n",
    "            \n",
    "        ),\n",
    "        tooltip_opts=opts.TooltipOpts(is_show=False),\n",
    "    )\n",
    ")\n",
    "\n",
    "line = (\n",
    "    Line()\n",
    "    .add_xaxis(xaxis_data=X0)\n",
    "    .add_yaxis(\n",
    "        series_name=\"拟合曲线\",\n",
    "        # yaxis_index=1,\n",
    "        symbol_size=5,\n",
    "        y_axis=Y0,\n",
    "        label_opts=opts.LabelOpts(is_show=False),\n",
    "        linestyle_opts=opts.LineStyleOpts(width=1,color='yellow'),\n",
    "        \n",
    "    ).set_colors(\"yellow\") \n",
    ")\n",
    "line2 = (\n",
    "    Line()\n",
    "    .add_xaxis(xaxis_data=[60,180])\n",
    "    .add_yaxis(\n",
    "        series_name=\"溢价率为0\",\n",
    "        # yaxis_index=1,\n",
    "        symbol_size=5,\n",
    "        y_axis=[60,180],\n",
    "        label_opts=opts.LabelOpts(is_show=False),\n",
    "        linestyle_opts=opts.LineStyleOpts(width=2,color='green'),\n",
    "        \n",
    "    ).set_colors(\"green\") \n",
    ")\n",
    "scatter.overlap(line)\n",
    "scatter.overlap(line2)\n",
    "# scatter.render_notebook()\n",
    "scatter.render('预测.html')"
   ]
  },
  {
   "cell_type": "code",
   "execution_count": null,
   "metadata": {},
   "outputs": [],
   "source": [
    "X.max()"
   ]
  },
  {
   "cell_type": "code",
   "execution_count": null,
   "metadata": {},
   "outputs": [],
   "source": [
    "Y.max()"
   ]
  },
  {
   "cell_type": "code",
   "execution_count": null,
   "metadata": {},
   "outputs": [],
   "source": [
    "# plt.xlabel('innerValue')\n",
    "# plt.ylabel('closePriceBond')\n",
    "data['closePriceBond'].argmax()"
   ]
  },
  {
   "cell_type": "code",
   "execution_count": null,
   "metadata": {},
   "outputs": [],
   "source": [
    "data.iloc[400]"
   ]
  },
  {
   "cell_type": "code",
   "execution_count": null,
   "metadata": {},
   "outputs": [],
   "source": [
    "data['closePriceBond'].argmax()"
   ]
  },
  {
   "cell_type": "code",
   "execution_count": null,
   "metadata": {},
   "outputs": [],
   "source": [
    "data.iloc[438]"
   ]
  },
  {
   "cell_type": "code",
   "execution_count": null,
   "metadata": {},
   "outputs": [],
   "source": [
    "data['bondPremRatio'].argmax()"
   ]
  },
  {
   "cell_type": "code",
   "execution_count": null,
   "metadata": {},
   "outputs": [],
   "source": [
    "data.iloc[1]"
   ]
  },
  {
   "cell_type": "code",
   "execution_count": null,
   "metadata": {},
   "outputs": [],
   "source": [
    "len(data)"
   ]
  },
  {
   "cell_type": "code",
   "execution_count": null,
   "metadata": {},
   "outputs": [],
   "source": [
    "def abs_error():\n",
    "    count = len(Y)\n",
    "    sum=0\n",
    "    min_,min_index,max_,max_index=999999,0,0,0\n",
    "    index=0\n",
    "    for real,predict in zip(Y,zs_yvals):\n",
    "        v=abs(real-predict)\n",
    "        if v>max_:\n",
    "            max_=v\n",
    "            max_index=index\n",
    "        if v<min_:\n",
    "            min_=v\n",
    "            min_index=index\n",
    "        index+=1\n",
    "        sum+=v\n",
    "    return min_,min_index,max_,max_index,sum/count"
   ]
  },
  {
   "cell_type": "code",
   "execution_count": null,
   "metadata": {},
   "outputs": [],
   "source": [
    "abs_error()"
   ]
  },
  {
   "cell_type": "code",
   "execution_count": null,
   "metadata": {},
   "outputs": [],
   "source": [
    "data.iloc[400]"
   ]
  },
  {
   "cell_type": "code",
   "execution_count": null,
   "metadata": {},
   "outputs": [],
   "source": [
    "Y[0]"
   ]
  },
  {
   "cell_type": "code",
   "execution_count": null,
   "metadata": {},
   "outputs": [],
   "source": [
    "scatter = (\n",
    "    Scatter(init_opts=opts.InitOpts(width=\"800px\", height=\"600px\"))\n",
    "    .add_xaxis(xaxis_data=X)\n",
    "    .add_yaxis(\n",
    "        series_name=\"转债价格\",\n",
    "        y_axis=Y,\n",
    "        symbol_size=3,\n",
    "        label_opts=opts.LabelOpts(is_show=False),\n",
    "    )\n",
    "    .set_series_opts()\n",
    "    .set_global_opts(\n",
    "        xaxis_opts=opts.AxisOpts(\n",
    "            type_=\"value\", splitline_opts=opts.SplitLineOpts(is_show=True),\n",
    "            min_=60,\n",
    "        ),\n",
    "        yaxis_opts=opts.AxisOpts(\n",
    "            type_=\"value\",\n",
    "            axistick_opts=opts.AxisTickOpts(is_show=True),\n",
    "            splitline_opts=opts.SplitLineOpts(is_show=True),\n",
    "            min_=60,\n",
    "            \n",
    "        )\n",
    "    )\n",
    ")\n",
    "\n",
    "line = (\n",
    "    Line()\n",
    "    .add_xaxis(xaxis_data=X0)\n",
    "    .add_yaxis(\n",
    "        series_name=\"可转债价格预测\",\n",
    "        # yaxis_index=1,\n",
    "        symbol_size=5,\n",
    "        y_axis=Y0,\n",
    "        label_opts=opts.LabelOpts(is_show=False),\n",
    "        linestyle_opts=opts.LineStyleOpts(width=1,color='yellow'),\n",
    "        \n",
    "    ).set_colors(\"yellow\") \n",
    ")\n",
    "scatter.overlap(line)\n",
    "scatter.render_notebook()"
   ]
  },
  {
   "cell_type": "code",
   "execution_count": null,
   "metadata": {},
   "outputs": [],
   "source": [
    "import pyecharts.options as opts\n",
    "from pyecharts.charts import Line, Grid\n",
    "from pyecharts.commons.utils import JsCode\n",
    "\n",
    "\"\"\"\n",
    "参考地址: https://gallery.echartsjs.com/editor.html?c=xEyDk1hwBx\n",
    "\"\"\"\n",
    "\n",
    "x_data = [\"14\", \"15\", \"16\", \"17\", \"18\", \"19\", \"20\", \"21\", \"22\", \"23\"]\n",
    "y_data = [393, 438, 485, 631, 689, 824, 987, 1000, 1100, 1200]\n",
    "\n",
    "background_color_js = (\n",
    "    \"new echarts.graphic.LinearGradient(0, 0, 0, 1, \"\n",
    "    \"[{offset: 0, color: '#c86589'}, {offset: 1, color: '#06a7ff'}], false)\"\n",
    ")\n",
    "area_color_js = (\n",
    "    \"new echarts.graphic.LinearGradient(0, 0, 0, 1, \"\n",
    "    \"[{offset: 0, color: '#eb64fb'}, {offset: 1, color: '#3fbbff0d'}], false)\"\n",
    ")\n",
    "\n",
    "c = (\n",
    "    Line(init_opts=opts.InitOpts(bg_color=JsCode(background_color_js)))\n",
    "    .add_xaxis(xaxis_data=x_data)\n",
    "    .add_yaxis(\n",
    "        series_name=\"注册总量\",\n",
    "        y_axis=y_data,\n",
    "        is_smooth=True,\n",
    "        is_symbol_show=True,\n",
    "        symbol=\"circle\",\n",
    "        symbol_size=6,\n",
    "        linestyle_opts=opts.LineStyleOpts(color=\"#fff\"),\n",
    "        label_opts=opts.LabelOpts(is_show=True, position=\"top\", color=\"white\"),\n",
    "        itemstyle_opts=opts.ItemStyleOpts(\n",
    "            color=\"red\", border_color=\"#fff\", border_width=3\n",
    "        ),\n",
    "        tooltip_opts=opts.TooltipOpts(is_show=False),\n",
    "        areastyle_opts=opts.AreaStyleOpts(color=JsCode(area_color_js), opacity=1),\n",
    "    )\n",
    "    .set_global_opts(\n",
    "        title_opts=opts.TitleOpts(\n",
    "            title=\"我是标题\",\n",
    "            pos_bottom=\"5%\",\n",
    "            pos_left=\"center\",\n",
    "            title_textstyle_opts=opts.TextStyleOpts(color=\"#fff\", font_size=16),\n",
    "        ),\n",
    "        xaxis_opts=opts.AxisOpts(\n",
    "            name='我是x轴呢',\n",
    "            type_=\"category\",\n",
    "            boundary_gap=False,\n",
    "            axislabel_opts=opts.LabelOpts(margin=30, color=\"#ffffff63\"),\n",
    "            axisline_opts=opts.AxisLineOpts(is_show=False),\n",
    "            axistick_opts=opts.AxisTickOpts(\n",
    "                is_show=True,\n",
    "                length=25,\n",
    "                linestyle_opts=opts.LineStyleOpts(color=\"#ffffff1f\"),\n",
    "            ),\n",
    "            splitline_opts=opts.SplitLineOpts(\n",
    "                is_show=True, linestyle_opts=opts.LineStyleOpts(color=\"#ffffff1f\")\n",
    "            ),\n",
    "        ),\n",
    "        yaxis_opts=opts.AxisOpts(\n",
    "            name='我是y轴,右边的',\n",
    "            type_=\"value\",\n",
    "            position=\"right\",\n",
    "            axislabel_opts=opts.LabelOpts(margin=20, color=\"#ffffff63\"),\n",
    "            axisline_opts=opts.AxisLineOpts(\n",
    "                linestyle_opts=opts.LineStyleOpts(width=2, color=\"#fff\")\n",
    "            ),\n",
    "            axistick_opts=opts.AxisTickOpts(\n",
    "                is_show=True,\n",
    "                length=15,\n",
    "                linestyle_opts=opts.LineStyleOpts(color=\"#ffffff1f\"),\n",
    "            ),\n",
    "            splitline_opts=opts.SplitLineOpts(\n",
    "                is_show=True, linestyle_opts=opts.LineStyleOpts(color=\"#ffffff1f\")\n",
    "            ),\n",
    "        ),\n",
    "        legend_opts=opts.LegendOpts(is_show=False),\n",
    "    )\n",
    ")\n",
    "\n",
    "(\n",
    "    Grid()\n",
    "    .add(\n",
    "        c,\n",
    "        grid_opts=opts.GridOpts(\n",
    "            pos_top=\"20%\",\n",
    "            pos_left=\"10%\",\n",
    "            pos_right=\"10%\",\n",
    "            pos_bottom=\"15%\",\n",
    "            is_contain_label=True,\n",
    "        ),\n",
    "    )\n",
    "    .render_notebook()\n",
    ")"
   ]
  },
  {
   "cell_type": "code",
   "execution_count": null,
   "metadata": {},
   "outputs": [],
   "source": []
  }
 ],
 "metadata": {
  "interpreter": {
   "hash": "28d2dd8735d5b963e054e321a2b13f416b1a0f524027151d22c8eb8270a4fd3f"
  },
  "kernelspec": {
   "display_name": "Python 3.9.5 64-bit ('3.9': conda)",
   "name": "python3"
  },
  "language_info": {
   "codemirror_mode": {
    "name": "ipython",
    "version": 3
   },
   "file_extension": ".py",
   "mimetype": "text/x-python",
   "name": "python",
   "nbconvert_exporter": "python",
   "pygments_lexer": "ipython3",
   "version": "3.9.5"
  },
  "orig_nbformat": 4
 },
 "nbformat": 4,
 "nbformat_minor": 2
}
