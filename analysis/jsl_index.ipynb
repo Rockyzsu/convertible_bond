{
 "cells": [
  {
   "cell_type": "code",
   "execution_count": 2,
   "metadata": {},
   "outputs": [],
   "source": [
    "import pandas as pd\n",
    "import joblib"
   ]
  },
  {
   "cell_type": "code",
   "execution_count": 17,
   "metadata": {},
   "outputs": [],
   "source": [
    "df = pd.read_excel('../data/jsl_index1.xlsx',index_col='date')"
   ]
  },
  {
   "cell_type": "code",
   "execution_count": 18,
   "metadata": {},
   "outputs": [
    {
     "data": {
      "text/html": [
       "<div>\n",
       "<style scoped>\n",
       "    .dataframe tbody tr th:only-of-type {\n",
       "        vertical-align: middle;\n",
       "    }\n",
       "\n",
       "    .dataframe tbody tr th {\n",
       "        vertical-align: top;\n",
       "    }\n",
       "\n",
       "    .dataframe thead th {\n",
       "        text-align: right;\n",
       "    }\n",
       "</style>\n",
       "<table border=\"1\" class=\"dataframe\">\n",
       "  <thead>\n",
       "    <tr style=\"text-align: right;\">\n",
       "      <th></th>\n",
       "      <th>index</th>\n",
       "    </tr>\n",
       "    <tr>\n",
       "      <th>date</th>\n",
       "      <th></th>\n",
       "    </tr>\n",
       "  </thead>\n",
       "  <tbody>\n",
       "    <tr>\n",
       "      <th>2022-01-20</th>\n",
       "      <td>2058.718</td>\n",
       "    </tr>\n",
       "    <tr>\n",
       "      <th>2022-01-19</th>\n",
       "      <td>2072.500</td>\n",
       "    </tr>\n",
       "    <tr>\n",
       "      <th>2022-01-18</th>\n",
       "      <td>2073.101</td>\n",
       "    </tr>\n",
       "    <tr>\n",
       "      <th>2022-01-17</th>\n",
       "      <td>2074.948</td>\n",
       "    </tr>\n",
       "    <tr>\n",
       "      <th>2022-01-14</th>\n",
       "      <td>2051.114</td>\n",
       "    </tr>\n",
       "  </tbody>\n",
       "</table>\n",
       "</div>"
      ],
      "text/plain": [
       "               index\n",
       "date                \n",
       "2022-01-20  2058.718\n",
       "2022-01-19  2072.500\n",
       "2022-01-18  2073.101\n",
       "2022-01-17  2074.948\n",
       "2022-01-14  2051.114"
      ]
     },
     "execution_count": 18,
     "metadata": {},
     "output_type": "execute_result"
    }
   ],
   "source": [
    "df.head()\n"
   ]
  },
  {
   "cell_type": "code",
   "execution_count": 6,
   "metadata": {},
   "outputs": [
    {
     "name": "stdout",
     "output_type": "stream",
     "text": [
      "<class 'pandas.core.frame.DataFrame'>\n",
      "DatetimeIndex: 978 entries, 2022-01-07 to 2017-12-29\n",
      "Data columns (total 1 columns):\n",
      " #   Column  Non-Null Count  Dtype  \n",
      "---  ------  --------------  -----  \n",
      " 0   index   978 non-null    float64\n",
      "dtypes: float64(1)\n",
      "memory usage: 15.3 KB\n"
     ]
    }
   ],
   "source": [
    "df.info()"
   ]
  },
  {
   "cell_type": "code",
   "execution_count": 12,
   "metadata": {},
   "outputs": [
    {
     "data": {
      "text/plain": [
       "['jslindex.job']"
      ]
     },
     "execution_count": 12,
     "metadata": {},
     "output_type": "execute_result"
    }
   ],
   "source": [
    "joblib.dump(df,'jslindex.job') # 保存"
   ]
  },
  {
   "cell_type": "code",
   "execution_count": null,
   "metadata": {},
   "outputs": [],
   "source": []
  },
  {
   "cell_type": "code",
   "execution_count": 13,
   "metadata": {},
   "outputs": [
    {
     "data": {
      "text/html": [
       "<div>\n",
       "<style scoped>\n",
       "    .dataframe tbody tr th:only-of-type {\n",
       "        vertical-align: middle;\n",
       "    }\n",
       "\n",
       "    .dataframe tbody tr th {\n",
       "        vertical-align: top;\n",
       "    }\n",
       "\n",
       "    .dataframe thead th {\n",
       "        text-align: right;\n",
       "    }\n",
       "</style>\n",
       "<table border=\"1\" class=\"dataframe\">\n",
       "  <thead>\n",
       "    <tr style=\"text-align: right;\">\n",
       "      <th></th>\n",
       "      <th>value</th>\n",
       "    </tr>\n",
       "    <tr>\n",
       "      <th>date</th>\n",
       "      <th></th>\n",
       "    </tr>\n",
       "  </thead>\n",
       "  <tbody>\n",
       "    <tr>\n",
       "      <th>2022-01-17</th>\n",
       "      <td>2074.948</td>\n",
       "    </tr>\n",
       "    <tr>\n",
       "      <th>2022-01-14</th>\n",
       "      <td>2051.114</td>\n",
       "    </tr>\n",
       "    <tr>\n",
       "      <th>2022-01-13</th>\n",
       "      <td>2068.489</td>\n",
       "    </tr>\n",
       "    <tr>\n",
       "      <th>2022-01-12</th>\n",
       "      <td>2083.196</td>\n",
       "    </tr>\n",
       "    <tr>\n",
       "      <th>2022-01-11</th>\n",
       "      <td>2063.531</td>\n",
       "    </tr>\n",
       "  </tbody>\n",
       "</table>\n",
       "</div>"
      ],
      "text/plain": [
       "               value\n",
       "date                \n",
       "2022-01-17  2074.948\n",
       "2022-01-14  2051.114\n",
       "2022-01-13  2068.489\n",
       "2022-01-12  2083.196\n",
       "2022-01-11  2063.531"
      ]
     },
     "execution_count": 13,
     "metadata": {},
     "output_type": "execute_result"
    }
   ],
   "source": [
    "df.head()"
   ]
  },
  {
   "cell_type": "code",
   "execution_count": 80,
   "metadata": {},
   "outputs": [],
   "source": [
    "indexs=df['index'].values"
   ]
  },
  {
   "cell_type": "code",
   "execution_count": 15,
   "metadata": {},
   "outputs": [
    {
     "data": {
      "text/plain": [
       "984"
      ]
     },
     "execution_count": 15,
     "metadata": {},
     "output_type": "execute_result"
    }
   ],
   "source": [
    "len(v)"
   ]
  },
  {
   "cell_type": "code",
   "execution_count": 16,
   "metadata": {},
   "outputs": [
    {
     "data": {
      "text/plain": [
       "2074.948"
      ]
     },
     "execution_count": 16,
     "metadata": {},
     "output_type": "execute_result"
    }
   ],
   "source": [
    "v[0]"
   ]
  },
  {
   "cell_type": "code",
   "execution_count": 81,
   "metadata": {},
   "outputs": [],
   "source": [
    "indexs=indexs[::-1]"
   ]
  },
  {
   "cell_type": "code",
   "execution_count": null,
   "metadata": {},
   "outputs": [],
   "source": [
    "indexs"
   ]
  },
  {
   "cell_type": "code",
   "execution_count": 18,
   "metadata": {},
   "outputs": [
    {
     "data": {
      "text/plain": [
       "1000.0"
      ]
     },
     "execution_count": 18,
     "metadata": {},
     "output_type": "execute_result"
    }
   ],
   "source": [
    "v[0]"
   ]
  },
  {
   "cell_type": "code",
   "execution_count": 32,
   "metadata": {},
   "outputs": [
    {
     "data": {
      "text/plain": [
       "index    1919.359\n",
       "Name: 2021-09-07 00:00:00, dtype: float64"
      ]
     },
     "execution_count": 32,
     "metadata": {},
     "output_type": "execute_result"
    }
   ],
   "source": [
    "df.iloc[len(df)-898]"
   ]
  },
  {
   "cell_type": "code",
   "execution_count": 75,
   "metadata": {},
   "outputs": [],
   "source": [
    "def get_max_withdraw(indexs):\n",
    "    max_withdraw = 0\n",
    "    max_date_index =0\n",
    "    last_high = indexs[0]\n",
    "    \n",
    "    for index,current in enumerate(indexs):\n",
    "        # 遍历所有数据\n",
    "        if current>last_high:\n",
    "            last_high=current\n",
    "            continue\n",
    "\n",
    "        if (last_high-current)/last_high>max_withdraw:\n",
    "            # 找到一个最大值时，保存其位置\n",
    "            max_withdraw = (last_high-current)/last_high\n",
    "            max_date_index=index\n",
    "\n",
    "    return max_withdraw*100,max_date_index # 变成百分比\n"
   ]
  },
  {
   "cell_type": "code",
   "execution_count": 73,
   "metadata": {},
   "outputs": [],
   "source": [
    "x=[9, 2, 5, 1, 8, 5, 9, 2, 1]"
   ]
  },
  {
   "cell_type": "code",
   "execution_count": 82,
   "metadata": {},
   "outputs": [
    {
     "data": {
      "text/plain": [
       "(12.013742567571798, 755)"
      ]
     },
     "execution_count": 82,
     "metadata": {},
     "output_type": "execute_result"
    }
   ],
   "source": [
    "get_max_withdraw(indexs)"
   ]
  },
  {
   "cell_type": "code",
   "execution_count": 51,
   "metadata": {},
   "outputs": [
    {
     "data": {
      "text/plain": [
       "numpy.float64"
      ]
     },
     "execution_count": 51,
     "metadata": {},
     "output_type": "execute_result"
    }
   ],
   "source": [
    "type(v[-1])"
   ]
  },
  {
   "cell_type": "code",
   "execution_count": 6,
   "metadata": {},
   "outputs": [],
   "source": [
    "url='https://www.jisilu.cn/data/cbnew/cb_index/'\n",
    "df = pd.read_html(url,header=0)"
   ]
  },
  {
   "cell_type": "code",
   "execution_count": 11,
   "metadata": {},
   "outputs": [
    {
     "data": {
      "text/html": [
       "<div>\n",
       "<style scoped>\n",
       "    .dataframe tbody tr th:only-of-type {\n",
       "        vertical-align: middle;\n",
       "    }\n",
       "\n",
       "    .dataframe tbody tr th {\n",
       "        vertical-align: top;\n",
       "    }\n",
       "\n",
       "    .dataframe thead th {\n",
       "        text-align: right;\n",
       "    }\n",
       "</style>\n",
       "<table border=\"1\" class=\"dataframe\">\n",
       "  <thead>\n",
       "    <tr style=\"text-align: right;\">\n",
       "      <th></th>\n",
       "      <th>日期</th>\n",
       "      <th>指数</th>\n",
       "      <th>涨跌</th>\n",
       "      <th>涨幅</th>\n",
       "      <th>平均价格(元)</th>\n",
       "      <th>中位数价格(元)</th>\n",
       "      <th>平均双低</th>\n",
       "      <th>平均溢价率</th>\n",
       "      <th>平均收益率</th>\n",
       "      <th>成交额(亿元)</th>\n",
       "      <th>剩余规模(亿元)</th>\n",
       "      <th>换手率</th>\n",
       "      <th>数量</th>\n",
       "      <th>&lt;90</th>\n",
       "      <th>90-100</th>\n",
       "      <th>100-110</th>\n",
       "      <th>110-120</th>\n",
       "      <th>120-130</th>\n",
       "      <th>≥130</th>\n",
       "    </tr>\n",
       "  </thead>\n",
       "  <tbody>\n",
       "    <tr>\n",
       "      <th>0</th>\n",
       "      <td>数据范围：  全部  一月  半年  一年</td>\n",
       "      <td>NaN</td>\n",
       "      <td>NaN</td>\n",
       "      <td>NaN</td>\n",
       "      <td>NaN</td>\n",
       "      <td>NaN</td>\n",
       "      <td>NaN</td>\n",
       "      <td>NaN</td>\n",
       "      <td>NaN</td>\n",
       "      <td>NaN</td>\n",
       "      <td>NaN</td>\n",
       "      <td>NaN</td>\n",
       "      <td>NaN</td>\n",
       "      <td>NaN</td>\n",
       "      <td>NaN</td>\n",
       "      <td>NaN</td>\n",
       "      <td>NaN</td>\n",
       "      <td>NaN</td>\n",
       "      <td>NaN</td>\n",
       "    </tr>\n",
       "    <tr>\n",
       "      <th>1</th>\n",
       "      <td>编制规则说明  1、等权纳入全部上市交易的转债为成份； 2、2017-12-29日为基准日，...</td>\n",
       "      <td>NaN</td>\n",
       "      <td>NaN</td>\n",
       "      <td>NaN</td>\n",
       "      <td>NaN</td>\n",
       "      <td>NaN</td>\n",
       "      <td>NaN</td>\n",
       "      <td>NaN</td>\n",
       "      <td>NaN</td>\n",
       "      <td>NaN</td>\n",
       "      <td>NaN</td>\n",
       "      <td>NaN</td>\n",
       "      <td>NaN</td>\n",
       "      <td>NaN</td>\n",
       "      <td>NaN</td>\n",
       "      <td>NaN</td>\n",
       "      <td>NaN</td>\n",
       "      <td>NaN</td>\n",
       "      <td>NaN</td>\n",
       "    </tr>\n",
       "    <tr>\n",
       "      <th>2</th>\n",
       "      <td>NaN</td>\n",
       "      <td>NaN</td>\n",
       "      <td>NaN</td>\n",
       "      <td>NaN</td>\n",
       "      <td>NaN</td>\n",
       "      <td>NaN</td>\n",
       "      <td>NaN</td>\n",
       "      <td>NaN</td>\n",
       "      <td>NaN</td>\n",
       "      <td>NaN</td>\n",
       "      <td>NaN</td>\n",
       "      <td>NaN</td>\n",
       "      <td>NaN</td>\n",
       "      <td>NaN</td>\n",
       "      <td>NaN</td>\n",
       "      <td>NaN</td>\n",
       "      <td>NaN</td>\n",
       "      <td>NaN</td>\n",
       "      <td>NaN</td>\n",
       "    </tr>\n",
       "    <tr>\n",
       "      <th>3</th>\n",
       "      <td>指数历史  日期  指数  涨跌  涨幅  平均价格(元)  中位数价格(元)  平均双低 ...</td>\n",
       "      <td>NaN</td>\n",
       "      <td>NaN</td>\n",
       "      <td>NaN</td>\n",
       "      <td>NaN</td>\n",
       "      <td>NaN</td>\n",
       "      <td>NaN</td>\n",
       "      <td>NaN</td>\n",
       "      <td>NaN</td>\n",
       "      <td>NaN</td>\n",
       "      <td>NaN</td>\n",
       "      <td>NaN</td>\n",
       "      <td>NaN</td>\n",
       "      <td>NaN</td>\n",
       "      <td>NaN</td>\n",
       "      <td>NaN</td>\n",
       "      <td>NaN</td>\n",
       "      <td>NaN</td>\n",
       "      <td>NaN</td>\n",
       "    </tr>\n",
       "  </tbody>\n",
       "</table>\n",
       "</div>"
      ],
      "text/plain": [
       "                                                  日期  指数  涨跌  涨幅  平均价格(元)  \\\n",
       "0                              数据范围：  全部  一月  半年  一年 NaN NaN NaN      NaN   \n",
       "1  编制规则说明  1、等权纳入全部上市交易的转债为成份； 2、2017-12-29日为基准日，... NaN NaN NaN      NaN   \n",
       "2                                                NaN NaN NaN NaN      NaN   \n",
       "3  指数历史  日期  指数  涨跌  涨幅  平均价格(元)  中位数价格(元)  平均双低 ... NaN NaN NaN      NaN   \n",
       "\n",
       "   中位数价格(元)  平均双低  平均溢价率  平均收益率  成交额(亿元)  剩余规模(亿元)  换手率  数量  <90  90-100  \\\n",
       "0       NaN   NaN    NaN    NaN      NaN       NaN  NaN NaN  NaN     NaN   \n",
       "1       NaN   NaN    NaN    NaN      NaN       NaN  NaN NaN  NaN     NaN   \n",
       "2       NaN   NaN    NaN    NaN      NaN       NaN  NaN NaN  NaN     NaN   \n",
       "3       NaN   NaN    NaN    NaN      NaN       NaN  NaN NaN  NaN     NaN   \n",
       "\n",
       "   100-110  110-120  120-130  ≥130  \n",
       "0      NaN      NaN      NaN   NaN  \n",
       "1      NaN      NaN      NaN   NaN  \n",
       "2      NaN      NaN      NaN   NaN  \n",
       "3      NaN      NaN      NaN   NaN  "
      ]
     },
     "execution_count": 11,
     "metadata": {},
     "output_type": "execute_result"
    }
   ],
   "source": [
    "df[0]"
   ]
  },
  {
   "cell_type": "code",
   "execution_count": 33,
   "metadata": {},
   "outputs": [
    {
     "name": "stdout",
     "output_type": "stream",
     "text": [
      "-0.12013742567571795\n"
     ]
    }
   ],
   "source": [
    "max_draw_down =0\n",
    "returns=indexs\n",
    "temp_max_value=0 \n",
    "for i in range(1, len(returns)):\n",
    "\n",
    "    temp_max_value= max(temp_max_value, returns[i-1])\n",
    "\n",
    "    max_draw_down= min(max_draw_down, returns[i]/temp_max_value-1)\n",
    "    \n",
    "print(str(max_draw_down))"
   ]
  },
  {
   "cell_type": "code",
   "execution_count": 35,
   "metadata": {},
   "outputs": [],
   "source": [
    "\n",
    "rollMax = df['index'].cummax()\n",
    "drawDown = df['index']/rollMax - 1.0\n",
    "maxDrawDown = drawDown.cummin() "
   ]
  },
  {
   "cell_type": "code",
   "execution_count": 36,
   "metadata": {},
   "outputs": [
    {
     "data": {
      "text/plain": [
       "date\n",
       "2022-01-20    0.000000\n",
       "2022-01-19    0.000000\n",
       "2022-01-18    0.000000\n",
       "2022-01-17    0.000000\n",
       "2022-01-14   -0.011487\n",
       "                ...   \n",
       "2018-01-05   -0.551413\n",
       "2018-01-04   -0.551413\n",
       "2018-01-03   -0.551413\n",
       "2018-01-02   -0.551413\n",
       "2017-12-29   -0.551413\n",
       "Name: index, Length: 987, dtype: float64"
      ]
     },
     "execution_count": 36,
     "metadata": {},
     "output_type": "execute_result"
    }
   ],
   "source": [
    "maxDrawDown"
   ]
  },
  {
   "cell_type": "code",
   "execution_count": 37,
   "metadata": {},
   "outputs": [],
   "source": [
    "import numpy as np\n",
    "def MaxDrawdown(return_list):\n",
    "    '''最大回撤率'''\n",
    "    '''\n",
    "    return_list：是每日资金的变化曲线\n",
    "    np.maximum.accumulate(return_list)：找到return_list中的累计最大值，例如：\n",
    "    d = np.array([2, 0, 3, -4, -2, 7, 9])\n",
    "\tc = np.maximum.accumulate(d)\n",
    "\t#c = array([2, 2, 3, 3, 3, 7, 9])\n",
    "\ti：为最大回撤截止的时间\n",
    "\tj：为最大回撤开始的时间\n",
    "\tdrawdown_max：最大回撤\n",
    "\tdrawdown_rate：最大回撤对应的回撤率\n",
    "\tdrawdown_tian：回撤持续天数\n",
    "    '''\n",
    "    i = np.argmax((np.maximum.accumulate(return_list) - return_list))\n",
    "    if i == 0:\n",
    "        return 0\n",
    "    j = np.argmax(return_list[:i])  # 开始位置\n",
    "    drawdown_max = return_list[j] - return_list[i]\n",
    "    drawdown_rate = (return_list[j] - return_list[i]) / return_list[j]\n",
    "    drawdown_tian = i - j\n",
    "    \n",
    "    return drawdown_rate, drawdown_max, drawdown_tian, j, i\n"
   ]
  },
  {
   "cell_type": "code",
   "execution_count": 78,
   "metadata": {},
   "outputs": [
    {
     "data": {
      "text/plain": [
       "(0.5514133736128781, 1152.1220000000003, 782, 12, 794)"
      ]
     },
     "execution_count": 78,
     "metadata": {},
     "output_type": "execute_result"
    }
   ],
   "source": [
    "MaxDrawdown(indexs)"
   ]
  },
  {
   "cell_type": "code",
   "execution_count": 83,
   "metadata": {},
   "outputs": [
    {
     "data": {
      "text/plain": [
       "index    1430.23\n",
       "Name: 2021-02-04 00:00:00, dtype: float64"
      ]
     },
     "execution_count": 83,
     "metadata": {},
     "output_type": "execute_result"
    }
   ],
   "source": [
    "df.iloc[len(df)-755]"
   ]
  },
  {
   "cell_type": "code",
   "execution_count": 63,
   "metadata": {},
   "outputs": [],
   "source": [
    "import random\n",
    "sum =1\n",
    "result=[]\n",
    "for i in range(500):\n",
    "    t = random.random()-0.5\n",
    "    sum+=t\n",
    "    result.append(sum)\n"
   ]
  },
  {
   "cell_type": "code",
   "execution_count": 66,
   "metadata": {},
   "outputs": [
    {
     "name": "stdout",
     "output_type": "stream",
     "text": [
      "253\n"
     ]
    },
    {
     "data": {
      "text/plain": [
       "339.8282155365848"
      ]
     },
     "execution_count": 66,
     "metadata": {},
     "output_type": "execute_result"
    }
   ],
   "source": [
    "get_max_withdraw(result)"
   ]
  },
  {
   "cell_type": "code",
   "execution_count": 67,
   "metadata": {},
   "outputs": [],
   "source": [
    "import matplotlib.pyplot as plt\n",
    "%matplotlib inline"
   ]
  },
  {
   "cell_type": "code",
   "execution_count": 84,
   "metadata": {},
   "outputs": [
    {
     "data": {
      "text/plain": [
       "[<matplotlib.lines.Line2D at 0x7f6be9da3a60>]"
      ]
     },
     "execution_count": 84,
     "metadata": {},
     "output_type": "execute_result"
    },
    {
     "data": {
      "image/png": "[encoded data removed]",
      "text/plain": [
       "<Figure size 432x288 with 1 Axes>"
      ]
     },
     "metadata": {
      "needs_background": "light"
     },
     "output_type": "display_data"
    }
   ],
   "source": [
    "plt.plot(list(range(len(indexs))),indexs)"
   ]
  },
  {
   "cell_type": "code",
   "execution_count": 70,
   "metadata": {},
   "outputs": [
    {
     "data": {
      "text/plain": [
       "(3.398282155365848, 7.574599479897417, 234, 19, 253)"
      ]
     },
     "execution_count": 70,
     "metadata": {},
     "output_type": "execute_result"
    }
   ],
   "source": [
    "MaxDrawdown(result)"
   ]
  },
  {
   "cell_type": "code",
   "execution_count": 62,
   "metadata": {},
   "outputs": [
    {
     "data": {
      "text/plain": [
       "[1.7257440455151247,\n",
       " 2.4957952419555984,\n",
       " 3.119034021593068,\n",
       " 3.834333917499319,\n",
       " 4.666385017051712,\n",
       " 5.466604847079309,\n",
       " 6.175389368575474,\n",
       " 6.442932844248702,\n",
       " 6.901023813433907,\n",
       " 6.918983046960974,\n",
       " 7.169387557864371,\n",
       " 8.137236913186626,\n",
       " 8.639890357359956,\n",
       " 9.334601326126302,\n",
       " 9.685833749905965,\n",
       " 10.324801836650058,\n",
       " 10.921950202340385,\n",
       " 11.267587374381275,\n",
       " 11.809836275986706,\n",
       " 12.038576414157426,\n",
       " 12.57617699964692,\n",
       " 12.603810273008868,\n",
       " 12.884075621573583,\n",
       " 13.703821513185682,\n",
       " 14.669109397349416,\n",
       " 15.420358126247516,\n",
       " 15.447965968359515,\n",
       " 16.33773142457511,\n",
       " 16.826951294404925,\n",
       " 17.552328377670385,\n",
       " 18.17384247201084,\n",
       " 18.767753730220214,\n",
       " 18.813726623229552,\n",
       " 19.744389685091207,\n",
       " 19.777600679150694,\n",
       " 20.710846696594853,\n",
       " 21.13730102281127,\n",
       " 21.411130795234214,\n",
       " 21.56258546809529,\n",
       " 21.803780944499064,\n",
       " 22.334208670661752,\n",
       " 22.97252750651996,\n",
       " 23.017954379673615,\n",
       " 23.477549682704804,\n",
       " 23.94710252307766,\n",
       " 24.113604413730275,\n",
       " 25.103717857994763,\n",
       " 25.755245784559705,\n",
       " 25.828938441915426,\n",
       " 25.930192878610516,\n",
       " 26.383798987909472,\n",
       " 27.182622223199214,\n",
       " 28.14725457403555,\n",
       " 28.363258063398376,\n",
       " 29.076735965943058,\n",
       " 29.583030859602143,\n",
       " 29.876737083485054,\n",
       " 30.559238245910247,\n",
       " 31.2792529216371,\n",
       " 32.02640739979612,\n",
       " 32.22635449662113,\n",
       " 32.87977525364217,\n",
       " 33.397761655118,\n",
       " 33.44471806248962,\n",
       " 33.80291329254297,\n",
       " 34.009984031716975,\n",
       " 34.91996094557267,\n",
       " 34.97629178655973,\n",
       " 35.639127260040745,\n",
       " 36.45385021168045,\n",
       " 36.98472293412619,\n",
       " 37.23540951547281,\n",
       " 38.03906304503792,\n",
       " 38.05866425797218,\n",
       " 38.5771326371743,\n",
       " 39.1333196148441,\n",
       " 39.7536295309245,\n",
       " 39.957037749755,\n",
       " 40.84238013466918,\n",
       " 41.555692725227516,\n",
       " 41.67355992025556,\n",
       " 41.808907609675785,\n",
       " 42.72130700743552,\n",
       " 43.568455832961725,\n",
       " 43.889268001268626,\n",
       " 44.00943090309667,\n",
       " 44.77097387437709,\n",
       " 45.030611714452206,\n",
       " 45.073529050616685,\n",
       " 45.515362238145016,\n",
       " 46.42747933790203,\n",
       " 46.43098583207198,\n",
       " 47.02522631577802,\n",
       " 47.718621281597414,\n",
       " 48.26520529130714,\n",
       " 49.04132053198495,\n",
       " 49.17282939183007,\n",
       " 50.03835112227444,\n",
       " 50.90541719346092,\n",
       " 51.093410654942936,\n",
       " 51.6447276637399,\n",
       " 52.57673409457424,\n",
       " 52.7880851943527,\n",
       " 52.98508386127906,\n",
       " 53.85823541389192,\n",
       " 54.413826368313075,\n",
       " 54.636780006456,\n",
       " 55.51433059166106,\n",
       " 55.91953399258066,\n",
       " 55.97847479480175,\n",
       " 56.393918189426145,\n",
       " 57.10354671489808,\n",
       " 57.522004658060695,\n",
       " 57.948573203135126,\n",
       " 58.68136454637809,\n",
       " 58.75161786251848,\n",
       " 59.65914592406228,\n",
       " 59.800938999551974,\n",
       " 59.89713086759695,\n",
       " 60.85632833771388,\n",
       " 61.05534423730619,\n",
       " 61.12516586046221,\n",
       " 61.94268658336102,\n",
       " 62.71124213368862,\n",
       " 63.279342084875445,\n",
       " 63.44514469809503,\n",
       " 64.36361062400891,\n",
       " 64.64120927022151,\n",
       " 65.16215387442217,\n",
       " 65.70139702288755,\n",
       " 66.21345046910301,\n",
       " 66.85547700706873,\n",
       " 67.53456335527677,\n",
       " 67.69739707062881,\n",
       " 68.27859537302487,\n",
       " 68.69780861310424,\n",
       " 69.03407037687194,\n",
       " 69.92967240222876,\n",
       " 70.63738544376737,\n",
       " 71.45011563611345,\n",
       " 72.2665206436841,\n",
       " 72.65042584452428,\n",
       " 72.971870990872,\n",
       " 73.14023338345106,\n",
       " 74.12818668421696,\n",
       " 74.83577382573493,\n",
       " 75.61377640464545,\n",
       " 75.63189522647095,\n",
       " 75.90071000676777,\n",
       " 76.26849627187708,\n",
       " 77.06877217393851,\n",
       " 77.40383600960917,\n",
       " 78.38682117474774,\n",
       " 78.58812224370139,\n",
       " 79.40656403840222,\n",
       " 79.84103505003952,\n",
       " 80.72146973504229,\n",
       " 80.94541870944728,\n",
       " 81.05178505665204,\n",
       " 81.25263339353994,\n",
       " 82.07526546761953,\n",
       " 82.11847001486004,\n",
       " 82.8557855510852,\n",
       " 83.44547098944373,\n",
       " 83.9245994136474,\n",
       " 83.9451461173995,\n",
       " 84.81342312365754,\n",
       " 85.41563440073958,\n",
       " 85.58138661404746,\n",
       " 86.14643132100272,\n",
       " 86.1564904228268,\n",
       " 86.36406842544649,\n",
       " 86.55430526200969,\n",
       " 87.48753200181766,\n",
       " 87.98603944731643,\n",
       " 88.83454834371767,\n",
       " 89.14281515802037,\n",
       " 90.0082446195522,\n",
       " 90.24344164536662,\n",
       " 90.24922497308249,\n",
       " 90.58082764228446,\n",
       " 90.94926516119877,\n",
       " 91.37912641645124,\n",
       " 91.98660878994198,\n",
       " 92.24910062349608,\n",
       " 92.36793111916755,\n",
       " 93.03284741056007,\n",
       " 93.98501948699065,\n",
       " 94.54558583416144,\n",
       " 94.83549552421219,\n",
       " 95.45004685730684,\n",
       " 95.9498547130717,\n",
       " 96.52120007507737,\n",
       " 96.72579820981103,\n",
       " 97.40387994172474,\n",
       " 98.09081940852123,\n",
       " 98.87978292454727,\n",
       " 99.13375262852306,\n",
       " 99.24589607176797,\n",
       " 99.8668217023621,\n",
       " 100.42762650174383,\n",
       " 100.52578546468038,\n",
       " 101.1167209117242,\n",
       " 101.72652746529,\n",
       " 102.21032138468546,\n",
       " 103.20186097577258,\n",
       " 104.07375375573508,\n",
       " 104.79976584166836,\n",
       " 105.50885288871379,\n",
       " 105.76101986381681,\n",
       " 106.50807085450472,\n",
       " 106.8422295881621,\n",
       " 107.73105273706003,\n",
       " 108.03257803495423,\n",
       " 108.289743067063,\n",
       " 108.90634106647607,\n",
       " 109.79476403646589,\n",
       " 110.15919836615144,\n",
       " 110.58296494610126,\n",
       " 111.49892242885836,\n",
       " 112.48982654091424,\n",
       " 113.00816625392548,\n",
       " 113.98714524739964,\n",
       " 114.89369477412383,\n",
       " 115.32585795347595,\n",
       " 115.69302649718595,\n",
       " 115.83755368038578,\n",
       " 116.50679403696893,\n",
       " 116.8462756359685,\n",
       " 117.00463206616625,\n",
       " 117.13383969871933,\n",
       " 117.91020851639135,\n",
       " 118.06195330165609,\n",
       " 118.251392445174,\n",
       " 118.55093840916578,\n",
       " 119.34068954491583,\n",
       " 120.03444196784264,\n",
       " 120.70697454468824,\n",
       " 121.45156235996336,\n",
       " 122.2797711256783,\n",
       " 122.38610715566193,\n",
       " 122.86144070844969,\n",
       " 123.14634037390655,\n",
       " 123.30716763727838,\n",
       " 123.70049311104403,\n",
       " 123.97445273109929,\n",
       " 124.74955377704887,\n",
       " 125.21913949660114,\n",
       " 125.81170820430822,\n",
       " 126.8067322055393,\n",
       " 127.78361382056309,\n",
       " 128.6364570990305,\n",
       " 129.383051501688,\n",
       " 129.95029995071798,\n",
       " 130.83730611271702,\n",
       " 130.89305670412102,\n",
       " 131.834211267283,\n",
       " 131.84273280417162,\n",
       " 132.74975681958546,\n",
       " 132.9563944666596,\n",
       " 133.6024080326603,\n",
       " 133.75491884013738,\n",
       " 134.73278345332236,\n",
       " 134.75387635719608,\n",
       " 135.6873893662978,\n",
       " 136.29948647604186,\n",
       " 136.47869075205978,\n",
       " 136.4997496577686,\n",
       " 136.54004992121003,\n",
       " 136.84761697613106,\n",
       " 137.7570529277723,\n",
       " 138.53325950815213,\n",
       " 139.1424611081372,\n",
       " 139.64142424912234,\n",
       " 140.01590507776532,\n",
       " 140.14312027330803,\n",
       " 140.56949420077098,\n",
       " 141.19722034051134,\n",
       " 141.56157647387096,\n",
       " 141.91727180958583,\n",
       " 142.6440215713198,\n",
       " 142.65247437865565,\n",
       " 143.2217246074606,\n",
       " 143.68008509200115,\n",
       " 143.8802392025084,\n",
       " 144.3874399673387,\n",
       " 145.27180350522104,\n",
       " 145.57522427905323,\n",
       " 146.3141767353218,\n",
       " 146.39808504163585,\n",
       " 146.85395643220218,\n",
       " 147.45695240158227,\n",
       " 148.04131000516065,\n",
       " 148.296718252286,\n",
       " 148.7037831375061,\n",
       " 149.42676127794417,\n",
       " 149.64084835787128,\n",
       " 150.37119624062154,\n",
       " 151.26535244727557,\n",
       " 151.42894324178712,\n",
       " 151.98391381606007,\n",
       " 152.37758088881472,\n",
       " 153.03407341847924,\n",
       " 153.3589784115522,\n",
       " 153.73801072314316,\n",
       " 154.67562580214886,\n",
       " 155.36178762377443,\n",
       " 156.0637129736153,\n",
       " 156.0745391414246,\n",
       " 156.20084321886566,\n",
       " 156.3499842161688,\n",
       " 156.9460050549298,\n",
       " 157.13289483224352,\n",
       " 157.49688825893338,\n",
       " 157.90018508692688,\n",
       " 158.78537333629018,\n",
       " 159.58060640464663,\n",
       " 159.847131509909,\n",
       " 160.26729258056477,\n",
       " 161.09295501940412,\n",
       " 161.7554496752881,\n",
       " 162.43358877882872,\n",
       " 162.82528402911458,\n",
       " 163.70517190800484,\n",
       " 163.8595309160138,\n",
       " 164.5226301957251,\n",
       " 165.43268198375114,\n",
       " 166.17009423694392,\n",
       " 166.44158555959623,\n",
       " 167.01099589039168,\n",
       " 167.17603123172682,\n",
       " 167.64460729058632,\n",
       " 167.82521832622663,\n",
       " 168.09868322600062,\n",
       " 168.94532409850126,\n",
       " 168.97675150523526,\n",
       " 169.63765329748406,\n",
       " 170.5184128036905,\n",
       " 171.02633598958923,\n",
       " 171.2582278889827,\n",
       " 172.2006771767062,\n",
       " 173.1317901894657,\n",
       " 173.3128048352415,\n",
       " 174.1187320771607,\n",
       " 174.42495973352683,\n",
       " 174.79263026841784,\n",
       " 174.85055557188957,\n",
       " 175.71436541188595,\n",
       " 176.13183099772704,\n",
       " 177.06078769611355,\n",
       " 177.67242987743114,\n",
       " 177.70938692488133,\n",
       " 177.97059252520435,\n",
       " 178.19900496550775,\n",
       " 178.53719634913705,\n",
       " 179.30306866085266,\n",
       " 180.24627816739306,\n",
       " 181.0438501137445,\n",
       " 181.44671006311148,\n",
       " 182.2145662699128,\n",
       " 182.31298883856363,\n",
       " 182.4006093763977,\n",
       " 182.5866620384053,\n",
       " 183.03942572647284,\n",
       " 183.7663755464868,\n",
       " 184.66801785884454,\n",
       " 185.2158565035335,\n",
       " 185.5923026009347,\n",
       " 186.4015664928822,\n",
       " 186.53138537643446,\n",
       " 187.20803498961064,\n",
       " 187.84862389279365,\n",
       " 188.15532440452114,\n",
       " 188.59626700622078,\n",
       " 189.142909924876,\n",
       " 189.44020070694853,\n",
       " 189.48892373483562,\n",
       " 190.42378103947573,\n",
       " 190.8114985167322,\n",
       " 190.83020280650297,\n",
       " 191.31776149892016,\n",
       " 192.0175966481803,\n",
       " 192.16400773495877,\n",
       " 192.64853392764653,\n",
       " 192.70561882015897,\n",
       " 193.3250126524302,\n",
       " 193.5100055795171,\n",
       " 193.64734988123598,\n",
       " 194.35288433444504,\n",
       " 195.32169793348643,\n",
       " 195.8601644401655,\n",
       " 196.49066834018151,\n",
       " 196.67781180577805,\n",
       " 197.02873693798043,\n",
       " 197.73691845043547,\n",
       " 198.56434727736658,\n",
       " 199.5634202044754,\n",
       " 199.92573015868092,\n",
       " 200.42215976275108,\n",
       " 200.60805406025423,\n",
       " 201.07333384989494,\n",
       " 201.3113364536446,\n",
       " 201.49951355717013,\n",
       " 201.8179509314124,\n",
       " 202.52855146439944,\n",
       " 202.59719814654432,\n",
       " 203.05675064794897,\n",
       " 203.74463722213656,\n",
       " 204.21457212707384,\n",
       " 204.7731527272306,\n",
       " 205.1581452565778,\n",
       " 205.75369891105748,\n",
       " 205.87940866363107,\n",
       " 206.13569047329386,\n",
       " 206.4672955063986,\n",
       " 206.55821629261246,\n",
       " 206.93016233547002,\n",
       " 207.02263192698942,\n",
       " 207.81380385994277,\n",
       " 208.6074433921576,\n",
       " 208.85566489512465,\n",
       " 208.8996071146261,\n",
       " 209.4743238599735,\n",
       " 209.73575767104126,\n",
       " 210.17797232084584,\n",
       " 210.75292837637306,\n",
       " 211.06185733231118,\n",
       " 211.38970393700552,\n",
       " 212.15161351799202,\n",
       " 212.2380014469214,\n",
       " 213.1753699247273,\n",
       " 213.57605864625228,\n",
       " 213.85062904880516,\n",
       " 214.69351627962166,\n",
       " 214.93010853308004,\n",
       " 215.29313580836964,\n",
       " 216.24711372679747,\n",
       " 216.62509838023666,\n",
       " 217.1085195014602,\n",
       " 217.86034377736772,\n",
       " 218.5191578878617,\n",
       " 218.56518719943094,\n",
       " 219.3553858557003,\n",
       " 220.0848879486127,\n",
       " 220.82099388994885,\n",
       " 221.2470068684752,\n",
       " 221.4457296042494,\n",
       " 222.30967309486527,\n",
       " 223.11971914130174,\n",
       " 223.77063896843003,\n",
       " 224.1291561907139,\n",
       " 224.20060113844517,\n",
       " 224.6083596930324,\n",
       " 224.97134891015259,\n",
       " 225.51050780414266,\n",
       " 226.37868324688603,\n",
       " 226.60001297420143,\n",
       " 226.90397671153207,\n",
       " 227.2853025913151,\n",
       " 227.7620809445044,\n",
       " 228.011172564192,\n",
       " 228.2592057348079,\n",
       " 228.78307211071115,\n",
       " 229.76191090928887,\n",
       " 230.70104832257,\n",
       " 230.82683128230593,\n",
       " 230.89325368091116,\n",
       " 231.2458436785807,\n",
       " 231.68128144741834,\n",
       " 232.31144417398195,\n",
       " 233.27787123727373,\n",
       " 233.56962354524563,\n",
       " 234.53151474399854,\n",
       " 235.47856587194784,\n",
       " 236.40966891496458,\n",
       " 237.16211773962365,\n",
       " 237.8848401561468,\n",
       " 238.2862749839606,\n",
       " 238.34998765800594,\n",
       " 238.38332555273104,\n",
       " 238.73723454176314,\n",
       " 239.2467834787181,\n",
       " 239.69951260414302,\n",
       " 240.3289113829074,\n",
       " 240.33695776929932,\n",
       " 240.80497045501653,\n",
       " 241.61996311115644,\n",
       " 241.96604423149626,\n",
       " 242.8165747164336,\n",
       " 243.45667271288855,\n",
       " 244.2268806316687,\n",
       " 245.15274013932628,\n",
       " 245.39811456232155,\n",
       " 246.3927045188415,\n",
       " 246.64653167955643,\n",
       " 247.17734403869375,\n",
       " 248.14068679675879,\n",
       " 249.08611557900417,\n",
       " 249.85207296215225,\n",
       " 250.32488321459164]"
      ]
     },
     "execution_count": 62,
     "metadata": {},
     "output_type": "execute_result"
    }
   ],
   "source": [
    "result"
   ]
  },
  {
   "cell_type": "code",
   "execution_count": null,
   "metadata": {},
   "outputs": [],
   "source": []
  }
 ],
 "metadata": {
  "interpreter": {
   "hash": "9aa71a1095d6a6dd446f2b486146a60837bd82849c2fc6b4bf786ffe99bd2ba1"
  },
  "kernelspec": {
   "display_name": "Python 3.9.5 64-bit ('3.9': conda)",
   "language": "python",
   "name": "python3"
  },
  "language_info": {
   "codemirror_mode": {
    "name": "ipython",
    "version": 3
   },
   "file_extension": ".py",
   "mimetype": "text/x-python",
   "name": "python",
   "nbconvert_exporter": "python",
   "pygments_lexer": "ipython3",
   "version": "3.9.5"
  },
  "orig_nbformat": 4
 },
 "nbformat": 4,
 "nbformat_minor": 2
}
