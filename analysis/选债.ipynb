{
 "cells": [
  {
   "cell_type": "code",
   "execution_count": null,
   "metadata": {},
   "outputs": [],
   "source": [
    "from setting import get_engine\n",
    "from setting import get_mysql_conn\n",
    "import pandas as pd\n",
    "import numpy as np"
   ]
  },
  {
   "cell_type": "code",
   "execution_count": null,
   "metadata": {},
   "outputs": [],
   "source": [
    "import datetime\n",
    "from collections import OrderedDict\n",
    "from pyecharts import options as opts\n",
    "import matplotlib.pyplot as plt\n",
    "%matplotlib inline"
   ]
  },
  {
   "cell_type": "code",
   "execution_count": null,
   "metadata": {},
   "outputs": [],
   "source": [
    "# 找出可转债价格低于100但是我还没有买的\n",
    "def find_low_not_buy(position_table):\n",
    "    con1=get_engine('db_position')\n",
    "\n",
    "    df1 = pd.read_sql(position_table,con=con1)\n",
    "    con2=get_engine('db_stock')\n",
    "    df2 = pd.read_sql('tb_bond_jisilu',con=con2)\n",
    "    df_low = df2[df2['可转债价格']<100]\n",
    "    my_code = list(df1['证券代码'].values)\n",
    "    print('低于100但是我还没有买的')\n",
    "    for idx,row in df_low.iterrows():\n",
    "        if row['可转债代码'] not in my_code:\n",
    "            \n",
    "            print(row['可转债名称'],row['可转债价格'])\n",
    "            \n",
    "\n",
    "position_table='tb_position_2019-06-30'\n",
    "find_low_not_buy(position_table)"
   ]
  },
  {
   "cell_type": "code",
   "execution_count": null,
   "metadata": {},
   "outputs": [],
   "source": [
    "# 当前可转债的中位数\n",
    "def calculation(table_name='tb_bond_jisilu'):\n",
    "    con2=get_engine('db_stock')\n",
    "    df2 = pd.read_sql(table_name,con=con2)\n",
    "    m=df2['可转债价格'].median()\n",
    "    m=round(m,2)\n",
    "    print('可转债价格中位数：{}'.format(m))\n",
    "    \n",
    "    mean=df2['可转债价格'].mean()\n",
    "    \n",
    "    mean=round(mean,2)\n",
    "    print('可转债价格平均数：{}'.format(mean))\n",
    "    \n",
    "    std=df2['可转债价格'].std()\n",
    "    \n",
    "    std=round(std,2)\n",
    "    print('可转债价格方差：{}'.format(std))\n",
    "    \n",
    "calculation()"
   ]
  },
  {
   "cell_type": "code",
   "execution_count": null,
   "metadata": {},
   "outputs": [],
   "source": [
    "# 测试一下那个方差\n",
    "x=[1,2,3,4,5,6,7,8,9,10]\n",
    "X = np.array(x)"
   ]
  },
  {
   "cell_type": "code",
   "execution_count": null,
   "metadata": {},
   "outputs": [],
   "source": [
    "X.mean()"
   ]
  },
  {
   "cell_type": "code",
   "execution_count": null,
   "metadata": {},
   "outputs": [],
   "source": [
    "X.std() # 标准差"
   ]
  },
  {
   "cell_type": "code",
   "execution_count": null,
   "metadata": {},
   "outputs": [],
   "source": [
    "X.var() # 方差"
   ]
  },
  {
   "cell_type": "code",
   "execution_count": null,
   "metadata": {},
   "outputs": [],
   "source": [
    "def my_fangca(X):\n",
    "    l=len(X)\n",
    "    mean=X.mean()\n",
    "    sum_ = 0\n",
    "    sum_std=0\n",
    "    for i in X:\n",
    "        sum_+=(i-mean)**2\n",
    "    var_=sum_/l\n",
    "    std_=(sum_/(l))**0.5\n",
    "    return var_,std_"
   ]
  },
  {
   "cell_type": "code",
   "execution_count": null,
   "metadata": {},
   "outputs": [],
   "source": [
    "result = my_fangca(X)"
   ]
  },
  {
   "cell_type": "code",
   "execution_count": null,
   "metadata": {},
   "outputs": [],
   "source": [
    "result"
   ]
  },
  {
   "cell_type": "code",
   "execution_count": null,
   "metadata": {
    "scrolled": false
   },
   "outputs": [],
   "source": [
    "# tb_jsl_2019-06-26\n",
    "d='2019-06-26'\n",
    "con = get_engine('db_jisilu',local='local')\n",
    "df = pd.read_sql('tb_jsl_{}'.format(d),con=con)\n",
    "df=df[df['可转债价格']>0] # 去除停牌\n",
    "\n",
    "ret = df['可转债价格'].std()\n",
    "\n",
    "# def get_daily_std(df=None):\n",
    "#     print()\n",
    "    \n",
    "# get_daily_std(df)"
   ]
  },
  {
   "cell_type": "code",
   "execution_count": null,
   "metadata": {},
   "outputs": [],
   "source": [
    "ret"
   ]
  },
  {
   "cell_type": "code",
   "execution_count": null,
   "metadata": {},
   "outputs": [],
   "source": [
    "df"
   ]
  },
  {
   "cell_type": "code",
   "execution_count": null,
   "metadata": {},
   "outputs": [],
   "source": [
    "import math"
   ]
  },
  {
   "cell_type": "code",
   "execution_count": null,
   "metadata": {},
   "outputs": [],
   "source": []
  },
  {
   "cell_type": "code",
   "execution_count": null,
   "metadata": {},
   "outputs": [],
   "source": [
    "# 02-25 start\n",
    "start = datetime.datetime(2019,2,25)\n",
    "current = start\n",
    "result=OrderedDict()\n",
    "while current<datetime.datetime.now():\n",
    "    d=current.strftime('%Y-%m-%d')\n",
    "#     print(d)\n",
    "#     d=d.replace('2019-','')\n",
    "    current=current+datetime.timedelta(days=1)\n",
    "    try:\n",
    "        df = pd.read_sql('tb_jsl_{}'.format(d),con=con)\n",
    "    except Exception as e:\n",
    "        print(e)\n",
    "        continue\n",
    "    else:\n",
    "        df=df[df['可转债价格']>0] # 去除停牌\n",
    "        ret = round(df['可转债价格'].std(),1)\n",
    "        d=d=d.replace('2019-','')\n",
    "        \n",
    "        result[d]=ret\n",
    "    "
   ]
  },
  {
   "cell_type": "code",
   "execution_count": null,
   "metadata": {
    "scrolled": true
   },
   "outputs": [],
   "source": [
    "result"
   ]
  },
  {
   "cell_type": "code",
   "execution_count": null,
   "metadata": {},
   "outputs": [],
   "source": [
    "from pyecharts.charts import Line,Bar"
   ]
  },
  {
   "cell_type": "code",
   "execution_count": null,
   "metadata": {},
   "outputs": [],
   "source": [
    "line = (Line().add_xaxis(list(result.keys())).add_yaxis('波动率',list(result.values())))"
   ]
  },
  {
   "cell_type": "code",
   "execution_count": null,
   "metadata": {},
   "outputs": [],
   "source": [
    "line.render()"
   ]
  },
  {
   "cell_type": "code",
   "execution_count": null,
   "metadata": {
    "scrolled": false
   },
   "outputs": [],
   "source": [
    "bar = (Bar()\n",
    "       .add_xaxis(list(result.keys()))\n",
    "       .add_yaxis('波动率',list(result.values()),category_gap='50%',color='green',label_opts=opts.LabelOpts(is_show=False))\n",
    "       .set_global_opts(\n",
    "            title_opts=opts.TitleOpts(title=\"Bar-基本示例\", subtitle=\"我是副标题\"),\n",
    "            toolbox_opts=opts.ToolboxOpts(),\n",
    "            legend_opts=opts.LegendOpts(is_show=False),\n",
    "           zhua\n",
    "           visualmap_opts=opts.VisualMapOpts(\n",
    "                type_=\"color\", max_=20, min_=15\n",
    "            ),\n",
    "       )\n",
    "       \n",
    "      )\n",
    "bar.render_notebook()"
   ]
  },
  {
   "cell_type": "code",
   "execution_count": null,
   "metadata": {
    "scrolled": false
   },
   "outputs": [],
   "source": [
    "plt.figure(figsize=(20,15))\n",
    "x=list(result.keys())\n",
    "y=list(result.values())\n",
    "plt.bar(x,y)\n",
    "plt.ylim([min(y)-1,max(y)+1])\n",
    "plt.xticks(x[::5])\n",
    "plt.show()"
   ]
  },
  {
   "cell_type": "code",
   "execution_count": null,
   "metadata": {},
   "outputs": [],
   "source": [
    "plt.figure(figsize=(20,15))\n",
    "x=list(result.keys())\n",
    "y=list(result.values())\n",
    "plt.plot(x,y)\n",
    "plt.ylim([min(y)-1,max(y)+1])\n",
    "plt.xticks(x[::5])\n",
    "plt.show()"
   ]
  },
  {
   "cell_type": "code",
   "execution_count": null,
   "metadata": {},
   "outputs": [],
   "source": [
    "line = (Line().add_xaxis(list(result.keys()))\n",
    "        .add_yaxis('波动率',list(result.values()))\n",
    "        .set_global_opts(\n",
    "            title_opts=opts.TitleOpts(title=\"可转债标准差\"),\n",
    "            toolbox_opts=opts.ToolboxOpts(),\n",
    "            legend_opts=opts.LegendOpts(is_show=False),\n",
    "           visualmap_opts=opts.VisualMapOpts(\n",
    "                type_=\"color\", max_=20, min_=15\n",
    "            ))\n",
    "      )\n",
    "line.render_notebook()"
   ]
  }
 ],
 "metadata": {
  "kernelspec": {
   "display_name": "Python 3",
   "language": "python",
   "name": "python3"
  },
  "language_info": {
   "codemirror_mode": {
    "name": "ipython",
    "version": 3
   },
   "file_extension": ".py",
   "mimetype": "text/x-python",
   "name": "python",
   "nbconvert_exporter": "python",
   "pygments_lexer": "ipython3",
   "version": "3.6.5"
  }
 },
 "nbformat": 4,
 "nbformat_minor": 2
}
