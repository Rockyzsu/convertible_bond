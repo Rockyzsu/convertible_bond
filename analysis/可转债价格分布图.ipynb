{
 "cells": [
  {
   "cell_type": "code",
   "execution_count": null,
   "metadata": {},
   "outputs": [],
   "source": [
    "import sys\n",
    "sys.path.append('..')\n",
    "from configure.settings import DBSelector\n",
    "import pandas as pd\n",
    "import pymongo\n",
    "from pyecharts.charts import Bar\n"
   ]
  },
  {
   "cell_type": "code",
   "execution_count": null,
   "metadata": {
    "scrolled": true
   },
   "outputs": [],
   "source": [
    "DB=DBSelector()"
   ]
  },
  {
   "cell_type": "code",
   "execution_count": null,
   "metadata": {},
   "outputs": [],
   "source": [
    "engine = DB.get_engine('db_stock','qq')\n",
    "# 堆叠图\n",
    "\n",
    "df = pd.read_sql('tb_bond_jisilu',con=engine)"
   ]
  },
  {
   "cell_type": "code",
   "execution_count": null,
   "metadata": {
    "scrolled": true
   },
   "outputs": [],
   "source": [
    "\n",
    "result ={}\n",
    "for name,grades in df.groupby('评级'):\n",
    "#     print(name,grades[['可转债名称','可转债价格']])\n",
    "    for each in grades['可转债价格']:\n",
    "        result.setdefault(name,[])\n",
    "        result[name].append(each)\n",
    "        \n",
    "        \n",
    "# 确定价格的范围\n",
    "\n",
    "value = [str(i) for i in range(85,140)]\n",
    "ret = [0]*len(value)\n",
    "ret1 = dict(zip(value,ret))\n",
    "\n",
    "ret_A_add = ret1.copy()\n",
    "for item in result['A+']:\n",
    "    for k in ret1:\n",
    "        if float(k)+0.5>item and float(k)-0.5<=item:\n",
    "            ret_A_add[k]+=1\n",
    "            \n",
    "retAA_ = ret1.copy()\n",
    "for item in result['AA-']:\n",
    "    for k in ret1:\n",
    "        if float(k)+0.5>item and float(k)-0.5<=item:\n",
    "            retAA_[k]+=1\n",
    "\n",
    "retAA = ret1.copy()\n",
    "for item in result['AA']:\n",
    "    for k in ret1:\n",
    "        if float(k)+0.5>item and float(k)-0.5<=item:\n",
    "            retAA[k]+=1\n",
    "            \n",
    "retAA_add = ret1.copy()\n",
    "for item in result['AA+']:\n",
    "    for k in ret1:\n",
    "        if float(k)+0.5>item and float(k)-0.5<=item:\n",
    "            retAA_add[k]+=1\n",
    "            \n",
    "retAAA = ret1.copy()\n",
    "for item in result['AAA']:\n",
    "    for k in ret1:\n",
    "        if float(k)+0.5>item and float(k)-0.5<=item:\n",
    "            retAAA[k]+=1\n",
    "\n",
    "bar = Bar('可转债价格分布')\n",
    "bar.add('A+',value,list(ret_A_add.values()),is_stack=True,yaxis_max=11)\n",
    "bar.add('AA-',value,list(retAA_.values()),is_stack=True,yaxis_max=11)\n",
    "bar.add('AA',value,list(retAA.values()),is_stack=True,yaxis_max=11)\n",
    "bar.add('AA+',value,list(retAA_add.values()),is_stack=True,yaxis_max=11)\n",
    "bar.add('AAA',value,list(retAAA.values()),is_stack=True,yaxis_max=11)\n"
   ]
  },
  {
   "cell_type": "code",
   "execution_count": null,
   "metadata": {},
   "outputs": [],
   "source": [
    "from  setting import get_mysql_conn,get_engine\n",
    "import pandas as pd\n",
    "import pymongo\n",
    "from pyecharts import Geo,Style,Map\n",
    "engine = get_engine('db_stock',local='local')\n",
    "# 堆叠图\n",
    "from pyecharts import Bar\n",
    "df = pd.read_sql('tb_bond_jisilu',con=engine)\n",
    "\n",
    "result ={}\n",
    "for name,grades in df.groupby('评级'):\n",
    "#     print(name,grades[['可转债名称','可转债价格']])\n",
    "    for each in grades['可转债价格']:\n",
    "        result.setdefault(name,[])\n",
    "        result[name].append(each)\n",
    "        \n",
    "        \n",
    "# 确定价格的范围\n",
    "\n",
    "value = [str(i) for i in range(85,140)]\n",
    "ret = [0]*len(value)\n",
    "ret1 = dict(zip(value,ret))\n",
    "\n",
    "ret_A_add = ret1.copy()\n",
    "for item in result['A+']:\n",
    "    for k in ret1:\n",
    "        if float(k)+0.5>item and float(k)-0.5<=item:\n",
    "            ret_A_add[k]+=1\n",
    "            \n",
    "retAA_ = ret1.copy()\n",
    "for item in result['AA-']:\n",
    "    for k in ret1:\n",
    "        if float(k)+0.5>item and float(k)-0.5<=item:\n",
    "            retAA_[k]+=1\n",
    "\n",
    "retAA = ret1.copy()\n",
    "for item in result['AA']:\n",
    "    for k in ret1:\n",
    "        if float(k)+0.5>item and float(k)-0.5<=item:\n",
    "            retAA[k]+=1\n",
    "            \n",
    "retAA_add = ret1.copy()\n",
    "for item in result['AA+']:\n",
    "    for k in ret1:\n",
    "        if float(k)+0.5>item and float(k)-0.5<=item:\n",
    "            retAA_add[k]+=1\n",
    "            \n",
    "retAAA = ret1.copy()\n",
    "for item in result['AAA']:\n",
    "    for k in ret1:\n",
    "        if float(k)+0.5>item and float(k)-0.5<=item:\n",
    "            retAAA[k]+=1\n",
    "\n",
    "bar = Bar('可转债价格分布')\n",
    "bar.add('A+',value,list(ret_A_add.values()),is_stack=True,yaxis_max=11)\n",
    "bar.add('AA-',value,list(retAA_.values()),is_stack=True,yaxis_max=11)\n",
    "bar.add('AA',value,list(retAA.values()),is_stack=True,yaxis_max=11)\n",
    "bar.add('AA+',value,list(retAA_add.values()),is_stack=True,yaxis_max=11)\n",
    "bar.add('AAA',value,list(retAAA.values()),is_stack=True,yaxis_max=11)\n"
   ]
  },
  {
   "cell_type": "code",
   "execution_count": null,
   "metadata": {},
   "outputs": [],
   "source": [
    "from pyecharts import options as opts\n",
    "from pyecharts.charts import Bar\n",
    "from pyecharts.commons.utils import JsCode\n",
    "from pyecharts.globals import ThemeType\n",
    "\n",
    "list2 = [\n",
    "    {\"value\": 12, \"percent\": 12 / (12 + 3)},\n",
    "    {\"value\": 23, \"percent\": 23 / (23 + 21)},\n",
    "    {\"value\": 33, \"percent\": 33 / (33 + 5)},\n",
    "    {\"value\": 3, \"percent\": 3 / (3 + 52)},\n",
    "    {\"value\": 33, \"percent\": 33 / (33 + 43)},\n",
    "]\n",
    "\n",
    "list3 = [\n",
    "    {\"value\": 3, \"percent\": 3 / (12 + 3)},\n",
    "    {\"value\": 21, \"percent\": 21 / (23 + 21)},\n",
    "    {\"value\": 5, \"percent\": 5 / (33 + 5)},\n",
    "    {\"value\": 52, \"percent\": 52 / (3 + 52)},\n",
    "    {\"value\": 43, \"percent\": 43 / (33 + 43)},\n",
    "]\n",
    "\n",
    "c = (\n",
    "    Bar(init_opts=opts.InitOpts(theme=ThemeType.LIGHT))\n",
    "    .add_xaxis([1, 2, 3, 4, 5])\n",
    "    .add_yaxis(\"product1\", list2, stack=\"stack1\", category_gap=\"50%\")\n",
    "    .add_yaxis(\"product2\", list3, stack=\"stack1\", category_gap=\"50%\")\n",
    "    .set_series_opts(\n",
    "        label_opts=opts.LabelOpts(\n",
    "            position=\"right\",\n",
    "            formatter=JsCode(\n",
    "                \"function(x){return Number(x.data.percent * 100).toFixed() + '%';}\"\n",
    "            ),\n",
    "        )\n",
    "    )\n",
    "    .render(\"stack_bar_percent.html\")\n",
    ")"
   ]
  },
  {
   "cell_type": "code",
   "execution_count": null,
   "metadata": {},
   "outputs": [],
   "source": [
    "df.head()"
   ]
  },
  {
   "cell_type": "code",
   "execution_count": null,
   "metadata": {},
   "outputs": [],
   "source": [
    "pct = df['可转债涨幅']"
   ]
  },
  {
   "cell_type": "code",
   "execution_count": null,
   "metadata": {
    "scrolled": true
   },
   "outputs": [],
   "source": [
    "pct"
   ]
  },
  {
   "cell_type": "code",
   "execution_count": null,
   "metadata": {},
   "outputs": [],
   "source": [
    "label = [str(i) for i in range(-20,20,2)]"
   ]
  },
  {
   "cell_type": "code",
   "execution_count": null,
   "metadata": {},
   "outputs": [],
   "source": [
    "label"
   ]
  },
  {
   "cell_type": "code",
   "execution_count": null,
   "metadata": {},
   "outputs": [],
   "source": [
    "\n",
    "result = pd.qcut(pct, q=20)"
   ]
  },
  {
   "cell_type": "code",
   "execution_count": null,
   "metadata": {
    "scrolled": false
   },
   "outputs": [],
   "source": [
    "result"
   ]
  },
  {
   "cell_type": "code",
   "execution_count": null,
   "metadata": {},
   "outputs": [],
   "source": [
    "pct[0]"
   ]
  },
  {
   "cell_type": "code",
   "execution_count": null,
   "metadata": {},
   "outputs": [],
   "source": [
    "result.head()"
   ]
  },
  {
   "cell_type": "code",
   "execution_count": null,
   "metadata": {},
   "outputs": [],
   "source": [
    "bins=list(range(-20,21))"
   ]
  },
  {
   "cell_type": "code",
   "execution_count": null,
   "metadata": {},
   "outputs": [],
   "source": [
    "bins.insert(0,-90)"
   ]
  },
  {
   "cell_type": "code",
   "execution_count": null,
   "metadata": {},
   "outputs": [],
   "source": [
    "bins.append(90)"
   ]
  },
  {
   "cell_type": "code",
   "execution_count": null,
   "metadata": {},
   "outputs": [],
   "source": [
    "# label = [str(b+1) for b in bins[:-1]]\n",
    "label = [str(b) for b in bins[:-1]]"
   ]
  },
  {
   "cell_type": "code",
   "execution_count": null,
   "metadata": {},
   "outputs": [],
   "source": [
    "result = pd.cut(pct,bins,ordered=True,labels=label)"
   ]
  },
  {
   "cell_type": "code",
   "execution_count": null,
   "metadata": {},
   "outputs": [],
   "source": [
    "result"
   ]
  },
  {
   "cell_type": "code",
   "execution_count": null,
   "metadata": {},
   "outputs": [],
   "source": [
    "bins"
   ]
  },
  {
   "cell_type": "code",
   "execution_count": null,
   "metadata": {
    "scrolled": false
   },
   "outputs": [],
   "source": [
    "result"
   ]
  },
  {
   "cell_type": "code",
   "execution_count": null,
   "metadata": {},
   "outputs": [],
   "source": [
    "for i in result.values:\n",
    "    print(i)"
   ]
  },
  {
   "cell_type": "code",
   "execution_count": null,
   "metadata": {},
   "outputs": [],
   "source": [
    "type(result)"
   ]
  },
  {
   "cell_type": "code",
   "execution_count": null,
   "metadata": {},
   "outputs": [],
   "source": [
    "v= pd.value_counts(result)"
   ]
  },
  {
   "cell_type": "code",
   "execution_count": null,
   "metadata": {},
   "outputs": [],
   "source": [
    "type(v)"
   ]
  },
  {
   "cell_type": "code",
   "execution_count": null,
   "metadata": {
    "scrolled": true
   },
   "outputs": [],
   "source": [
    "v"
   ]
  },
  {
   "cell_type": "code",
   "execution_count": null,
   "metadata": {},
   "outputs": [],
   "source": [
    "v.loc['-19']"
   ]
  },
  {
   "cell_type": "code",
   "execution_count": null,
   "metadata": {
    "scrolled": true
   },
   "outputs": [],
   "source": [
    "result_dict={}\n",
    "for i in label:\n",
    "    if i == \"-90\":\n",
    "        j='-20+'\n",
    "    else:\n",
    "        j=i\n",
    "    result_dict[j]=v.loc[i]"
   ]
  },
  {
   "cell_type": "code",
   "execution_count": null,
   "metadata": {
    "scrolled": true
   },
   "outputs": [],
   "source": [
    "result_dict"
   ]
  },
  {
   "cell_type": "code",
   "execution_count": null,
   "metadata": {},
   "outputs": [],
   "source": [
    "gte_20 = pct[pct>=20].count()"
   ]
  },
  {
   "cell_type": "code",
   "execution_count": null,
   "metadata": {},
   "outputs": [],
   "source": [
    "result_dict.update({'20+':gte_20})"
   ]
  },
  {
   "cell_type": "code",
   "execution_count": null,
   "metadata": {},
   "outputs": [],
   "source": [
    "result_dict"
   ]
  },
  {
   "cell_type": "code",
   "execution_count": null,
   "metadata": {},
   "outputs": [],
   "source": [
    "result"
   ]
  },
  {
   "cell_type": "code",
   "execution_count": null,
   "metadata": {},
   "outputs": [],
   "source": [
    "result_dict ={}\n",
    "for ,index,i in enumerate(result):\n",
    "    result_dict.setdefault(i,0)\n",
    "    result_dict[i]+=v.loc[]"
   ]
  },
  {
   "cell_type": "code",
   "execution_count": null,
   "metadata": {},
   "outputs": [],
   "source": [
    "pct[pct>=19].count()"
   ]
  },
  {
   "cell_type": "code",
   "execution_count": null,
   "metadata": {},
   "outputs": [],
   "source": [
    "len(pct)"
   ]
  },
  {
   "cell_type": "code",
   "execution_count": null,
   "metadata": {},
   "outputs": [],
   "source": [
    "v"
   ]
  },
  {
   "cell_type": "code",
   "execution_count": null,
   "metadata": {},
   "outputs": [],
   "source": [
    "v.sum()"
   ]
  },
  {
   "cell_type": "code",
   "execution_count": null,
   "metadata": {},
   "outputs": [],
   "source": [
    "v.index.categories[0]"
   ]
  },
  {
   "cell_type": "code",
   "execution_count": null,
   "metadata": {},
   "outputs": [],
   "source": [
    "y_list = []\n",
    "for k,v in result_dict.items():\n",
    "    y_list.append({'value':v,'percent':v})"
   ]
  },
  {
   "cell_type": "code",
   "execution_count": null,
   "metadata": {},
   "outputs": [],
   "source": [
    "from pyecharts import options as opts\n",
    "from pyecharts.charts import Bar\n",
    "from pyecharts.commons.utils import JsCode\n",
    "from pyecharts.globals import ThemeType\n",
    "\n",
    "c = (\n",
    "    Bar(init_opts=opts.InitOpts(theme=ThemeType.LIGHT))\n",
    "    .add_xaxis('distributed',list(result_dict.keys()))\n",
    "    .add_yaxis(\"product1\", list(result_dict.values()), stack=\"stack1\")\n",
    "    .set_series_opts(\n",
    "        label_opts=opts.LabelOpts(\n",
    "            position=\"right\",\n",
    "            formatter=JsCode(\n",
    "                \"function(x){return Number(x.data.percent * 10,\n",
    "        )\n",
    "    )\n",
    "    .render(\"stack_bar_percent.html\")\n",
    ")"
   ]
  },
  {
   "cell_type": "code",
   "execution_count": null,
   "metadata": {
    "scrolled": true
   },
   "outputs": [],
   "source": [
    "x=list(result_dict.keys())"
   ]
  },
  {
   "cell_type": "code",
   "execution_count": null,
   "metadata": {},
   "outputs": [],
   "source": [
    "len(x)"
   ]
  },
  {
   "cell_type": "code",
   "execution_count": null,
   "metadata": {},
   "outputs": [],
   "source": [
    "y=list(result_dict.values())"
   ]
  },
  {
   "cell_type": "code",
   "execution_count": null,
   "metadata": {},
   "outputs": [],
   "source": [
    "len(y)"
   ]
  },
  {
   "cell_type": "code",
   "execution_count": null,
   "metadata": {},
   "outputs": [],
   "source": []
  },
  {
   "cell_type": "code",
   "execution_count": null,
   "metadata": {},
   "outputs": [],
   "source": [
    "from pyecharts import options as opts\n",
    "from pyecharts.charts import Bar\n",
    "from pyecharts.faker import Faker\n",
    "# 可以，测试用的\n",
    "\n",
    "y_list = []\n",
    "for k,v in result_dict.items():\n",
    "    if k.startswith('-'):\n",
    "        color_=\"#FF0000\"\n",
    "\n",
    "    else:\n",
    "        color_=\"#228B22\"\n",
    "    y_list.append(opts.BarItem(\n",
    "    name=str(v),\n",
    "    value=int(v),\n",
    "    itemstyle_opts=opts.ItemStyleOpts(color=color_),\n",
    "))\n",
    "    \n",
    "c = (\n",
    "    Bar()\n",
    "    .add_xaxis(list(result_dict.keys()))\n",
    "    .add_yaxis(\"可转债价格分布\", y_list,category_gap=3)\n",
    "    .set_series_opts(\n",
    "        label_opts=opts.LabelOpts(is_show=True),\n",
    "        axispointer_opts=opts.AxisPointerOpts(is_show=True))\n",
    "    .set_global_opts(\n",
    "                    title_opts=opts.TitleOpts(title=\"可转债价格分布\"),\n",
    "                     xaxis_opts=opts.AxisOpts(\n",
    "                         name=\"涨跌幅\",\n",
    "                         is_show=True,\n",
    "                         name_rotate=30,\n",
    "                         interval=1,\n",
    "                         min_interval=1,\n",
    "                         max_interval=1,\n",
    " axisline_opts=opts.AxisLineOpts(\n",
    "                is_show=True,\n",
    "                is_on_zero=True,\n",
    "                on_zero_axis_index=0,\n",
    "                symbol=None,\n",
    "                linestyle_opts=opts.LineStyleOpts(\n",
    "                    is_show=True,\n",
    "                    width=1,\n",
    "                    opacity=1,\n",
    "                    curve=0,\n",
    "                    type_=\"solid\",\n",
    "                    color=None,\n",
    "                )\n",
    "            ),\n",
    "                         axislabel_opts=opts.LabelOpts(\n",
    "                is_show=True,  # bool\n",
    "                position=\"top\",  # Union[str, Sequence]\n",
    "                color='red',  # Optional[str]\n",
    "                font_size=None,  # Optional[Numeric]\n",
    "                font_style=None,  # Optional[str]\n",
    "                font_weight=None,  # Optional[str]\n",
    "                font_family=None,  # Optional[str]\n",
    "                rotate=0,  # Optional[Numeric]\n",
    "                margin=8,  # Optional[Numeric]\\,\n",
    "                interval=None,  # Union[Numeric, str, None]\n",
    "                horizontal_align=None,  # Optional[str]\n",
    "                vertical_align=None,  # Optional[str]\n",
    "                     )),\n",
    ")\n",
    "    .render(\"bar_stack0.html\")\n",
    ")"
   ]
  },
  {
   "cell_type": "code",
   "execution_count": null,
   "metadata": {},
   "outputs": [],
   "source": [
    "type(y[0])"
   ]
  },
  {
   "cell_type": "code",
   "execution_count": null,
   "metadata": {},
   "outputs": [],
   "source": [
    "y_int = list(map(int,y))"
   ]
  },
  {
   "cell_type": "code",
   "execution_count": null,
   "metadata": {},
   "outputs": [],
   "source": [
    "y_int"
   ]
  },
  {
   "cell_type": "code",
   "execution_count": null,
   "metadata": {},
   "outputs": [],
   "source": [
    "sum(y_int)"
   ]
  },
  {
   "cell_type": "code",
   "execution_count": null,
   "metadata": {},
   "outputs": [],
   "source": [
    "result_ = []\n",
    "for i in y_int:\n",
    "    result_.append({'value':i,'name':i})"
   ]
  },
  {
   "cell_type": "code",
   "execution_count": null,
   "metadata": {},
   "outputs": [],
   "source": []
  },
  {
   "cell_type": "code",
   "execution_count": null,
   "metadata": {},
   "outputs": [],
   "source": [
    "y_list"
   ]
  },
  {
   "cell_type": "code",
   "execution_count": null,
   "metadata": {},
   "outputs": [],
   "source": [
    "from pyecharts import options as opts\n",
    "from pyecharts.charts import Bar\n",
    "from pyecharts.faker import Faker\n",
    "\n",
    "\n",
    "x = Faker.dogs + Faker.animal\n",
    "xlen = len(x)\n",
    "y = []\n",
    "for idx, item in enumerate(x):\n",
    "    if idx <= xlen / 2:\n",
    "        y.append(\n",
    "            opts.BarItem(\n",
    "                name=item,\n",
    "                value=(idx + 1) * 10,\n",
    "                itemstyle_opts=opts.ItemStyleOpts(color=\"#749f83\"),\n",
    "            )\n",
    "        )\n",
    "    else:\n",
    "        y.append(\n",
    "            opts.BarItem(\n",
    "                name=item,\n",
    "                value=(xlen + 1 - idx) * 10,\n",
    "                itemstyle_opts=opts.ItemStyleOpts(color=\"#d48265\"),\n",
    "            )\n",
    "        )\n",
    "\n",
    "c = (\n",
    "    Bar()\n",
    "    .add_xaxis(x)\n",
    "    .add_yaxis(\"series0\", y, category_gap=0, color=Faker.rand_color())\n",
    "    .set_global_opts(title_opts=opts.TitleOpts(title=\"Bar-直方图（颜色区分）\"))\n",
    "    .render(\"bar_histogram_color.html\")\n",
    ")"
   ]
  },
  {
   "cell_type": "code",
   "execution_count": null,
   "metadata": {},
   "outputs": [],
   "source": [
    "from random import randint\n",
    "\n",
    "from pyecharts import options as opts\n",
    "from pyecharts.charts import Bar\n",
    "from pyecharts.commons.utils import JsCode\n",
    "\n",
    "x_data = ['分类1',\n",
    "          '分类2',\n",
    "          '分类3',\n",
    "          '分类4',\n",
    "          '分类5',\n",
    "          '分类6',\n",
    "          '分类7',\n",
    "          '分类8',\n",
    "          '分类9',\n",
    "          '分类10',\n",
    "          ]\n",
    "\n",
    "y1_data = [0.72,\n",
    "           0.61,\n",
    "           0.98,\n",
    "           0.92,\n",
    "           0.67,\n",
    "           0.87,\n",
    "           0.6,\n",
    "           0.75,\n",
    "           0.96,\n",
    "           0.68\n",
    "           ]\n",
    "\n",
    "y2_data = [d * randint(1, 10) for d in y1_data]\n",
    "\n",
    "instance_bar = (\n",
    "    Bar()\n",
    "        .add_xaxis(xaxis_data=x_data)\n",
    "        .add_yaxis(series_name='系列1',\n",
    "                   y_axis=y1_data)\n",
    "        .add_yaxis(series_name='系列2',\n",
    "                   y_axis=y2_data)\n",
    "        .set_global_opts(\n",
    "        xaxis_opts=opts.AxisOpts(\n",
    "            type_='category',  # Optional[str]\n",
    "            name='坐标轴名称',  # Optional[str]\n",
    "            is_show=True,  # bool\n",
    "            is_scale=False,  # bool\n",
    "            is_inverse=True,  # bool\n",
    "            name_location='start',  # str\n",
    "            name_gap=15,  # Numeric\n",
    "            name_rotate=20,  # Optional[Numeric]\n",
    "            name_textstyle_opts=opts.TextStyleOpts(\n",
    "                color='blue',  # Optional[str]\n",
    "                font_style=None,  # Optional[str]\n",
    "                font_weight=None,  # Optional[str]\n",
    "                font_family=None,  # Optional[str]\n",
    "                font_size=None,  # Optional[Numeric]\n",
    "                align=None,  # Optional[str]\n",
    "                vertical_align=None,  # Optional[str]\n",
    "                line_height=None,  # Optional[str]\n",
    "                background_color='yellow',  # Optional[str]\n",
    "                border_color=None,  # Optional[str]\n",
    "                border_width=None,  # Optional[Numeric]\n",
    "                border_radius=None,  # Union[Numeric, Sequence, None]\n",
    "                padding=None,  # Union[Numeric, Sequence, None]\n",
    "                shadow_color=None,  # Optional[str]\n",
    "                shadow_blur=None,  # Optional[Numeric]\n",
    "                width=None,  # Optional[str]\n",
    "                height=None,  # Optional[str]\n",
    "                rich=None,  # Optional[dict]\n",
    "            ),\n",
    "            interval=30,  # Optional[Numeric]\n",
    "            grid_index=0,  # Numeric\n",
    "            position='',  # Optional[str]\n",
    "            offset=0,  # Numeric\n",
    "            split_number=5,  # Numeric\n",
    "            boundary_gap='',  # Union[str, bool, None]\n",
    "            min_='',  # Union[Numeric, str, None]\n",
    "            max_='',  # Union[Numeric, str, None]\n",
    "            min_interval=0,  # Numeric\n",
    "            max_interval=0,  # Optional[Numeric]\n",
    "            axisline_opts=opts.AxisLineOpts(\n",
    "                is_show=True,\n",
    "                is_on_zero=True,\n",
    "                on_zero_axis_index=0,\n",
    "                symbol=None,\n",
    "                linestyle_opts=opts.LineStyleOpts(\n",
    "                    is_show=True,\n",
    "                    width=1,\n",
    "                    opacity=1,\n",
    "                    curve=0,\n",
    "                    type_=\"solid\",\n",
    "                    color=None,\n",
    "                )\n",
    "            ),\n",
    "            axistick_opts=opts.AxisTickOpts(\n",
    "                is_show=True,\n",
    "                is_align_with_label=True,\n",
    "                is_inside=True,\n",
    "                length=20,\n",
    "                linestyle_opts=opts.LineStyleOpts(\n",
    "                    is_show=True,\n",
    "                    width=1,\n",
    "                    opacity=1,\n",
    "                    curve=0,\n",
    "                    type_=\"solid\",\n",
    "                    color=None,\n",
    "                )\n",
    "            ),\n",
    "            axislabel_opts=opts.LabelOpts(\n",
    "                is_show=True,  # bool\n",
    "                position=\"top\",  # Union[str, Sequence]\n",
    "                color='pink',  # Optional[str]\n",
    "                font_size=None,  # Optional[Numeric]\n",
    "                font_style=None,  # Optional[str]\n",
    "                font_weight=None,  # Optional[str]\n",
    "                font_family=None,  # Optional[str]\n",
    "                rotate=10,  # Optional[Numeric]\n",
    "                margin=8,  # Optional[Numeric]\\,\n",
    "                interval=None,  # Union[Numeric, str, None]\n",
    "                horizontal_align=None,  # Optional[str]\n",
    "                vertical_align=None,  # Optional[str]\n",
    "                formatter=JsCode(\"\"\"\n",
    "                function(value,index) {\n",
    "                  if (index === 2) {\n",
    "                    return 'formatter';\n",
    "                  } else {\n",
    "                    return value;\n",
    "                  }\n",
    "                }\n",
    "                \"\"\"),  # Optional[JSFunc] 回调函数\n",
    "                # 字符串模板 formatter='-{value}-',\n",
    "                background_color=None,  # Optional[str]\n",
    "                border_color=None,  # Optional[str]\n",
    "                border_width=None,  # Optional[Numeric]\n",
    "                border_radius=None,  # Optional[Numeric]\n",
    "                rich=None,  # Optional[dict]\n",
    "            ),\n",
    "            axispointer_opts=opts.AxisPointerOpts(\n",
    "                is_show=True,\n",
    "                link=None,\n",
    "                type_=\"line\",\n",
    "                label=None,\n",
    "                linestyle_opts=opts.LineStyleOpts(\n",
    "                    is_show=True,\n",
    "                    width=10,\n",
    "                    opacity=0.5,\n",
    "                    curve=0,\n",
    "                    type_=\"solid\",\n",
    "                    color='green',\n",
    "                ),\n",
    "            ),\n",
    "            splitarea_opts=opts.SplitAreaOpts(\n",
    "                is_show=True,\n",
    "                areastyle_opts=opts.AreaStyleOpts(\n",
    "                    opacity=0.05,\n",
    "                    color={\n",
    "                        'type': 'linear',\n",
    "                        'x': 0,\n",
    "                        'y': 0,\n",
    "                        'x2': 0,\n",
    "                        'y2': 1,\n",
    "                        'colorStops': [{\n",
    "                            'offset': 0, 'color': 'red'  # 0% 处的颜色\n",
    "                        }, {\n",
    "                            'offset': 1, 'color': 'blue'  # 100% 处的颜色\n",
    "                        }],\n",
    "                        'global': False  # 缺省为 false\n",
    "                    }\n",
    "                )\n",
    "\n",
    "            ),\n",
    "            splitline_opts=opts.SplitLineOpts(\n",
    "                is_show=True,\n",
    "                linestyle_opts=opts.LineStyleOpts(\n",
    "                    is_show=True,\n",
    "                    width=1,\n",
    "                    opacity=1,\n",
    "                    curve=0,\n",
    "                    type_=\"solid\",\n",
    "                    color='#0099ff',\n",
    "                )\n",
    "            )\n",
    "\n",
    "        )\n",
    "    ).render('test.html')\n",
    ")"
   ]
  },
  {
   "cell_type": "code",
   "execution_count": null,
   "metadata": {},
   "outputs": [],
   "source": [
    "from pyecharts import options as opts\n",
    "from pyecharts.charts import Bar\n",
    "from pyecharts.faker import Faker\n",
    "\n",
    "\n",
    "y_list = []\n",
    "for k,v in result_dict.items():\n",
    "    if k.startswith('-'):\n",
    "        color_=\"#228B22\"        \n",
    "    else:\n",
    "        color_=\"#FF0000\"\n",
    "    y_list.append(opts.BarItem(\n",
    "    name=str(v),\n",
    "    value=int(v),\n",
    "    itemstyle_opts=opts.ItemStyleOpts(color=color_),\n",
    "))\n",
    "    \n",
    "c = (\n",
    "    Bar()\n",
    "    .add_xaxis(list(result_dict.keys()))\n",
    "    .add_yaxis(\"可转债价格分布\", y_list,category_gap=3)\n",
    "    .set_series_opts(\n",
    "        label_opts=opts.LabelOpts(is_show=True),\n",
    "        axispointer_opts=opts.AxisPointerOpts(is_show=True))\n",
    "    .set_global_opts(\n",
    "                    title_opts=opts.TitleOpts(title=\"可转债价格分布\"),\n",
    "                     xaxis_opts=opts.AxisOpts(\n",
    "                         name=\"涨跌幅\",\n",
    "                         is_show=True,\n",
    "                         name_rotate=30,\n",
    "                       ),\n",
    ")\n",
    "    .render(\"bar_stack0.html\")\n",
    ")"
   ]
  },
  {
   "cell_type": "code",
   "execution_count": null,
   "metadata": {},
   "outputs": [],
   "source": []
  }
 ],
 "metadata": {
  "kernelspec": {
   "display_name": "Python 3",
   "language": "python",
   "name": "python3"
  },
  "language_info": {
   "codemirror_mode": {
    "name": "ipython",
    "version": 3
   },
   "file_extension": ".py",
   "mimetype": "text/x-python",
   "name": "python",
   "nbconvert_exporter": "python",
   "pygments_lexer": "ipython3",
   "version": "3.8.3"
  }
 },
 "nbformat": 4,
 "nbformat_minor": 2
}
