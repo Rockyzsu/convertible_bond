{
 "cells": [
  {
   "cell_type": "code",
   "execution_count": 1,
   "source": [
    "import networkx as nx\r\n",
    "\r\n",
    "import matplotlib.pyplot as plt\r\n",
    "\r\n",
    "\r\n",
    "\r\n",
    "G = nx.DiGraph()\r\n",
    "\r\n",
    "G.add_node('z')     # 添加节点z\r\n",
    "\r\n",
    "G.add_nodes_from([1, 2, 3])   # 添加节点 1 2 3\r\n",
    "\r\n",
    "G.add_edge('x', 'y')          # 添加边  起点为x  终点为y\r\n",
    "\r\n",
    "G.add_edges_from([(1, 2), (1, 3), (2, 3)])   # 添加多条边\r\n",
    "\r\n",
    "\r\n",
    "\r\n",
    "# 网络图绘制与显示\r\n",
    "\r\n",
    "nx.draw(G, with_labels=True)\r\n",
    "nx.draw(G, pos=nx.random_layout(G), node_color = 'b', edge_color = 'r', with_labels = True, font_size =18, node_size =20)\r\n",
    "\r\n",
    "\r\n",
    "plt.show()"
   ],
   "outputs": [
    {
     "output_type": "display_data",
     "data": {
      "text/plain": [
       "<Figure size 432x288 with 1 Axes>"
      ],
      "image/png": "[encoded data removed]"
     },
     "metadata": {}
    }
   ],
   "metadata": {}
  },
  {
   "cell_type": "code",
   "execution_count": null,
   "source": [],
   "outputs": [],
   "metadata": {}
  }
 ],
 "metadata": {
  "orig_nbformat": 4,
  "language_info": {
   "name": "python",
   "version": "3.8.3",
   "mimetype": "text/x-python",
   "codemirror_mode": {
    "name": "ipython",
    "version": 3
   },
   "pygments_lexer": "ipython3",
   "nbconvert_exporter": "python",
   "file_extension": ".py"
  },
  "kernelspec": {
   "name": "python3",
   "display_name": "Python 3.8.3 64-bit ('base': conda)"
  },
  "interpreter": {
   "hash": "513dc2e41d739bb2c947903f3c0bbf636d03aa53ab50e61c694a27481c81805e"
  }
 },
 "nbformat": 4,
 "nbformat_minor": 2
}