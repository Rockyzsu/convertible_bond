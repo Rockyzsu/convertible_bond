{
 "cells": [
  {
   "cell_type": "code",
   "execution_count": null,
   "metadata": {},
   "outputs": [],
   "source": [
    "import networkx as nx\n",
    "\n",
    "import matplotlib.pyplot as plt\n",
    "\n",
    "\n",
    "\n",
    "G = nx.DiGraph()\n",
    "\n",
    "G.add_node('z')     # 添加节点z\n",
    "\n",
    "G.add_nodes_from([1, 2, 3])   # 添加节点 1 2 3\n",
    "\n",
    "G.add_edge('x', 'y')          # 添加边  起点为x  终点为y\n",
    "\n",
    "G.add_edges_from([(1, 2), (1, 3), (2, 3)])   # 添加多条边\n",
    "\n",
    "\n",
    "\n",
    "# 网络图绘制与显示\n",
    "\n",
    "nx.draw(G, with_labels=True)\n",
    "nx.draw(G, pos=nx.random_layout(G), node_color = 'b', edge_color = 'r', with_labels = True, font_size =18, node_size =20)\n",
    "\n",
    "\n",
    "plt.show()"
   ]
  },
  {
   "cell_type": "code",
   "execution_count": null,
   "metadata": {},
   "outputs": [],
   "source": []
  }
 ],
 "metadata": {
  "interpreter": {
   "hash": "513dc2e41d739bb2c947903f3c0bbf636d03aa53ab50e61c694a27481c81805e"
  },
  "kernelspec": {
   "display_name": "Python 3.8.3 64-bit ('base': conda)",
   "name": "python3"
  },
  "language_info": {
   "codemirror_mode": {
    "name": "ipython",
    "version": 3
   },
   "file_extension": ".py",
   "mimetype": "text/x-python",
   "name": "python",
   "nbconvert_exporter": "python",
   "pygments_lexer": "ipython3",
   "version": "3.8.3"
  },
  "orig_nbformat": 4
 },
 "nbformat": 4,
 "nbformat_minor": 2
}
