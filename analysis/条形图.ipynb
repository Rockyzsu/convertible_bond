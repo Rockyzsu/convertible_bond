{
 "cells": [
  {
   "cell_type": "code",
   "execution_count": 31,
   "source": [
    "from pyecharts import options as opts\r\n",
    "from pyecharts.charts import Bar\r\n",
    "from pyecharts.commons.utils import JsCode"
   ],
   "outputs": [],
   "metadata": {}
  },
  {
   "cell_type": "code",
   "execution_count": 4,
   "source": [
    "import pandas as pd\r\n",
    "df = pd.read_pickle('强赎数据.pkl')"
   ],
   "outputs": [],
   "metadata": {}
  },
  {
   "cell_type": "code",
   "execution_count": 27,
   "source": [
    "month = df.resample('M')['code'].count()\r\n",
    "x=list(map(lambda x:x.strftime(\"%Y%m%d\"),month.index))\r\n",
    "y=list(map(lambda x:int(x),month.values))"
   ],
   "outputs": [],
   "metadata": {}
  },
  {
   "cell_type": "code",
   "execution_count": 34,
   "source": [
    "color_function = \"\"\"\r\n",
    "        function (params) {\r\n",
    "            return 'blue';\r\n",
    "        }\r\n",
    "        \"\"\"\r\n",
    "c = (\r\n",
    "    Bar()\r\n",
    "    .add_xaxis(\r\n",
    "        x\r\n",
    "    )\r\n",
    "    # .add_yaxis(\"商家A\",[2]*len(x))\r\n",
    "    .add_yaxis('强赎个数',y,itemstyle_opts=opts.ItemStyleOpts(color=JsCode(color_function)))\r\n",
    "    .set_global_opts(\r\n",
    "        xaxis_opts=opts.AxisOpts(axislabel_opts=opts.LabelOpts(rotate=30)),\r\n",
    "        title_opts=opts.TitleOpts(title=\"强赎个数\"),\r\n",
    "    ).set_colors(['blue'])\r\n",
    "    .render(\"../plot_image/强赎数据.html\")\r\n",
    ")"
   ],
   "outputs": [],
   "metadata": {}
  },
  {
   "cell_type": "code",
   "execution_count": 17,
   "source": [
    "x"
   ],
   "outputs": [
    {
     "output_type": "execute_result",
     "data": {
      "text/plain": [
       "[Timestamp('2018-07-31 00:00:00', freq='M'),\n",
       " Timestamp('2018-08-31 00:00:00', freq='M'),\n",
       " Timestamp('2018-09-30 00:00:00', freq='M'),\n",
       " Timestamp('2018-10-31 00:00:00', freq='M'),\n",
       " Timestamp('2018-11-30 00:00:00', freq='M'),\n",
       " Timestamp('2018-12-31 00:00:00', freq='M'),\n",
       " Timestamp('2019-01-31 00:00:00', freq='M'),\n",
       " Timestamp('2019-02-28 00:00:00', freq='M'),\n",
       " Timestamp('2019-03-31 00:00:00', freq='M'),\n",
       " Timestamp('2019-04-30 00:00:00', freq='M'),\n",
       " Timestamp('2019-05-31 00:00:00', freq='M'),\n",
       " Timestamp('2019-06-30 00:00:00', freq='M'),\n",
       " Timestamp('2019-07-31 00:00:00', freq='M'),\n",
       " Timestamp('2019-08-31 00:00:00', freq='M'),\n",
       " Timestamp('2019-09-30 00:00:00', freq='M'),\n",
       " Timestamp('2019-10-31 00:00:00', freq='M'),\n",
       " Timestamp('2019-11-30 00:00:00', freq='M'),\n",
       " Timestamp('2019-12-31 00:00:00', freq='M'),\n",
       " Timestamp('2020-01-31 00:00:00', freq='M'),\n",
       " Timestamp('2020-02-29 00:00:00', freq='M'),\n",
       " Timestamp('2020-03-31 00:00:00', freq='M'),\n",
       " Timestamp('2020-04-30 00:00:00', freq='M'),\n",
       " Timestamp('2020-05-31 00:00:00', freq='M'),\n",
       " Timestamp('2020-06-30 00:00:00', freq='M'),\n",
       " Timestamp('2020-07-31 00:00:00', freq='M'),\n",
       " Timestamp('2020-08-31 00:00:00', freq='M'),\n",
       " Timestamp('2020-09-30 00:00:00', freq='M'),\n",
       " Timestamp('2020-10-31 00:00:00', freq='M'),\n",
       " Timestamp('2020-11-30 00:00:00', freq='M'),\n",
       " Timestamp('2020-12-31 00:00:00', freq='M'),\n",
       " Timestamp('2021-01-31 00:00:00', freq='M'),\n",
       " Timestamp('2021-02-28 00:00:00', freq='M'),\n",
       " Timestamp('2021-03-31 00:00:00', freq='M'),\n",
       " Timestamp('2021-04-30 00:00:00', freq='M'),\n",
       " Timestamp('2021-05-31 00:00:00', freq='M'),\n",
       " Timestamp('2021-06-30 00:00:00', freq='M'),\n",
       " Timestamp('2021-07-31 00:00:00', freq='M'),\n",
       " Timestamp('2021-08-31 00:00:00', freq='M'),\n",
       " Timestamp('2021-09-30 00:00:00', freq='M')]"
      ]
     },
     "metadata": {},
     "execution_count": 17
    }
   ],
   "metadata": {}
  },
  {
   "cell_type": "code",
   "execution_count": 18,
   "source": [
    "type(y)"
   ],
   "outputs": [
    {
     "output_type": "execute_result",
     "data": {
      "text/plain": [
       "list"
      ]
     },
     "metadata": {},
     "execution_count": 18
    }
   ],
   "metadata": {}
  },
  {
   "cell_type": "code",
   "execution_count": 23,
   "source": [
    "type(y[0])"
   ],
   "outputs": [
    {
     "output_type": "execute_result",
     "data": {
      "text/plain": [
       "numpy.int64"
      ]
     },
     "metadata": {},
     "execution_count": 23
    }
   ],
   "metadata": {}
  },
  {
   "cell_type": "code",
   "execution_count": 40,
   "source": [
    "color_function = \"\"\"\r\n",
    "        function (params) {\r\n",
    "            if (params.value>71){\r\n",
    "            return 'green';}\r\n",
    "            else{\r\n",
    "                return 'red'\r\n",
    "            }\r\n",
    "\r\n",
    "        }\r\n",
    "        \"\"\"\r\n",
    "c = (\r\n",
    "    Bar(init_opts=opts.InitOpts(width=\"600px\"))\r\n",
    "    .add_xaxis(\r\n",
    "        ['阴线','阳线']\r\n",
    "    )\r\n",
    "    .add_yaxis(\"阴阳线分布\",[75,70],category_gap=\"90%\",itemstyle_opts=opts.ItemStyleOpts(color=JsCode(color_function)))\r\n",
    "    # .add_yaxis('强赎个数',y,itemstyle_opts=opts.ItemStyleOpts(color=JsCode(color_function)))\r\n",
    "    .set_global_opts(\r\n",
    "        xaxis_opts=opts.AxisOpts(axislabel_opts=opts.LabelOpts(rotate=30)),\r\n",
    "        title_opts=opts.TitleOpts(title=\"分布\"),\r\n",
    "    ).set_colors(['blue'])\r\n",
    "    .render(\"../plot_image/阳线数据.html\")\r\n",
    ")"
   ],
   "outputs": [],
   "metadata": {}
  },
  {
   "cell_type": "code",
   "execution_count": null,
   "source": [],
   "outputs": [],
   "metadata": {}
  }
 ],
 "metadata": {
  "orig_nbformat": 4,
  "language_info": {
   "name": "python",
   "version": "3.8.3",
   "mimetype": "text/x-python",
   "codemirror_mode": {
    "name": "ipython",
    "version": 3
   },
   "pygments_lexer": "ipython3",
   "nbconvert_exporter": "python",
   "file_extension": ".py"
  },
  "kernelspec": {
   "name": "python3",
   "display_name": "Python 3.8.3 64-bit ('base': conda)"
  },
  "interpreter": {
   "hash": "513dc2e41d739bb2c947903f3c0bbf636d03aa53ab50e61c694a27481c81805e"
  }
 },
 "nbformat": 4,
 "nbformat_minor": 2
}