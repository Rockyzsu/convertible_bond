{
 "cells": [
  {
   "cell_type": "code",
   "execution_count": 53,
   "metadata": {},
   "outputs": [],
   "source": [
    "from pyecharts import options as opts\n",
    "from pyecharts.charts import Bar,Line,Grid\n",
    "from pyecharts.commons.utils import JsCode\n",
    "import pandas as pd\n",
    "import joblib"
   ]
  },
  {
   "cell_type": "code",
   "execution_count": 4,
   "metadata": {},
   "outputs": [],
   "source": [
    "df = joblib.load('强赎20220108.job')"
   ]
  },
  {
   "cell_type": "code",
   "execution_count": 6,
   "metadata": {},
   "outputs": [
    {
     "name": "stdout",
     "output_type": "stream",
     "text": [
      "<class 'pandas.core.frame.DataFrame'>\n",
      "DatetimeIndex: 163 entries, 2021-12-30 to 2018-07-06\n",
      "Data columns (total 1 columns):\n",
      " #   Column  Non-Null Count  Dtype\n",
      "---  ------  --------------  -----\n",
      " 0   code    163 non-null    int64\n",
      "dtypes: int64(1)\n",
      "memory usage: 2.5 KB\n"
     ]
    }
   ],
   "source": [
    "df.info()"
   ]
  },
  {
   "cell_type": "code",
   "execution_count": 15,
   "metadata": {},
   "outputs": [],
   "source": [
    "month = df.resample('M')['code'].count()\n",
    "x=list(map(lambda x:x.strftime(\"%Y-%m\"),month.index))\n",
    "y=list(map(lambda x:int(x),month.values))"
   ]
  },
  {
   "cell_type": "code",
   "execution_count": 1,
   "metadata": {},
   "outputs": [],
   "source": [
    "#  数据读取\n",
    "import joblib\n",
    "data = joblib.load('top10.jb')\n",
    "x=data['x']\n",
    "y=data['y']"
   ]
  },
  {
   "cell_type": "code",
   "execution_count": 2,
   "metadata": {},
   "outputs": [
    {
     "data": {
      "text/plain": [
       "Index(['李怡名', '丁碧霞', '陈晓红', '陈娟', '何燕', '梁小红', '吴菊香', '李志鹤', '曹卫宏', '黄巍然',\n",
       "       '钟宝申', '裘成', '黄永山', '蔡晓东', '高国芳', '蔡子跃', '郑淑芬', '张鹏', '苑志华', '王筱慧',\n",
       "       '李悦', '朱广超', '崔清建', '方微', '崔凯', '方惠兰', '张颖', '黄晓明', '陈静', '翟建琴'],\n",
       "      dtype='object', name='name')"
      ]
     },
     "execution_count": 2,
     "metadata": {},
     "output_type": "execute_result"
    }
   ],
   "source": [
    "x"
   ]
  },
  {
   "cell_type": "code",
   "execution_count": null,
   "metadata": {},
   "outputs": [],
   "source": [
    "y"
   ]
  },
  {
   "cell_type": "code",
   "execution_count": 20,
   "metadata": {},
   "outputs": [],
   "source": [
    "import datetime\n",
    "today = datetime.date.today().strftime('%Y%m%d')\n",
    "color_function = \"\"\"\n",
    "        function (params) {\n",
    "            return 'green';\n",
    "        }\n",
    "        \"\"\"\n",
    "title=''\n",
    "# x=[]\n",
    "# y=[]\n",
    "c = (\n",
    "    Bar()\n",
    "    .add_xaxis(\n",
    "        x\n",
    "    )\n",
    "    .add_yaxis(title,y,itemstyle_opts=opts.ItemStyleOpts(color=JsCode(color_function)))\n",
    "    .set_global_opts(\n",
    "        xaxis_opts=opts.AxisOpts(axislabel_opts=opts.LabelOpts(rotate=90),\n",
    "        min_interval=1,\n",
    "        interval=1,\n",
    "        ),\n",
    "        title_opts=opts.TitleOpts(title=title),\n",
    "    ).set_colors(['green'])\n",
    "    .render(\"../plot_image/{}{}.html\".format(title,today))\n",
    ")"
   ]
  },
  {
   "cell_type": "code",
   "execution_count": null,
   "metadata": {},
   "outputs": [],
   "source": [
    "import datetime\n",
    "# 和指数绘制在一起\n",
    "today = datetime.date.today().strftime('%Y%m%d')\n",
    "color_function = \"\"\"\n",
    "        function (params) {\n",
    "            return 'green';\n",
    "        }\n",
    "        \"\"\"\n",
    "c = (\n",
    "    Bar()\n",
    "    .add_xaxis(\n",
    "        x\n",
    "    )\n",
    "    .add_yaxis('强赎个数',y,itemstyle_opts=opts.ItemStyleOpts(color=JsCode(color_function)))\n",
    "    .set_global_opts(\n",
    "        xaxis_opts=opts.AxisOpts(axislabel_opts=opts.LabelOpts(rotate=90),\n",
    "        min_interval=1,\n",
    "        interval=1,\n",
    "        ),\n",
    "        title_opts=opts.TitleOpts(title=\"强赎个数\"),\n",
    "    ).set_colors(['green'])\n",
    "    .render(\"../plot_image/强赎数据{}.html\".format(today))\n",
    ")"
   ]
  },
  {
   "cell_type": "code",
   "execution_count": 18,
   "metadata": {},
   "outputs": [
    {
     "data": {
      "text/plain": [
       "list"
      ]
     },
     "execution_count": 18,
     "metadata": {},
     "output_type": "execute_result"
    }
   ],
   "source": [
    "type(y)"
   ]
  },
  {
   "cell_type": "code",
   "execution_count": 23,
   "metadata": {},
   "outputs": [
    {
     "data": {
      "text/plain": [
       "numpy.int64"
      ]
     },
     "execution_count": 23,
     "metadata": {},
     "output_type": "execute_result"
    }
   ],
   "source": [
    "type(y[0])"
   ]
  },
  {
   "cell_type": "code",
   "execution_count": 40,
   "metadata": {},
   "outputs": [],
   "source": [
    "color_function = \"\"\"\n",
    "        function (params) {\n",
    "            if (params.value>71){\n",
    "            return 'green';}\n",
    "            else{\n",
    "                return 'red'\n",
    "            }\n",
    "\n",
    "        }\n",
    "        \"\"\"\n",
    "c = (\n",
    "    Bar(init_opts=opts.InitOpts(width=\"600px\"))\n",
    "    .add_xaxis(\n",
    "        ['阴线','阳线']\n",
    "    )\n",
    "    .add_yaxis(\"阴阳线分布\",[75,70],category_gap=\"90%\",itemstyle_opts=opts.ItemStyleOpts(color=JsCode(color_function)))\n",
    "    # .add_yaxis('强赎个数',y,itemstyle_opts=opts.ItemStyleOpts(color=JsCode(color_function)))\n",
    "    .set_global_opts(\n",
    "        xaxis_opts=opts.AxisOpts(axislabel_opts=opts.LabelOpts(rotate=30)),\n",
    "        title_opts=opts.TitleOpts(title=\"分布\"),\n",
    "    ).set_colors(['blue'])\n",
    "    .render(\"../plot_image/阳线数据.html\")\n",
    ")"
   ]
  },
  {
   "cell_type": "code",
   "execution_count": 22,
   "metadata": {},
   "outputs": [],
   "source": [
    "jsl_df = joblib.load('jslindex.job')"
   ]
  },
  {
   "cell_type": "code",
   "execution_count": 30,
   "metadata": {},
   "outputs": [
    {
     "data": {
      "text/html": [
       "<div>\n",
       "<style scoped>\n",
       "    .dataframe tbody tr th:only-of-type {\n",
       "        vertical-align: middle;\n",
       "    }\n",
       "\n",
       "    .dataframe tbody tr th {\n",
       "        vertical-align: top;\n",
       "    }\n",
       "\n",
       "    .dataframe thead th {\n",
       "        text-align: right;\n",
       "    }\n",
       "</style>\n",
       "<table border=\"1\" class=\"dataframe\">\n",
       "  <thead>\n",
       "    <tr style=\"text-align: right;\">\n",
       "      <th></th>\n",
       "      <th>index</th>\n",
       "    </tr>\n",
       "    <tr>\n",
       "      <th>date</th>\n",
       "      <th></th>\n",
       "    </tr>\n",
       "  </thead>\n",
       "  <tbody>\n",
       "    <tr>\n",
       "      <th>2022-01-07</th>\n",
       "      <td>2068.342</td>\n",
       "    </tr>\n",
       "    <tr>\n",
       "      <th>2022-01-06</th>\n",
       "      <td>2081.413</td>\n",
       "    </tr>\n",
       "    <tr>\n",
       "      <th>2022-01-05</th>\n",
       "      <td>2069.925</td>\n",
       "    </tr>\n",
       "    <tr>\n",
       "      <th>2022-01-04</th>\n",
       "      <td>2089.398</td>\n",
       "    </tr>\n",
       "    <tr>\n",
       "      <th>2021-12-31</th>\n",
       "      <td>2073.268</td>\n",
       "    </tr>\n",
       "  </tbody>\n",
       "</table>\n",
       "</div>"
      ],
      "text/plain": [
       "               index\n",
       "date                \n",
       "2022-01-07  2068.342\n",
       "2022-01-06  2081.413\n",
       "2022-01-05  2069.925\n",
       "2022-01-04  2089.398\n",
       "2021-12-31  2073.268"
      ]
     },
     "execution_count": 30,
     "metadata": {},
     "output_type": "execute_result"
    }
   ],
   "source": [
    "jsl_df[jsl_df>=2018].head()"
   ]
  },
  {
   "cell_type": "code",
   "execution_count": 31,
   "metadata": {},
   "outputs": [
    {
     "data": {
      "text/html": [
       "<div>\n",
       "<style scoped>\n",
       "    .dataframe tbody tr th:only-of-type {\n",
       "        vertical-align: middle;\n",
       "    }\n",
       "\n",
       "    .dataframe tbody tr th {\n",
       "        vertical-align: top;\n",
       "    }\n",
       "\n",
       "    .dataframe thead th {\n",
       "        text-align: right;\n",
       "    }\n",
       "</style>\n",
       "<table border=\"1\" class=\"dataframe\">\n",
       "  <thead>\n",
       "    <tr style=\"text-align: right;\">\n",
       "      <th></th>\n",
       "      <th>index</th>\n",
       "    </tr>\n",
       "    <tr>\n",
       "      <th>date</th>\n",
       "      <th></th>\n",
       "    </tr>\n",
       "  </thead>\n",
       "  <tbody>\n",
       "    <tr>\n",
       "      <th>2022-01-07</th>\n",
       "      <td>2068.342</td>\n",
       "    </tr>\n",
       "    <tr>\n",
       "      <th>2022-01-06</th>\n",
       "      <td>2081.413</td>\n",
       "    </tr>\n",
       "    <tr>\n",
       "      <th>2022-01-05</th>\n",
       "      <td>2069.925</td>\n",
       "    </tr>\n",
       "    <tr>\n",
       "      <th>2022-01-04</th>\n",
       "      <td>2089.398</td>\n",
       "    </tr>\n",
       "    <tr>\n",
       "      <th>2021-12-31</th>\n",
       "      <td>2073.268</td>\n",
       "    </tr>\n",
       "  </tbody>\n",
       "</table>\n",
       "</div>"
      ],
      "text/plain": [
       "               index\n",
       "date                \n",
       "2022-01-07  2068.342\n",
       "2022-01-06  2081.413\n",
       "2022-01-05  2069.925\n",
       "2022-01-04  2089.398\n",
       "2021-12-31  2073.268"
      ]
     },
     "execution_count": 31,
     "metadata": {},
     "output_type": "execute_result"
    }
   ],
   "source": [
    "jsl_df.head()"
   ]
  },
  {
   "cell_type": "code",
   "execution_count": 32,
   "metadata": {},
   "outputs": [
    {
     "data": {
      "text/plain": [
       "pandas.core.frame.DataFrame"
      ]
     },
     "execution_count": 32,
     "metadata": {},
     "output_type": "execute_result"
    }
   ],
   "source": [
    "type(jsl_df)"
   ]
  },
  {
   "cell_type": "code",
   "execution_count": 37,
   "metadata": {},
   "outputs": [],
   "source": [
    "jsl_month = jsl_df.resample('M')\n"
   ]
  },
  {
   "cell_type": "code",
   "execution_count": 49,
   "metadata": {},
   "outputs": [],
   "source": [
    "jsl_month = jsl_df.resample('M')['index']"
   ]
  },
  {
   "cell_type": "code",
   "execution_count": 51,
   "metadata": {},
   "outputs": [
    {
     "name": "stderr",
     "output_type": "stream",
     "text": [
      "<ipython-input-51-e2c15dcec3d8>:1: FutureWarning: Indexing a DataFrame with a datetimelike index using a single string to slice the rows, like `frame[string]`, is deprecated and will be removed in a future version. Use `frame.loc[string]` instead.\n",
      "  jsl_df['2018-01-31']\n"
     ]
    },
    {
     "data": {
      "text/html": [
       "<div>\n",
       "<style scoped>\n",
       "    .dataframe tbody tr th:only-of-type {\n",
       "        vertical-align: middle;\n",
       "    }\n",
       "\n",
       "    .dataframe tbody tr th {\n",
       "        vertical-align: top;\n",
       "    }\n",
       "\n",
       "    .dataframe thead th {\n",
       "        text-align: right;\n",
       "    }\n",
       "</style>\n",
       "<table border=\"1\" class=\"dataframe\">\n",
       "  <thead>\n",
       "    <tr style=\"text-align: right;\">\n",
       "      <th></th>\n",
       "      <th>index</th>\n",
       "    </tr>\n",
       "    <tr>\n",
       "      <th>date</th>\n",
       "      <th></th>\n",
       "    </tr>\n",
       "  </thead>\n",
       "  <tbody>\n",
       "    <tr>\n",
       "      <th>2018-01-31</th>\n",
       "      <td>1030.119</td>\n",
       "    </tr>\n",
       "  </tbody>\n",
       "</table>\n",
       "</div>"
      ],
      "text/plain": [
       "               index\n",
       "date                \n",
       "2018-01-31  1030.119"
      ]
     },
     "execution_count": 51,
     "metadata": {},
     "output_type": "execute_result"
    }
   ],
   "source": [
    "jsl_df['2018-01-31']"
   ]
  },
  {
   "cell_type": "code",
   "execution_count": 50,
   "metadata": {},
   "outputs": [
    {
     "data": {
      "text/plain": [
       "date\n",
       "2017-12-31    1000.000000\n",
       "2018-01-31    1031.486636\n",
       "2018-02-28    1020.097533\n",
       "2018-03-31    1035.977545\n",
       "2018-04-30    1038.847056\n",
       "2018-05-31    1038.812409\n",
       "2018-06-30     987.795550\n",
       "2018-07-31     992.460500\n",
       "2018-08-31     983.876522\n",
       "2018-09-30     978.025211\n",
       "2018-10-31     952.810611\n",
       "2018-11-30     980.348727\n",
       "2018-12-31     983.078750\n",
       "2019-01-31    1000.149455\n",
       "2019-02-28    1062.953600\n",
       "2019-03-31    1152.062762\n",
       "2019-04-30    1179.154333\n",
       "2019-05-31    1113.502950\n",
       "2019-06-30    1099.082895\n",
       "2019-07-31    1124.350652\n",
       "2019-08-31    1137.929455\n",
       "2019-09-30    1183.273900\n",
       "2019-10-31    1178.278278\n",
       "2019-11-30    1172.972619\n",
       "2019-12-31    1202.640000\n",
       "2020-01-31    1278.029250\n",
       "2020-02-29    1321.182750\n",
       "2020-03-31    1362.683727\n",
       "2020-04-30    1382.537286\n",
       "2020-05-31    1371.005667\n",
       "2020-06-30    1375.623000\n",
       "2020-07-31    1464.833957\n",
       "2020-08-31    1537.615429\n",
       "2020-09-30    1505.966273\n",
       "2020-10-31    1548.382250\n",
       "2020-11-30    1548.976524\n",
       "2020-12-31    1525.874087\n",
       "2021-01-31    1532.376950\n",
       "2021-02-28    1459.699400\n",
       "2021-03-31    1508.736391\n",
       "2021-04-30    1531.397143\n",
       "2021-05-31    1595.003889\n",
       "2021-06-30    1634.515857\n",
       "2021-07-31    1711.703091\n",
       "2021-08-31    1814.497773\n",
       "2021-09-30    1884.728300\n",
       "2021-10-31    1844.143063\n",
       "2021-11-30    1960.510591\n",
       "2021-12-31    2042.337913\n",
       "2022-01-31    2077.269500\n",
       "Freq: M, Name: index, dtype: float64"
      ]
     },
     "execution_count": 50,
     "metadata": {},
     "output_type": "execute_result"
    }
   ],
   "source": [
    "jsl_month.mean()"
   ]
  },
  {
   "cell_type": "code",
   "execution_count": 42,
   "metadata": {},
   "outputs": [
    {
     "data": {
      "text/plain": [
       "['__annotations__',\n",
       " '__class__',\n",
       " '__class_getitem__',\n",
       " '__delattr__',\n",
       " '__dict__',\n",
       " '__dir__',\n",
       " '__doc__',\n",
       " '__eq__',\n",
       " '__format__',\n",
       " '__ge__',\n",
       " '__getattr__',\n",
       " '__getattribute__',\n",
       " '__getitem__',\n",
       " '__gt__',\n",
       " '__hash__',\n",
       " '__init__',\n",
       " '__init_subclass__',\n",
       " '__iter__',\n",
       " '__le__',\n",
       " '__len__',\n",
       " '__lt__',\n",
       " '__module__',\n",
       " '__ne__',\n",
       " '__new__',\n",
       " '__orig_bases__',\n",
       " '__parameters__',\n",
       " '__reduce__',\n",
       " '__reduce_ex__',\n",
       " '__repr__',\n",
       " '__setattr__',\n",
       " '__sizeof__',\n",
       " '__slots__',\n",
       " '__str__',\n",
       " '__subclasshook__',\n",
       " '__weakref__',\n",
       " '_accessors',\n",
       " '_agg_examples_doc',\n",
       " '_agg_general',\n",
       " '_agg_py_fallback',\n",
       " '_aggregate_multiple_funcs',\n",
       " '_aggregate_named',\n",
       " '_aggregate_with_numba',\n",
       " '_apply_allowlist',\n",
       " '_apply_filter',\n",
       " '_bool_agg',\n",
       " '_can_use_transform_fast',\n",
       " '_concat_objects',\n",
       " '_constructor',\n",
       " '_cumcount_array',\n",
       " '_cython_agg_general',\n",
       " '_cython_transform',\n",
       " '_dir_additions',\n",
       " '_dir_deletions',\n",
       " '_fill',\n",
       " '_get_cythonized_result',\n",
       " '_get_index',\n",
       " '_get_indices',\n",
       " '_gotitem',\n",
       " '_group_selection',\n",
       " '_hidden_attrs',\n",
       " '_internal_names',\n",
       " '_internal_names_set',\n",
       " '_is_protocol',\n",
       " '_iterate_slices',\n",
       " '_make_wrapper',\n",
       " '_numba_prep',\n",
       " '_obj_1d_constructor',\n",
       " '_obj_with_exclusions',\n",
       " '_python_agg_general',\n",
       " '_python_apply_general',\n",
       " '_reindex_output',\n",
       " '_reset_cache',\n",
       " '_reset_group_selection',\n",
       " '_resolve_numeric_only',\n",
       " '_selected_obj',\n",
       " '_selection',\n",
       " '_selection_list',\n",
       " '_set_group_selection',\n",
       " '_set_result_index_ordered',\n",
       " '_transform',\n",
       " '_transform_general',\n",
       " '_transform_with_numba',\n",
       " '_wrap_aggregated_output',\n",
       " '_wrap_applied_output',\n",
       " '_wrap_transform_fast_result',\n",
       " '_wrap_transformed_output',\n",
       " 'agg',\n",
       " 'aggregate',\n",
       " 'all',\n",
       " 'any',\n",
       " 'apply',\n",
       " 'backfill',\n",
       " 'bfill',\n",
       " 'corr',\n",
       " 'count',\n",
       " 'cov',\n",
       " 'cumcount',\n",
       " 'cummax',\n",
       " 'cummin',\n",
       " 'cumprod',\n",
       " 'cumsum',\n",
       " 'describe',\n",
       " 'diff',\n",
       " 'dtype',\n",
       " 'ewm',\n",
       " 'expanding',\n",
       " 'ffill',\n",
       " 'fillna',\n",
       " 'filter',\n",
       " 'first',\n",
       " 'get_group',\n",
       " 'groups',\n",
       " 'head',\n",
       " 'hist',\n",
       " 'idxmax',\n",
       " 'idxmin',\n",
       " 'indices',\n",
       " 'is_monotonic_decreasing',\n",
       " 'is_monotonic_increasing',\n",
       " 'last',\n",
       " 'mad',\n",
       " 'max',\n",
       " 'mean',\n",
       " 'median',\n",
       " 'min',\n",
       " 'ndim',\n",
       " 'ngroup',\n",
       " 'ngroups',\n",
       " 'nlargest',\n",
       " 'nsmallest',\n",
       " 'nth',\n",
       " 'nunique',\n",
       " 'ohlc',\n",
       " 'pad',\n",
       " 'pct_change',\n",
       " 'pipe',\n",
       " 'plot',\n",
       " 'prod',\n",
       " 'quantile',\n",
       " 'rank',\n",
       " 'resample',\n",
       " 'rolling',\n",
       " 'sample',\n",
       " 'sem',\n",
       " 'shift',\n",
       " 'size',\n",
       " 'skew',\n",
       " 'std',\n",
       " 'sum',\n",
       " 'tail',\n",
       " 'take',\n",
       " 'transform',\n",
       " 'tshift',\n",
       " 'unique',\n",
       " 'value_counts',\n",
       " 'var']"
      ]
     },
     "execution_count": 42,
     "metadata": {},
     "output_type": "execute_result"
    }
   ],
   "source": [
    "dir(jsl_month)"
   ]
  },
  {
   "cell_type": "code",
   "execution_count": null,
   "metadata": {},
   "outputs": [],
   "source": [
    "month = df.resample('M')['code'].count()\n",
    "x=list(map(lambda x:x.strftime(\"%Y-%m\"),month.index))\n",
    "y=list(map(lambda x:int(x),month.values))"
   ]
  },
  {
   "cell_type": "code",
   "execution_count": 85,
   "metadata": {},
   "outputs": [],
   "source": [
    "# jsl_df\n",
    "x2=list(map(lambda x:x.strftime(\"%Y-%m\"),jsl_df.index))\n",
    "y2=list(map(lambda x:int(x),jsl_df['index'].values))\n",
    "filter_x =[]\n",
    "filter_y =[]\n",
    "for i in range(0,len(x2),20):\n",
    "    filter_x.append(x2[i])\n",
    "    filter_y.append(y2[i])"
   ]
  },
  {
   "cell_type": "code",
   "execution_count": 93,
   "metadata": {},
   "outputs": [
    {
     "data": {
      "text/plain": [
       "'/home/xda/hub/convertible_bond/plot_image/for_temp.html'"
      ]
     },
     "execution_count": 93,
     "metadata": {},
     "output_type": "execute_result"
    }
   ],
   "source": [
    "bar = (\n",
    "    Bar()\n",
    "    .add_xaxis(\n",
    "        x\n",
    "    )\n",
    "    .add_yaxis('强赎个数',y,itemstyle_opts=opts.ItemStyleOpts(color=JsCode(color_function)))\n",
    "    .extend_axis( # 设置次坐标轴\n",
    "        yaxis=opts.AxisOpts(\n",
    "            name=\"集思录指数\",  # 次坐标轴名称\n",
    "            type_=\"value\", # 次坐标手类型\n",
    "            min_=min(filter_y),  # 最小值\n",
    "            max_=max(filter_y),  # 最大值\n",
    "            is_show=True, # 是否显示\n",
    "            axisline_opts=opts.AxisLineOpts(is_show=True,# y轴线不显示\n",
    "                                           linestyle_opts=opts.LineStyleOpts(color='#FF0000')), # 设置线颜色, 字体颜色也变\n",
    "            axistick_opts=opts.AxisTickOpts(is_show=True),   # 刻度线不显示\n",
    "            axislabel_opts=opts.LabelOpts(formatter=\"{value}\"), # 次坐标轴数据显示格式\n",
    "                            )\n",
    "                ) \n",
    "    .set_global_opts(\n",
    "        xaxis_opts=opts.AxisOpts(axislabel_opts=opts.LabelOpts(rotate=90),\n",
    "        min_interval=1,\n",
    "        # interval=1,\n",
    "        splitline_opts=opts.SplitLineOpts(is_show=True),\n",
    "        ),\n",
    "        title_opts=opts.TitleOpts(title=\"每月强赎个数\"),\n",
    "        \n",
    "    ).set_colors(['green'])\n",
    ")\n",
    "\n",
    "line = (\n",
    "    Line()\n",
    "    .add_xaxis(xaxis_data=filter_x) # x轴\n",
    "    .add_yaxis(\n",
    "        series_name=\"集思录指数\",  # 名称\n",
    "        yaxis_index=1,  # 次坐标\n",
    "        is_smooth=True,# 线条样式  , 是否设置成圆滑曲线\n",
    "        y_axis=filter_y,\n",
    "        label_opts=opts.LabelOpts(is_show=False),\n",
    "        itemstyle_opts=opts.ItemStyleOpts(color=\"#FF0000\"),     # 标记的颜色\n",
    "        linestyle_opts=opts.LineStyleOpts(width=2,color ='#FF0000'), # 线条颜色和宽度\n",
    "        )\n",
    "    )\n",
    "\n",
    "\n",
    "bar.overlap(line) # 图表组合\n",
    "bar.render(\"../plot_image/for_temp.html\")"
   ]
  },
  {
   "cell_type": "code",
   "execution_count": 33,
   "metadata": {},
   "outputs": [],
   "source": [
    "class A:\n",
    "    pass\n",
    "a=(A())"
   ]
  },
  {
   "cell_type": "code",
   "execution_count": 34,
   "metadata": {},
   "outputs": [
    {
     "data": {
      "text/plain": [
       "__main__.A"
      ]
     },
     "execution_count": 34,
     "metadata": {},
     "output_type": "execute_result"
    }
   ],
   "source": [
    "type(a)"
   ]
  },
  {
   "cell_type": "code",
   "execution_count": 35,
   "metadata": {},
   "outputs": [
    {
     "name": "stdout",
     "output_type": "stream",
     "text": [
      "i am joe,you are kane\n"
     ]
    }
   ],
   "source": [
    "a=(\n",
    "    'i am joe,'\n",
    "    'you are kane'\n",
    ")\n",
    "print(a)"
   ]
  },
  {
   "cell_type": "code",
   "execution_count": null,
   "metadata": {},
   "outputs": [],
   "source": []
  }
 ],
 "metadata": {
  "interpreter": {
   "hash": "513dc2e41d739bb2c947903f3c0bbf636d03aa53ab50e61c694a27481c81805e"
  },
  "kernelspec": {
   "display_name": "Python 3.8.3 64-bit ('base': conda)",
   "name": "python3"
  },
  "language_info": {
   "codemirror_mode": {
    "name": "ipython",
    "version": 3
   },
   "file_extension": ".py",
   "mimetype": "text/x-python",
   "name": "python",
   "nbconvert_exporter": "python",
   "pygments_lexer": "ipython3",
   "version": "3.8.3"
  },
  "orig_nbformat": 4
 },
 "nbformat": 4,
 "nbformat_minor": 2
}
