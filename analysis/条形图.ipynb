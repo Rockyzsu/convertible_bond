{
 "cells": [
  {
   "cell_type": "code",
   "execution_count": null,
   "metadata": {},
   "outputs": [],
   "source": [
    "from pyecharts import options as opts\n",
    "from pyecharts.charts import Bar,Line,Grid\n",
    "from pyecharts.commons.utils import JsCode\n",
    "import pandas as pd\n",
    "import joblib"
   ]
  },
  {
   "cell_type": "code",
   "execution_count": null,
   "metadata": {},
   "outputs": [],
   "source": [
    "df = joblib.load('强赎20220108.job')"
   ]
  },
  {
   "cell_type": "code",
   "execution_count": null,
   "metadata": {},
   "outputs": [],
   "source": [
    "df.info()"
   ]
  },
  {
   "cell_type": "code",
   "execution_count": null,
   "metadata": {},
   "outputs": [],
   "source": [
    "month = df.resample('M')['code'].count()\n",
    "x=list(map(lambda x:x.strftime(\"%Y-%m\"),month.index))\n",
    "y=list(map(lambda x:int(x),month.values))"
   ]
  },
  {
   "cell_type": "code",
   "execution_count": null,
   "metadata": {},
   "outputs": [],
   "source": [
    "#  数据读取\n",
    "import joblib\n",
    "data = joblib.load('top10.jb')\n",
    "x=data['x']\n",
    "y=data['y']"
   ]
  },
  {
   "cell_type": "code",
   "execution_count": null,
   "metadata": {},
   "outputs": [],
   "source": [
    "x"
   ]
  },
  {
   "cell_type": "code",
   "execution_count": null,
   "metadata": {},
   "outputs": [],
   "source": [
    "y"
   ]
  },
  {
   "cell_type": "code",
   "execution_count": null,
   "metadata": {},
   "outputs": [],
   "source": [
    "import datetime\n",
    "today = datetime.date.today().strftime('%Y%m%d')\n",
    "color_function = \"\"\"\n",
    "        function (params) {\n",
    "            return 'green';\n",
    "        }\n",
    "        \"\"\"\n",
    "title=''\n",
    "# x=[]\n",
    "# y=[]\n",
    "c = (\n",
    "    Bar()\n",
    "    .add_xaxis(\n",
    "        x\n",
    "    )\n",
    "    .add_yaxis(title,y,itemstyle_opts=opts.ItemStyleOpts(color=JsCode(color_function)))\n",
    "    .set_global_opts(\n",
    "        xaxis_opts=opts.AxisOpts(axislabel_opts=opts.LabelOpts(rotate=90),\n",
    "        min_interval=1,\n",
    "        interval=1,\n",
    "        ),\n",
    "        title_opts=opts.TitleOpts(title=title),\n",
    "    ).set_colors(['green'])\n",
    "    .render(\"../plot_image/{}{}.html\".format(title,today))\n",
    ")"
   ]
  },
  {
   "cell_type": "code",
   "execution_count": null,
   "metadata": {},
   "outputs": [],
   "source": [
    "import datetime\n",
    "# 和指数绘制在一起\n",
    "today = datetime.date.today().strftime('%Y%m%d')\n",
    "color_function = \"\"\"\n",
    "        function (params) {\n",
    "            return 'green';\n",
    "        }\n",
    "        \"\"\"\n",
    "c = (\n",
    "    Bar()\n",
    "    .add_xaxis(\n",
    "        x\n",
    "    )\n",
    "    .add_yaxis('强赎个数',y,itemstyle_opts=opts.ItemStyleOpts(color=JsCode(color_function)))\n",
    "    .set_global_opts(\n",
    "        xaxis_opts=opts.AxisOpts(axislabel_opts=opts.LabelOpts(rotate=90),\n",
    "        min_interval=1,\n",
    "        interval=1,\n",
    "        ),\n",
    "        title_opts=opts.TitleOpts(title=\"强赎个数\"),\n",
    "    ).set_colors(['green'])\n",
    "    .render(\"../plot_image/强赎数据{}.html\".format(today))\n",
    ")"
   ]
  },
  {
   "cell_type": "code",
   "execution_count": null,
   "metadata": {},
   "outputs": [],
   "source": [
    "type(y)"
   ]
  },
  {
   "cell_type": "code",
   "execution_count": null,
   "metadata": {},
   "outputs": [],
   "source": [
    "type(y[0])"
   ]
  },
  {
   "cell_type": "code",
   "execution_count": null,
   "metadata": {},
   "outputs": [],
   "source": [
    "color_function = \"\"\"\n",
    "        function (params) {\n",
    "            if (params.value>71){\n",
    "            return 'green';}\n",
    "            else{\n",
    "                return 'red'\n",
    "            }\n",
    "\n",
    "        }\n",
    "        \"\"\"\n",
    "c = (\n",
    "    Bar(init_opts=opts.InitOpts(width=\"600px\"))\n",
    "    .add_xaxis(\n",
    "        ['阴线','阳线']\n",
    "    )\n",
    "    .add_yaxis(\"阴阳线分布\",[75,70],category_gap=\"90%\",itemstyle_opts=opts.ItemStyleOpts(color=JsCode(color_function)))\n",
    "    # .add_yaxis('强赎个数',y,itemstyle_opts=opts.ItemStyleOpts(color=JsCode(color_function)))\n",
    "    .set_global_opts(\n",
    "        xaxis_opts=opts.AxisOpts(axislabel_opts=opts.LabelOpts(rotate=30)),\n",
    "        title_opts=opts.TitleOpts(title=\"分布\"),\n",
    "    ).set_colors(['blue'])\n",
    "    .render(\"../plot_image/阳线数据.html\")\n",
    ")"
   ]
  },
  {
   "cell_type": "code",
   "execution_count": null,
   "metadata": {},
   "outputs": [],
   "source": [
    "jsl_df = joblib.load('jslindex.job')"
   ]
  },
  {
   "cell_type": "code",
   "execution_count": null,
   "metadata": {},
   "outputs": [],
   "source": [
    "jsl_df[jsl_df>=2018].head()"
   ]
  },
  {
   "cell_type": "code",
   "execution_count": null,
   "metadata": {},
   "outputs": [],
   "source": [
    "jsl_df.head()"
   ]
  },
  {
   "cell_type": "code",
   "execution_count": null,
   "metadata": {},
   "outputs": [],
   "source": [
    "type(jsl_df)"
   ]
  },
  {
   "cell_type": "code",
   "execution_count": null,
   "metadata": {},
   "outputs": [],
   "source": [
    "jsl_month = jsl_df.resample('M')\n"
   ]
  },
  {
   "cell_type": "code",
   "execution_count": null,
   "metadata": {},
   "outputs": [],
   "source": [
    "jsl_month = jsl_df.resample('M')['index']"
   ]
  },
  {
   "cell_type": "code",
   "execution_count": null,
   "metadata": {},
   "outputs": [],
   "source": [
    "jsl_df['2018-01-31']"
   ]
  },
  {
   "cell_type": "code",
   "execution_count": null,
   "metadata": {},
   "outputs": [],
   "source": [
    "jsl_month.mean()"
   ]
  },
  {
   "cell_type": "code",
   "execution_count": null,
   "metadata": {},
   "outputs": [],
   "source": [
    "dir(jsl_month)"
   ]
  },
  {
   "cell_type": "code",
   "execution_count": null,
   "metadata": {},
   "outputs": [],
   "source": [
    "month = df.resample('M')['code'].count()\n",
    "x=list(map(lambda x:x.strftime(\"%Y-%m\"),month.index))\n",
    "y=list(map(lambda x:int(x),month.values))"
   ]
  },
  {
   "cell_type": "code",
   "execution_count": null,
   "metadata": {},
   "outputs": [],
   "source": [
    "# jsl_df\n",
    "x2=list(map(lambda x:x.strftime(\"%Y-%m\"),jsl_df.index))\n",
    "y2=list(map(lambda x:int(x),jsl_df['index'].values))\n",
    "filter_x =[]\n",
    "filter_y =[]\n",
    "for i in range(0,len(x2),20):\n",
    "    filter_x.append(x2[i])\n",
    "    filter_y.append(y2[i])"
   ]
  },
  {
   "cell_type": "code",
   "execution_count": null,
   "metadata": {},
   "outputs": [],
   "source": [
    "bar = (\n",
    "    Bar()\n",
    "    .add_xaxis(\n",
    "        x\n",
    "    )\n",
    "    .add_yaxis('强赎个数',y,itemstyle_opts=opts.ItemStyleOpts(color=JsCode(color_function)))\n",
    "    .extend_axis( # 设置次坐标轴\n",
    "        yaxis=opts.AxisOpts(\n",
    "            name=\"集思录指数\",  # 次坐标轴名称\n",
    "            type_=\"value\", # 次坐标手类型\n",
    "            min_=min(filter_y),  # 最小值\n",
    "            max_=max(filter_y),  # 最大值\n",
    "            is_show=True, # 是否显示\n",
    "            axisline_opts=opts.AxisLineOpts(is_show=True,# y轴线不显示\n",
    "                                           linestyle_opts=opts.LineStyleOpts(color='#FF0000')), # 设置线颜色, 字体颜色也变\n",
    "            axistick_opts=opts.AxisTickOpts(is_show=True),   # 刻度线不显示\n",
    "            axislabel_opts=opts.LabelOpts(formatter=\"{value}\"), # 次坐标轴数据显示格式\n",
    "                            )\n",
    "                ) \n",
    "    .set_global_opts(\n",
    "        xaxis_opts=opts.AxisOpts(axislabel_opts=opts.LabelOpts(rotate=90),\n",
    "        min_interval=1,\n",
    "        # interval=1,\n",
    "        splitline_opts=opts.SplitLineOpts(is_show=True),\n",
    "        ),\n",
    "        title_opts=opts.TitleOpts(title=\"每月强赎个数\"),\n",
    "        \n",
    "    ).set_colors(['green'])\n",
    ")\n",
    "\n",
    "line = (\n",
    "    Line()\n",
    "    .add_xaxis(xaxis_data=filter_x) # x轴\n",
    "    .add_yaxis(\n",
    "        series_name=\"集思录指数\",  # 名称\n",
    "        yaxis_index=1,  # 次坐标\n",
    "        is_smooth=True,# 线条样式  , 是否设置成圆滑曲线\n",
    "        y_axis=filter_y,\n",
    "        label_opts=opts.LabelOpts(is_show=False),\n",
    "        itemstyle_opts=opts.ItemStyleOpts(color=\"#FF0000\"),     # 标记的颜色\n",
    "        linestyle_opts=opts.LineStyleOpts(width=2,color ='#FF0000'), # 线条颜色和宽度\n",
    "        )\n",
    "    )\n",
    "\n",
    "\n",
    "bar.overlap(line) # 图表组合\n",
    "bar.render(\"../plot_image/for_temp.html\")"
   ]
  },
  {
   "cell_type": "code",
   "execution_count": null,
   "metadata": {},
   "outputs": [],
   "source": [
    "class A:\n",
    "    pass\n",
    "a=(A())"
   ]
  },
  {
   "cell_type": "code",
   "execution_count": null,
   "metadata": {},
   "outputs": [],
   "source": [
    "type(a)"
   ]
  },
  {
   "cell_type": "code",
   "execution_count": null,
   "metadata": {},
   "outputs": [],
   "source": [
    "a=(\n",
    "    'i am joe,'\n",
    "    'you are kane'\n",
    ")\n",
    "print(a)"
   ]
  },
  {
   "cell_type": "code",
   "execution_count": null,
   "metadata": {},
   "outputs": [],
   "source": []
  }
 ],
 "metadata": {
  "interpreter": {
   "hash": "513dc2e41d739bb2c947903f3c0bbf636d03aa53ab50e61c694a27481c81805e"
  },
  "kernelspec": {
   "display_name": "Python 3.8.3 64-bit ('base': conda)",
   "name": "python3"
  },
  "language_info": {
   "codemirror_mode": {
    "name": "ipython",
    "version": 3
   },
   "file_extension": ".py",
   "mimetype": "text/x-python",
   "name": "python",
   "nbconvert_exporter": "python",
   "pygments_lexer": "ipython3",
   "version": "3.8.3"
  },
  "orig_nbformat": 4
 },
 "nbformat": 4,
 "nbformat_minor": 2
}
