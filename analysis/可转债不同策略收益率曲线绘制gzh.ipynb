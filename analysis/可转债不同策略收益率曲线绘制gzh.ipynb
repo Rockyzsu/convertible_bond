{
 "cells": [
  {
   "cell_type": "code",
   "execution_count": 1,
   "metadata": {},
   "outputs": [],
   "source": [
    "import os\n",
    "import pandas as pd\n",
    "import pyecharts.options as opts\n",
    "from pyecharts.charts import Line\n",
    "from pyecharts.faker import Faker\n",
    "from pyecharts.commons.utils import JsCode\n",
    "from datetime import  datetime,date\n",
    "\n",
    "import matplotlib.pyplot as plt\n",
    "%matplotlib inline\n",
    "\n",
    "def convert_time(x):\n",
    "    return str(x).replace(' 00:00:00','')"
   ]
  },
  {
   "cell_type": "code",
   "execution_count": 2,
   "metadata": {},
   "outputs": [],
   "source": [
    "ROOT=r'C:\\git\\convertible_bond\\data'\n",
    "date =date.today()"
   ]
  },
  {
   "cell_type": "code",
   "execution_count": 3,
   "metadata": {},
   "outputs": [],
   "source": [
    "rotation_rate = 5"
   ]
  },
  {
   "cell_type": "code",
   "execution_count": 4,
   "metadata": {},
   "outputs": [],
   "source": [
    "filename = '{}低溢价{}天2022-all.xlsx'.format(date,rotation_rate)\n",
    "df = pd.read_excel(os.path.join(ROOT,filename))"
   ]
  },
  {
   "cell_type": "code",
   "execution_count": 5,
   "metadata": {},
   "outputs": [],
   "source": [
    "filename2='{}双低{}天2022-all.xlsx'.format(date,rotation_rate)\n",
    "df2 = pd.read_excel(os.path.join(ROOT,filename2))"
   ]
  },
  {
   "cell_type": "code",
   "execution_count": 6,
   "metadata": {},
   "outputs": [],
   "source": [
    "filename3='{}低价{}天2022-all.xlsx'.format(date,rotation_rate)\n",
    "df3 = pd.read_excel(os.path.join(ROOT,filename3))"
   ]
  },
  {
   "cell_type": "code",
   "execution_count": 6,
   "metadata": {
    "scrolled": false
   },
   "outputs": [
    {
     "data": {
      "text/html": [
       "<div>\n",
       "<style scoped>\n",
       "    .dataframe tbody tr th:only-of-type {\n",
       "        vertical-align: middle;\n",
       "    }\n",
       "\n",
       "    .dataframe tbody tr th {\n",
       "        vertical-align: top;\n",
       "    }\n",
       "\n",
       "    .dataframe thead th {\n",
       "        text-align: right;\n",
       "    }\n",
       "</style>\n",
       "<table border=\"1\" class=\"dataframe\">\n",
       "  <thead>\n",
       "    <tr style=\"text-align: right;\">\n",
       "      <th></th>\n",
       "      <th>Unnamed: 0</th>\n",
       "      <th>daily_profit</th>\n",
       "      <th>当前市值</th>\n",
       "      <th>收益率</th>\n",
       "      <th>日期</th>\n",
       "      <th>最大回撤</th>\n",
       "    </tr>\n",
       "  </thead>\n",
       "  <tbody>\n",
       "    <tr>\n",
       "      <th>0</th>\n",
       "      <td>0</td>\n",
       "      <td>0.000000</td>\n",
       "      <td>1.000000e+08</td>\n",
       "      <td>0.00</td>\n",
       "      <td>20220104</td>\n",
       "      <td>0.00</td>\n",
       "    </tr>\n",
       "    <tr>\n",
       "      <th>1</th>\n",
       "      <td>1</td>\n",
       "      <td>-3.099298</td>\n",
       "      <td>9.690070e+07</td>\n",
       "      <td>-3.10</td>\n",
       "      <td>20220105</td>\n",
       "      <td>3.10</td>\n",
       "    </tr>\n",
       "    <tr>\n",
       "      <th>2</th>\n",
       "      <td>2</td>\n",
       "      <td>2.321256</td>\n",
       "      <td>9.915002e+07</td>\n",
       "      <td>-0.85</td>\n",
       "      <td>20220106</td>\n",
       "      <td>3.10</td>\n",
       "    </tr>\n",
       "    <tr>\n",
       "      <th>3</th>\n",
       "      <td>3</td>\n",
       "      <td>-2.380807</td>\n",
       "      <td>9.678945e+07</td>\n",
       "      <td>-3.21</td>\n",
       "      <td>20220107</td>\n",
       "      <td>3.21</td>\n",
       "    </tr>\n",
       "    <tr>\n",
       "      <th>4</th>\n",
       "      <td>4</td>\n",
       "      <td>-0.854179</td>\n",
       "      <td>9.596269e+07</td>\n",
       "      <td>-4.04</td>\n",
       "      <td>20220110</td>\n",
       "      <td>4.04</td>\n",
       "    </tr>\n",
       "  </tbody>\n",
       "</table>\n",
       "</div>"
      ],
      "text/plain": [
       "   Unnamed: 0  daily_profit          当前市值   收益率        日期  最大回撤\n",
       "0           0      0.000000  1.000000e+08  0.00  20220104  0.00\n",
       "1           1     -3.099298  9.690070e+07 -3.10  20220105  3.10\n",
       "2           2      2.321256  9.915002e+07 -0.85  20220106  3.10\n",
       "3           3     -2.380807  9.678945e+07 -3.21  20220107  3.21\n",
       "4           4     -0.854179  9.596269e+07 -4.04  20220110  4.04"
      ]
     },
     "execution_count": 6,
     "metadata": {},
     "output_type": "execute_result"
    }
   ],
   "source": [
    "df.head()"
   ]
  },
  {
   "cell_type": "code",
   "execution_count": 7,
   "metadata": {},
   "outputs": [],
   "source": [
    "df['日期']=pd.to_datetime(df['日期'],format='%Y%m%d')\n",
    "df.set_index('日期',drop=True,inplace=True)"
   ]
  },
  {
   "cell_type": "code",
   "execution_count": 8,
   "metadata": {},
   "outputs": [],
   "source": [
    "df2['日期']=pd.to_datetime(df2['日期'],format='%Y%m%d')\n",
    "df2.set_index('日期',drop=True,inplace=True)"
   ]
  },
  {
   "cell_type": "code",
   "execution_count": 9,
   "metadata": {},
   "outputs": [],
   "source": [
    "df3['日期']=pd.to_datetime(df3['日期'],format='%Y%m%d')\n",
    "df3.set_index('日期',drop=True,inplace=True)"
   ]
  },
  {
   "cell_type": "code",
   "execution_count": 10,
   "metadata": {},
   "outputs": [],
   "source": [
    "background_color_js = (\n",
    "    \"new echarts.graphic.LinearGradient(0, 0, 0, 1, \"\n",
    "    \"[{offset: 0, color: '#c86589'}, {offset: 1, color: '#06a7ff'}], false)\"\n",
    ")\n",
    "area_color_js = (\n",
    "    \"new echarts.graphic.LinearGradient(0, 0, 0, 1, \"\n",
    "    \"[{offset: 0, color: '#eb64fb'}, {offset: 1, color: '#3fbbff0d'}], false)\"\n",
    ")"
   ]
  },
  {
   "cell_type": "code",
   "execution_count": 10,
   "metadata": {},
   "outputs": [],
   "source": [
    "# 3曲线\n",
    "from datetime import datetime\n",
    "name = datetime.now().strftime('%Y%m%d')\n",
    "X=df.index.tolist()\n",
    "X=list(map(convert_time,X))\n",
    "Y=df['收益率'].map(lambda x:round(x,0)).tolist()\n",
    "Y2=df2['收益率'].map(lambda x:round(x,0)).tolist()\n",
    "Y3=df3['收益率'].map(lambda x:round(x,0)).tolist()\n",
    "title=\"低溢价\"\n",
    "title2=\"双低\"\n",
    "title3='低价'\n",
    "\n",
    "full_title = '2022年 低溢价，双低，低价[10只，1天轮]'\n",
    "full_title1 = '低溢价，双低，低价收益率【10只，1天轮动】'\n",
    "\n",
    "types=full_title1\n",
    "y_min = min(min(min(Y),min(Y2)),min(Y3))\n",
    "y_max = max(max(max(Y),max(Y2)),min(Y3))\n",
    "\n",
    "c = (\n",
    "    Line()\n",
    "    .add_xaxis(X)\n",
    "    .add_yaxis(title, Y, is_smooth=True,\n",
    "    label_opts=opts.LabelOpts(is_show=False),\n",
    "linestyle_opts=opts.LineStyleOpts(width=2,color='rgb(255, 0, 0)'),\n",
    "    ).add_yaxis(title2, Y2, is_smooth=True,\n",
    "linestyle_opts=opts.LineStyleOpts(width=2,color='rgb(0, 0, 255)'),\n",
    "label_opts=opts.LabelOpts(is_show=False),\n",
    "    ).add_yaxis(title3, Y3, is_smooth=True,\n",
    "linestyle_opts=opts.LineStyleOpts(width=2,color='rgb(0, 255, 0)'),\n",
    "label_opts=opts.LabelOpts(is_show=False),\n",
    "    ).set_global_opts(\n",
    "        title_opts=opts.TitleOpts(title=full_title),\n",
    "        xaxis_opts=opts.AxisOpts(\n",
    "                                name='日期',\n",
    "                                min_interval=1,\n",
    "                                splitline_opts=opts.SplitLineOpts(is_show=True),\n",
    "           axislabel_opts=opts.LabelOpts(rotate=55),\n",
    "                                ),\n",
    "        yaxis_opts=opts.AxisOpts(name='收益率%',\n",
    "                                interval=1,\n",
    "                                 min_=y_min-2,\n",
    "                                 max_=y_max+2,\n",
    "            splitline_opts=opts.SplitLineOpts(is_show=True),\n",
    "        )\n",
    "                                    )\n",
    "                                    .set_colors(['red','blue','green']) # 点的颜色\n",
    "    .render(f\"../plot_image/多曲线plot_line_{name}_{types}_{date}_{rotation_rate}.html\")\n",
    ")"
   ]
  },
  {
   "cell_type": "code",
   "execution_count": 11,
   "metadata": {},
   "outputs": [
    {
     "name": "stdout",
     "output_type": "stream",
     "text": [
      "低溢价:  收益率： -17.89% 最大回撤： 21.78%\n",
      "双低:  收益率： -5.54% 最大回撤： 10.4%\n",
      "低价格:  收益率： 0.22% 最大回撤： 4.66%\n"
     ]
    }
   ],
   "source": [
    "#收益率\n",
    "data_list = [df,df2,df3]\n",
    "label =['低溢价','双低','低价格']\n",
    "for index,x in enumerate(data_list):\n",
    "    v=x.iloc[-1]['收益率']\n",
    "    withdraw =x.iloc[-1]['最大回撤']\n",
    "    print(\"{}: \".format(label[index]),'收益率： {}%'.format(v),'最大回撤： {}%'.format(withdraw))\n"
   ]
  },
  {
   "cell_type": "code",
   "execution_count": 12,
   "metadata": {},
   "outputs": [
    {
     "name": "stdout",
     "output_type": "stream",
     "text": [
      "|策略|收益率|最大回撤|\n",
      "|---|---|---|\n",
      "|低溢价|-14.17|21.78||双低|-4.22|10.4||低价格|-0.24|4.66|\n"
     ]
    }
   ],
   "source": [
    "#收益率\n",
    "data_list = [df,df2,df3]\n",
    "label =['低溢价','双低','低价格']\n",
    "table ='''|策略|收益率|最大回撤|\n",
    "|---|---|---|\n",
    "'''\n",
    "for index,x in enumerate(data_list):\n",
    "    v=x.iloc[-1]['收益率']\n",
    "    withdraw =x.iloc[-1]['最大回撤']\n",
    "    table+='''|{}|{}|{}|'''.format(label[index],v,withdraw)\n",
    "\n",
    "print(table)"
   ]
  },
  {
   "cell_type": "code",
   "execution_count": null,
   "metadata": {},
   "outputs": [],
   "source": []
  }
 ],
 "metadata": {
  "interpreter": {
   "hash": "513dc2e41d739bb2c947903f3c0bbf636d03aa53ab50e61c694a27481c81805e"
  },
  "kernelspec": {
   "display_name": "Python 3.8.3 64-bit ('base': conda)",
   "name": "python3"
  },
  "language_info": {
   "codemirror_mode": {
    "name": "ipython",
    "version": 3
   },
   "file_extension": ".py",
   "mimetype": "text/x-python",
   "name": "python",
   "nbconvert_exporter": "python",
   "pygments_lexer": "ipython3",
   "version": "3.9.7"
  }
 },
 "nbformat": 4,
 "nbformat_minor": 2
}
