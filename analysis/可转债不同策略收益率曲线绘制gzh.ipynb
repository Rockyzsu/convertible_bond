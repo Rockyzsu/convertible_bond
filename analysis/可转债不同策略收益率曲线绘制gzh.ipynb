{
 "cells": [
  {
   "cell_type": "code",
   "execution_count": 1,
   "metadata": {},
   "outputs": [],
   "source": [
    "import os\n",
    "import pandas as pd\n",
    "import pyecharts.options as opts\n",
    "from pyecharts.charts import Line\n",
    "from pyecharts.faker import Faker\n",
    "from pyecharts.commons.utils import JsCode\n",
    "from datetime import  datetime,date\n",
    "\n",
    "import matplotlib.pyplot as plt\n",
    "%matplotlib inline\n",
    "\n",
    "def convert_time(x):\n",
    "    return str(x).replace(' 00:00:00','')"
   ]
  },
  {
   "cell_type": "code",
   "execution_count": 2,
   "metadata": {},
   "outputs": [],
   "source": [
    "# ROOT=r'C:\\git\\convertible_bond\\data'\n",
    "ROOT=r'C:\\git\\stock_strategy\\data'\n",
    "# ROOT='/home/xda/github/convertible_bond/data'\n",
    "date =date.today()\n",
    "# date='2022-08-27'"
   ]
  },
  {
   "cell_type": "code",
   "execution_count": 3,
   "metadata": {},
   "outputs": [],
   "source": [
    "rotation_rate = 1"
   ]
  },
  {
   "cell_type": "code",
   "execution_count": 16,
   "metadata": {},
   "outputs": [],
   "source": [
    "# filename = '{}低溢价{}天2022-all.xlsx'.format(date,rotation_rate)\n",
    "filename = 'net-profit-premratio-{}-{}.xlsx'.format(date,rotation_rate)\n",
    "# filename='old_double-low.xlsx'\n",
    "df = pd.read_excel(os.path.join(ROOT,filename))"
   ]
  },
  {
   "cell_type": "code",
   "execution_count": 17,
   "metadata": {},
   "outputs": [],
   "source": [
    "# filename2='{}双低{}天2022-all.xlsx'.format(date,rotation_rate)\n",
    "filename2='net-profit-doublelow-{}-{}.xlsx'.format(date,rotation_rate)\n",
    "# filename2='ding-double.xlsx'\n",
    "df2 = pd.read_excel(os.path.join(ROOT,filename2))"
   ]
  },
  {
   "cell_type": "code",
   "execution_count": 18,
   "metadata": {},
   "outputs": [],
   "source": [
    "# filename3='{}低价格{}天2022-all.xlsx'.format(date,rotation_rate)\n",
    "filename3='net-profit-lowprice-{}-{}.xlsx'.format(date,rotation_rate)\n",
    "df3 = pd.read_excel(os.path.join(ROOT,filename3))"
   ]
  },
  {
   "cell_type": "code",
   "execution_count": 19,
   "metadata": {},
   "outputs": [],
   "source": [
    "filename4='net-profit-three_low-{}-{}.xlsx'.format(date,rotation_rate)\n",
    "df4 = pd.read_excel(os.path.join(ROOT,filename4))"
   ]
  },
  {
   "cell_type": "code",
   "execution_count": null,
   "metadata": {
    "scrolled": false
   },
   "outputs": [],
   "source": [
    "df.head()"
   ]
  },
  {
   "cell_type": "code",
   "execution_count": 20,
   "metadata": {},
   "outputs": [],
   "source": [
    "df['日期']=pd.to_datetime(df['日期'],format='%Y-%m-%d')\n",
    "df.set_index('日期',drop=True,inplace=True)"
   ]
  },
  {
   "cell_type": "code",
   "execution_count": 21,
   "metadata": {},
   "outputs": [],
   "source": [
    "df2['日期']=pd.to_datetime(df2['日期'],format='%Y-%m-%d')\n",
    "df2.set_index('日期',drop=True,inplace=True)"
   ]
  },
  {
   "cell_type": "code",
   "execution_count": 22,
   "metadata": {},
   "outputs": [],
   "source": [
    "df3['日期']=pd.to_datetime(df3['日期'],format='%Y-%m-%d')\n",
    "df3.set_index('日期',drop=True,inplace=True)"
   ]
  },
  {
   "cell_type": "code",
   "execution_count": 23,
   "metadata": {},
   "outputs": [],
   "source": [
    "df4['日期']=pd.to_datetime(df4['日期'],format='%Y-%m-%d')\n",
    "df4.set_index('日期',drop=True,inplace=True)"
   ]
  },
  {
   "cell_type": "code",
   "execution_count": null,
   "metadata": {},
   "outputs": [],
   "source": [
    "background_color_js = (\n",
    "    \"new echarts.graphic.LinearGradient(0, 0, 0, 1, \"\n",
    "    \"[{offset: 0, color: '#c86589'}, {offset: 1, color: '#06a7ff'}], false)\"\n",
    ")\n",
    "area_color_js = (\n",
    "    \"new echarts.graphic.LinearGradient(0, 0, 0, 1, \"\n",
    "    \"[{offset: 0, color: '#eb64fb'}, {offset: 1, color: '#3fbbff0d'}], false)\"\n",
    ")"
   ]
  },
  {
   "cell_type": "code",
   "execution_count": 32,
   "metadata": {},
   "outputs": [],
   "source": [
    "# 3曲线\n",
    "from datetime import datetime\n",
    "\n",
    "name = datetime.now().strftime('%Y%m%d')\n",
    "\n",
    "X=df.index.tolist()\n",
    "X=list(map(convert_time,X))\n",
    "Y=df['收益率'].map(lambda x:round(x,0)).tolist()\n",
    "Y2=df2['收益率'].map(lambda x:round(x,0)).tolist()\n",
    "Y3=df3['收益率'].map(lambda x:round(x,0)).tolist()\n",
    "\n",
    "Y4=df4['收益率'].map(lambda x:round(x,0)).tolist()\n",
    "\n",
    "title=\"低溢价\"\n",
    "title2=\"双低\"\n",
    "title3='低价'\n",
    "title4='三低'\n",
    "\n",
    "full_title = '2022低溢价，双低，低价,三低'\n",
    "full_title1 = '低溢价，双低，低价，三低 收益率[10只，5天轮动]'\n",
    "\n",
    "types=full_title1\n",
    "y_min = min(min(min(Y),min(Y2)),min(Y3))\n",
    "y_min=min(y_min,min(Y4))\n",
    "y_max = max(max(max(Y),max(Y2)),min(Y3))\n",
    "y_max=max(y_max,max(Y4))\n",
    "c = (\n",
    "    Line()\n",
    "    .add_xaxis(X)\n",
    "    .add_yaxis(title, Y, is_smooth=True,\n",
    "    label_opts=opts.LabelOpts(is_show=False),\n",
    "linestyle_opts=opts.LineStyleOpts(width=2,color='rgb(255, 0, 0)'),\n",
    "    ).add_yaxis(title2, Y2, is_smooth=True,\n",
    "linestyle_opts=opts.LineStyleOpts(width=2,color='rgb(0, 0, 255)'),\n",
    "label_opts=opts.LabelOpts(is_show=False),\n",
    "    ).add_yaxis(title3, Y3, is_smooth=True,\n",
    "linestyle_opts=opts.LineStyleOpts(width=2,color='rgb(0, 255, 0)'),\n",
    "label_opts=opts.LabelOpts(is_show=False),\n",
    "    ).add_yaxis(title4, Y4, is_smooth=True,\n",
    "linestyle_opts=opts.LineStyleOpts(width=2,color='rgb(0, 0, 0)'),\n",
    "label_opts=opts.LabelOpts(is_show=False),\n",
    "    ).set_global_opts(\n",
    "        title_opts=opts.TitleOpts(title=full_title),\n",
    "        xaxis_opts=opts.AxisOpts(\n",
    "                                name='日期',\n",
    "                                min_interval=1,\n",
    "                                splitline_opts=opts.SplitLineOpts(is_show=True),\n",
    "           axislabel_opts=opts.LabelOpts(rotate=45),\n",
    "                                ),\n",
    "        yaxis_opts=opts.AxisOpts(name='收益率%',\n",
    "                                interval=5,\n",
    "                                 min_=y_min-2,\n",
    "                                 max_=y_max+2,\n",
    "            splitline_opts=opts.SplitLineOpts(is_show=True),\n",
    "        )\n",
    "                                    )\n",
    "                                    .set_colors(['red','blue','green','black']) # 点的颜色\n",
    "    .render(f\"../plot_image/多曲线plot_line_{name}_{types}_{date}_{rotation_rate}.html\")\n",
    ")"
   ]
  },
  {
   "cell_type": "code",
   "execution_count": null,
   "metadata": {},
   "outputs": [],
   "source": [
    "#收益率\n",
    "data_list = [df,df2,df3]\n",
    "label =['低溢价','双低','低价格']\n",
    "for index,x in enumerate(data_list):\n",
    "    v=x.iloc[-1]['收益率']\n",
    "    withdraw =x.iloc[-1]['最大回撤']\n",
    "    print(\"{}: \".format(label[index]),'收益率： {}%'.format(v),'最大回撤： {}%'.format(withdraw))\n"
   ]
  },
  {
   "cell_type": "code",
   "execution_count": null,
   "metadata": {},
   "outputs": [],
   "source": [
    "#收益率\n",
    "data_list = [df,df2,df3]\n",
    "label =['低溢价','双低','低价格']\n",
    "table ='''|策略|收益率|最大回撤|\n",
    "|---|---|---|\n",
    "'''\n",
    "for index,x in enumerate(data_list):\n",
    "    v=x.iloc[-1]['收益率']\n",
    "    withdraw =x.iloc[-1]['最大回撤']\n",
    "    table+='''|{}|{}|{}|'''.format(label[index],v,withdraw)\n",
    "\n",
    "print(table)"
   ]
  }
 ],
 "metadata": {
  "kernelspec": {
   "display_name": "Python 3.8.3 ('base')",
   "language": "python",
   "name": "python3"
  },
  "language_info": {
   "codemirror_mode": {
    "name": "ipython",
    "version": 3
   },
   "file_extension": ".py",
   "mimetype": "text/x-python",
   "name": "python",
   "nbconvert_exporter": "python",
   "pygments_lexer": "ipython3",
   "version": "3.8.3"
  },
  "vscode": {
   "interpreter": {
    "hash": "d7288e82646d3164eca24130947288f8779d11454649f2c02a5dfc42af7f324c"
   }
  }
 },
 "nbformat": 4,
 "nbformat_minor": 2
}
