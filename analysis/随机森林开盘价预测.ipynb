{
 "metadata": {
  "language_info": {
   "codemirror_mode": {
    "name": "ipython",
    "version": 3
   },
   "file_extension": ".py",
   "mimetype": "text/x-python",
   "name": "python",
   "nbconvert_exporter": "python",
   "pygments_lexer": "ipython3",
   "version": "3.9.5"
  },
  "orig_nbformat": 4,
  "kernelspec": {
   "name": "python3",
   "display_name": "Python 3.9.5 64-bit ('3.9': conda)"
  },
  "interpreter": {
   "hash": "28d2dd8735d5b963e054e321a2b13f416b1a0f524027151d22c8eb8270a4fd3f"
  }
 },
 "nbformat": 4,
 "nbformat_minor": 2,
 "cells": [
  {
   "cell_type": "code",
   "execution_count": 116,
   "metadata": {},
   "outputs": [],
   "source": [
    "import sys\n",
    "sys.path.append('..')\n",
    "from configure.settings import DBSelector\n",
    "import pandas as pd\n",
    "import pyecharts.options as opts\n",
    "from pyecharts.charts import Bar, Line\n",
    "from pyecharts.charts import Scatter\n",
    "import pyecharts.options as opts\n",
    "from pyecharts.charts import Line, Grid\n",
    "from pyecharts.commons.utils import JsCode\n",
    "import matplotlib.pyplot as plt\n",
    "import numpy as np\n",
    "from sklearn.model_selection import train_test_split\n",
    "from sklearn.ensemble import RandomForestClassifier\n",
    "from sklearn.preprocessing import MinMaxScaler\n",
    "from sklearn.ensemble import RandomForestRegressor\n",
    "from sklearn.model_selection import GridSearchCV,RandomizedSearchCV\n",
    "from sklearn import tree,preprocessing\n",
    "from sklearn.feature_extraction import DictVectorizer\n",
    "%matplotlib inline\n",
    "\n",
    "background_color_js = (\n",
    "    \"new echarts.graphic.LinearGradient(0, 0, 0, 1, \"\n",
    "    \"[{offset: 0, color: '#c86589'}, {offset: 1, color: '#06a7ff'}], false)\"\n",
    ")\n",
    "area_color_js = (\n",
    "    \"new echarts.graphic.LinearGradient(0, 0, 0, 1, \"\n",
    "    \"[{offset: 0, color: '#eb64fb'}, {offset: 1, color: '#3fbbff0d'}], false)\"\n",
    ")"
   ]
  },
  {
   "cell_type": "code",
   "execution_count": 107,
   "metadata": {},
   "outputs": [],
   "source": [
    "def get_bondPremRatio(conv_price,current_price):\n",
    "    inner_value = get_conv_value(conv_price,current_price)\n",
    "    return (100/inner_value-1)*100\n",
    "\n",
    "def convert_permratio_inner(bondPremRatio):\n",
    "    return 100/(bondPremRatio/100+1)\n",
    "\n",
    "# 转股价值\n",
    "def get_conv_value(conv_price,current_price):\n",
    "    return 100/conv_price*current_price"
   ]
  },
  {
   "cell_type": "code",
   "execution_count": 155,
   "metadata": {},
   "outputs": [
    {
     "output_type": "execute_result",
     "data": {
      "text/plain": [
       "2.5316455696202667"
      ]
     },
     "metadata": {},
     "execution_count": 155
    }
   ],
   "source": [
    "get_bondPremRatio(4.05,3.95)"
   ]
  },
  {
   "cell_type": "code",
   "execution_count": 108,
   "metadata": {},
   "outputs": [],
   "source": [
    "# load data\n",
    "file = '/home/xda/hub/convertible_bond/data/new_bond_info.xlsx'\n",
    "data = pd.read_excel(file,index_col=0)"
   ]
  },
  {
   "cell_type": "code",
   "execution_count": 109,
   "metadata": {},
   "outputs": [],
   "source": [
    "data.drop('neg_market_value',axis=1,inplace=True)"
   ]
  },
  {
   "cell_type": "code",
   "execution_count": 110,
   "metadata": {},
   "outputs": [
    {
     "output_type": "execute_result",
     "data": {
      "text/plain": [
       "   bondPremRatio  call_trigger_date  call_trigger_rate  closePriceBond  \\\n",
       "0         2.1033                 30                130         104.180   \n",
       "1        12.0147                 30                130         112.379   \n",
       "2         7.9547                 30                130         101.760   \n",
       "3        -0.5855                 30                130          98.080   \n",
       "4         2.8069                 30                130         124.530   \n",
       "\n",
       "     code  coupon  firstDate industry  put_trigger_date  put_trigger_rate  \\\n",
       "0  110041     0.4   20180109     公用事业              30.0              70.0   \n",
       "1  128024     0.2   20180112       银行              -1.0              -1.0   \n",
       "2  110042     0.2   20180115     国防军工              30.0              70.0   \n",
       "3  113017     0.3   20180115       传媒              30.0              70.0   \n",
       "4  128029     0.3   20180116     轻工制造              30.0              70.0   \n",
       "\n",
       "  rate  remainSize secShortNameBond  \n",
       "0  AAA     18.7522             蒙电转债  \n",
       "1  AAA    100.0000             宁行转债  \n",
       "2  AAA     24.0000             航电转债  \n",
       "3  AA+     15.6000             吉视转债  \n",
       "4  AA+     12.0000             太阳转债  "
      ],
      "text/html": "<div>\n<style scoped>\n    .dataframe tbody tr th:only-of-type {\n        vertical-align: middle;\n    }\n\n    .dataframe tbody tr th {\n        vertical-align: top;\n    }\n\n    .dataframe thead th {\n        text-align: right;\n    }\n</style>\n<table border=\"1\" class=\"dataframe\">\n  <thead>\n    <tr style=\"text-align: right;\">\n      <th></th>\n      <th>bondPremRatio</th>\n      <th>call_trigger_date</th>\n      <th>call_trigger_rate</th>\n      <th>closePriceBond</th>\n      <th>code</th>\n      <th>coupon</th>\n      <th>firstDate</th>\n      <th>industry</th>\n      <th>put_trigger_date</th>\n      <th>put_trigger_rate</th>\n      <th>rate</th>\n      <th>remainSize</th>\n      <th>secShortNameBond</th>\n    </tr>\n  </thead>\n  <tbody>\n    <tr>\n      <th>0</th>\n      <td>2.1033</td>\n      <td>30</td>\n      <td>130</td>\n      <td>104.180</td>\n      <td>110041</td>\n      <td>0.4</td>\n      <td>20180109</td>\n      <td>公用事业</td>\n      <td>30.0</td>\n      <td>70.0</td>\n      <td>AAA</td>\n      <td>18.7522</td>\n      <td>蒙电转债</td>\n    </tr>\n    <tr>\n      <th>1</th>\n      <td>12.0147</td>\n      <td>30</td>\n      <td>130</td>\n      <td>112.379</td>\n      <td>128024</td>\n      <td>0.2</td>\n      <td>20180112</td>\n      <td>银行</td>\n      <td>-1.0</td>\n      <td>-1.0</td>\n      <td>AAA</td>\n      <td>100.0000</td>\n      <td>宁行转债</td>\n    </tr>\n    <tr>\n      <th>2</th>\n      <td>7.9547</td>\n      <td>30</td>\n      <td>130</td>\n      <td>101.760</td>\n      <td>110042</td>\n      <td>0.2</td>\n      <td>20180115</td>\n      <td>国防军工</td>\n      <td>30.0</td>\n      <td>70.0</td>\n      <td>AAA</td>\n      <td>24.0000</td>\n      <td>航电转债</td>\n    </tr>\n    <tr>\n      <th>3</th>\n      <td>-0.5855</td>\n      <td>30</td>\n      <td>130</td>\n      <td>98.080</td>\n      <td>113017</td>\n      <td>0.3</td>\n      <td>20180115</td>\n      <td>传媒</td>\n      <td>30.0</td>\n      <td>70.0</td>\n      <td>AA+</td>\n      <td>15.6000</td>\n      <td>吉视转债</td>\n    </tr>\n    <tr>\n      <th>4</th>\n      <td>2.8069</td>\n      <td>30</td>\n      <td>130</td>\n      <td>124.530</td>\n      <td>128029</td>\n      <td>0.3</td>\n      <td>20180116</td>\n      <td>轻工制造</td>\n      <td>30.0</td>\n      <td>70.0</td>\n      <td>AA+</td>\n      <td>12.0000</td>\n      <td>太阳转债</td>\n    </tr>\n  </tbody>\n</table>\n</div>"
     },
     "metadata": {},
     "execution_count": 110
    }
   ],
   "source": [
    "data.head()"
   ]
  },
  {
   "cell_type": "code",
   "execution_count": 111,
   "metadata": {},
   "outputs": [
    {
     "output_type": "stream",
     "name": "stdout",
     "text": [
      "<class 'pandas.core.frame.DataFrame'>\nInt64Index: 458 entries, 0 to 457\nData columns (total 13 columns):\n #   Column             Non-Null Count  Dtype  \n---  ------             --------------  -----  \n 0   bondPremRatio      458 non-null    float64\n 1   call_trigger_date  458 non-null    int64  \n 2   call_trigger_rate  458 non-null    int64  \n 3   closePriceBond     458 non-null    float64\n 4   code               458 non-null    int64  \n 5   coupon             458 non-null    float64\n 6   firstDate          458 non-null    int64  \n 7   industry           458 non-null    object \n 8   put_trigger_date   454 non-null    float64\n 9   put_trigger_rate   454 non-null    float64\n 10  rate               458 non-null    object \n 11  remainSize         458 non-null    float64\n 12  secShortNameBond   458 non-null    object \ndtypes: float64(6), int64(4), object(3)\nmemory usage: 50.1+ KB\n"
     ]
    }
   ],
   "source": [
    "data.info()"
   ]
  },
  {
   "cell_type": "code",
   "execution_count": 112,
   "metadata": {},
   "outputs": [],
   "source": [
    "rate_map = {\n",
    "    'A':0,\n",
    "    'A+':1,\n",
    "    'AA-':2,\n",
    "    'AA':3,\n",
    "    'AA+':4,\n",
    "    'AAA':5\n",
    "}\n",
    "\n",
    "data['rate'] = data['rate'].map(lambda x:rate_map.get(x))"
   ]
  },
  {
   "cell_type": "code",
   "execution_count": 113,
   "metadata": {},
   "outputs": [],
   "source": [
    "industry_map = {\n",
    "'化工':0,\n",
    "'医药生物':    1,\n",
    "'机械设备':    2,\n",
    "'电子':      3,\n",
    "'电气设备':   4,\n",
    "'轻工制造':    5,\n",
    "'汽车':      6,\n",
    "'有色金属':   7,\n",
    "'计算机':     8,\n",
    "'建筑装饰':    9,\n",
    "'公用事业':    10,\n",
    "'农林牧渔':    11,\n",
    "'银行':    12,\n",
    "'纺织服装':    13,\n",
    "'食品饮料':    14,\n",
    "'国防军工':     15,\n",
    "'通信':       16,\n",
    "'非银金融':     17,\n",
    "'交通运输':     18,\n",
    "'家用电器':     19,\n",
    "'建筑材料':     20,\n",
    "'采掘':       21,\n",
    "'钢铁':       22,\n",
    "'传媒':       23,\n",
    "'商业贸易':    24,\n",
    "'休闲服务':  25,\n",
    "}\n",
    "data['industry']=data['industry'].map(lambda x:industry_map.get(x))"
   ]
  },
  {
   "cell_type": "code",
   "execution_count": 114,
   "metadata": {},
   "outputs": [],
   "source": [
    "data['innerValue'] = data['bondPremRatio'].map(lambda x:convert_permratio_inner(x))"
   ]
  },
  {
   "cell_type": "code",
   "execution_count": 115,
   "metadata": {},
   "outputs": [],
   "source": [
    "train_data = data.copy()\n",
    "train_data.drop('secShortNameBond',inplace=True,axis=1)\n",
    "train_data.drop('bondPremRatio',inplace=True,axis=1)\n",
    "\n",
    "data_source = train_data.copy()\n",
    "target = data_source['closePriceBond']\n",
    "data_source.drop('closePriceBond',axis=1,inplace=True)\n",
    "data_source.drop('firstDate',axis=1,inplace=True)"
   ]
  },
  {
   "cell_type": "code",
   "execution_count": 117,
   "metadata": {},
   "outputs": [
    {
     "output_type": "execute_result",
     "data": {
      "text/plain": [
       "call_trigger_date    False\n",
       "call_trigger_rate    False\n",
       "code                 False\n",
       "coupon               False\n",
       "industry             False\n",
       "put_trigger_date      True\n",
       "put_trigger_rate      True\n",
       "rate                 False\n",
       "remainSize           False\n",
       "innerValue           False\n",
       "dtype: bool"
      ]
     },
     "metadata": {},
     "execution_count": 117
    }
   ],
   "source": [
    "data_source.isnull().any()"
   ]
  },
  {
   "cell_type": "code",
   "execution_count": 118,
   "metadata": {},
   "outputs": [],
   "source": [
    "data_source['put_trigger_date'].fillna(0,inplace=True)"
   ]
  },
  {
   "cell_type": "code",
   "execution_count": 119,
   "metadata": {},
   "outputs": [],
   "source": [
    "data_source['put_trigger_rate'].fillna(0,inplace=True)"
   ]
  },
  {
   "cell_type": "code",
   "execution_count": 120,
   "metadata": {},
   "outputs": [],
   "source": [
    "data_source.drop('code',axis=1,inplace=True)"
   ]
  },
  {
   "cell_type": "code",
   "execution_count": 123,
   "metadata": {},
   "outputs": [
    {
     "output_type": "execute_result",
     "data": {
      "text/plain": [
       "Empty DataFrame\n",
       "Columns: [call_trigger_date, call_trigger_rate, coupon, industry, put_trigger_date, put_trigger_rate, rate, remainSize, innerValue]\n",
       "Index: []"
      ],
      "text/html": "<div>\n<style scoped>\n    .dataframe tbody tr th:only-of-type {\n        vertical-align: middle;\n    }\n\n    .dataframe tbody tr th {\n        vertical-align: top;\n    }\n\n    .dataframe thead th {\n        text-align: right;\n    }\n</style>\n<table border=\"1\" class=\"dataframe\">\n  <thead>\n    <tr style=\"text-align: right;\">\n      <th></th>\n      <th>call_trigger_date</th>\n      <th>call_trigger_rate</th>\n      <th>coupon</th>\n      <th>industry</th>\n      <th>put_trigger_date</th>\n      <th>put_trigger_rate</th>\n      <th>rate</th>\n      <th>remainSize</th>\n      <th>innerValue</th>\n    </tr>\n  </thead>\n  <tbody>\n  </tbody>\n</table>\n</div>"
     },
     "metadata": {},
     "execution_count": 123
    }
   ],
   "source": [
    "data_source[data_source['industry'].isnull()]"
   ]
  },
  {
   "cell_type": "code",
   "execution_count": 124,
   "metadata": {},
   "outputs": [],
   "source": [
    "X_train,X_test,y_train,y_test = train_test_split(data_source,target,random_state=4)"
   ]
  },
  {
   "cell_type": "code",
   "execution_count": 125,
   "metadata": {},
   "outputs": [],
   "source": [
    "rfr = RandomForestRegressor()"
   ]
  },
  {
   "cell_type": "code",
   "execution_count": 126,
   "metadata": {},
   "outputs": [],
   "source": [
    "from pprint import pprint"
   ]
  },
  {
   "cell_type": "code",
   "execution_count": 127,
   "metadata": {},
   "outputs": [
    {
     "output_type": "stream",
     "name": "stdout",
     "text": [
      "{'bootstrap': True,\n 'ccp_alpha': 0.0,\n 'criterion': 'mse',\n 'max_depth': None,\n 'max_features': 'auto',\n 'max_leaf_nodes': None,\n 'max_samples': None,\n 'min_impurity_decrease': 0.0,\n 'min_impurity_split': None,\n 'min_samples_leaf': 1,\n 'min_samples_split': 2,\n 'min_weight_fraction_leaf': 0.0,\n 'n_estimators': 100,\n 'n_jobs': None,\n 'oob_score': False,\n 'random_state': None,\n 'verbose': 0,\n 'warm_start': False}\n"
     ]
    }
   ],
   "source": [
    "pprint(rfr.get_params())"
   ]
  },
  {
   "cell_type": "code",
   "execution_count": 86,
   "metadata": {},
   "outputs": [],
   "source": [
    "rf_param_grid ={\n",
    "    # 'criterion':['entropy','gini'],\n",
    "    'max_depth':[5,6,7,8],\n",
    "    'n_estimators':[11,13,15],\n",
    "    # 'max_features':[0.3,0.4,0.5],\n",
    "    'min_samples_split':[4,8,12,16]\n",
    "}"
   ]
  },
  {
   "cell_type": "code",
   "execution_count": 156,
   "metadata": {},
   "outputs": [],
   "source": [
    "from sklearn.metrics import r2_score"
   ]
  },
  {
   "cell_type": "code",
   "execution_count": 99,
   "metadata": {},
   "outputs": [
    {
     "output_type": "stream",
     "name": "stdout",
     "text": [
      "Mean Absolute Error: 8.51294807043729\nMean Squared Error: 120.97083543581468\nRoot Mean Squared Error: 10.99867425810105\n"
     ]
    }
   ],
   "source": [
    "from sklearn import metrics\n",
    "print('Mean Absolute Error:', metrics.mean_absolute_error(y_test, y_pred))\n",
    "print('Mean Squared Error:', metrics.mean_squared_error(y_test, y_pred))\n",
    "print('Root Mean Squared Error:', np.sqrt(metrics.mean_squared_error(y_test, y_pred)))"
   ]
  },
  {
   "cell_type": "code",
   "execution_count": 100,
   "metadata": {},
   "outputs": [
    {
     "output_type": "error",
     "ename": "ValueError",
     "evalue": "continuous is not supported",
     "traceback": [
      "\u001b[0;31m---------------------------------------------------------------------------\u001b[0m",
      "\u001b[0;31mValueError\u001b[0m                                Traceback (most recent call last)",
      "\u001b[0;32m<ipython-input-100-7c13f8a7e0f2>\u001b[0m in \u001b[0;36m<module>\u001b[0;34m\u001b[0m\n\u001b[1;32m      1\u001b[0m \u001b[0;32mimport\u001b[0m \u001b[0msklearn\u001b[0m\u001b[0;34m.\u001b[0m\u001b[0mmetrics\u001b[0m \u001b[0;32mas\u001b[0m \u001b[0mmetrics\u001b[0m\u001b[0;34m\u001b[0m\u001b[0;34m\u001b[0m\u001b[0m\n\u001b[0;32m----> 2\u001b[0;31m \u001b[0mmetrics\u001b[0m\u001b[0;34m.\u001b[0m\u001b[0mclassification_report\u001b[0m\u001b[0;34m(\u001b[0m\u001b[0my_test\u001b[0m\u001b[0;34m,\u001b[0m\u001b[0my_pred\u001b[0m\u001b[0;34m)\u001b[0m\u001b[0;34m\u001b[0m\u001b[0;34m\u001b[0m\u001b[0m\n\u001b[0m",
      "\u001b[0;32m~/anaconda3/envs/3.9/lib/python3.9/site-packages/sklearn/utils/validation.py\u001b[0m in \u001b[0;36minner_f\u001b[0;34m(*args, **kwargs)\u001b[0m\n\u001b[1;32m     61\u001b[0m             \u001b[0mextra_args\u001b[0m \u001b[0;34m=\u001b[0m \u001b[0mlen\u001b[0m\u001b[0;34m(\u001b[0m\u001b[0margs\u001b[0m\u001b[0;34m)\u001b[0m \u001b[0;34m-\u001b[0m \u001b[0mlen\u001b[0m\u001b[0;34m(\u001b[0m\u001b[0mall_args\u001b[0m\u001b[0;34m)\u001b[0m\u001b[0;34m\u001b[0m\u001b[0;34m\u001b[0m\u001b[0m\n\u001b[1;32m     62\u001b[0m             \u001b[0;32mif\u001b[0m \u001b[0mextra_args\u001b[0m \u001b[0;34m<=\u001b[0m \u001b[0;36m0\u001b[0m\u001b[0;34m:\u001b[0m\u001b[0;34m\u001b[0m\u001b[0;34m\u001b[0m\u001b[0m\n\u001b[0;32m---> 63\u001b[0;31m                 \u001b[0;32mreturn\u001b[0m \u001b[0mf\u001b[0m\u001b[0;34m(\u001b[0m\u001b[0;34m*\u001b[0m\u001b[0margs\u001b[0m\u001b[0;34m,\u001b[0m \u001b[0;34m**\u001b[0m\u001b[0mkwargs\u001b[0m\u001b[0;34m)\u001b[0m\u001b[0;34m\u001b[0m\u001b[0;34m\u001b[0m\u001b[0m\n\u001b[0m\u001b[1;32m     64\u001b[0m \u001b[0;34m\u001b[0m\u001b[0m\n\u001b[1;32m     65\u001b[0m             \u001b[0;31m# extra_args > 0\u001b[0m\u001b[0;34m\u001b[0m\u001b[0;34m\u001b[0m\u001b[0;34m\u001b[0m\u001b[0m\n",
      "\u001b[0;32m~/anaconda3/envs/3.9/lib/python3.9/site-packages/sklearn/metrics/_classification.py\u001b[0m in \u001b[0;36mclassification_report\u001b[0;34m(y_true, y_pred, labels, target_names, sample_weight, digits, output_dict, zero_division)\u001b[0m\n\u001b[1;32m   1968\u001b[0m     \"\"\"\n\u001b[1;32m   1969\u001b[0m \u001b[0;34m\u001b[0m\u001b[0m\n\u001b[0;32m-> 1970\u001b[0;31m     \u001b[0my_type\u001b[0m\u001b[0;34m,\u001b[0m \u001b[0my_true\u001b[0m\u001b[0;34m,\u001b[0m \u001b[0my_pred\u001b[0m \u001b[0;34m=\u001b[0m \u001b[0m_check_targets\u001b[0m\u001b[0;34m(\u001b[0m\u001b[0my_true\u001b[0m\u001b[0;34m,\u001b[0m \u001b[0my_pred\u001b[0m\u001b[0;34m)\u001b[0m\u001b[0;34m\u001b[0m\u001b[0;34m\u001b[0m\u001b[0m\n\u001b[0m\u001b[1;32m   1971\u001b[0m \u001b[0;34m\u001b[0m\u001b[0m\n\u001b[1;32m   1972\u001b[0m     \u001b[0;32mif\u001b[0m \u001b[0mlabels\u001b[0m \u001b[0;32mis\u001b[0m \u001b[0;32mNone\u001b[0m\u001b[0;34m:\u001b[0m\u001b[0;34m\u001b[0m\u001b[0;34m\u001b[0m\u001b[0m\n",
      "\u001b[0;32m~/anaconda3/envs/3.9/lib/python3.9/site-packages/sklearn/metrics/_classification.py\u001b[0m in \u001b[0;36m_check_targets\u001b[0;34m(y_true, y_pred)\u001b[0m\n\u001b[1;32m     98\u001b[0m     \u001b[0;31m# No metrics support \"multiclass-multioutput\" format\u001b[0m\u001b[0;34m\u001b[0m\u001b[0;34m\u001b[0m\u001b[0;34m\u001b[0m\u001b[0m\n\u001b[1;32m     99\u001b[0m     \u001b[0;32mif\u001b[0m \u001b[0;34m(\u001b[0m\u001b[0my_type\u001b[0m \u001b[0;32mnot\u001b[0m \u001b[0;32min\u001b[0m \u001b[0;34m[\u001b[0m\u001b[0;34m\"binary\"\u001b[0m\u001b[0;34m,\u001b[0m \u001b[0;34m\"multiclass\"\u001b[0m\u001b[0;34m,\u001b[0m \u001b[0;34m\"multilabel-indicator\"\u001b[0m\u001b[0;34m]\u001b[0m\u001b[0;34m)\u001b[0m\u001b[0;34m:\u001b[0m\u001b[0;34m\u001b[0m\u001b[0;34m\u001b[0m\u001b[0m\n\u001b[0;32m--> 100\u001b[0;31m         \u001b[0;32mraise\u001b[0m \u001b[0mValueError\u001b[0m\u001b[0;34m(\u001b[0m\u001b[0;34m\"{0} is not supported\"\u001b[0m\u001b[0;34m.\u001b[0m\u001b[0mformat\u001b[0m\u001b[0;34m(\u001b[0m\u001b[0my_type\u001b[0m\u001b[0;34m)\u001b[0m\u001b[0;34m)\u001b[0m\u001b[0;34m\u001b[0m\u001b[0;34m\u001b[0m\u001b[0m\n\u001b[0m\u001b[1;32m    101\u001b[0m \u001b[0;34m\u001b[0m\u001b[0m\n\u001b[1;32m    102\u001b[0m     \u001b[0;32mif\u001b[0m \u001b[0my_type\u001b[0m \u001b[0;32min\u001b[0m \u001b[0;34m[\u001b[0m\u001b[0;34m\"binary\"\u001b[0m\u001b[0;34m,\u001b[0m \u001b[0;34m\"multiclass\"\u001b[0m\u001b[0;34m]\u001b[0m\u001b[0;34m:\u001b[0m\u001b[0;34m\u001b[0m\u001b[0;34m\u001b[0m\u001b[0m\n",
      "\u001b[0;31mValueError\u001b[0m: continuous is not supported"
     ]
    }
   ],
   "source": [
    "import sklearn.metrics as metrics\n",
    "metrics.classification_report(y_test,y_pred)"
   ]
  },
  {
   "cell_type": "code",
   "execution_count": 128,
   "metadata": {},
   "outputs": [],
   "source": [
    "# Number of trees in random forest\n",
    "n_estimators = [int(x) for x in np.linspace(start = 10, stop = 150, num = 10)]\n",
    "# Number of features to consider at every split\n",
    "max_features = [3,4,5,6,6]\n",
    "# Maximum number of levels in tree\n",
    "max_depth = [int(x) for x in np.linspace(3, 10, num = 2)]\n",
    "max_depth.append(None)\n",
    "# Minimum number of samples required to split a node\n",
    "min_samples_split = [2, 3,4,5,6]\n",
    "# Minimum number of samples required at each leaf node\n",
    "min_samples_leaf = [1, 2, 4]\n",
    "# Method of selecting samples for training each tree\n",
    "bootstrap = [True, False]"
   ]
  },
  {
   "cell_type": "code",
   "execution_count": 129,
   "metadata": {},
   "outputs": [],
   "source": [
    "rf = RandomForestRegressor()\n",
    "random_grid = {'n_estimators': n_estimators,\n",
    "               'max_features': max_features,\n",
    "               'max_depth': max_depth,\n",
    "               'min_samples_split': min_samples_split,\n",
    "               'min_samples_leaf': min_samples_leaf,\n",
    "               'bootstrap': bootstrap}\n",
    "rfsv = RandomizedSearchCV(estimator = rf, param_distributions = random_grid, n_iter = 200, cv = 3, verbose=2, random_state=42, n_jobs = -1)"
   ]
  },
  {
   "cell_type": "code",
   "execution_count": 130,
   "metadata": {},
   "outputs": [
    {
     "output_type": "stream",
     "name": "stdout",
     "text": [
      "Fitting 3 folds for each of 200 candidates, totalling 600 fits\n"
     ]
    },
    {
     "output_type": "execute_result",
     "data": {
      "text/plain": [
       "RandomizedSearchCV(cv=3, estimator=RandomForestRegressor(), n_iter=200,\n",
       "                   n_jobs=-1,\n",
       "                   param_distributions={'bootstrap': [True, False],\n",
       "                                        'max_depth': [3, 10, None],\n",
       "                                        'max_features': [3, 4, 5, 6, 6],\n",
       "                                        'min_samples_leaf': [1, 2, 4],\n",
       "                                        'min_samples_split': [2, 3, 4, 5, 6],\n",
       "                                        'n_estimators': [10, 25, 41, 56, 72, 87,\n",
       "                                                         103, 118, 134, 150]},\n",
       "                   random_state=42, verbose=2)"
      ]
     },
     "metadata": {},
     "execution_count": 130
    }
   ],
   "source": [
    "rfsv.fit(X_train,y_train)"
   ]
  },
  {
   "cell_type": "code",
   "execution_count": 132,
   "metadata": {},
   "outputs": [
    {
     "output_type": "execute_result",
     "data": {
      "text/plain": [
       "{'n_estimators': 150,\n",
       " 'min_samples_split': 4,\n",
       " 'min_samples_leaf': 4,\n",
       " 'max_features': 3,\n",
       " 'max_depth': None,\n",
       " 'bootstrap': False}"
      ]
     },
     "metadata": {},
     "execution_count": 132
    }
   ],
   "source": [
    "rfsv.best_params_"
   ]
  },
  {
   "cell_type": "code",
   "execution_count": 133,
   "metadata": {},
   "outputs": [],
   "source": [
    "rf4=RandomForestRegressor(**rfsv.best_params_)"
   ]
  },
  {
   "cell_type": "code",
   "execution_count": 134,
   "metadata": {},
   "outputs": [
    {
     "output_type": "execute_result",
     "data": {
      "text/plain": [
       "RandomForestRegressor(bootstrap=False, max_features=3, min_samples_leaf=4,\n",
       "                      min_samples_split=4, n_estimators=150)"
      ]
     },
     "metadata": {},
     "execution_count": 134
    }
   ],
   "source": [
    "rf4.fit(X_train,y_train)"
   ]
  },
  {
   "cell_type": "code",
   "execution_count": 135,
   "metadata": {},
   "outputs": [],
   "source": [
    "y_pred4 = rf4.predict(X_test)"
   ]
  },
  {
   "cell_type": "code",
   "execution_count": 136,
   "metadata": {},
   "outputs": [
    {
     "output_type": "stream",
     "name": "stdout",
     "text": [
      "mean absolute error= 9.78\nmean squared error= 144.76\nmedian absolute error= 8.14\nexplained variance score= 0.04\nR2 score= 0.04\n"
     ]
    }
   ],
   "source": [
    "evaluate_(y_test,y_pred4)"
   ]
  },
  {
   "cell_type": "code",
   "execution_count": null,
   "metadata": {},
   "outputs": [],
   "source": [
    "rf4"
   ]
  },
  {
   "cell_type": "code",
   "execution_count": 125,
   "metadata": {},
   "outputs": [],
   "source": [
    "y_pred = rfsv.predict(X_test)"
   ]
  },
  {
   "cell_type": "code",
   "execution_count": 137,
   "metadata": {},
   "outputs": [],
   "source": [
    "def evaluate(model, test_features, test_labels):\n",
    "    predictions = model.predict(test_features)\n",
    "    errors = abs(predictions - test_labels)\n",
    "    mape = 100 * np.mean(errors / test_labels)\n",
    "    accuracy = 100 - mape\n",
    "    print('Model Performance')\n",
    "    print('Average Error: {:0.4f} degrees.'.format(np.mean(errors)))\n",
    "    print('Accuracy = {:0.2f}%.'.format(accuracy))\n",
    "    \n",
    "    return accuracy"
   ]
  },
  {
   "cell_type": "code",
   "execution_count": 138,
   "metadata": {},
   "outputs": [
    {
     "output_type": "stream",
     "name": "stdout",
     "text": [
      "Model Performance\nAverage Error: 9.8196 degrees.\nAccuracy = 91.30%.\n"
     ]
    },
    {
     "output_type": "execute_result",
     "data": {
      "text/plain": [
       "91.29786968451995"
      ]
     },
     "metadata": {},
     "execution_count": 138
    }
   ],
   "source": [
    "evaluate(rfsv,X_test,y_test)"
   ]
  },
  {
   "cell_type": "code",
   "execution_count": 139,
   "metadata": {},
   "outputs": [],
   "source": [
    "def evaluate_(y_test,y_test_pre):\n",
    "    import sklearn.metrics as sm\n",
    "    print('mean absolute error=',round(sm.mean_absolute_error(y_test,y_test_pre),2))\n",
    "    print('mean squared error=',round(sm.mean_squared_error(y_test,y_test_pre),2))\n",
    "    print('median absolute error=',round(sm.median_absolute_error(y_test,y_test_pre),2))\n",
    "    print('explained variance score=',round(sm.explained_variance_score(y_test,y_test_pre),2))\n",
    "    print('R2 score=',round(sm.r2_score(y_test,y_test_pre),2))"
   ]
  },
  {
   "cell_type": "code",
   "execution_count": 128,
   "metadata": {},
   "outputs": [
    {
     "output_type": "stream",
     "name": "stdout",
     "text": [
      "mean absolute error= 9.37\nmean squared error= 142.86\nmedian absolute error= 8.22\nexplained variance score= 0.05\nR2 score= 0.05\n"
     ]
    }
   ],
   "source": [
    "evaluate_(y_test,y_pred)"
   ]
  },
  {
   "cell_type": "code",
   "execution_count": 130,
   "metadata": {},
   "outputs": [
    {
     "output_type": "execute_result",
     "data": {
      "text/plain": [
       "{'n_estimators': 244,\n",
       " 'min_samples_split': 10,\n",
       " 'min_samples_leaf': 2,\n",
       " 'max_features': 'auto',\n",
       " 'max_depth': None,\n",
       " 'bootstrap': True}"
      ]
     },
     "metadata": {},
     "execution_count": 130
    }
   ],
   "source": [
    "rfsv.best_params_"
   ]
  },
  {
   "cell_type": "code",
   "execution_count": null,
   "metadata": {},
   "outputs": [],
   "source": [
    "rfsv.feature_importances_"
   ]
  },
  {
   "cell_type": "code",
   "execution_count": null,
   "metadata": {},
   "outputs": [],
   "source": []
  },
  {
   "cell_type": "code",
   "execution_count": null,
   "metadata": {},
   "outputs": [],
   "source": []
  },
  {
   "cell_type": "code",
   "execution_count": 140,
   "metadata": {},
   "outputs": [],
   "source": [
    "param_grid = {\n",
    "    'bootstrap': [True],\n",
    "    'max_depth': [5,10],\n",
    "    'max_features': [4,5,6],\n",
    "    'min_samples_leaf': [2,3, 4, 5,6],\n",
    "    'min_samples_split': [8, 10, 12],\n",
    "    'n_estimators': [30]\n",
    "}\n",
    "# Create a based model\n",
    "rf = RandomForestRegressor()# Instantiate the grid search model\n",
    "grid_search = GridSearchCV(estimator = rf, param_grid = param_grid, \n",
    "                          cv = 3, n_jobs = -1, verbose = 2)"
   ]
  },
  {
   "cell_type": "code",
   "execution_count": 38,
   "metadata": {},
   "outputs": [
    {
     "output_type": "execute_result",
     "data": {
      "text/plain": [
       "{'bootstrap': True,\n",
       " 'max_depth': 10,\n",
       " 'max_features': 4,\n",
       " 'min_samples_leaf': 6,\n",
       " 'min_samples_split': 8,\n",
       " 'n_estimators': 30}"
      ]
     },
     "metadata": {},
     "execution_count": 38
    }
   ],
   "source": [
    "grid_search.best_params_"
   ]
  },
  {
   "cell_type": "code",
   "execution_count": 141,
   "metadata": {},
   "outputs": [
    {
     "output_type": "stream",
     "name": "stdout",
     "text": [
      "Fitting 3 folds for each of 90 candidates, totalling 270 fits\n"
     ]
    },
    {
     "output_type": "execute_result",
     "data": {
      "text/plain": [
       "GridSearchCV(cv=3, estimator=RandomForestRegressor(), n_jobs=-1,\n",
       "             param_grid={'bootstrap': [True], 'max_depth': [5, 10],\n",
       "                         'max_features': [4, 5, 6],\n",
       "                         'min_samples_leaf': [2, 3, 4, 5, 6],\n",
       "                         'min_samples_split': [8, 10, 12],\n",
       "                         'n_estimators': [30]},\n",
       "             verbose=2)"
      ]
     },
     "metadata": {},
     "execution_count": 141
    }
   ],
   "source": [
    "grid_search.fit(X_train,y_train)"
   ]
  },
  {
   "cell_type": "code",
   "execution_count": 142,
   "metadata": {},
   "outputs": [],
   "source": [
    "y_pred_grid = grid_search.predict(X_test)"
   ]
  },
  {
   "cell_type": "code",
   "execution_count": 143,
   "metadata": {},
   "outputs": [
    {
     "output_type": "stream",
     "name": "stdout",
     "text": [
      "mean absolute error= 10.0\nmean squared error= 148.04\nmedian absolute error= 8.76\nexplained variance score= 0.02\nR2 score= 0.02\n"
     ]
    }
   ],
   "source": [
    "rf_ = RandomForestRegressor(**grid_search.best_params_)\n",
    "rf_.fit(X_train,y_train)\n",
    "y_pred_grid = rf_.predict(X_test)\n",
    "evaluate_(y_test,y_pred_grid)"
   ]
  },
  {
   "cell_type": "code",
   "execution_count": 34,
   "metadata": {},
   "outputs": [
    {
     "output_type": "stream",
     "name": "stdout",
     "text": [
      "mean absolute error= 6.62\nmean squared error= 73.79\nmedian absolute error= 5.1\nexplained variance score= 0.02\nR2 score= 0.01\n"
     ]
    }
   ],
   "source": [
    "evaluate_(y_test,y_pred_grid)"
   ]
  },
  {
   "cell_type": "code",
   "execution_count": 152,
   "metadata": {},
   "outputs": [
    {
     "output_type": "stream",
     "name": "stdout",
     "text": [
      " 1) innerValue                     38.00\n 2) industry                       22.00\n 3) remainSize                     21.00\n 4) coupon                         12.00\n 5) rate                           6.00\n 6) put_trigger_rate               0.00\n 7) put_trigger_date               0.00\n 8) call_trigger_rate              0.00\n 9) call_trigger_date              0.00\n"
     ]
    }
   ],
   "source": [
    "\n",
    "importances = rf_.feature_importances_\n",
    "importances=list(map(lambda x:round(x*100,0),importances))\n",
    "indices = np.argsort(importances)[::-1]\n",
    "for f in range(X_train.shape[1]):\n",
    "    print(\"%2d) %-*s %.2f\" % (f + 1, 30, X_train.columns[indices[f]], importances[indices[f]]))\n"
   ]
  },
  {
   "cell_type": "code",
   "execution_count": 147,
   "metadata": {},
   "outputs": [
    {
     "output_type": "execute_result",
     "data": {
      "text/plain": [
       "9"
      ]
     },
     "metadata": {},
     "execution_count": 147
    }
   ],
   "source": [
    "X_train.shape[1]"
   ]
  },
  {
   "cell_type": "code",
   "execution_count": 65,
   "metadata": {},
   "outputs": [
    {
     "output_type": "execute_result",
     "data": {
      "text/plain": [
       "{'bootstrap': True,\n",
       " 'max_depth': 60,\n",
       " 'max_features': 3,\n",
       " 'min_samples_leaf': 3,\n",
       " 'min_samples_split': 8,\n",
       " 'n_estimators': 50}"
      ]
     },
     "metadata": {},
     "execution_count": 65
    }
   ],
   "source": [
    "grid_search.best_params_"
   ]
  },
  {
   "cell_type": "code",
   "execution_count": 81,
   "metadata": {},
   "outputs": [],
   "source": [
    "rf_ = RandomForestRegressor(\n",
    "    n_estimators=50,\n",
    "    max_depth=110,\n",
    "    max_features=3,\n",
    "    bootstrap=True,\n",
    "    min_samples_split=8,\n",
    "    min_samples_leaf=3\n",
    ")"
   ]
  },
  {
   "cell_type": "code",
   "execution_count": 133,
   "metadata": {},
   "outputs": [],
   "source": [
    "rf2=RandomForestRegressor(**)"
   ]
  },
  {
   "cell_type": "code",
   "execution_count": 134,
   "metadata": {},
   "outputs": [
    {
     "output_type": "execute_result",
     "data": {
      "text/plain": [
       "RandomForestRegressor(min_samples_leaf=2, min_samples_split=10,\n",
       "                      n_estimators=244)"
      ]
     },
     "metadata": {},
     "execution_count": 134
    }
   ],
   "source": [
    "rf2.fit(X_train,y_train)"
   ]
  },
  {
   "cell_type": "code",
   "execution_count": 135,
   "metadata": {},
   "outputs": [],
   "source": [
    "y_pred_3 = rf2.predict(X_test)"
   ]
  },
  {
   "cell_type": "code",
   "execution_count": 82,
   "metadata": {},
   "outputs": [
    {
     "output_type": "execute_result",
     "data": {
      "text/plain": [
       "RandomForestRegressor(max_depth=110, max_features=3, min_samples_leaf=3,\n",
       "                      min_samples_split=8, n_estimators=50)"
      ]
     },
     "metadata": {},
     "execution_count": 82
    }
   ],
   "source": [
    "rf_.fit(X_train,y_train)"
   ]
  },
  {
   "cell_type": "code",
   "execution_count": 83,
   "metadata": {},
   "outputs": [],
   "source": [
    "y_pred_2 = rf_.predict(X_test)"
   ]
  },
  {
   "cell_type": "code",
   "execution_count": 136,
   "metadata": {},
   "outputs": [
    {
     "output_type": "stream",
     "name": "stdout",
     "text": [
      "mean absolute error= 9.45\nmean squared error= 144.96\nmedian absolute error= 8.34\nexplained variance score= 0.04\nR2 score= 0.04\n"
     ]
    }
   ],
   "source": [
    "evaluate_(y_test,y_pred_3)"
   ]
  },
  {
   "cell_type": "code",
   "execution_count": 85,
   "metadata": {},
   "outputs": [
    {
     "output_type": "execute_result",
     "data": {
      "text/plain": [
       "array([0.23106684, 0.        , 0.00549895, 0.06502069, 0.13070471,\n",
       "       0.33268429, 0.00359227, 0.00752537, 0.05340304, 0.17050384])"
      ]
     },
     "metadata": {},
     "execution_count": 85
    }
   ],
   "source": [
    "rf_.feature_importances_"
   ]
  },
  {
   "cell_type": "code",
   "execution_count": 47,
   "metadata": {},
   "outputs": [],
   "source": [
    "feature_list_ = list(feature_list[0].keys())"
   ]
  },
  {
   "cell_type": "code",
   "execution_count": 52,
   "metadata": {},
   "outputs": [
    {
     "output_type": "execute_result",
     "data": {
      "text/plain": [
       "38"
      ]
     },
     "metadata": {},
     "execution_count": 52
    }
   ],
   "source": [
    "len(importances)"
   ]
  },
  {
   "cell_type": "code",
   "execution_count": 53,
   "metadata": {},
   "outputs": [
    {
     "output_type": "execute_result",
     "data": {
      "text/plain": [
       "(343, 38)"
      ]
     },
     "metadata": {},
     "execution_count": 53
    }
   ],
   "source": [
    "X_train.shape"
   ]
  },
  {
   "cell_type": "code",
   "execution_count": 50,
   "metadata": {},
   "outputs": [
    {
     "output_type": "stream",
     "name": "stdout",
     "text": [
      "37\n2\n16\n18\n35\n34\n33\n15\n"
     ]
    }
   ],
   "source": [
    "importances = rf_.feature_importances_\n",
    "indices = np.argsort(importances)[::-1] # 大到小\n",
    "for i in range(len(feature_list_)):\n",
    "    # print(i)\n",
    "    # print(\"%2d) %-*s %f\" % (i + 1, 30, feature_list_[indices[i]], importances[indices[i]]))\n",
    "    print(indices[i])"
   ]
  },
  {
   "cell_type": "code",
   "execution_count": 86,
   "metadata": {},
   "outputs": [
    {
     "output_type": "execute_result",
     "data": {
      "text/plain": [
       "11"
      ]
     },
     "metadata": {},
     "execution_count": 86
    }
   ],
   "source": [
    "len(importances)"
   ]
  },
  {
   "cell_type": "code",
   "execution_count": 138,
   "metadata": {},
   "outputs": [
    {
     "output_type": "execute_result",
     "data": {
      "text/plain": [
       "     call_trigger_date  call_trigger_rate  coupon  industry  neg_market_value  \\\n",
       "191                 30                130     0.4         3      1.001429e+10   \n",
       "45                  30                130     0.5        16      2.880305e+09   \n",
       "241                 30                130     0.5         0      2.087673e+09   \n",
       "377                 30                130     0.4         6      3.355806e+09   \n",
       "325                 30                130     0.3         7      4.013141e+10   \n",
       "..                 ...                ...     ...       ...               ...   \n",
       "385                 30                130     0.4         3      1.395576e+09   \n",
       "197                 30                130     0.4        13      5.733447e+09   \n",
       "439                 30                130     0.2        20      4.343613e+10   \n",
       "174                 30                130     0.3         4      3.444622e+09   \n",
       "122                 30                130     0.1        18      4.638403e+09   \n",
       "\n",
       "     put_trigger_date  put_trigger_rate  rate  remainSize  innerValue  \n",
       "191              30.0              70.0     3   26.600177   87.797546  \n",
       "45               30.0              70.0     3   10.000000  102.371015  \n",
       "241              30.0              70.0     2    3.990000   85.508308  \n",
       "377              30.0              70.0     2    8.864800   90.721792  \n",
       "325              30.0              70.0     3   21.080000   70.273723  \n",
       "..                ...               ...   ...         ...         ...  \n",
       "385              30.0              60.0     2    6.730000   82.376598  \n",
       "197              30.0              70.0     3    6.500000   93.553421  \n",
       "439              30.0              70.0     4   15.000000   91.574169  \n",
       "174              30.0              70.0     3    8.800000   90.144014  \n",
       "122              30.0              70.0     5   50.000000   89.507565  \n",
       "\n",
       "[343 rows x 10 columns]"
      ],
      "text/html": "<div>\n<style scoped>\n    .dataframe tbody tr th:only-of-type {\n        vertical-align: middle;\n    }\n\n    .dataframe tbody tr th {\n        vertical-align: top;\n    }\n\n    .dataframe thead th {\n        text-align: right;\n    }\n</style>\n<table border=\"1\" class=\"dataframe\">\n  <thead>\n    <tr style=\"text-align: right;\">\n      <th></th>\n      <th>call_trigger_date</th>\n      <th>call_trigger_rate</th>\n      <th>coupon</th>\n      <th>industry</th>\n      <th>neg_market_value</th>\n      <th>put_trigger_date</th>\n      <th>put_trigger_rate</th>\n      <th>rate</th>\n      <th>remainSize</th>\n      <th>innerValue</th>\n    </tr>\n  </thead>\n  <tbody>\n    <tr>\n      <th>191</th>\n      <td>30</td>\n      <td>130</td>\n      <td>0.4</td>\n      <td>3</td>\n      <td>1.001429e+10</td>\n      <td>30.0</td>\n      <td>70.0</td>\n      <td>3</td>\n      <td>26.600177</td>\n      <td>87.797546</td>\n    </tr>\n    <tr>\n      <th>45</th>\n      <td>30</td>\n      <td>130</td>\n      <td>0.5</td>\n      <td>16</td>\n      <td>2.880305e+09</td>\n      <td>30.0</td>\n      <td>70.0</td>\n      <td>3</td>\n      <td>10.000000</td>\n      <td>102.371015</td>\n    </tr>\n    <tr>\n      <th>241</th>\n      <td>30</td>\n      <td>130</td>\n      <td>0.5</td>\n      <td>0</td>\n      <td>2.087673e+09</td>\n      <td>30.0</td>\n      <td>70.0</td>\n      <td>2</td>\n      <td>3.990000</td>\n      <td>85.508308</td>\n    </tr>\n    <tr>\n      <th>377</th>\n      <td>30</td>\n      <td>130</td>\n      <td>0.4</td>\n      <td>6</td>\n      <td>3.355806e+09</td>\n      <td>30.0</td>\n      <td>70.0</td>\n      <td>2</td>\n      <td>8.864800</td>\n      <td>90.721792</td>\n    </tr>\n    <tr>\n      <th>325</th>\n      <td>30</td>\n      <td>130</td>\n      <td>0.3</td>\n      <td>7</td>\n      <td>4.013141e+10</td>\n      <td>30.0</td>\n      <td>70.0</td>\n      <td>3</td>\n      <td>21.080000</td>\n      <td>70.273723</td>\n    </tr>\n    <tr>\n      <th>...</th>\n      <td>...</td>\n      <td>...</td>\n      <td>...</td>\n      <td>...</td>\n      <td>...</td>\n      <td>...</td>\n      <td>...</td>\n      <td>...</td>\n      <td>...</td>\n      <td>...</td>\n    </tr>\n    <tr>\n      <th>385</th>\n      <td>30</td>\n      <td>130</td>\n      <td>0.4</td>\n      <td>3</td>\n      <td>1.395576e+09</td>\n      <td>30.0</td>\n      <td>60.0</td>\n      <td>2</td>\n      <td>6.730000</td>\n      <td>82.376598</td>\n    </tr>\n    <tr>\n      <th>197</th>\n      <td>30</td>\n      <td>130</td>\n      <td>0.4</td>\n      <td>13</td>\n      <td>5.733447e+09</td>\n      <td>30.0</td>\n      <td>70.0</td>\n      <td>3</td>\n      <td>6.500000</td>\n      <td>93.553421</td>\n    </tr>\n    <tr>\n      <th>439</th>\n      <td>30</td>\n      <td>130</td>\n      <td>0.2</td>\n      <td>20</td>\n      <td>4.343613e+10</td>\n      <td>30.0</td>\n      <td>70.0</td>\n      <td>4</td>\n      <td>15.000000</td>\n      <td>91.574169</td>\n    </tr>\n    <tr>\n      <th>174</th>\n      <td>30</td>\n      <td>130</td>\n      <td>0.3</td>\n      <td>4</td>\n      <td>3.444622e+09</td>\n      <td>30.0</td>\n      <td>70.0</td>\n      <td>3</td>\n      <td>8.800000</td>\n      <td>90.144014</td>\n    </tr>\n    <tr>\n      <th>122</th>\n      <td>30</td>\n      <td>130</td>\n      <td>0.1</td>\n      <td>18</td>\n      <td>4.638403e+09</td>\n      <td>30.0</td>\n      <td>70.0</td>\n      <td>5</td>\n      <td>50.000000</td>\n      <td>89.507565</td>\n    </tr>\n  </tbody>\n</table>\n<p>343 rows × 10 columns</p>\n</div>"
     },
     "metadata": {},
     "execution_count": 138
    }
   ],
   "source": [
    "X_train"
   ]
  },
  {
   "cell_type": "code",
   "execution_count": 93,
   "metadata": {},
   "outputs": [],
   "source": []
  },
  {
   "cell_type": "code",
   "execution_count": 96,
   "metadata": {},
   "outputs": [],
   "source": [
    "\n"
   ]
  },
  {
   "cell_type": "code",
   "execution_count": 105,
   "metadata": {},
   "outputs": [],
   "source": []
  },
  {
   "cell_type": "code",
   "execution_count": 97,
   "metadata": {},
   "outputs": [
    {
     "output_type": "execute_result",
     "data": {
      "text/plain": [
       "-35.10791366906476"
      ]
     },
     "metadata": {},
     "execution_count": 97
    }
   ],
   "source": [
    "get_bondPremRatio(9.02,13.90)"
   ]
  },
  {
   "cell_type": "code",
   "execution_count": 156,
   "metadata": {},
   "outputs": [],
   "source": [
    "\n",
    "input_data = {\n",
    "'innerValue':convert_permratio_inner(2.5316455696202667),\n",
    "'call_trigger_date':30,\n",
    "'call_trigger_rate':130, # 强赎\n",
    "'coupon':0.2,\n",
    "'industry':industry_map.get('公用事业'),\n",
    "# 'neg_market_value':21042642880,\n",
    "'put_trigger_date':30,\n",
    "'put_trigger_rate':70, # triggerRate 回售触发票面比例（%）\n",
    "'rate':rate_map.get('AA+'),\n",
    "'remainSize':30.00*10**9,\n",
    "}"
   ]
  },
  {
   "cell_type": "code",
   "execution_count": 157,
   "metadata": {},
   "outputs": [],
   "source": [
    "df_real = pd.DataFrame([input_data])"
   ]
  },
  {
   "cell_type": "code",
   "execution_count": 158,
   "metadata": {},
   "outputs": [
    {
     "output_type": "execute_result",
     "data": {
      "text/plain": [
       "   innerValue  call_trigger_date  call_trigger_rate  coupon  industry  \\\n",
       "0   97.530864                 30                130     0.2        10   \n",
       "\n",
       "   put_trigger_date  put_trigger_rate  rate    remainSize  \n",
       "0                30                70     4  3.000000e+10  "
      ],
      "text/html": "<div>\n<style scoped>\n    .dataframe tbody tr th:only-of-type {\n        vertical-align: middle;\n    }\n\n    .dataframe tbody tr th {\n        vertical-align: top;\n    }\n\n    .dataframe thead th {\n        text-align: right;\n    }\n</style>\n<table border=\"1\" class=\"dataframe\">\n  <thead>\n    <tr style=\"text-align: right;\">\n      <th></th>\n      <th>innerValue</th>\n      <th>call_trigger_date</th>\n      <th>call_trigger_rate</th>\n      <th>coupon</th>\n      <th>industry</th>\n      <th>put_trigger_date</th>\n      <th>put_trigger_rate</th>\n      <th>rate</th>\n      <th>remainSize</th>\n    </tr>\n  </thead>\n  <tbody>\n    <tr>\n      <th>0</th>\n      <td>97.530864</td>\n      <td>30</td>\n      <td>130</td>\n      <td>0.2</td>\n      <td>10</td>\n      <td>30</td>\n      <td>70</td>\n      <td>4</td>\n      <td>3.000000e+10</td>\n    </tr>\n  </tbody>\n</table>\n</div>"
     },
     "metadata": {},
     "execution_count": 158
    }
   ],
   "source": [
    "df_real"
   ]
  },
  {
   "cell_type": "code",
   "execution_count": 160,
   "metadata": {},
   "outputs": [
    {
     "output_type": "execute_result",
     "data": {
      "text/plain": [
       "118.97838485149109"
      ]
     },
     "metadata": {},
     "execution_count": 160
    }
   ],
   "source": [
    "rf_.predict(df_real)[0]"
   ]
  },
  {
   "cell_type": "code",
   "execution_count": 205,
   "metadata": {},
   "outputs": [
    {
     "output_type": "execute_result",
     "data": {
      "text/plain": [
       "array([0.        , 0.00569037, 0.11630724, 0.20587691, 0.00887675,\n",
       "       0.00978199, 0.07112373, 0.20523529, 0.37710772])"
      ]
     },
     "metadata": {},
     "execution_count": 205
    }
   ],
   "source": [
    "rf4.feature_importances_"
   ]
  },
  {
   "cell_type": "code",
   "execution_count": 104,
   "metadata": {},
   "outputs": [
    {
     "output_type": "execute_result",
     "data": {
      "text/plain": [
       "154.1019963512962"
      ]
     },
     "metadata": {},
     "execution_count": 104
    }
   ],
   "source": [
    "100/(-35.107914/100+1)"
   ]
  },
  {
   "cell_type": "code",
   "execution_count": 106,
   "metadata": {},
   "outputs": [
    {
     "output_type": "execute_result",
     "data": {
      "text/plain": [
       "154.1019963512962"
      ]
     },
     "metadata": {},
     "execution_count": 106
    }
   ],
   "source": [
    "convert_permratio_inner(-35.107914)"
   ]
  },
  {
   "cell_type": "code",
   "execution_count": 65,
   "metadata": {},
   "outputs": [
    {
     "output_type": "execute_result",
     "data": {
      "text/plain": [
       "   call_trigger_date  call_trigger_rate  coupon industry  put_trigger_date  \\\n",
       "0                 30                130     0.4     公用事业              30.0   \n",
       "1                 30                130     0.2       银行              -1.0   \n",
       "2                 30                130     0.2     国防军工              30.0   \n",
       "3                 30                130     0.3       传媒              30.0   \n",
       "4                 30                130     0.3     轻工制造              30.0   \n",
       "\n",
       "   put_trigger_rate rate  remainSize  innerValue  \n",
       "0              70.0  AAA     18.7522   97.940027  \n",
       "1              -1.0  AAA    100.0000   89.273997  \n",
       "2              70.0  AAA     24.0000   92.631446  \n",
       "3              70.0  AA+     15.6000  100.588948  \n",
       "4              70.0  AA+     12.0000   97.269736  "
      ],
      "text/html": "<div>\n<style scoped>\n    .dataframe tbody tr th:only-of-type {\n        vertical-align: middle;\n    }\n\n    .dataframe tbody tr th {\n        vertical-align: top;\n    }\n\n    .dataframe thead th {\n        text-align: right;\n    }\n</style>\n<table border=\"1\" class=\"dataframe\">\n  <thead>\n    <tr style=\"text-align: right;\">\n      <th></th>\n      <th>call_trigger_date</th>\n      <th>call_trigger_rate</th>\n      <th>coupon</th>\n      <th>industry</th>\n      <th>put_trigger_date</th>\n      <th>put_trigger_rate</th>\n      <th>rate</th>\n      <th>remainSize</th>\n      <th>innerValue</th>\n    </tr>\n  </thead>\n  <tbody>\n    <tr>\n      <th>0</th>\n      <td>30</td>\n      <td>130</td>\n      <td>0.4</td>\n      <td>公用事业</td>\n      <td>30.0</td>\n      <td>70.0</td>\n      <td>AAA</td>\n      <td>18.7522</td>\n      <td>97.940027</td>\n    </tr>\n    <tr>\n      <th>1</th>\n      <td>30</td>\n      <td>130</td>\n      <td>0.2</td>\n      <td>银行</td>\n      <td>-1.0</td>\n      <td>-1.0</td>\n      <td>AAA</td>\n      <td>100.0000</td>\n      <td>89.273997</td>\n    </tr>\n    <tr>\n      <th>2</th>\n      <td>30</td>\n      <td>130</td>\n      <td>0.2</td>\n      <td>国防军工</td>\n      <td>30.0</td>\n      <td>70.0</td>\n      <td>AAA</td>\n      <td>24.0000</td>\n      <td>92.631446</td>\n    </tr>\n    <tr>\n      <th>3</th>\n      <td>30</td>\n      <td>130</td>\n      <td>0.3</td>\n      <td>传媒</td>\n      <td>30.0</td>\n      <td>70.0</td>\n      <td>AA+</td>\n      <td>15.6000</td>\n      <td>100.588948</td>\n    </tr>\n    <tr>\n      <th>4</th>\n      <td>30</td>\n      <td>130</td>\n      <td>0.3</td>\n      <td>轻工制造</td>\n      <td>30.0</td>\n      <td>70.0</td>\n      <td>AA+</td>\n      <td>12.0000</td>\n      <td>97.269736</td>\n    </tr>\n  </tbody>\n</table>\n</div>"
     },
     "metadata": {},
     "execution_count": 65
    }
   ],
   "source": [
    "data_source.head()"
   ]
  },
  {
   "cell_type": "code",
   "execution_count": 66,
   "metadata": {},
   "outputs": [
    {
     "output_type": "execute_result",
     "data": {
      "text/plain": [
       "0    104.180\n",
       "1    112.379\n",
       "2    101.760\n",
       "3     98.080\n",
       "4    124.530\n",
       "Name: closePriceBond, dtype: float64"
      ]
     },
     "metadata": {},
     "execution_count": 66
    }
   ],
   "source": [
    "target.head()"
   ]
  },
  {
   "cell_type": "code",
   "execution_count": 67,
   "metadata": {},
   "outputs": [
    {
     "output_type": "execute_result",
     "data": {
      "text/plain": [
       "Index(['call_trigger_date', 'call_trigger_rate', 'coupon', 'industry',\n",
       "       'put_trigger_date', 'put_trigger_rate', 'rate', 'remainSize',\n",
       "       'innerValue'],\n",
       "      dtype='object')"
      ]
     },
     "metadata": {},
     "execution_count": 67
    }
   ],
   "source": [
    "data_source.columns"
   ]
  },
  {
   "cell_type": "code",
   "execution_count": 68,
   "metadata": {},
   "outputs": [],
   "source": [
    "feature_list=[]\n",
    "label_list =[]\n",
    "feature_name = data_source.columns\n",
    "label_name = target\n",
    "for index,row in data_source.iterrows():\n",
    "    feature={}\n",
    "    for i in range(len(feature_name)):\n",
    "        feature[feature_name[i]]=row[feature_name[i]]\n",
    "    feature_list.append(feature)\n",
    "    # label_list.append(row[label_name])"
   ]
  },
  {
   "cell_type": "code",
   "execution_count": 71,
   "metadata": {},
   "outputs": [
    {
     "output_type": "execute_result",
     "data": {
      "text/plain": [
       "{'call_trigger_date': 30,\n",
       " 'call_trigger_rate': 130,\n",
       " 'coupon': 0.4,\n",
       " 'industry': '公用事业',\n",
       " 'put_trigger_date': 30.0,\n",
       " 'put_trigger_rate': 70.0,\n",
       " 'rate': 'AAA',\n",
       " 'remainSize': 18.7522,\n",
       " 'innerValue': 97.94002740361967}"
      ]
     },
     "metadata": {},
     "execution_count": 71
    }
   ],
   "source": [
    "feature_list[0]"
   ]
  },
  {
   "cell_type": "code",
   "execution_count": 69,
   "metadata": {},
   "outputs": [
    {
     "output_type": "execute_result",
     "data": {
      "text/plain": [
       "458"
      ]
     },
     "metadata": {},
     "execution_count": 69
    }
   ],
   "source": [
    "len(feature_list)"
   ]
  },
  {
   "cell_type": "code",
   "execution_count": 70,
   "metadata": {},
   "outputs": [
    {
     "output_type": "execute_result",
     "data": {
      "text/plain": [
       "458"
      ]
     },
     "metadata": {},
     "execution_count": 70
    }
   ],
   "source": [
    "len(data_source)"
   ]
  },
  {
   "cell_type": "code",
   "execution_count": 47,
   "metadata": {},
   "outputs": [
    {
     "output_type": "execute_result",
     "data": {
      "text/plain": [
       "{'call_trigger_date': 30,\n",
       " 'call_trigger_rate': 130,\n",
       " 'coupon': 0.4,\n",
       " 'industry': '公用事业',\n",
       " 'put_trigger_date': 30.0,\n",
       " 'put_trigger_rate': 70.0,\n",
       " 'rate': 'AAA'}"
      ]
     },
     "metadata": {},
     "execution_count": 47
    }
   ],
   "source": [
    "feature_list[0]"
   ]
  },
  {
   "cell_type": "code",
   "execution_count": 72,
   "metadata": {},
   "outputs": [],
   "source": [
    "vec = DictVectorizer()\n",
    "X = vec.fit_transform(feature_list).toarray()"
   ]
  },
  {
   "cell_type": "code",
   "execution_count": 42,
   "metadata": {},
   "outputs": [
    {
     "output_type": "execute_result",
     "data": {
      "text/plain": [
       "{'call_trigger_date': 30,\n",
       " 'call_trigger_rate': 130,\n",
       " 'coupon': 0.4,\n",
       " 'industry': '公用事业',\n",
       " 'put_trigger_date': 30.0,\n",
       " 'put_trigger_rate': 70.0,\n",
       " 'rate': 'AAA',\n",
       " 'remainSize': 18.7522}"
      ]
     },
     "metadata": {},
     "execution_count": 42
    }
   ],
   "source": [
    "feature_list[0]"
   ]
  },
  {
   "cell_type": "code",
   "execution_count": 101,
   "metadata": {},
   "outputs": [],
   "source": [
    "vec = DictVectorizer(sparse=False)\n",
    "X = vec.fit_transform(data_source.to_dict(orient='records'))"
   ]
  },
  {
   "cell_type": "code",
   "execution_count": 84,
   "metadata": {},
   "outputs": [
    {
     "output_type": "execute_result",
     "data": {
      "text/plain": [
       "Index(['call_trigger_date', 'call_trigger_rate', 'coupon', 'industry',\n",
       "       'put_trigger_date', 'put_trigger_rate', 'rate', 'remainSize',\n",
       "       'innerValue'],\n",
       "      dtype='object')"
      ]
     },
     "metadata": {},
     "execution_count": 84
    }
   ],
   "source": [
    "data_source.columns"
   ]
  },
  {
   "cell_type": "code",
   "execution_count": 105,
   "metadata": {},
   "outputs": [
    {
     "output_type": "execute_result",
     "data": {
      "text/plain": [
       "['call_trigger_date',\n",
       " 'call_trigger_rate',\n",
       " 'coupon',\n",
       " 'industry',\n",
       " 'innerValue',\n",
       " 'put_trigger_date',\n",
       " 'put_trigger_rate',\n",
       " 'rate',\n",
       " 'remainSize']"
      ]
     },
     "metadata": {},
     "execution_count": 105
    }
   ],
   "source": [
    "vec.feature_names_"
   ]
  },
  {
   "cell_type": "code",
   "execution_count": 83,
   "metadata": {},
   "outputs": [
    {
     "output_type": "execute_result",
     "data": {
      "text/plain": [
       "39"
      ]
     },
     "metadata": {},
     "execution_count": 83
    }
   ],
   "source": [
    "len(X[0])"
   ]
  },
  {
   "cell_type": "code",
   "execution_count": 104,
   "metadata": {},
   "outputs": [
    {
     "output_type": "execute_result",
     "data": {
      "text/plain": [
       "9"
      ]
     },
     "metadata": {},
     "execution_count": 104
    }
   ],
   "source": [
    "len(X[0])"
   ]
  },
  {
   "cell_type": "code",
   "execution_count": 27,
   "metadata": {},
   "outputs": [
    {
     "output_type": "error",
     "ename": "ValueError",
     "evalue": "Unknown label type: ([97.94002740361967, 89.27399707359838, 92.63144633813998, 100.58894829225113, 97.2697357862167, 76.9847831877551, 80.7957410948954, 88.98800174772435, 87.2176437804662, 83.98731455600947, 92.42810479868234, 93.78452442805508, 92.62175129207343, 84.7340579225073, 98.91255536630287, 95.34888155761932, 84.75890752548914, 91.50051697792094, 90.18287282952372, 99.10734018693627, 90.97591685529007, 91.94725905220766, 94.37781894747968, 95.2580540684715, 99.83218210188673, 88.49886455956769, 95.9515176171784, 96.4258783915392, 94.91502258028387, 90.53206600511868, 99.28228833760744, 91.08596328871336, 92.0074084365273, 90.23332533264515, 84.24670805988256, 83.90430210918635, 91.58557527189468, 92.75233272116793, 94.22779380697247, 92.88595740807308, 100.56568196103079, 89.3814801573114, 100.70949841634314, 98.40204912427097, 99.73560092195589, 102.37101508027423, 97.30844831948309, 97.09143197240273, 94.89989010592726, 94.79041365588616, 97.87417296323846, 95.72776555121483, 97.18824683093423, 90.22331171883529, 93.62305299158422, 93.94187628230661, 96.03527952028456, 87.28852173396902, 90.01118839071697, 98.98814320020749, 95.23909298097408, 100.14059739874784, 100.07836135694248, 99.0130380368487, 88.29203473408646, 95.57926770988252, 103.12786824383552, 88.03498862587946, 92.3228048406693, 100.06624385343098, 95.67107518981142, 106.06928445660706, 96.13942524006013, 90.70064433737738, 94.1511427124191, 98.39110859229874, 90.19727045020163, 91.79204695346786, 90.54559151624025, 97.31109969327541, 106.93311547493273, 97.2395632776734, 94.10374184708706, 84.61246223111218, 94.7909527723036, 91.59220220627297, 105.66725171101697, 89.59104376253715, 79.54266151336276, 95.39254030334828, 86.17183352980511, 101.03061328613184, 98.1025976586834, 94.51313449030012, 80.12993870860988, 106.60935347823677, 107.91269862681091, 98.70128844661939, 97.04224928407082, 84.89274226478557, 84.08667991312164, 103.71120163946668, 94.51572505375582, 88.81688799835156, 92.9734393478471, 88.69934823718914, 85.60024173508266, 93.5178128053941, 91.7523786804173, 102.81539393204109, 101.32081818587102, 86.81979942889936, 90.27821036086908, 86.08141063329232, 97.7397678680513, 89.79022310176734, 91.57182115290755, 102.23987109597053, 108.15347410589523, 85.55037120306064, 93.43489083067357, 83.36987712947509, 89.50756517940897, 88.52260203336417, 92.24275340929218, 83.8780513786616, 86.57783780507866, 78.4901632202944, 85.55454316012816, 82.53855582288877, 94.54780620725258, 101.56965748680102, 98.80563745445059, 106.96697287745435, 96.43313133806755, 97.62364522786334, 98.56460367665683, 106.10102090402314, 101.63913431916518, 94.2735422246482, 104.27811390089825, 95.75352277210278, 89.65329278613746, 109.22098135051743, 90.561335381227, 91.83444820353452, 84.2192496570171, 93.62945208044644, 89.28085166790024, 93.17155025347321, 97.4045581437029, 88.56329087018747, 93.35473023750377, 100.6843515373997, 85.3396689503562, 88.31059188408, 80.17169570351867, 88.80206020779681, 85.9607967190483, 95.72235921155406, 95.54200982171862, 89.72182644927665, 77.70062106106414, 87.39746092896509, 83.87474481108892, 97.64375846449332, 90.70903625277343, 88.01538508931361, 89.65056004704861, 88.24224968321033, 95.87304874377546, 85.6479697148779, 82.01359785452429, 78.12731940479483, 90.14401407688923, 88.72665712559348, 92.92030875560192, 93.29933505563905, 92.32774873557149, 83.44271282272511, 85.31476883963381, 92.14262941893014, 97.71665492438197, 85.22243054371911, 86.85433572501222, 92.04179065462883, 86.28723294101405, 91.26760666217021, 92.63822549626296, 96.99575061616551, 86.04289582528473, 87.79754588299748, 99.20142850057042, 87.08320887691397, 94.59001848288962, 87.264984488649, 87.91687986510034, 93.5534208743877, 90.55797295033348, 97.58744322850491, 86.16158744108702, 92.69043249355802, 88.43328062709809, 99.44212965264865, 105.3855160254485, 83.36633250661721, 91.35765700498538, 79.90111438084227, 107.78266272756962, 84.02309290685453, 75.28045734383446, 82.29870149108788, 74.98702724428674, 87.1669351408269, 84.48379136220821, 83.75532055673837, 78.98295231957134, 71.83422958507113, 78.60183063663553, 86.35265387611157, 77.50496031746032, 96.1858464450673, 77.60697345220653, 78.15925573630318, 74.61082991118327, 68.27714238310442, 86.4756419735471, 81.17911034189395, 79.94167455424522, 82.4720502221797, 70.23744470557165, 92.54255106497968, 76.22549636137593, 80.45718993609286, 73.78761415866256, 82.54509644981795, 86.93747109329085, 86.93187844141575, 65.73701381726293, 77.06689560672454, 88.01646964179938, 85.50830841478711, 83.53430294383236, 80.98759513005392, 73.20617420873278, 75.86211605234789, 79.85587611478803, 87.64203487276568, 91.25719562987541, 84.50613768077976, 71.43755214941307, 88.84229604029886, 83.32972237869693, 82.14874838166966, 75.88416434081702, 91.93179028887727, 84.37131139173009, 92.81259281259281, 94.77478194692043, 94.78115978018354, 91.25611301887085, 94.99626189709436, 85.01218224571582, 86.31985650187055, 90.62535117323579, 85.20739906970562, 116.04226259203601, 93.55648425958931, 89.2688966632179, 88.83077382263691, 90.73776151757092, 92.71157244389559, 99.17270132554232, 79.81890686410671, 93.0770240296953, 91.60168290611836, 95.82132771948115, 106.14922457991445, 99.53408096699351, 98.26194275652263, 86.19775661718629, 84.37501318359581, 93.0694875407877, 81.78025808213845, 96.08713950507438, 92.15884867793524, 74.68990618200885, 92.05212727863534, 97.0138176780519, 88.17440191303182, 103.46632895256897, 87.95198525221112, 96.72863748041246, 85.02540984373181, 91.90652738538796, 88.44861135680169, 70.13266997178562, 87.76872589651364, 89.84443436190237, 83.45023320167667, 87.30452516814852, 81.6586505091417, 87.54466966769795, 98.26570851049821, 90.89967039779513, 85.15080633556059, 87.66423895167596, 85.78220070804629, 102.71696648037234, 88.04219686411304, 77.35154498108368, 95.51116621044166, 89.47961341227823, 85.63623440350081, 83.49350170076264, 87.86782570186624, 104.48491028925602, 81.7789205018936, 72.13242936972847, 98.27913239181926, 94.3808474833819, 86.35302671676294, 76.15659013437069, 104.10886455749048, 89.40089776381534, 70.27372317915513, 84.71611207263899, 88.58470868475627, 89.35560313245003, 93.22010198279158, 99.62798908874264, 85.4871829066668, 87.3715747066281, 98.78884871475708, 88.21204764861966, 78.65586564319655, 79.0323281738395, 81.50145235588099, 79.00466759576156, 98.01701771461562, 93.04134478238095, 77.73921912509174, 64.75392214506432, 80.87990870275905, 76.27468344099505, 75.33422026821997, 81.72137912999419, 95.78745912270182, 89.31873031638482, 60.26009462040057, 84.12013701487916, 87.90412824157461, 65.32792331024426, 74.72629625837962, 96.05428219595458, 94.21518748822311, 76.27538158666523, 95.36115654010652, 87.79484802272833, 81.16481245652609, 73.23040555730901, 79.9765188940527, 92.59182099408432, 81.04574951514381, 85.65552602343364, 78.13134817203898, 88.70611486732226, 83.79820386929826, 70.98758640076609, 89.93477031109336, 87.64687424952365, 86.59883091578264, 86.36876352750758, 99.49793342792269, 86.1000137760022, 83.98724401737863, 76.09290334755511, 90.72179164651887, 88.40841860325308, 93.8213041911853, 99.36249026247596, 78.61993707260237, 85.85747144595142, 87.16442784833738, 92.07713117123951, 82.37659779708503, 86.2573124636641, 84.01313965504204, 89.14785349798348, 91.14872920441744, 95.98448890659269, 74.70865492296417, 91.75953496267681, 89.10511730688692, 84.9707912904939, 85.80641729033631, 96.86778032324779, 73.60404410059907, 91.95791270251432, 81.08248358890532, 84.0569233484916, 90.91223151345227, 90.3233848146519, 82.24746122649059, 72.51132082996457, 77.03768529489255, 89.35360707108705, 75.77927618666557, 91.57802676825722, 84.15645357972099, 97.47842802387832, 92.60108102501988, 86.29453013491286, 70.6024222279018, 82.26261682319871, 92.68837057552064, 89.78804633781495, 80.94786714512253, 79.64262760142688, 90.92628424283863, 78.30399804553221, 101.0333693012128, 83.06869033072137, 91.48971792805065, 93.73749190342413, 81.18603048210701, 98.20732351652927, 84.34206442384249, 91.77140843415953, 94.84408580734132, 85.11217785040684, 86.78800207944053, 83.81892430145308, 87.55264102541652, 86.53850314351112, 91.66877504849279, 105.15888455867972, 72.09774146615084, 83.583666414244, 91.57416912466998, 93.18066612994603, 91.82736455463728, 84.00064848500631, 78.68736878881253, 91.64332053076146, 91.1710003282156, 76.89882421697772, 91.68516414853363, 87.87014198936245, 93.51204107796941, 90.89091272654561, 88.12001240729775, 84.9436526280292, 90.30087348034917, 81.43985666585228, 87.85740391914307, 83.2223009135312, 76.49189797816615],)",
     "traceback": [
      "\u001b[0;31m---------------------------------------------------------------------------\u001b[0m",
      "\u001b[0;31mValueError\u001b[0m                                Traceback (most recent call last)",
      "\u001b[0;32m<ipython-input-27-7538873db23d>\u001b[0m in \u001b[0;36m<module>\u001b[0;34m\u001b[0m\n\u001b[1;32m      1\u001b[0m \u001b[0mlabel\u001b[0m \u001b[0;34m=\u001b[0m \u001b[0mpreprocessing\u001b[0m\u001b[0;34m.\u001b[0m\u001b[0mLabelBinarizer\u001b[0m\u001b[0;34m(\u001b[0m\u001b[0;34m)\u001b[0m\u001b[0;34m\u001b[0m\u001b[0;34m\u001b[0m\u001b[0m\n\u001b[0;32m----> 2\u001b[0;31m \u001b[0mY\u001b[0m \u001b[0;34m=\u001b[0m \u001b[0mlabel\u001b[0m\u001b[0;34m.\u001b[0m\u001b[0mfit_transform\u001b[0m\u001b[0;34m(\u001b[0m\u001b[0mlabel_list\u001b[0m\u001b[0;34m)\u001b[0m\u001b[0;34m\u001b[0m\u001b[0;34m\u001b[0m\u001b[0m\n\u001b[0m",
      "\u001b[0;32m~/anaconda3/envs/3.9/lib/python3.9/site-packages/sklearn/preprocessing/_label.py\u001b[0m in \u001b[0;36mfit_transform\u001b[0;34m(self, y)\u001b[0m\n\u001b[1;32m    319\u001b[0m             \u001b[0mwill\u001b[0m \u001b[0mbe\u001b[0m \u001b[0mof\u001b[0m \u001b[0mCSR\u001b[0m \u001b[0mformat\u001b[0m\u001b[0;34m.\u001b[0m\u001b[0;34m\u001b[0m\u001b[0;34m\u001b[0m\u001b[0m\n\u001b[1;32m    320\u001b[0m         \"\"\"\n\u001b[0;32m--> 321\u001b[0;31m         \u001b[0;32mreturn\u001b[0m \u001b[0mself\u001b[0m\u001b[0;34m.\u001b[0m\u001b[0mfit\u001b[0m\u001b[0;34m(\u001b[0m\u001b[0my\u001b[0m\u001b[0;34m)\u001b[0m\u001b[0;34m.\u001b[0m\u001b[0mtransform\u001b[0m\u001b[0;34m(\u001b[0m\u001b[0my\u001b[0m\u001b[0;34m)\u001b[0m\u001b[0;34m\u001b[0m\u001b[0;34m\u001b[0m\u001b[0m\n\u001b[0m\u001b[1;32m    322\u001b[0m \u001b[0;34m\u001b[0m\u001b[0m\n\u001b[1;32m    323\u001b[0m     \u001b[0;32mdef\u001b[0m \u001b[0mtransform\u001b[0m\u001b[0;34m(\u001b[0m\u001b[0mself\u001b[0m\u001b[0;34m,\u001b[0m \u001b[0my\u001b[0m\u001b[0;34m)\u001b[0m\u001b[0;34m:\u001b[0m\u001b[0;34m\u001b[0m\u001b[0;34m\u001b[0m\u001b[0m\n",
      "\u001b[0;32m~/anaconda3/envs/3.9/lib/python3.9/site-packages/sklearn/preprocessing/_label.py\u001b[0m in \u001b[0;36mfit\u001b[0;34m(self, y)\u001b[0m\n\u001b[1;32m    295\u001b[0m \u001b[0;34m\u001b[0m\u001b[0m\n\u001b[1;32m    296\u001b[0m         \u001b[0mself\u001b[0m\u001b[0;34m.\u001b[0m\u001b[0msparse_input_\u001b[0m \u001b[0;34m=\u001b[0m \u001b[0msp\u001b[0m\u001b[0;34m.\u001b[0m\u001b[0missparse\u001b[0m\u001b[0;34m(\u001b[0m\u001b[0my\u001b[0m\u001b[0;34m)\u001b[0m\u001b[0;34m\u001b[0m\u001b[0;34m\u001b[0m\u001b[0m\n\u001b[0;32m--> 297\u001b[0;31m         \u001b[0mself\u001b[0m\u001b[0;34m.\u001b[0m\u001b[0mclasses_\u001b[0m \u001b[0;34m=\u001b[0m \u001b[0munique_labels\u001b[0m\u001b[0;34m(\u001b[0m\u001b[0my\u001b[0m\u001b[0;34m)\u001b[0m\u001b[0;34m\u001b[0m\u001b[0;34m\u001b[0m\u001b[0m\n\u001b[0m\u001b[1;32m    298\u001b[0m         \u001b[0;32mreturn\u001b[0m \u001b[0mself\u001b[0m\u001b[0;34m\u001b[0m\u001b[0;34m\u001b[0m\u001b[0m\n\u001b[1;32m    299\u001b[0m \u001b[0;34m\u001b[0m\u001b[0m\n",
      "\u001b[0;32m~/anaconda3/envs/3.9/lib/python3.9/site-packages/sklearn/utils/multiclass.py\u001b[0m in \u001b[0;36munique_labels\u001b[0;34m(*ys)\u001b[0m\n\u001b[1;32m     96\u001b[0m     \u001b[0m_unique_labels\u001b[0m \u001b[0;34m=\u001b[0m \u001b[0m_FN_UNIQUE_LABELS\u001b[0m\u001b[0;34m.\u001b[0m\u001b[0mget\u001b[0m\u001b[0;34m(\u001b[0m\u001b[0mlabel_type\u001b[0m\u001b[0;34m,\u001b[0m \u001b[0;32mNone\u001b[0m\u001b[0;34m)\u001b[0m\u001b[0;34m\u001b[0m\u001b[0;34m\u001b[0m\u001b[0m\n\u001b[1;32m     97\u001b[0m     \u001b[0;32mif\u001b[0m \u001b[0;32mnot\u001b[0m \u001b[0m_unique_labels\u001b[0m\u001b[0;34m:\u001b[0m\u001b[0;34m\u001b[0m\u001b[0;34m\u001b[0m\u001b[0m\n\u001b[0;32m---> 98\u001b[0;31m         \u001b[0;32mraise\u001b[0m \u001b[0mValueError\u001b[0m\u001b[0;34m(\u001b[0m\u001b[0;34m\"Unknown label type: %s\"\u001b[0m \u001b[0;34m%\u001b[0m \u001b[0mrepr\u001b[0m\u001b[0;34m(\u001b[0m\u001b[0mys\u001b[0m\u001b[0;34m)\u001b[0m\u001b[0;34m)\u001b[0m\u001b[0;34m\u001b[0m\u001b[0;34m\u001b[0m\u001b[0m\n\u001b[0m\u001b[1;32m     99\u001b[0m \u001b[0;34m\u001b[0m\u001b[0m\n\u001b[1;32m    100\u001b[0m     \u001b[0mys_labels\u001b[0m \u001b[0;34m=\u001b[0m \u001b[0mset\u001b[0m\u001b[0;34m(\u001b[0m\u001b[0mchain\u001b[0m\u001b[0;34m.\u001b[0m\u001b[0mfrom_iterable\u001b[0m\u001b[0;34m(\u001b[0m\u001b[0m_unique_labels\u001b[0m\u001b[0;34m(\u001b[0m\u001b[0my\u001b[0m\u001b[0;34m)\u001b[0m \u001b[0;32mfor\u001b[0m \u001b[0my\u001b[0m \u001b[0;32min\u001b[0m \u001b[0mys\u001b[0m\u001b[0;34m)\u001b[0m\u001b[0;34m)\u001b[0m\u001b[0;34m\u001b[0m\u001b[0;34m\u001b[0m\u001b[0m\n",
      "\u001b[0;31mValueError\u001b[0m: Unknown label type: ([97.94002740361967, 89.27399707359838, 92.63144633813998, 100.58894829225113, 97.2697357862167, 76.9847831877551, 80.7957410948954, 88.98800174772435, 87.2176437804662, 83.98731455600947, 92.42810479868234, 93.78452442805508, 92.62175129207343, 84.7340579225073, 98.91255536630287, 95.34888155761932, 84.75890752548914, 91.50051697792094, 90.18287282952372, 99.10734018693627, 90.97591685529007, 91.94725905220766, 94.37781894747968, 95.2580540684715, 99.83218210188673, 88.49886455956769, 95.9515176171784, 96.4258783915392, 94.91502258028387, 90.53206600511868, 99.28228833760744, 91.08596328871336, 92.0074084365273, 90.23332533264515, 84.24670805988256, 83.90430210918635, 91.58557527189468, 92.75233272116793, 94.22779380697247, 92.88595740807308, 100.56568196103079, 89.3814801573114, 100.70949841634314, 98.40204912427097, 99.73560092195589, 102.37101508027423, 97.30844831948309, 97.09143197240273, 94.89989010592726, 94.79041365588616, 97.87417296323846, 95.72776555121483, 97.18824683093423, 90.22331171883529, 93.62305299158422, 93.94187628230661, 96.03527952028456, 87.28852173396902, 90.01118839071697, 98.98814320020749, 95.23909298097408, 100.14059739874784, 100.07836135694248, 99.0130380368487, 88.29203473408646, 95.57926770988252, 103.12786824383552, 88.03498862587946, 92.3228048406693, 100.06624385343098, 95.67107518981142, 106.06928445660706, 96.13942524006013, 90.70064433737738, 94.1511427124191, 98.39110859229874, 90.19727045020163, 91.79204695346786, 90.54559151624025, 97.31109969327541, 106.93311547493273, 97.2395632776734, 94.10374184708706, 84.61246223111218, 94.7909527723036, 91.59220220627297, 105.66725171101697, 89.59104376253715, 79.54266151336276, 95.39254030334828, 86.17183352980511, 101.03061328613184, 98.1025976586834, 94.51313449030012, 80.12993870860988, 106.60935347823677, 107.91269862681091, 98.70128844661939, 97.04224928407082, 84.89274226478557, 84.08667991312164, 103.71120163946668, 94.51572505375582, 88.81688799835156, 92.9734393478471, 88.69934823718914, 85.60024173508266, 93.5178128053941, 91.7523786804173, 102.81539393204109, 101.32081818587102, 86.81979942889936, 90.27821036086908, 86.08141063329232, 97.7397678680513, 89.79022310176734, 91.57182115290755, 102.23987109597053, 108.15347410589523, 85.55037120306064, 93.43489083067357, 83.36987712947509, 89.50756517940897, 88.52260203336417, 92.24275340929218, 83.8780513786616, 86.57783780507866, 78.4901632202944, 85.55454316012816, 82.53855582288877, 94.54780620725258, 101.56965748680102, 98.80563745445059, 106.96697287745435, 96.43313133806755, 97.62364522786334, 98.56460367665683, 106.10102090402314, 101.63913431916518, 94.2735422246482, 104.27811390089825, 95.75352277210278, 89.65329278613746, 109.22098135051743, 90.561335381227, 91.83444820353452, 84.2192496570171, 93.62945208044644, 89.28085166790024, 93.17155025347321, 97.4045581437029, 88.56329087018747, 93.35473023750377, 100.6843515373997, 85.3396689503562, 88.31059188408, 80.17169570351867, 88.80206020779681, 85.9607967190483, 95.72235921155406, 95.54200982171862, 89.72182644927665, 77.70062106106414, 87.39746092896509, 83.87474481108892, 97.64375846449332, 90.70903625277343, 88.01538508931361, 89.65056004704861, 88.24224968321033, 95.87304874377546, 85.6479697148779, 82.01359785452429, 78.12731940479483, 90.14401407688923, 88.72665712559348, 92.92030875560192, 93.29933505563905, 92.32774873557149, 83.44271282272511, 85.31476883963381, 92.14262941893014, 97.71665492438197, 85.22243054371911, 86.85433572501222, 92.04179065462883, 86.28723294101405, 91.26760666217021, 92.63822549626296, 96.99575061616551, 86.04289582528473, 87.79754588299748, 99.20142850057042, 87.08320887691397, 94.59001848288962, 87.264984488649, 87.91687986510034, 93.5534208743877, 90.55797295033348, 97.58744322850491, 86.16158744108702, 92.69043249355802, 88.43328062709809, 99.44212965264865, 105.3855160254485, 83.36633250661721, 91.35765700498538, 79.90111438084227, 107.78266272756962, 84.02309290685453, 75.28045734383446, 82.29870149108788, 74.98702724428674, 87.1669351408269, 84.48379136220821, 83.75532055673837, 78.98295231957134, 71.83422958507113, 78.60183063663553, 86.35265387611157, 77.50496031746032, 96.1858464450673, 77.60697345220653, 78.15925573630318, 74.61082991118327, 68.27714238310442, 86.4756419735471, 81.17911034189395, 79.94167455424522, 82.4720502221797, 70.23744470557165, 92.54255106497968, 76.22549636137593, 80.45718993609286, 73.78761415866256, 82.54509644981795, 86.93747109329085, 86.93187844141575, 65.73701381726293, 77.06689560672454, 88.01646964179938, 85.50830841478711, 83.53430294383236, 80.98759513005392, 73.20617420873278, 75.86211605234789, 79.85587611478803, 87.64203487276568, 91.25719562987541, 84.50613768077976, 71.43755214941307, 88.84229604029886, 83.32972237869693, 82.14874838166966, 75.88416434081702, 91.93179028887727, 84.37131139173009, 92.81259281259281, 94.77478194692043, 94.78115978018354, 91.25611301887085, 94.99626189709436, 85.01218224571582, 86.31985650187055, 90.62535117323579, 85.20739906970562, 116.04226259203601, 93.55648425958931, 89.2688966632179, 88.83077382263691, 90.73776151757092, 92.71157244389559, 99.17270132554232, 79.81890686410671, 93.0770240296953, 91.60168290611836, 95.82132771948115, 106.14922457991445, 99.53408096699351, 98.26194275652263, 86.19775661718629, 84.37501318359581, 93.0694875407877, 81.78025808213845, 96.08713950507438, 92.15884867793524, 74.68990618200885, 92.05212727863534, 97.0138176780519, 88.17440191303182, 103.46632895256897, 87.95198525221112, 96.72863748041246, 85.02540984373181, 91.90652738538796, 88.44861135680169, 70.13266997178562, 87.76872589651364, 89.84443436190237, 83.45023320167667, 87.30452516814852, 81.6586505091417, 87.54466966769795, 98.26570851049821, 90.89967039779513, 85.15080633556059, 87.66423895167596, 85.78220070804629, 102.71696648037234, 88.04219686411304, 77.35154498108368, 95.51116621044166, 89.47961341227823, 85.63623440350081, 83.49350170076264, 87.86782570186624, 104.48491028925602, 81.7789205018936, 72.13242936972847, 98.27913239181926, 94.3808474833819, 86.35302671676294, 76.15659013437069, 104.10886455749048, 89.40089776381534, 70.27372317915513, 84.71611207263899, 88.58470868475627, 89.35560313245003, 93.22010198279158, 99.62798908874264, 85.4871829066668, 87.3715747066281, 98.78884871475708, 88.21204764861966, 78.65586564319655, 79.0323281738395, 81.50145235588099, 79.00466759576156, 98.01701771461562, 93.04134478238095, 77.73921912509174, 64.75392214506432, 80.87990870275905, 76.27468344099505, 75.33422026821997, 81.72137912999419, 95.78745912270182, 89.31873031638482, 60.26009462040057, 84.12013701487916, 87.90412824157461, 65.32792331024426, 74.72629625837962, 96.05428219595458, 94.21518748822311, 76.27538158666523, 95.36115654010652, 87.79484802272833, 81.16481245652609, 73.23040555730901, 79.9765188940527, 92.59182099408432, 81.04574951514381, 85.65552602343364, 78.13134817203898, 88.70611486732226, 83.79820386929826, 70.98758640076609, 89.93477031109336, 87.64687424952365, 86.59883091578264, 86.36876352750758, 99.49793342792269, 86.1000137760022, 83.98724401737863, 76.09290334755511, 90.72179164651887, 88.40841860325308, 93.8213041911853, 99.36249026247596, 78.61993707260237, 85.85747144595142, 87.16442784833738, 92.07713117123951, 82.37659779708503, 86.2573124636641, 84.01313965504204, 89.14785349798348, 91.14872920441744, 95.98448890659269, 74.70865492296417, 91.75953496267681, 89.10511730688692, 84.9707912904939, 85.80641729033631, 96.86778032324779, 73.60404410059907, 91.95791270251432, 81.08248358890532, 84.0569233484916, 90.91223151345227, 90.3233848146519, 82.24746122649059, 72.51132082996457, 77.03768529489255, 89.35360707108705, 75.77927618666557, 91.57802676825722, 84.15645357972099, 97.47842802387832, 92.60108102501988, 86.29453013491286, 70.6024222279018, 82.26261682319871, 92.68837057552064, 89.78804633781495, 80.94786714512253, 79.64262760142688, 90.92628424283863, 78.30399804553221, 101.0333693012128, 83.06869033072137, 91.48971792805065, 93.73749190342413, 81.18603048210701, 98.20732351652927, 84.34206442384249, 91.77140843415953, 94.84408580734132, 85.11217785040684, 86.78800207944053, 83.81892430145308, 87.55264102541652, 86.53850314351112, 91.66877504849279, 105.15888455867972, 72.09774146615084, 83.583666414244, 91.57416912466998, 93.18066612994603, 91.82736455463728, 84.00064848500631, 78.68736878881253, 91.64332053076146, 91.1710003282156, 76.89882421697772, 91.68516414853363, 87.87014198936245, 93.51204107796941, 90.89091272654561, 88.12001240729775, 84.9436526280292, 90.30087348034917, 81.43985666585228, 87.85740391914307, 83.2223009135312, 76.49189797816615],)"
     ]
    }
   ],
   "source": [
    "label = preprocessing.LabelBinarizer()\n",
    "Y = label.fit_transform(label_list)"
   ]
  },
  {
   "cell_type": "code",
   "execution_count": 28,
   "metadata": {},
   "outputs": [],
   "source": [
    "X_train,X_test,y_train,y_test = train_test_split(X,label_list,random_state=4)"
   ]
  },
  {
   "cell_type": "code",
   "execution_count": 90,
   "metadata": {},
   "outputs": [
    {
     "output_type": "stream",
     "name": "stdout",
     "text": [
      "[[ 1.  1.  0.  0. 33.]\n [ 2.  0.  1.  0. 12.]\n [ 3.  0.  0.  1. 18.]]\n['city', 'country=CN', 'country=UK', 'country=USA', 'temperature']\n"
     ]
    }
   ],
   "source": [
    "#-*- coding:utf-8 -*-\n",
    "\n",
    "#定义一组字典列表，用来表示多个数据样本（每个字典代表一个数据样本）\n",
    "measurements = [{'city':1,'country':'CN','temperature':33.},{'city':2,'country':'UK','temperature':12.},{'city':3,'country':'USA','temperature':18.}]\n",
    "#从sklearn.feature_extraction导入DictVectorizer\n",
    "from sklearn.feature_extraction import DictVectorizer\n",
    "vec = DictVectorizer()\n",
    "#输出转化后的特征矩阵\n",
    "print(vec.fit_transform(measurements).toarray())\n",
    "#输出各个维度的特征含义\n",
    "print(vec.get_feature_names())\n"
   ]
  },
  {
   "cell_type": "code",
   "execution_count": 154,
   "metadata": {},
   "outputs": [],
   "source": [
    "with open('new_bond_tree.dot','w') as f:\n",
    "    tree.export_graphviz(rf_.estimators_[0],feature_names=list(data_source.columns),out_file=f)"
   ]
  },
  {
   "cell_type": "code",
   "execution_count": 163,
   "metadata": {},
   "outputs": [
    {
     "output_type": "execute_result",
     "data": {
      "text/plain": [
       "['train_model.m']"
      ]
     },
     "metadata": {},
     "execution_count": 163
    }
   ],
   "source": [
    "import joblib\n",
    "joblib.dump(rf_, \"train_model.m\")\n",
    "# clf = joblib.load(\"train_model.m\") ＃调用\n"
   ]
  },
  {
   "cell_type": "code",
   "execution_count": null,
   "metadata": {},
   "outputs": [],
   "source": []
  }
 ]
}