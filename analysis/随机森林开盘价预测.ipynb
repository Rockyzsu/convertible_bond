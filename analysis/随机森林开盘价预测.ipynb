{
 "metadata": {
  "language_info": {
   "codemirror_mode": {
    "name": "ipython",
    "version": 3
   },
   "file_extension": ".py",
   "mimetype": "text/x-python",
   "name": "python",
   "nbconvert_exporter": "python",
   "pygments_lexer": "ipython3",
   "version": "3.9.5"
  },
  "orig_nbformat": 4,
  "kernelspec": {
   "name": "python3",
   "display_name": "Python 3.9.5 64-bit ('3.9': conda)"
  },
  "interpreter": {
   "hash": "28d2dd8735d5b963e054e321a2b13f416b1a0f524027151d22c8eb8270a4fd3f"
  }
 },
 "nbformat": 4,
 "nbformat_minor": 2,
 "cells": [
  {
   "cell_type": "code",
   "execution_count": 116,
   "source": [
    "import sys\n",
    "sys.path.append('..')\n",
    "from configure.settings import DBSelector\n",
    "import pandas as pd\n",
    "import pyecharts.options as opts\n",
    "from pyecharts.charts import Bar, Line\n",
    "from pyecharts.charts import Scatter\n",
    "import pyecharts.options as opts\n",
    "from pyecharts.charts import Line, Grid\n",
    "from pyecharts.commons.utils import JsCode\n",
    "import matplotlib.pyplot as plt\n",
    "import numpy as np\n",
    "from sklearn.model_selection import train_test_split\n",
    "from sklearn.ensemble import RandomForestClassifier\n",
    "from sklearn.preprocessing import MinMaxScaler\n",
    "from sklearn.ensemble import RandomForestRegressor\n",
    "from sklearn.model_selection import GridSearchCV,RandomizedSearchCV\n",
    "from sklearn import tree,preprocessing\n",
    "from sklearn.feature_extraction import DictVectorizer\n",
    "%matplotlib inline\n",
    "\n",
    "background_color_js = (\n",
    "    \"new echarts.graphic.LinearGradient(0, 0, 0, 1, \"\n",
    "    \"[{offset: 0, color: '#c86589'}, {offset: 1, color: '#06a7ff'}], false)\"\n",
    ")\n",
    "area_color_js = (\n",
    "    \"new echarts.graphic.LinearGradient(0, 0, 0, 1, \"\n",
    "    \"[{offset: 0, color: '#eb64fb'}, {offset: 1, color: '#3fbbff0d'}], false)\"\n",
    ")"
   ],
   "outputs": [],
   "metadata": {}
  },
  {
   "cell_type": "code",
   "execution_count": 107,
   "source": [
    "def get_bondPremRatio(conv_price,current_price):\n",
    "    inner_value = get_conv_value(conv_price,current_price)\n",
    "    return (100/inner_value-1)*100\n",
    "\n",
    "def convert_permratio_inner(bondPremRatio):\n",
    "    return 100/(bondPremRatio/100+1)\n",
    "\n",
    "# 转股价值\n",
    "def get_conv_value(conv_price,current_price):\n",
    "    return 100/conv_price*current_price"
   ],
   "outputs": [],
   "metadata": {}
  },
  {
   "cell_type": "code",
   "execution_count": 155,
   "source": [
    "get_bondPremRatio(4.05,3.95)"
   ],
   "outputs": [
    {
     "output_type": "execute_result",
     "data": {
      "text/plain": [
       "2.5316455696202667"
      ]
     },
     "metadata": {},
     "execution_count": 155
    }
   ],
   "metadata": {}
  },
  {
   "cell_type": "code",
   "execution_count": 108,
   "source": [
    "# load data\n",
    "file = '/home/xda/hub/convertible_bond/data/new_bond_info.xlsx'\n",
    "data = pd.read_excel(file,index_col=0)"
   ],
   "outputs": [],
   "metadata": {}
  },
  {
   "cell_type": "code",
   "execution_count": 109,
   "source": [
    "data.drop('neg_market_value',axis=1,inplace=True)"
   ],
   "outputs": [],
   "metadata": {}
  },
  {
   "cell_type": "code",
   "execution_count": 110,
   "source": [
    "data.head()"
   ],
   "outputs": [
    {
     "output_type": "execute_result",
     "data": {
      "text/html": [
       "<div>\n",
       "<style scoped>\n",
       "    .dataframe tbody tr th:only-of-type {\n",
       "        vertical-align: middle;\n",
       "    }\n",
       "\n",
       "    .dataframe tbody tr th {\n",
       "        vertical-align: top;\n",
       "    }\n",
       "\n",
       "    .dataframe thead th {\n",
       "        text-align: right;\n",
       "    }\n",
       "</style>\n",
       "<table border=\"1\" class=\"dataframe\">\n",
       "  <thead>\n",
       "    <tr style=\"text-align: right;\">\n",
       "      <th></th>\n",
       "      <th>bondPremRatio</th>\n",
       "      <th>call_trigger_date</th>\n",
       "      <th>call_trigger_rate</th>\n",
       "      <th>closePriceBond</th>\n",
       "      <th>code</th>\n",
       "      <th>coupon</th>\n",
       "      <th>firstDate</th>\n",
       "      <th>industry</th>\n",
       "      <th>put_trigger_date</th>\n",
       "      <th>put_trigger_rate</th>\n",
       "      <th>rate</th>\n",
       "      <th>remainSize</th>\n",
       "      <th>secShortNameBond</th>\n",
       "    </tr>\n",
       "  </thead>\n",
       "  <tbody>\n",
       "    <tr>\n",
       "      <th>0</th>\n",
       "      <td>2.1033</td>\n",
       "      <td>30</td>\n",
       "      <td>130</td>\n",
       "      <td>104.180</td>\n",
       "      <td>110041</td>\n",
       "      <td>0.4</td>\n",
       "      <td>20180109</td>\n",
       "      <td>公用事业</td>\n",
       "      <td>30.0</td>\n",
       "      <td>70.0</td>\n",
       "      <td>AAA</td>\n",
       "      <td>18.7522</td>\n",
       "      <td>蒙电转债</td>\n",
       "    </tr>\n",
       "    <tr>\n",
       "      <th>1</th>\n",
       "      <td>12.0147</td>\n",
       "      <td>30</td>\n",
       "      <td>130</td>\n",
       "      <td>112.379</td>\n",
       "      <td>128024</td>\n",
       "      <td>0.2</td>\n",
       "      <td>20180112</td>\n",
       "      <td>银行</td>\n",
       "      <td>-1.0</td>\n",
       "      <td>-1.0</td>\n",
       "      <td>AAA</td>\n",
       "      <td>100.0000</td>\n",
       "      <td>宁行转债</td>\n",
       "    </tr>\n",
       "    <tr>\n",
       "      <th>2</th>\n",
       "      <td>7.9547</td>\n",
       "      <td>30</td>\n",
       "      <td>130</td>\n",
       "      <td>101.760</td>\n",
       "      <td>110042</td>\n",
       "      <td>0.2</td>\n",
       "      <td>20180115</td>\n",
       "      <td>国防军工</td>\n",
       "      <td>30.0</td>\n",
       "      <td>70.0</td>\n",
       "      <td>AAA</td>\n",
       "      <td>24.0000</td>\n",
       "      <td>航电转债</td>\n",
       "    </tr>\n",
       "    <tr>\n",
       "      <th>3</th>\n",
       "      <td>-0.5855</td>\n",
       "      <td>30</td>\n",
       "      <td>130</td>\n",
       "      <td>98.080</td>\n",
       "      <td>113017</td>\n",
       "      <td>0.3</td>\n",
       "      <td>20180115</td>\n",
       "      <td>传媒</td>\n",
       "      <td>30.0</td>\n",
       "      <td>70.0</td>\n",
       "      <td>AA+</td>\n",
       "      <td>15.6000</td>\n",
       "      <td>吉视转债</td>\n",
       "    </tr>\n",
       "    <tr>\n",
       "      <th>4</th>\n",
       "      <td>2.8069</td>\n",
       "      <td>30</td>\n",
       "      <td>130</td>\n",
       "      <td>124.530</td>\n",
       "      <td>128029</td>\n",
       "      <td>0.3</td>\n",
       "      <td>20180116</td>\n",
       "      <td>轻工制造</td>\n",
       "      <td>30.0</td>\n",
       "      <td>70.0</td>\n",
       "      <td>AA+</td>\n",
       "      <td>12.0000</td>\n",
       "      <td>太阳转债</td>\n",
       "    </tr>\n",
       "  </tbody>\n",
       "</table>\n",
       "</div>"
      ],
      "text/plain": [
       "   bondPremRatio  call_trigger_date  call_trigger_rate  closePriceBond  \\\n",
       "0         2.1033                 30                130         104.180   \n",
       "1        12.0147                 30                130         112.379   \n",
       "2         7.9547                 30                130         101.760   \n",
       "3        -0.5855                 30                130          98.080   \n",
       "4         2.8069                 30                130         124.530   \n",
       "\n",
       "     code  coupon  firstDate industry  put_trigger_date  put_trigger_rate  \\\n",
       "0  110041     0.4   20180109     公用事业              30.0              70.0   \n",
       "1  128024     0.2   20180112       银行              -1.0              -1.0   \n",
       "2  110042     0.2   20180115     国防军工              30.0              70.0   \n",
       "3  113017     0.3   20180115       传媒              30.0              70.0   \n",
       "4  128029     0.3   20180116     轻工制造              30.0              70.0   \n",
       "\n",
       "  rate  remainSize secShortNameBond  \n",
       "0  AAA     18.7522             蒙电转债  \n",
       "1  AAA    100.0000             宁行转债  \n",
       "2  AAA     24.0000             航电转债  \n",
       "3  AA+     15.6000             吉视转债  \n",
       "4  AA+     12.0000             太阳转债  "
      ]
     },
     "metadata": {},
     "execution_count": 110
    }
   ],
   "metadata": {}
  },
  {
   "cell_type": "code",
   "execution_count": 111,
   "source": [
    "data.info()"
   ],
   "outputs": [
    {
     "output_type": "stream",
     "name": "stdout",
     "text": [
      "<class 'pandas.core.frame.DataFrame'>\n",
      "Int64Index: 458 entries, 0 to 457\n",
      "Data columns (total 13 columns):\n",
      " #   Column             Non-Null Count  Dtype  \n",
      "---  ------             --------------  -----  \n",
      " 0   bondPremRatio      458 non-null    float64\n",
      " 1   call_trigger_date  458 non-null    int64  \n",
      " 2   call_trigger_rate  458 non-null    int64  \n",
      " 3   closePriceBond     458 non-null    float64\n",
      " 4   code               458 non-null    int64  \n",
      " 5   coupon             458 non-null    float64\n",
      " 6   firstDate          458 non-null    int64  \n",
      " 7   industry           458 non-null    object \n",
      " 8   put_trigger_date   454 non-null    float64\n",
      " 9   put_trigger_rate   454 non-null    float64\n",
      " 10  rate               458 non-null    object \n",
      " 11  remainSize         458 non-null    float64\n",
      " 12  secShortNameBond   458 non-null    object \n",
      "dtypes: float64(6), int64(4), object(3)\n",
      "memory usage: 50.1+ KB\n"
     ]
    }
   ],
   "metadata": {}
  },
  {
   "cell_type": "code",
   "execution_count": 112,
   "source": [
    "rate_map = {\n",
    "    'A':0,\n",
    "    'A+':1,\n",
    "    'AA-':2,\n",
    "    'AA':3,\n",
    "    'AA+':4,\n",
    "    'AAA':5\n",
    "}\n",
    "\n",
    "data['rate'] = data['rate'].map(lambda x:rate_map.get(x))"
   ],
   "outputs": [],
   "metadata": {}
  },
  {
   "cell_type": "code",
   "execution_count": 113,
   "source": [
    "industry_map = {\n",
    "'化工':0,\n",
    "'医药生物':    1,\n",
    "'机械设备':    2,\n",
    "'电子':      3,\n",
    "'电气设备':   4,\n",
    "'轻工制造':    5,\n",
    "'汽车':      6,\n",
    "'有色金属':   7,\n",
    "'计算机':     8,\n",
    "'建筑装饰':    9,\n",
    "'公用事业':    10,\n",
    "'农林牧渔':    11,\n",
    "'银行':    12,\n",
    "'纺织服装':    13,\n",
    "'食品饮料':    14,\n",
    "'国防军工':     15,\n",
    "'通信':       16,\n",
    "'非银金融':     17,\n",
    "'交通运输':     18,\n",
    "'家用电器':     19,\n",
    "'建筑材料':     20,\n",
    "'采掘':       21,\n",
    "'钢铁':       22,\n",
    "'传媒':       23,\n",
    "'商业贸易':    24,\n",
    "'休闲服务':  25,\n",
    "}\n",
    "data['industry']=data['industry'].map(lambda x:industry_map.get(x))"
   ],
   "outputs": [],
   "metadata": {}
  },
  {
   "cell_type": "code",
   "execution_count": 114,
   "source": [
    "data['innerValue'] = data['bondPremRatio'].map(lambda x:convert_permratio_inner(x))"
   ],
   "outputs": [],
   "metadata": {}
  },
  {
   "cell_type": "code",
   "execution_count": 115,
   "source": [
    "train_data = data.copy()\n",
    "train_data.drop('secShortNameBond',inplace=True,axis=1)\n",
    "train_data.drop('bondPremRatio',inplace=True,axis=1)\n",
    "\n",
    "data_source = train_data.copy()\n",
    "target = data_source['closePriceBond']\n",
    "data_source.drop('closePriceBond',axis=1,inplace=True)\n",
    "data_source.drop('firstDate',axis=1,inplace=True)"
   ],
   "outputs": [],
   "metadata": {}
  },
  {
   "cell_type": "code",
   "execution_count": 117,
   "source": [
    "data_source.isnull().any()"
   ],
   "outputs": [
    {
     "output_type": "execute_result",
     "data": {
      "text/plain": [
       "call_trigger_date    False\n",
       "call_trigger_rate    False\n",
       "code                 False\n",
       "coupon               False\n",
       "industry             False\n",
       "put_trigger_date      True\n",
       "put_trigger_rate      True\n",
       "rate                 False\n",
       "remainSize           False\n",
       "innerValue           False\n",
       "dtype: bool"
      ]
     },
     "metadata": {},
     "execution_count": 117
    }
   ],
   "metadata": {}
  },
  {
   "cell_type": "code",
   "execution_count": 118,
   "source": [
    "data_source['put_trigger_date'].fillna(0,inplace=True)"
   ],
   "outputs": [],
   "metadata": {}
  },
  {
   "cell_type": "code",
   "execution_count": 119,
   "source": [
    "data_source['put_trigger_rate'].fillna(0,inplace=True)"
   ],
   "outputs": [],
   "metadata": {}
  },
  {
   "cell_type": "code",
   "execution_count": 120,
   "source": [
    "data_source.drop('code',axis=1,inplace=True)"
   ],
   "outputs": [],
   "metadata": {}
  },
  {
   "cell_type": "code",
   "execution_count": 123,
   "source": [
    "data_source[data_source['industry'].isnull()]"
   ],
   "outputs": [
    {
     "output_type": "execute_result",
     "data": {
      "text/html": [
       "<div>\n",
       "<style scoped>\n",
       "    .dataframe tbody tr th:only-of-type {\n",
       "        vertical-align: middle;\n",
       "    }\n",
       "\n",
       "    .dataframe tbody tr th {\n",
       "        vertical-align: top;\n",
       "    }\n",
       "\n",
       "    .dataframe thead th {\n",
       "        text-align: right;\n",
       "    }\n",
       "</style>\n",
       "<table border=\"1\" class=\"dataframe\">\n",
       "  <thead>\n",
       "    <tr style=\"text-align: right;\">\n",
       "      <th></th>\n",
       "      <th>call_trigger_date</th>\n",
       "      <th>call_trigger_rate</th>\n",
       "      <th>coupon</th>\n",
       "      <th>industry</th>\n",
       "      <th>put_trigger_date</th>\n",
       "      <th>put_trigger_rate</th>\n",
       "      <th>rate</th>\n",
       "      <th>remainSize</th>\n",
       "      <th>innerValue</th>\n",
       "    </tr>\n",
       "  </thead>\n",
       "  <tbody>\n",
       "  </tbody>\n",
       "</table>\n",
       "</div>"
      ],
      "text/plain": [
       "Empty DataFrame\n",
       "Columns: [call_trigger_date, call_trigger_rate, coupon, industry, put_trigger_date, put_trigger_rate, rate, remainSize, innerValue]\n",
       "Index: []"
      ]
     },
     "metadata": {},
     "execution_count": 123
    }
   ],
   "metadata": {}
  },
  {
   "cell_type": "code",
   "execution_count": 124,
   "source": [
    "X_train,X_test,y_train,y_test = train_test_split(data_source,target,random_state=4)"
   ],
   "outputs": [],
   "metadata": {}
  },
  {
   "cell_type": "code",
   "execution_count": 125,
   "source": [
    "rfr = RandomForestRegressor()"
   ],
   "outputs": [],
   "metadata": {}
  },
  {
   "cell_type": "code",
   "execution_count": 126,
   "source": [
    "from pprint import pprint"
   ],
   "outputs": [],
   "metadata": {}
  },
  {
   "cell_type": "code",
   "execution_count": 127,
   "source": [
    "pprint(rfr.get_params())"
   ],
   "outputs": [
    {
     "output_type": "stream",
     "name": "stdout",
     "text": [
      "{'bootstrap': True,\n",
      " 'ccp_alpha': 0.0,\n",
      " 'criterion': 'mse',\n",
      " 'max_depth': None,\n",
      " 'max_features': 'auto',\n",
      " 'max_leaf_nodes': None,\n",
      " 'max_samples': None,\n",
      " 'min_impurity_decrease': 0.0,\n",
      " 'min_impurity_split': None,\n",
      " 'min_samples_leaf': 1,\n",
      " 'min_samples_split': 2,\n",
      " 'min_weight_fraction_leaf': 0.0,\n",
      " 'n_estimators': 100,\n",
      " 'n_jobs': None,\n",
      " 'oob_score': False,\n",
      " 'random_state': None,\n",
      " 'verbose': 0,\n",
      " 'warm_start': False}\n"
     ]
    }
   ],
   "metadata": {}
  },
  {
   "cell_type": "code",
   "execution_count": 86,
   "source": [
    "rf_param_grid ={\n",
    "    # 'criterion':['entropy','gini'],\n",
    "    'max_depth':[5,6,7,8],\n",
    "    'n_estimators':[11,13,15],\n",
    "    # 'max_features':[0.3,0.4,0.5],\n",
    "    'min_samples_split':[4,8,12,16]\n",
    "}"
   ],
   "outputs": [],
   "metadata": {}
  },
  {
   "cell_type": "code",
   "execution_count": 156,
   "source": [
    "from sklearn.metrics import r2_score"
   ],
   "outputs": [],
   "metadata": {}
  },
  {
   "cell_type": "code",
   "execution_count": 100,
   "source": [
    "import sklearn.metrics as metrics\n",
    "metrics.classification_report(y_test,y_pred)"
   ],
   "outputs": [
    {
     "output_type": "error",
     "ename": "ValueError",
     "evalue": "continuous is not supported",
     "traceback": [
      "\u001b[0;31m---------------------------------------------------------------------------\u001b[0m",
      "\u001b[0;31mValueError\u001b[0m                                Traceback (most recent call last)",
      "\u001b[0;32m<ipython-input-100-7c13f8a7e0f2>\u001b[0m in \u001b[0;36m<module>\u001b[0;34m\u001b[0m\n\u001b[1;32m      1\u001b[0m \u001b[0;32mimport\u001b[0m \u001b[0msklearn\u001b[0m\u001b[0;34m.\u001b[0m\u001b[0mmetrics\u001b[0m \u001b[0;32mas\u001b[0m \u001b[0mmetrics\u001b[0m\u001b[0;34m\u001b[0m\u001b[0;34m\u001b[0m\u001b[0m\n\u001b[0;32m----> 2\u001b[0;31m \u001b[0mmetrics\u001b[0m\u001b[0;34m.\u001b[0m\u001b[0mclassification_report\u001b[0m\u001b[0;34m(\u001b[0m\u001b[0my_test\u001b[0m\u001b[0;34m,\u001b[0m\u001b[0my_pred\u001b[0m\u001b[0;34m)\u001b[0m\u001b[0;34m\u001b[0m\u001b[0;34m\u001b[0m\u001b[0m\n\u001b[0m",
      "\u001b[0;32m~/anaconda3/envs/3.9/lib/python3.9/site-packages/sklearn/utils/validation.py\u001b[0m in \u001b[0;36minner_f\u001b[0;34m(*args, **kwargs)\u001b[0m\n\u001b[1;32m     61\u001b[0m             \u001b[0mextra_args\u001b[0m \u001b[0;34m=\u001b[0m \u001b[0mlen\u001b[0m\u001b[0;34m(\u001b[0m\u001b[0margs\u001b[0m\u001b[0;34m)\u001b[0m \u001b[0;34m-\u001b[0m \u001b[0mlen\u001b[0m\u001b[0;34m(\u001b[0m\u001b[0mall_args\u001b[0m\u001b[0;34m)\u001b[0m\u001b[0;34m\u001b[0m\u001b[0;34m\u001b[0m\u001b[0m\n\u001b[1;32m     62\u001b[0m             \u001b[0;32mif\u001b[0m \u001b[0mextra_args\u001b[0m \u001b[0;34m<=\u001b[0m \u001b[0;36m0\u001b[0m\u001b[0;34m:\u001b[0m\u001b[0;34m\u001b[0m\u001b[0;34m\u001b[0m\u001b[0m\n\u001b[0;32m---> 63\u001b[0;31m                 \u001b[0;32mreturn\u001b[0m \u001b[0mf\u001b[0m\u001b[0;34m(\u001b[0m\u001b[0;34m*\u001b[0m\u001b[0margs\u001b[0m\u001b[0;34m,\u001b[0m \u001b[0;34m**\u001b[0m\u001b[0mkwargs\u001b[0m\u001b[0;34m)\u001b[0m\u001b[0;34m\u001b[0m\u001b[0;34m\u001b[0m\u001b[0m\n\u001b[0m\u001b[1;32m     64\u001b[0m \u001b[0;34m\u001b[0m\u001b[0m\n\u001b[1;32m     65\u001b[0m             \u001b[0;31m# extra_args > 0\u001b[0m\u001b[0;34m\u001b[0m\u001b[0;34m\u001b[0m\u001b[0;34m\u001b[0m\u001b[0m\n",
      "\u001b[0;32m~/anaconda3/envs/3.9/lib/python3.9/site-packages/sklearn/metrics/_classification.py\u001b[0m in \u001b[0;36mclassification_report\u001b[0;34m(y_true, y_pred, labels, target_names, sample_weight, digits, output_dict, zero_division)\u001b[0m\n\u001b[1;32m   1968\u001b[0m     \"\"\"\n\u001b[1;32m   1969\u001b[0m \u001b[0;34m\u001b[0m\u001b[0m\n\u001b[0;32m-> 1970\u001b[0;31m     \u001b[0my_type\u001b[0m\u001b[0;34m,\u001b[0m \u001b[0my_true\u001b[0m\u001b[0;34m,\u001b[0m \u001b[0my_pred\u001b[0m \u001b[0;34m=\u001b[0m \u001b[0m_check_targets\u001b[0m\u001b[0;34m(\u001b[0m\u001b[0my_true\u001b[0m\u001b[0;34m,\u001b[0m \u001b[0my_pred\u001b[0m\u001b[0;34m)\u001b[0m\u001b[0;34m\u001b[0m\u001b[0;34m\u001b[0m\u001b[0m\n\u001b[0m\u001b[1;32m   1971\u001b[0m \u001b[0;34m\u001b[0m\u001b[0m\n\u001b[1;32m   1972\u001b[0m     \u001b[0;32mif\u001b[0m \u001b[0mlabels\u001b[0m \u001b[0;32mis\u001b[0m \u001b[0;32mNone\u001b[0m\u001b[0;34m:\u001b[0m\u001b[0;34m\u001b[0m\u001b[0;34m\u001b[0m\u001b[0m\n",
      "\u001b[0;32m~/anaconda3/envs/3.9/lib/python3.9/site-packages/sklearn/metrics/_classification.py\u001b[0m in \u001b[0;36m_check_targets\u001b[0;34m(y_true, y_pred)\u001b[0m\n\u001b[1;32m     98\u001b[0m     \u001b[0;31m# No metrics support \"multiclass-multioutput\" format\u001b[0m\u001b[0;34m\u001b[0m\u001b[0;34m\u001b[0m\u001b[0;34m\u001b[0m\u001b[0m\n\u001b[1;32m     99\u001b[0m     \u001b[0;32mif\u001b[0m \u001b[0;34m(\u001b[0m\u001b[0my_type\u001b[0m \u001b[0;32mnot\u001b[0m \u001b[0;32min\u001b[0m \u001b[0;34m[\u001b[0m\u001b[0;34m\"binary\"\u001b[0m\u001b[0;34m,\u001b[0m \u001b[0;34m\"multiclass\"\u001b[0m\u001b[0;34m,\u001b[0m \u001b[0;34m\"multilabel-indicator\"\u001b[0m\u001b[0;34m]\u001b[0m\u001b[0;34m)\u001b[0m\u001b[0;34m:\u001b[0m\u001b[0;34m\u001b[0m\u001b[0;34m\u001b[0m\u001b[0m\n\u001b[0;32m--> 100\u001b[0;31m         \u001b[0;32mraise\u001b[0m \u001b[0mValueError\u001b[0m\u001b[0;34m(\u001b[0m\u001b[0;34m\"{0} is not supported\"\u001b[0m\u001b[0;34m.\u001b[0m\u001b[0mformat\u001b[0m\u001b[0;34m(\u001b[0m\u001b[0my_type\u001b[0m\u001b[0;34m)\u001b[0m\u001b[0;34m)\u001b[0m\u001b[0;34m\u001b[0m\u001b[0;34m\u001b[0m\u001b[0m\n\u001b[0m\u001b[1;32m    101\u001b[0m \u001b[0;34m\u001b[0m\u001b[0m\n\u001b[1;32m    102\u001b[0m     \u001b[0;32mif\u001b[0m \u001b[0my_type\u001b[0m \u001b[0;32min\u001b[0m \u001b[0;34m[\u001b[0m\u001b[0;34m\"binary\"\u001b[0m\u001b[0;34m,\u001b[0m \u001b[0;34m\"multiclass\"\u001b[0m\u001b[0;34m]\u001b[0m\u001b[0;34m:\u001b[0m\u001b[0;34m\u001b[0m\u001b[0;34m\u001b[0m\u001b[0m\n",
      "\u001b[0;31mValueError\u001b[0m: continuous is not supported"
     ]
    }
   ],
   "metadata": {}
  },
  {
   "cell_type": "code",
   "execution_count": 128,
   "source": [
    "# Number of trees in random forest\n",
    "n_estimators = [int(x) for x in np.linspace(start = 10, stop = 150, num = 10)]\n",
    "# Number of features to consider at every split\n",
    "max_features = [3,4,5,6,6]\n",
    "# Maximum number of levels in tree\n",
    "max_depth = [int(x) for x in np.linspace(3, 10, num = 2)]\n",
    "max_depth.append(None)\n",
    "# Minimum number of samples required to split a node\n",
    "min_samples_split = [2, 3,4,5,6]\n",
    "# Minimum number of samples required at each leaf node\n",
    "min_samples_leaf = [1, 2, 4]\n",
    "# Method of selecting samples for training each tree\n",
    "bootstrap = [True, False]"
   ],
   "outputs": [],
   "metadata": {}
  },
  {
   "cell_type": "code",
   "execution_count": 129,
   "source": [
    "rf = RandomForestRegressor()\n",
    "random_grid = {'n_estimators': n_estimators,\n",
    "               'max_features': max_features,\n",
    "               'max_depth': max_depth,\n",
    "               'min_samples_split': min_samples_split,\n",
    "               'min_samples_leaf': min_samples_leaf,\n",
    "               'bootstrap': bootstrap}\n",
    "rfsv = RandomizedSearchCV(estimator = rf, param_distributions = random_grid, n_iter = 200, cv = 3, verbose=2, random_state=42, n_jobs = -1)"
   ],
   "outputs": [],
   "metadata": {}
  },
  {
   "cell_type": "code",
   "execution_count": 130,
   "source": [
    "rfsv.fit(X_train,y_train)"
   ],
   "outputs": [
    {
     "output_type": "stream",
     "name": "stdout",
     "text": [
      "Fitting 3 folds for each of 200 candidates, totalling 600 fits\n"
     ]
    },
    {
     "output_type": "execute_result",
     "data": {
      "text/plain": [
       "RandomizedSearchCV(cv=3, estimator=RandomForestRegressor(), n_iter=200,\n",
       "                   n_jobs=-1,\n",
       "                   param_distributions={'bootstrap': [True, False],\n",
       "                                        'max_depth': [3, 10, None],\n",
       "                                        'max_features': [3, 4, 5, 6, 6],\n",
       "                                        'min_samples_leaf': [1, 2, 4],\n",
       "                                        'min_samples_split': [2, 3, 4, 5, 6],\n",
       "                                        'n_estimators': [10, 25, 41, 56, 72, 87,\n",
       "                                                         103, 118, 134, 150]},\n",
       "                   random_state=42, verbose=2)"
      ]
     },
     "metadata": {},
     "execution_count": 130
    }
   ],
   "metadata": {}
  },
  {
   "cell_type": "code",
   "execution_count": 132,
   "source": [
    "rfsv.best_params_"
   ],
   "outputs": [
    {
     "output_type": "execute_result",
     "data": {
      "text/plain": [
       "{'n_estimators': 150,\n",
       " 'min_samples_split': 4,\n",
       " 'min_samples_leaf': 4,\n",
       " 'max_features': 3,\n",
       " 'max_depth': None,\n",
       " 'bootstrap': False}"
      ]
     },
     "metadata": {},
     "execution_count": 132
    }
   ],
   "metadata": {}
  },
  {
   "cell_type": "code",
   "execution_count": 133,
   "source": [
    "rf4=RandomForestRegressor(**rfsv.best_params_)"
   ],
   "outputs": [],
   "metadata": {}
  },
  {
   "cell_type": "code",
   "execution_count": 134,
   "source": [
    "rf4.fit(X_train,y_train)"
   ],
   "outputs": [
    {
     "output_type": "execute_result",
     "data": {
      "text/plain": [
       "RandomForestRegressor(bootstrap=False, max_features=3, min_samples_leaf=4,\n",
       "                      min_samples_split=4, n_estimators=150)"
      ]
     },
     "metadata": {},
     "execution_count": 134
    }
   ],
   "metadata": {}
  },
  {
   "cell_type": "code",
   "execution_count": 135,
   "source": [
    "y_pred4 = rf4.predict(X_test)"
   ],
   "outputs": [],
   "metadata": {}
  },
  {
   "cell_type": "code",
   "execution_count": 136,
   "source": [
    "evaluate_(y_test,y_pred4)"
   ],
   "outputs": [
    {
     "output_type": "stream",
     "name": "stdout",
     "text": [
      "mean absolute error= 9.78\n",
      "mean squared error= 144.76\n",
      "median absolute error= 8.14\n",
      "explained variance score= 0.04\n",
      "R2 score= 0.04\n"
     ]
    }
   ],
   "metadata": {}
  },
  {
   "cell_type": "code",
   "execution_count": 125,
   "source": [
    "y_pred = rfsv.predict(X_test)"
   ],
   "outputs": [],
   "metadata": {}
  },
  {
   "cell_type": "code",
   "execution_count": 137,
   "source": [
    "def evaluate(model, test_features, test_labels):\n",
    "    predictions = model.predict(test_features)\n",
    "    errors = abs(predictions - test_labels)\n",
    "    mape = 100 * np.mean(errors / test_labels)\n",
    "    accuracy = 100 - mape\n",
    "    print('Model Performance')\n",
    "    print('Average Error: {:0.4f} degrees.'.format(np.mean(errors)))\n",
    "    print('Accuracy = {:0.2f}%.'.format(accuracy))\n",
    "    \n",
    "    return accuracy"
   ],
   "outputs": [],
   "metadata": {}
  },
  {
   "cell_type": "code",
   "execution_count": 138,
   "source": [
    "evaluate(rfsv,X_test,y_test)"
   ],
   "outputs": [
    {
     "output_type": "stream",
     "name": "stdout",
     "text": [
      "Model Performance\n",
      "Average Error: 9.8196 degrees.\n",
      "Accuracy = 91.30%.\n"
     ]
    },
    {
     "output_type": "execute_result",
     "data": {
      "text/plain": [
       "91.29786968451995"
      ]
     },
     "metadata": {},
     "execution_count": 138
    }
   ],
   "metadata": {}
  },
  {
   "cell_type": "code",
   "execution_count": 139,
   "source": [
    "def evaluate_(y_test,y_test_pre):\n",
    "    import sklearn.metrics as sm\n",
    "    print('mean absolute error=',round(sm.mean_absolute_error(y_test,y_test_pre),2))\n",
    "    print('mean squared error=',round(sm.mean_squared_error(y_test,y_test_pre),2))\n",
    "    print('median absolute error=',round(sm.median_absolute_error(y_test,y_test_pre),2))\n",
    "    print('explained variance score=',round(sm.explained_variance_score(y_test,y_test_pre),2))\n",
    "    print('R2 score=',round(sm.r2_score(y_test,y_test_pre),2))\n",
    "\n",
    "    mape = 100 * np.mean(errors / test_labels)\n",
    "    accuracy = 100 - mape\n",
    "    print('Model Performance')\n",
    "    print('Average Error: {:0.4f} degrees.'.format(np.mean(errors)))\n",
    "    print('Accuracy = {:0.2f}%.'.format(accuracy))"
   ],
   "outputs": [],
   "metadata": {}
  },
  {
   "cell_type": "code",
   "execution_count": 128,
   "source": [
    "evaluate_(y_test,y_pred)"
   ],
   "outputs": [
    {
     "output_type": "stream",
     "name": "stdout",
     "text": [
      "mean absolute error= 9.37\n",
      "mean squared error= 142.86\n",
      "median absolute error= 8.22\n",
      "explained variance score= 0.05\n",
      "R2 score= 0.05\n"
     ]
    }
   ],
   "metadata": {}
  },
  {
   "cell_type": "code",
   "execution_count": 130,
   "source": [
    "rfsv.best_params_"
   ],
   "outputs": [
    {
     "output_type": "execute_result",
     "data": {
      "text/plain": [
       "{'n_estimators': 244,\n",
       " 'min_samples_split': 10,\n",
       " 'min_samples_leaf': 2,\n",
       " 'max_features': 'auto',\n",
       " 'max_depth': None,\n",
       " 'bootstrap': True}"
      ]
     },
     "metadata": {},
     "execution_count": 130
    }
   ],
   "metadata": {}
  },
  {
   "cell_type": "code",
   "execution_count": null,
   "source": [
    "rfsv.feature_importances_"
   ],
   "outputs": [],
   "metadata": {}
  },
  {
   "cell_type": "code",
   "execution_count": 140,
   "source": [
    "param_grid = {\n",
    "    'bootstrap': [True],\n",
    "    'max_depth': [5,10],\n",
    "    'max_features': [4,5,6],\n",
    "    'min_samples_leaf': [2,3, 4, 5,6],\n",
    "    'min_samples_split': [8, 10, 12],\n",
    "    'n_estimators': [30]\n",
    "}\n",
    "# Create a based model\n",
    "rf = RandomForestRegressor()# Instantiate the grid search model\n",
    "grid_search = GridSearchCV(estimator = rf, param_grid = param_grid, \n",
    "                          cv = 3, n_jobs = -1, verbose = 2)"
   ],
   "outputs": [],
   "metadata": {}
  },
  {
   "cell_type": "code",
   "execution_count": 38,
   "source": [
    "grid_search.best_params_"
   ],
   "outputs": [
    {
     "output_type": "execute_result",
     "data": {
      "text/plain": [
       "{'bootstrap': True,\n",
       " 'max_depth': 10,\n",
       " 'max_features': 4,\n",
       " 'min_samples_leaf': 6,\n",
       " 'min_samples_split': 8,\n",
       " 'n_estimators': 30}"
      ]
     },
     "metadata": {},
     "execution_count": 38
    }
   ],
   "metadata": {}
  },
  {
   "cell_type": "code",
   "execution_count": 141,
   "source": [
    "grid_search.fit(X_train,y_train)"
   ],
   "outputs": [
    {
     "output_type": "stream",
     "name": "stdout",
     "text": [
      "Fitting 3 folds for each of 90 candidates, totalling 270 fits\n"
     ]
    },
    {
     "output_type": "execute_result",
     "data": {
      "text/plain": [
       "GridSearchCV(cv=3, estimator=RandomForestRegressor(), n_jobs=-1,\n",
       "             param_grid={'bootstrap': [True], 'max_depth': [5, 10],\n",
       "                         'max_features': [4, 5, 6],\n",
       "                         'min_samples_leaf': [2, 3, 4, 5, 6],\n",
       "                         'min_samples_split': [8, 10, 12],\n",
       "                         'n_estimators': [30]},\n",
       "             verbose=2)"
      ]
     },
     "metadata": {},
     "execution_count": 141
    }
   ],
   "metadata": {}
  },
  {
   "cell_type": "code",
   "execution_count": 142,
   "source": [
    "y_pred_grid = grid_search.predict(X_test)"
   ],
   "outputs": [],
   "metadata": {}
  },
  {
   "cell_type": "code",
   "execution_count": 143,
   "source": [
    "rf_ = RandomForestRegressor(**grid_search.best_params_)\n",
    "rf_.fit(X_train,y_train)\n",
    "y_pred_grid = rf_.predict(X_test)\n",
    "evaluate_(y_test,y_pred_grid)"
   ],
   "outputs": [
    {
     "output_type": "stream",
     "name": "stdout",
     "text": [
      "mean absolute error= 10.0\n",
      "mean squared error= 148.04\n",
      "median absolute error= 8.76\n",
      "explained variance score= 0.02\n",
      "R2 score= 0.02\n"
     ]
    }
   ],
   "metadata": {}
  },
  {
   "cell_type": "code",
   "execution_count": 34,
   "source": [
    "evaluate_(y_test,y_pred_grid)"
   ],
   "outputs": [
    {
     "output_type": "stream",
     "name": "stdout",
     "text": [
      "mean absolute error= 6.62\n",
      "mean squared error= 73.79\n",
      "median absolute error= 5.1\n",
      "explained variance score= 0.02\n",
      "R2 score= 0.01\n"
     ]
    }
   ],
   "metadata": {}
  },
  {
   "cell_type": "code",
   "execution_count": 152,
   "source": [
    "\n",
    "importances = rf_.feature_importances_\n",
    "importances=list(map(lambda x:round(x*100,0),importances))\n",
    "indices = np.argsort(importances)[::-1]\n",
    "for f in range(X_train.shape[1]):\n",
    "    print(\"%2d) %-*s %.2f\" % (f + 1, 30, X_train.columns[indices[f]], importances[indices[f]]))\n"
   ],
   "outputs": [
    {
     "output_type": "stream",
     "name": "stdout",
     "text": [
      " 1) innerValue                     38.00\n",
      " 2) industry                       22.00\n",
      " 3) remainSize                     21.00\n",
      " 4) coupon                         12.00\n",
      " 5) rate                           6.00\n",
      " 6) put_trigger_rate               0.00\n",
      " 7) put_trigger_date               0.00\n",
      " 8) call_trigger_rate              0.00\n",
      " 9) call_trigger_date              0.00\n"
     ]
    }
   ],
   "metadata": {}
  },
  {
   "cell_type": "code",
   "execution_count": 147,
   "source": [
    "X_train.shape[1]"
   ],
   "outputs": [
    {
     "output_type": "execute_result",
     "data": {
      "text/plain": [
       "9"
      ]
     },
     "metadata": {},
     "execution_count": 147
    }
   ],
   "metadata": {}
  },
  {
   "cell_type": "code",
   "execution_count": 65,
   "source": [
    "grid_search.best_params_"
   ],
   "outputs": [
    {
     "output_type": "execute_result",
     "data": {
      "text/plain": [
       "{'bootstrap': True,\n",
       " 'max_depth': 60,\n",
       " 'max_features': 3,\n",
       " 'min_samples_leaf': 3,\n",
       " 'min_samples_split': 8,\n",
       " 'n_estimators': 50}"
      ]
     },
     "metadata": {},
     "execution_count": 65
    }
   ],
   "metadata": {}
  },
  {
   "cell_type": "code",
   "execution_count": 81,
   "source": [
    "rf_ = RandomForestRegressor(\n",
    "    n_estimators=50,\n",
    "    max_depth=110,\n",
    "    max_features=3,\n",
    "    bootstrap=True,\n",
    "    min_samples_split=8,\n",
    "    min_samples_leaf=3\n",
    ")"
   ],
   "outputs": [],
   "metadata": {}
  },
  {
   "cell_type": "code",
   "execution_count": 47,
   "source": [
    "feature_list_ = list(feature_list[0].keys())"
   ],
   "outputs": [],
   "metadata": {}
  },
  {
   "cell_type": "code",
   "execution_count": 52,
   "source": [
    "len(importances)"
   ],
   "outputs": [
    {
     "output_type": "execute_result",
     "data": {
      "text/plain": [
       "38"
      ]
     },
     "metadata": {},
     "execution_count": 52
    }
   ],
   "metadata": {}
  },
  {
   "cell_type": "code",
   "execution_count": 53,
   "source": [
    "X_train.shape"
   ],
   "outputs": [
    {
     "output_type": "execute_result",
     "data": {
      "text/plain": [
       "(343, 38)"
      ]
     },
     "metadata": {},
     "execution_count": 53
    }
   ],
   "metadata": {}
  },
  {
   "cell_type": "code",
   "execution_count": 97,
   "source": [
    "get_bondPremRatio(9.02,13.90)"
   ],
   "outputs": [
    {
     "output_type": "execute_result",
     "data": {
      "text/plain": [
       "-35.10791366906476"
      ]
     },
     "metadata": {},
     "execution_count": 97
    }
   ],
   "metadata": {}
  },
  {
   "cell_type": "code",
   "execution_count": null,
   "source": [],
   "outputs": [],
   "metadata": {}
  },
  {
   "cell_type": "code",
   "execution_count": 156,
   "source": [
    "\n",
    "input_data = {\n",
    "'innerValue':convert_permratio_inner(2.5316455696202667),\n",
    "'call_trigger_date':30,\n",
    "'call_trigger_rate':130, # 强赎\n",
    "'coupon':0.2,\n",
    "'industry':industry_map.get('公用事业'),\n",
    "# 'neg_market_value':21042642880,\n",
    "'put_trigger_date':30,\n",
    "'put_trigger_rate':70, # triggerRate 回售触发票面比例（%）\n",
    "'rate':rate_map.get('AA+'),\n",
    "'remainSize':30.00*10**9,\n",
    "}"
   ],
   "outputs": [],
   "metadata": {}
  },
  {
   "cell_type": "code",
   "execution_count": 157,
   "source": [
    "df_real = pd.DataFrame([input_data])"
   ],
   "outputs": [],
   "metadata": {}
  },
  {
   "cell_type": "code",
   "execution_count": 158,
   "source": [
    "df_real"
   ],
   "outputs": [
    {
     "output_type": "execute_result",
     "data": {
      "text/html": [
       "<div>\n",
       "<style scoped>\n",
       "    .dataframe tbody tr th:only-of-type {\n",
       "        vertical-align: middle;\n",
       "    }\n",
       "\n",
       "    .dataframe tbody tr th {\n",
       "        vertical-align: top;\n",
       "    }\n",
       "\n",
       "    .dataframe thead th {\n",
       "        text-align: right;\n",
       "    }\n",
       "</style>\n",
       "<table border=\"1\" class=\"dataframe\">\n",
       "  <thead>\n",
       "    <tr style=\"text-align: right;\">\n",
       "      <th></th>\n",
       "      <th>innerValue</th>\n",
       "      <th>call_trigger_date</th>\n",
       "      <th>call_trigger_rate</th>\n",
       "      <th>coupon</th>\n",
       "      <th>industry</th>\n",
       "      <th>put_trigger_date</th>\n",
       "      <th>put_trigger_rate</th>\n",
       "      <th>rate</th>\n",
       "      <th>remainSize</th>\n",
       "    </tr>\n",
       "  </thead>\n",
       "  <tbody>\n",
       "    <tr>\n",
       "      <th>0</th>\n",
       "      <td>97.530864</td>\n",
       "      <td>30</td>\n",
       "      <td>130</td>\n",
       "      <td>0.2</td>\n",
       "      <td>10</td>\n",
       "      <td>30</td>\n",
       "      <td>70</td>\n",
       "      <td>4</td>\n",
       "      <td>3.000000e+10</td>\n",
       "    </tr>\n",
       "  </tbody>\n",
       "</table>\n",
       "</div>"
      ],
      "text/plain": [
       "   innerValue  call_trigger_date  call_trigger_rate  coupon  industry  \\\n",
       "0   97.530864                 30                130     0.2        10   \n",
       "\n",
       "   put_trigger_date  put_trigger_rate  rate    remainSize  \n",
       "0                30                70     4  3.000000e+10  "
      ]
     },
     "metadata": {},
     "execution_count": 158
    }
   ],
   "metadata": {}
  },
  {
   "cell_type": "code",
   "execution_count": 160,
   "source": [
    "rf_.predict(df_real)[0]"
   ],
   "outputs": [
    {
     "output_type": "execute_result",
     "data": {
      "text/plain": [
       "118.97838485149109"
      ]
     },
     "metadata": {},
     "execution_count": 160
    }
   ],
   "metadata": {}
  },
  {
   "cell_type": "code",
   "execution_count": 205,
   "source": [
    "rf4.feature_importances_"
   ],
   "outputs": [
    {
     "output_type": "execute_result",
     "data": {
      "text/plain": [
       "array([0.        , 0.00569037, 0.11630724, 0.20587691, 0.00887675,\n",
       "       0.00978199, 0.07112373, 0.20523529, 0.37710772])"
      ]
     },
     "metadata": {},
     "execution_count": 205
    }
   ],
   "metadata": {}
  },
  {
   "cell_type": "code",
   "execution_count": 104,
   "source": [
    "100/(-35.107914/100+1)"
   ],
   "outputs": [
    {
     "output_type": "execute_result",
     "data": {
      "text/plain": [
       "154.1019963512962"
      ]
     },
     "metadata": {},
     "execution_count": 104
    }
   ],
   "metadata": {}
  },
  {
   "cell_type": "code",
   "execution_count": 106,
   "source": [
    "convert_permratio_inner(-35.107914)"
   ],
   "outputs": [
    {
     "output_type": "execute_result",
     "data": {
      "text/plain": [
       "154.1019963512962"
      ]
     },
     "metadata": {},
     "execution_count": 106
    }
   ],
   "metadata": {}
  },
  {
   "cell_type": "code",
   "execution_count": 65,
   "source": [
    "data_source.head()"
   ],
   "outputs": [
    {
     "output_type": "execute_result",
     "data": {
      "text/html": [
       "<div>\n",
       "<style scoped>\n",
       "    .dataframe tbody tr th:only-of-type {\n",
       "        vertical-align: middle;\n",
       "    }\n",
       "\n",
       "    .dataframe tbody tr th {\n",
       "        vertical-align: top;\n",
       "    }\n",
       "\n",
       "    .dataframe thead th {\n",
       "        text-align: right;\n",
       "    }\n",
       "</style>\n",
       "<table border=\"1\" class=\"dataframe\">\n",
       "  <thead>\n",
       "    <tr style=\"text-align: right;\">\n",
       "      <th></th>\n",
       "      <th>call_trigger_date</th>\n",
       "      <th>call_trigger_rate</th>\n",
       "      <th>coupon</th>\n",
       "      <th>industry</th>\n",
       "      <th>put_trigger_date</th>\n",
       "      <th>put_trigger_rate</th>\n",
       "      <th>rate</th>\n",
       "      <th>remainSize</th>\n",
       "      <th>innerValue</th>\n",
       "    </tr>\n",
       "  </thead>\n",
       "  <tbody>\n",
       "    <tr>\n",
       "      <th>0</th>\n",
       "      <td>30</td>\n",
       "      <td>130</td>\n",
       "      <td>0.4</td>\n",
       "      <td>公用事业</td>\n",
       "      <td>30.0</td>\n",
       "      <td>70.0</td>\n",
       "      <td>AAA</td>\n",
       "      <td>18.7522</td>\n",
       "      <td>97.940027</td>\n",
       "    </tr>\n",
       "    <tr>\n",
       "      <th>1</th>\n",
       "      <td>30</td>\n",
       "      <td>130</td>\n",
       "      <td>0.2</td>\n",
       "      <td>银行</td>\n",
       "      <td>-1.0</td>\n",
       "      <td>-1.0</td>\n",
       "      <td>AAA</td>\n",
       "      <td>100.0000</td>\n",
       "      <td>89.273997</td>\n",
       "    </tr>\n",
       "    <tr>\n",
       "      <th>2</th>\n",
       "      <td>30</td>\n",
       "      <td>130</td>\n",
       "      <td>0.2</td>\n",
       "      <td>国防军工</td>\n",
       "      <td>30.0</td>\n",
       "      <td>70.0</td>\n",
       "      <td>AAA</td>\n",
       "      <td>24.0000</td>\n",
       "      <td>92.631446</td>\n",
       "    </tr>\n",
       "    <tr>\n",
       "      <th>3</th>\n",
       "      <td>30</td>\n",
       "      <td>130</td>\n",
       "      <td>0.3</td>\n",
       "      <td>传媒</td>\n",
       "      <td>30.0</td>\n",
       "      <td>70.0</td>\n",
       "      <td>AA+</td>\n",
       "      <td>15.6000</td>\n",
       "      <td>100.588948</td>\n",
       "    </tr>\n",
       "    <tr>\n",
       "      <th>4</th>\n",
       "      <td>30</td>\n",
       "      <td>130</td>\n",
       "      <td>0.3</td>\n",
       "      <td>轻工制造</td>\n",
       "      <td>30.0</td>\n",
       "      <td>70.0</td>\n",
       "      <td>AA+</td>\n",
       "      <td>12.0000</td>\n",
       "      <td>97.269736</td>\n",
       "    </tr>\n",
       "  </tbody>\n",
       "</table>\n",
       "</div>"
      ],
      "text/plain": [
       "   call_trigger_date  call_trigger_rate  coupon industry  put_trigger_date  \\\n",
       "0                 30                130     0.4     公用事业              30.0   \n",
       "1                 30                130     0.2       银行              -1.0   \n",
       "2                 30                130     0.2     国防军工              30.0   \n",
       "3                 30                130     0.3       传媒              30.0   \n",
       "4                 30                130     0.3     轻工制造              30.0   \n",
       "\n",
       "   put_trigger_rate rate  remainSize  innerValue  \n",
       "0              70.0  AAA     18.7522   97.940027  \n",
       "1              -1.0  AAA    100.0000   89.273997  \n",
       "2              70.0  AAA     24.0000   92.631446  \n",
       "3              70.0  AA+     15.6000  100.588948  \n",
       "4              70.0  AA+     12.0000   97.269736  "
      ]
     },
     "metadata": {},
     "execution_count": 65
    }
   ],
   "metadata": {}
  },
  {
   "cell_type": "code",
   "execution_count": 66,
   "source": [
    "target.head()"
   ],
   "outputs": [
    {
     "output_type": "execute_result",
     "data": {
      "text/plain": [
       "0    104.180\n",
       "1    112.379\n",
       "2    101.760\n",
       "3     98.080\n",
       "4    124.530\n",
       "Name: closePriceBond, dtype: float64"
      ]
     },
     "metadata": {},
     "execution_count": 66
    }
   ],
   "metadata": {}
  },
  {
   "cell_type": "code",
   "execution_count": 67,
   "source": [
    "data_source.columns"
   ],
   "outputs": [
    {
     "output_type": "execute_result",
     "data": {
      "text/plain": [
       "Index(['call_trigger_date', 'call_trigger_rate', 'coupon', 'industry',\n",
       "       'put_trigger_date', 'put_trigger_rate', 'rate', 'remainSize',\n",
       "       'innerValue'],\n",
       "      dtype='object')"
      ]
     },
     "metadata": {},
     "execution_count": 67
    }
   ],
   "metadata": {}
  },
  {
   "cell_type": "code",
   "execution_count": 68,
   "source": [
    "feature_list=[]\n",
    "label_list =[]\n",
    "feature_name = data_source.columns\n",
    "label_name = target\n",
    "for index,row in data_source.iterrows():\n",
    "    feature={}\n",
    "    for i in range(len(feature_name)):\n",
    "        feature[feature_name[i]]=row[feature_name[i]]\n",
    "    feature_list.append(feature)\n",
    "    # label_list.append(row[label_name])"
   ],
   "outputs": [],
   "metadata": {}
  },
  {
   "cell_type": "code",
   "execution_count": 71,
   "source": [
    "feature_list[0]"
   ],
   "outputs": [
    {
     "output_type": "execute_result",
     "data": {
      "text/plain": [
       "{'call_trigger_date': 30,\n",
       " 'call_trigger_rate': 130,\n",
       " 'coupon': 0.4,\n",
       " 'industry': '公用事业',\n",
       " 'put_trigger_date': 30.0,\n",
       " 'put_trigger_rate': 70.0,\n",
       " 'rate': 'AAA',\n",
       " 'remainSize': 18.7522,\n",
       " 'innerValue': 97.94002740361967}"
      ]
     },
     "metadata": {},
     "execution_count": 71
    }
   ],
   "metadata": {}
  },
  {
   "cell_type": "code",
   "execution_count": 69,
   "source": [
    "len(feature_list)"
   ],
   "outputs": [
    {
     "output_type": "execute_result",
     "data": {
      "text/plain": [
       "458"
      ]
     },
     "metadata": {},
     "execution_count": 69
    }
   ],
   "metadata": {}
  },
  {
   "cell_type": "code",
   "execution_count": 70,
   "source": [
    "len(data_source)"
   ],
   "outputs": [
    {
     "output_type": "execute_result",
     "data": {
      "text/plain": [
       "458"
      ]
     },
     "metadata": {},
     "execution_count": 70
    }
   ],
   "metadata": {}
  },
  {
   "cell_type": "code",
   "execution_count": 47,
   "source": [
    "feature_list[0]"
   ],
   "outputs": [
    {
     "output_type": "execute_result",
     "data": {
      "text/plain": [
       "{'call_trigger_date': 30,\n",
       " 'call_trigger_rate': 130,\n",
       " 'coupon': 0.4,\n",
       " 'industry': '公用事业',\n",
       " 'put_trigger_date': 30.0,\n",
       " 'put_trigger_rate': 70.0,\n",
       " 'rate': 'AAA'}"
      ]
     },
     "metadata": {},
     "execution_count": 47
    }
   ],
   "metadata": {}
  },
  {
   "cell_type": "code",
   "execution_count": 72,
   "source": [
    "vec = DictVectorizer()\n",
    "X = vec.fit_transform(feature_list).toarray()"
   ],
   "outputs": [],
   "metadata": {}
  },
  {
   "cell_type": "code",
   "execution_count": 101,
   "source": [
    "vec = DictVectorizer(sparse=False)\n",
    "X = vec.fit_transform(data_source.to_dict(orient='records'))"
   ],
   "outputs": [],
   "metadata": {}
  },
  {
   "cell_type": "code",
   "execution_count": 28,
   "source": [
    "X_train,X_test,y_train,y_test = train_test_split(X,label_list,random_state=4)"
   ],
   "outputs": [],
   "metadata": {}
  },
  {
   "cell_type": "code",
   "execution_count": 90,
   "source": [
    "#-*- coding:utf-8 -*-\n",
    "\n",
    "#定义一组字典列表，用来表示多个数据样本（每个字典代表一个数据样本）\n",
    "measurements = [{'city':1,'country':'CN','temperature':33.},{'city':2,'country':'UK','temperature':12.},{'city':3,'country':'USA','temperature':18.}]\n",
    "#从sklearn.feature_extraction导入DictVectorizer\n",
    "from sklearn.feature_extraction import DictVectorizer\n",
    "vec = DictVectorizer()\n",
    "#输出转化后的特征矩阵\n",
    "print(vec.fit_transform(measurements).toarray())\n",
    "#输出各个维度的特征含义\n",
    "print(vec.get_feature_names())\n"
   ],
   "outputs": [
    {
     "output_type": "stream",
     "name": "stdout",
     "text": [
      "[[ 1.  1.  0.  0. 33.]\n",
      " [ 2.  0.  1.  0. 12.]\n",
      " [ 3.  0.  0.  1. 18.]]\n",
      "['city', 'country=CN', 'country=UK', 'country=USA', 'temperature']\n"
     ]
    }
   ],
   "metadata": {}
  },
  {
   "cell_type": "code",
   "execution_count": 154,
   "source": [
    "with open('new_bond_tree.dot','w') as f:\n",
    "    tree.export_graphviz(rf_.estimators_[0],feature_names=list(data_source.columns),out_file=f)"
   ],
   "outputs": [],
   "metadata": {}
  },
  {
   "cell_type": "code",
   "execution_count": 163,
   "source": [
    "import joblib\n",
    "joblib.dump(rf_, \"train_model.m\")\n",
    "# clf = joblib.load(\"train_model.m\") ＃调用\n"
   ],
   "outputs": [
    {
     "output_type": "execute_result",
     "data": {
      "text/plain": [
       "['train_model.m']"
      ]
     },
     "metadata": {},
     "execution_count": 163
    }
   ],
   "metadata": {}
  },
  {
   "cell_type": "code",
   "execution_count": null,
   "source": [],
   "outputs": [],
   "metadata": {}
  }
 ]
}