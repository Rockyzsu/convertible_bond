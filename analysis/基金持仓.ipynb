{
 "cells": [
  {
   "cell_type": "code",
   "execution_count": 1,
   "metadata": {},
   "outputs": [],
   "source": [
    "import sys\n",
    "sys.path.append('..')\n",
    "from configure.settings import DBSelector\n",
    "import pandas as pd"
   ]
  },
  {
   "cell_type": "code",
   "execution_count": 2,
   "metadata": {},
   "outputs": [],
   "source": [
    "client = DBSelector().mongo('qq')"
   ]
  },
  {
   "cell_type": "code",
   "execution_count": 3,
   "metadata": {},
   "outputs": [],
   "source": [
    "code_list = [{'code': '008331', 'name': '万家可转债债券A'}, {'code': '000297', 'name': '鹏华可转债'},\n",
    "             {'code': '006482', 'name': '广发可转债债券A'}, {\n",
    "                 'code': '000536', 'name': '前海开源可转债债券'},\n",
    "             {'code': '310518', 'name': '申万菱信可转债债券A'}, {\n",
    "                 'code': '240018', 'name': '华宝可转债债券'},\n",
    "             {'code': '340001', 'name': '兴全可转债混合'}, {\n",
    "                 'code': '005273', 'name': '华商可转债A'},\n",
    "             {'code': '470058', 'name': '汇添富可转换债券A'}, {\n",
    "                 'code': '110035', 'name': '易方达双债增强A'},\n",
    "             {'code': '008809', 'name': '安信民稳增长混合A'}, {\n",
    "                 'code': '005876', 'name': '易方达鑫转增利混合A'},\n",
    "             {'code': '006102', 'name': '浙商丰利增强债券'}, {'code': '003092', 'name': '华商丰利增强定开债A'}]\n"
   ]
  },
  {
   "cell_type": "code",
   "execution_count": 9,
   "metadata": {},
   "outputs": [
    {
     "name": "stdout",
     "output_type": "stream",
     "text": [
      "万家可转债债券A 008331\n",
      "0\n",
      "鹏华可转债 000297\n",
      "1\n",
      "广发可转债债券A 006482\n",
      "2\n",
      "前海开源可转债债券 000536\n",
      "3\n",
      "申万菱信可转债债券A 310518\n",
      "4\n",
      "华宝可转债债券 240018\n",
      "5\n",
      "兴全可转债混合 340001\n",
      "6\n",
      "华商可转债A 005273\n",
      "7\n",
      "汇添富可转换债券A 470058\n",
      "8\n",
      "易方达双债增强A 110035\n",
      "9\n",
      "安信民稳增长混合A 008809\n",
      "10\n",
      "易方达鑫转增利混合A 005876\n",
      "11\n",
      "浙商丰利增强债券 006102\n",
      "12\n",
      "华商丰利增强定开债A 003092\n",
      "13\n"
     ]
    }
   ],
   "source": [
    "weight_list = []\n",
    "\n",
    "for index,code in enumerate(code_list):\n",
    "    _code = code['code']\n",
    "    _name = code['name']\n",
    "\n",
    "    doc = client['db_stock'][f'fund_component_{_code}']\n",
    "    result =[]\n",
    "    for item in doc.find({'date':'2022-03-31','type':'债'},{'_id':0}):\n",
    "        result.append(item)\n",
    "    \n",
    "    if len(result)==0:\n",
    "        continue\n",
    "\n",
    "    df = pd.DataFrame(result)\n",
    "    \n",
    "    print(_name,_code)\n",
    "\n",
    "    df['weight']=df['weight'].map(lambda x:float(x.replace(\"%\",\"\")))\n",
    "    _weight = df['weight'].sum()\n",
    "    weight_list.append({'name':_name,'weight':_weight,'code':_code})\n",
    "\n",
    "\n",
    "\n"
   ]
  },
  {
   "cell_type": "code",
   "execution_count": 10,
   "metadata": {},
   "outputs": [],
   "source": [
    "df=pd.DataFrame(weight_list)"
   ]
  },
  {
   "cell_type": "code",
   "execution_count": 7,
   "metadata": {},
   "outputs": [
    {
     "data": {
      "text/html": [
       "<div>\n",
       "<style scoped>\n",
       "    .dataframe tbody tr th:only-of-type {\n",
       "        vertical-align: middle;\n",
       "    }\n",
       "\n",
       "    .dataframe tbody tr th {\n",
       "        vertical-align: top;\n",
       "    }\n",
       "\n",
       "    .dataframe thead th {\n",
       "        text-align: right;\n",
       "    }\n",
       "</style>\n",
       "<table border=\"1\" class=\"dataframe\">\n",
       "  <thead>\n",
       "    <tr style=\"text-align: right;\">\n",
       "      <th></th>\n",
       "      <th>name</th>\n",
       "      <th>weight</th>\n",
       "    </tr>\n",
       "  </thead>\n",
       "  <tbody>\n",
       "    <tr>\n",
       "      <th>0</th>\n",
       "      <td>万家可转债债券A</td>\n",
       "      <td>85.36</td>\n",
       "    </tr>\n",
       "    <tr>\n",
       "      <th>1</th>\n",
       "      <td>鹏华可转债</td>\n",
       "      <td>85.06</td>\n",
       "    </tr>\n",
       "    <tr>\n",
       "      <th>2</th>\n",
       "      <td>广发可转债债券A</td>\n",
       "      <td>103.85</td>\n",
       "    </tr>\n",
       "    <tr>\n",
       "      <th>3</th>\n",
       "      <td>前海开源可转债债券</td>\n",
       "      <td>75.84</td>\n",
       "    </tr>\n",
       "    <tr>\n",
       "      <th>4</th>\n",
       "      <td>申万菱信可转债债券A</td>\n",
       "      <td>83.79</td>\n",
       "    </tr>\n",
       "    <tr>\n",
       "      <th>5</th>\n",
       "      <td>华宝可转债债券</td>\n",
       "      <td>97.52</td>\n",
       "    </tr>\n",
       "    <tr>\n",
       "      <th>6</th>\n",
       "      <td>兴全可转债混合</td>\n",
       "      <td>43.36</td>\n",
       "    </tr>\n",
       "    <tr>\n",
       "      <th>7</th>\n",
       "      <td>华商可转债A</td>\n",
       "      <td>82.53</td>\n",
       "    </tr>\n",
       "    <tr>\n",
       "      <th>8</th>\n",
       "      <td>汇添富可转换债券A</td>\n",
       "      <td>70.29</td>\n",
       "    </tr>\n",
       "    <tr>\n",
       "      <th>9</th>\n",
       "      <td>易方达双债增强A</td>\n",
       "      <td>42.07</td>\n",
       "    </tr>\n",
       "    <tr>\n",
       "      <th>10</th>\n",
       "      <td>安信民稳增长混合A</td>\n",
       "      <td>45.10</td>\n",
       "    </tr>\n",
       "    <tr>\n",
       "      <th>11</th>\n",
       "      <td>易方达鑫转增利混合A</td>\n",
       "      <td>55.94</td>\n",
       "    </tr>\n",
       "    <tr>\n",
       "      <th>12</th>\n",
       "      <td>浙商丰利增强债券</td>\n",
       "      <td>73.91</td>\n",
       "    </tr>\n",
       "    <tr>\n",
       "      <th>13</th>\n",
       "      <td>华商丰利增强定开债A</td>\n",
       "      <td>78.47</td>\n",
       "    </tr>\n",
       "  </tbody>\n",
       "</table>\n",
       "</div>"
      ],
      "text/plain": [
       "          name  weight\n",
       "0     万家可转债债券A   85.36\n",
       "1        鹏华可转债   85.06\n",
       "2     广发可转债债券A  103.85\n",
       "3    前海开源可转债债券   75.84\n",
       "4   申万菱信可转债债券A   83.79\n",
       "5      华宝可转债债券   97.52\n",
       "6      兴全可转债混合   43.36\n",
       "7       华商可转债A   82.53\n",
       "8    汇添富可转换债券A   70.29\n",
       "9     易方达双债增强A   42.07\n",
       "10   安信民稳增长混合A   45.10\n",
       "11  易方达鑫转增利混合A   55.94\n",
       "12    浙商丰利增强债券   73.91\n",
       "13  华商丰利增强定开债A   78.47"
      ]
     },
     "execution_count": 7,
     "metadata": {},
     "output_type": "execute_result"
    }
   ],
   "source": [
    "df.head(16)"
   ]
  },
  {
   "cell_type": "code",
   "execution_count": 11,
   "metadata": {},
   "outputs": [],
   "source": [
    "df.to_excel('fund_weight.xlsx',encoding='utf8')"
   ]
  },
  {
   "cell_type": "code",
   "execution_count": null,
   "metadata": {},
   "outputs": [],
   "source": []
  }
 ],
 "metadata": {
  "interpreter": {
   "hash": "906064a35c7980fda78a8b97014bc5560dca56efd2e047844bdf4fb8a9b9c8a3"
  },
  "kernelspec": {
   "display_name": "Python 3.9.7 ('cpy')",
   "language": "python",
   "name": "python3"
  },
  "language_info": {
   "codemirror_mode": {
    "name": "ipython",
    "version": 3
   },
   "file_extension": ".py",
   "mimetype": "text/x-python",
   "name": "python",
   "nbconvert_exporter": "python",
   "pygments_lexer": "ipython3",
   "version": "3.9.7"
  },
  "orig_nbformat": 4
 },
 "nbformat": 4,
 "nbformat_minor": 2
}
