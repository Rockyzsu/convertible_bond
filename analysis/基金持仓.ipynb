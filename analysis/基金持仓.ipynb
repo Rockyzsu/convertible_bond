{
 "cells": [
  {
   "cell_type": "code",
   "execution_count": null,
   "metadata": {},
   "outputs": [],
   "source": [
    "import sys\n",
    "sys.path.append('..')\n",
    "from configure.settings import DBSelector\n",
    "import pandas as pd"
   ]
  },
  {
   "cell_type": "code",
   "execution_count": null,
   "metadata": {},
   "outputs": [],
   "source": [
    "client = DBSelector().mongo('qq')"
   ]
  },
  {
   "cell_type": "code",
   "execution_count": null,
   "metadata": {},
   "outputs": [],
   "source": [
    "code_list = [{'code': '008331', 'name': '万家可转债债券A'}, {'code': '000297', 'name': '鹏华可转债'},\n",
    "             {'code': '006482', 'name': '广发可转债债券A'}, {\n",
    "                 'code': '000536', 'name': '前海开源可转债债券'},\n",
    "             {'code': '310518', 'name': '申万菱信可转债债券A'}, {\n",
    "                 'code': '240018', 'name': '华宝可转债债券'},\n",
    "             {'code': '340001', 'name': '兴全可转债混合'}, {\n",
    "                 'code': '005273', 'name': '华商可转债A'},\n",
    "             {'code': '470058', 'name': '汇添富可转换债券A'}, {\n",
    "                 'code': '110035', 'name': '易方达双债增强A'},\n",
    "             {'code': '008809', 'name': '安信民稳增长混合A'}, {\n",
    "                 'code': '005876', 'name': '易方达鑫转增利混合A'},\n",
    "             {'code': '006102', 'name': '浙商丰利增强债券'}, {'code': '003092', 'name': '华商丰利增强定开债A'}]\n"
   ]
  },
  {
   "cell_type": "code",
   "execution_count": null,
   "metadata": {},
   "outputs": [],
   "source": [
    "weight_list = []\n",
    "\n",
    "for index,code in enumerate(code_list):\n",
    "    _code = code['code']\n",
    "    _name = code['name']\n",
    "\n",
    "    doc = client['db_stock'][f'fund_component_{_code}']\n",
    "    result =[]\n",
    "    for item in doc.find({'date':'2022-03-31','type':'债'},{'_id':0}):\n",
    "        result.append(item)\n",
    "    \n",
    "    if len(result)==0:\n",
    "        continue\n",
    "\n",
    "    df = pd.DataFrame(result)\n",
    "    \n",
    "    print(_name,_code)\n",
    "\n",
    "    df['weight']=df['weight'].map(lambda x:float(x.replace(\"%\",\"\")))\n",
    "    _weight = df['weight'].sum()\n",
    "    weight_list.append({'name':_name,'weight':_weight,'code':_code})\n",
    "\n",
    "\n",
    "\n"
   ]
  },
  {
   "cell_type": "code",
   "execution_count": null,
   "metadata": {},
   "outputs": [],
   "source": [
    "df=pd.DataFrame(weight_list)"
   ]
  },
  {
   "cell_type": "code",
   "execution_count": null,
   "metadata": {},
   "outputs": [],
   "source": [
    "df.head(16)"
   ]
  },
  {
   "cell_type": "code",
   "execution_count": null,
   "metadata": {},
   "outputs": [],
   "source": [
    "df.to_excel('fund_weight.xlsx',encoding='utf8')"
   ]
  },
  {
   "cell_type": "code",
   "execution_count": null,
   "metadata": {},
   "outputs": [],
   "source": []
  }
 ],
 "metadata": {
  "interpreter": {
   "hash": "906064a35c7980fda78a8b97014bc5560dca56efd2e047844bdf4fb8a9b9c8a3"
  },
  "kernelspec": {
   "display_name": "Python 3.9.7 ('cpy')",
   "language": "python",
   "name": "python3"
  },
  "language_info": {
   "codemirror_mode": {
    "name": "ipython",
    "version": 3
   },
   "file_extension": ".py",
   "mimetype": "text/x-python",
   "name": "python",
   "nbconvert_exporter": "python",
   "pygments_lexer": "ipython3",
   "version": "3.9.7"
  },
  "orig_nbformat": 4
 },
 "nbformat": 4,
 "nbformat_minor": 2
}
