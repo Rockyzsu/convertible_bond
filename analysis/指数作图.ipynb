{
 "cells": [
  {
   "cell_type": "code",
   "execution_count": 1,
   "metadata": {},
   "outputs": [],
   "source": [
    "import os\n",
    "import pandas as pd\n",
    "import pyecharts.options as opts\n",
    "from pyecharts.charts import Line\n",
    "from pyecharts.faker import Faker\n",
    "from pyecharts.commons.utils import JsCode\n",
    "from datetime import  datetime\n",
    "\n",
    "import matplotlib.pyplot as plt\n",
    "%matplotlib inline"
   ]
  },
  {
   "cell_type": "code",
   "execution_count": 3,
   "metadata": {},
   "outputs": [],
   "source": [
    "# read data\n",
    "df=pd.read_excel('../data/jsl_index.xlsx')"
   ]
  },
  {
   "cell_type": "code",
   "execution_count": 4,
   "metadata": {},
   "outputs": [
    {
     "data": {
      "text/html": [
       "<div>\n",
       "<style scoped>\n",
       "    .dataframe tbody tr th:only-of-type {\n",
       "        vertical-align: middle;\n",
       "    }\n",
       "\n",
       "    .dataframe tbody tr th {\n",
       "        vertical-align: top;\n",
       "    }\n",
       "\n",
       "    .dataframe thead th {\n",
       "        text-align: right;\n",
       "    }\n",
       "</style>\n",
       "<table border=\"1\" class=\"dataframe\">\n",
       "  <thead>\n",
       "    <tr style=\"text-align: right;\">\n",
       "      <th></th>\n",
       "      <th>Unnamed: 0</th>\n",
       "      <th>date</th>\n",
       "      <th>index</th>\n",
       "    </tr>\n",
       "  </thead>\n",
       "  <tbody>\n",
       "    <tr>\n",
       "      <th>0</th>\n",
       "      <td>0</td>\n",
       "      <td>2017-12-29</td>\n",
       "      <td>1000.000</td>\n",
       "    </tr>\n",
       "    <tr>\n",
       "      <th>1</th>\n",
       "      <td>1</td>\n",
       "      <td>2018-01-02</td>\n",
       "      <td>1008.831</td>\n",
       "    </tr>\n",
       "    <tr>\n",
       "      <th>2</th>\n",
       "      <td>2</td>\n",
       "      <td>2018-01-03</td>\n",
       "      <td>1018.808</td>\n",
       "    </tr>\n",
       "    <tr>\n",
       "      <th>3</th>\n",
       "      <td>3</td>\n",
       "      <td>2018-01-04</td>\n",
       "      <td>1024.344</td>\n",
       "    </tr>\n",
       "    <tr>\n",
       "      <th>4</th>\n",
       "      <td>4</td>\n",
       "      <td>2018-01-05</td>\n",
       "      <td>1034.655</td>\n",
       "    </tr>\n",
       "  </tbody>\n",
       "</table>\n",
       "</div>"
      ],
      "text/plain": [
       "   Unnamed: 0        date     index\n",
       "0           0  2017-12-29  1000.000\n",
       "1           1  2018-01-02  1008.831\n",
       "2           2  2018-01-03  1018.808\n",
       "3           3  2018-01-04  1024.344\n",
       "4           4  2018-01-05  1034.655"
      ]
     },
     "execution_count": 4,
     "metadata": {},
     "output_type": "execute_result"
    }
   ],
   "source": [
    "df.head()"
   ]
  },
  {
   "cell_type": "code",
   "execution_count": 7,
   "metadata": {},
   "outputs": [],
   "source": [
    "\n",
    "X=df['date'].tolist()\n",
    "Y=df['index'].map(lambda x:round(x/1000.00,2)).tolist()\n",
    "\n",
    "title=\"等权\"\n",
    "\n",
    "full_title = '可转债等权指数'\n",
    "# full_title1 = '2022年 低溢价，双低，低价收益率【10只，1天轮动】'\n",
    "\n",
    "# types=full_title1\n",
    "y_min = min(Y)\n",
    "y_max = max(Y)\n",
    "\n",
    "c = (\n",
    "    Line()\n",
    "    .add_xaxis(X)\n",
    "    .add_yaxis(title, Y, is_smooth=True,\n",
    "linestyle_opts=opts.LineStyleOpts(width=2,color='rgb(255, 0, 0)'),\n",
    "label_opts=opts.LabelOpts(is_show=False),\n",
    "    ).set_global_opts(\n",
    "        title_opts=opts.TitleOpts(title=full_title),\n",
    "        xaxis_opts=opts.AxisOpts(\n",
    "                                name='日期',\n",
    "                                min_interval=1,\n",
    "                                splitline_opts=opts.SplitLineOpts(is_show=True),\n",
    "           axislabel_opts=opts.LabelOpts(rotate=35),\n",
    "                                ),\n",
    "        yaxis_opts=opts.AxisOpts(name='等权指数',\n",
    "                                # interval=50,\n",
    "                                 min_=y_min,\n",
    "                                 max_=y_max,\n",
    "            splitline_opts=opts.SplitLineOpts(is_show=True),\n",
    "        )\n",
    "                                    )\n",
    "                                    .set_colors(['red','blue','green']) # 点的颜色\n",
    "    .render(f\"../plot_image/等权-双-all.html\")\n",
    ")"
   ]
  },
  {
   "cell_type": "code",
   "execution_count": null,
   "metadata": {},
   "outputs": [],
   "source": []
  }
 ],
 "metadata": {
  "kernelspec": {
   "display_name": "Python 3",
   "language": "python",
   "name": "python3"
  },
  "language_info": {
   "codemirror_mode": {
    "name": "ipython",
    "version": 3
   },
   "file_extension": ".py",
   "mimetype": "text/x-python",
   "name": "python",
   "nbconvert_exporter": "python",
   "pygments_lexer": "ipython3",
   "version": "3.9.7"
  }
 },
 "nbformat": 4,
 "nbformat_minor": 2
}
