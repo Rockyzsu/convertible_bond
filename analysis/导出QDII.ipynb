{
 "cells": [
  {
   "cell_type": "code",
   "execution_count": 1,
   "metadata": {},
   "outputs": [],
   "source": [
    "import sys\n",
    "sys.path.append('..')"
   ]
  },
  {
   "cell_type": "code",
   "execution_count": 2,
   "metadata": {},
   "outputs": [],
   "source": [
    "from configure.settings import DBSelector"
   ]
  },
  {
   "cell_type": "code",
   "execution_count": 3,
   "metadata": {},
   "outputs": [],
   "source": [
    "db = DBSelector().mongo('qq')"
   ]
  },
  {
   "cell_type": "code",
   "execution_count": 4,
   "metadata": {},
   "outputs": [],
   "source": [
    "database = db['DB_QDII']"
   ]
  },
  {
   "cell_type": "code",
   "execution_count": 9,
   "metadata": {},
   "outputs": [],
   "source": [
    "fund_info = database['2021-08-23'].find_one({'fund_id':'164906'})"
   ]
  },
  {
   "cell_type": "code",
   "execution_count": 7,
   "metadata": {},
   "outputs": [
    {
     "data": {
      "text/plain": [
       "60"
      ]
     },
     "execution_count": 7,
     "metadata": {},
     "output_type": "execute_result"
    }
   ],
   "source": [
    "len(list(fund_info))"
   ]
  },
  {
   "cell_type": "code",
   "execution_count": 10,
   "metadata": {},
   "outputs": [
    {
     "data": {
      "text/plain": [
       "{'_id': ObjectId('6122e9b1fb9b51b87010e2a1'),\n",
       " 'fund_id': '164906',\n",
       " 'fund_nm': '中国互联',\n",
       " 'qtype': 'E',\n",
       " 'issuer_nm': '交银施罗德',\n",
       " 'urls': 'https://www.fund001.com/fund/164906/index.shtml',\n",
       " 'asset_ratio': '95.000',\n",
       " 'lof_type': 'QDII',\n",
       " 'price': '1.200',\n",
       " 'price_dt': '2021-08-20',\n",
       " 'increase_rt': '-1.80%',\n",
       " 'volume': '10708.83',\n",
       " 'stock_volume': '8930.6235',\n",
       " 'last_time': '15:14:03',\n",
       " 'amount': 100260,\n",
       " 'amount_incr': '3650',\n",
       " 'amount_increase_rt': '3.78',\n",
       " 'fund_nav': '1.1920',\n",
       " 'nav_dt': '2021-08-19',\n",
       " 'estimate_value': '1.1928',\n",
       " 'last_est_dt': '2021-08-20',\n",
       " 'last_est_time': '15:14:03',\n",
       " 'ref_increase_rt': '-4.25%',\n",
       " 'est_val_dt': '2021-08-19',\n",
       " 'est_val_increase_rt': '-4.04%',\n",
       " 'discount_rt': '0.60%',\n",
       " 'index_id': 'Y',\n",
       " 'index_nm': '中证海外中国互联网指数',\n",
       " 'apply_fee': '1.20%',\n",
       " 'apply_fee_tips': '50万元以下:1.2%;\\r\\n50万元（含）至100万元 0.8%;\\r\\n100万元（含）至200万元 0.6%;\\r\\n200万元（含）至500万元 0.4%;\\r\\n500万元以上（含500万） 每笔交易1000元',\n",
       " 'redeem_fee': '1.50%',\n",
       " 'redeem_fee_tips': '7日内1.5%\\r\\n1年以内（含）0.5%;\\r\\n1年—2年（含）0.2%;\\r\\n2年以上\\t0',\n",
       " 'apply_status': '开放申购',\n",
       " 'redeem_status': '开放赎回',\n",
       " 'min_amt': None,\n",
       " 'money_cd': 'USD',\n",
       " 'notes': '',\n",
       " 'estimate_value2': '-',\n",
       " 'est_val_dt2': '-',\n",
       " 'est_val_increase_rt2': '-',\n",
       " 'discount_rt2': '-',\n",
       " 'ref_price': '5270.73',\n",
       " 'ref_increase_rt2': '-',\n",
       " 'owned': 0,\n",
       " 'holded': 0,\n",
       " 'cal_tips': '指数从 2021-08-19 5270.73  到 2021-08-20 5289.67',\n",
       " 'cal_index_id': 'H11136.CSI',\n",
       " 'est_val_tm2': '-',\n",
       " 'ref_price2': '-',\n",
       " 'apply_redeem_status': '开放申购/开放赎回',\n",
       " 'amount_incr_tips': '最新份额：100260万份；增长：3.78%',\n",
       " 'turnover_rt': '8.91%',\n",
       " 'last_est_datetime': '2021-08-20 15:14:03',\n",
       " 'fund_nm_color': '中国互联',\n",
       " 'est_val_dt_s': '21-08-19',\n",
       " 'nav_dt_s': '21-08-19'}"
      ]
     },
     "execution_count": 10,
     "metadata": {},
     "output_type": "execute_result"
    }
   ],
   "source": [
    "fund_info"
   ]
  },
  {
   "cell_type": "code",
   "execution_count": 12,
   "metadata": {},
   "outputs": [],
   "source": [
    "collection_list = database.list_collection_names(session=None)"
   ]
  },
  {
   "cell_type": "code",
   "execution_count": 14,
   "metadata": {},
   "outputs": [],
   "source": [
    "result = []\n",
    "code='164906'\n",
    "for col in collection_list:\n",
    "    fund_info = database[col].find_one({'fund_id':code})\n",
    "    del fund_info['_id']\n",
    "    result.append(fund_info)"
   ]
  },
  {
   "cell_type": "code",
   "execution_count": 15,
   "metadata": {},
   "outputs": [
    {
     "data": {
      "text/plain": [
       "527"
      ]
     },
     "execution_count": 15,
     "metadata": {},
     "output_type": "execute_result"
    }
   ],
   "source": [
    "len(result)"
   ]
  },
  {
   "cell_type": "code",
   "execution_count": 16,
   "metadata": {},
   "outputs": [],
   "source": [
    "import pandas as pd"
   ]
  },
  {
   "cell_type": "code",
   "execution_count": 17,
   "metadata": {},
   "outputs": [],
   "source": [
    "df = pd.DataFrame(result)"
   ]
  },
  {
   "cell_type": "code",
   "execution_count": 18,
   "metadata": {},
   "outputs": [
    {
     "data": {
      "text/html": [
       "<div>\n",
       "<style scoped>\n",
       "    .dataframe tbody tr th:only-of-type {\n",
       "        vertical-align: middle;\n",
       "    }\n",
       "\n",
       "    .dataframe tbody tr th {\n",
       "        vertical-align: top;\n",
       "    }\n",
       "\n",
       "    .dataframe thead th {\n",
       "        text-align: right;\n",
       "    }\n",
       "</style>\n",
       "<table border=\"1\" class=\"dataframe\">\n",
       "  <thead>\n",
       "    <tr style=\"text-align: right;\">\n",
       "      <th></th>\n",
       "      <th>fund_id</th>\n",
       "      <th>fund_nm</th>\n",
       "      <th>qtype</th>\n",
       "      <th>issuer_nm</th>\n",
       "      <th>urls</th>\n",
       "      <th>asset_ratio</th>\n",
       "      <th>lof_type</th>\n",
       "      <th>price</th>\n",
       "      <th>price_dt</th>\n",
       "      <th>increase_rt</th>\n",
       "      <th>...</th>\n",
       "      <th>est_val_tm2</th>\n",
       "      <th>ref_price2</th>\n",
       "      <th>apply_redeem_status</th>\n",
       "      <th>amount_incr_tips</th>\n",
       "      <th>turnover_rt</th>\n",
       "      <th>last_est_datetime</th>\n",
       "      <th>fund_nm_color</th>\n",
       "      <th>fund_id_color</th>\n",
       "      <th>est_val_dt_s</th>\n",
       "      <th>nav_dt_s</th>\n",
       "    </tr>\n",
       "  </thead>\n",
       "  <tbody>\n",
       "    <tr>\n",
       "      <th>0</th>\n",
       "      <td>164906</td>\n",
       "      <td>中国互联</td>\n",
       "      <td>E</td>\n",
       "      <td>交银施罗德</td>\n",
       "      <td>https://www.fund001.com/fund/164906/index.shtml</td>\n",
       "      <td>95.000</td>\n",
       "      <td>QDII</td>\n",
       "      <td>1.986</td>\n",
       "      <td>2021-01-04</td>\n",
       "      <td>-0.50%</td>\n",
       "      <td>...</td>\n",
       "      <td>-</td>\n",
       "      <td>-</td>\n",
       "      <td>开放申购/开放赎回</td>\n",
       "      <td>最新份额：9202万份；增长：0.99%</td>\n",
       "      <td>4.71%</td>\n",
       "      <td>2021-01-04 15:00:03</td>\n",
       "      <td>中国互联</td>\n",
       "      <td>164906</td>\n",
       "      <td>20-12-31</td>\n",
       "      <td>20-12-31</td>\n",
       "    </tr>\n",
       "    <tr>\n",
       "      <th>1</th>\n",
       "      <td>164906</td>\n",
       "      <td>中国互联</td>\n",
       "      <td>E</td>\n",
       "      <td>交银施罗德</td>\n",
       "      <td>https://www.fund001.com/fund/164906/index.shtml</td>\n",
       "      <td>95.000</td>\n",
       "      <td>QDII</td>\n",
       "      <td>2.134</td>\n",
       "      <td>2021-01-19</td>\n",
       "      <td>0.71%</td>\n",
       "      <td>...</td>\n",
       "      <td>-</td>\n",
       "      <td>-</td>\n",
       "      <td>开放申购/开放赎回</td>\n",
       "      <td>最新份额：10074万份；增长：2.11%</td>\n",
       "      <td>9.77%</td>\n",
       "      <td>2021-01-19 15:00:03</td>\n",
       "      <td>中国互联</td>\n",
       "      <td>164906</td>\n",
       "      <td>21-01-18</td>\n",
       "      <td>21-01-18</td>\n",
       "    </tr>\n",
       "    <tr>\n",
       "      <th>2</th>\n",
       "      <td>164906</td>\n",
       "      <td>中国互联</td>\n",
       "      <td>E</td>\n",
       "      <td>交银施罗德</td>\n",
       "      <td>https://www.fund001.com/fund/164906/index.shtml</td>\n",
       "      <td>95.000</td>\n",
       "      <td>QDII</td>\n",
       "      <td>1.805</td>\n",
       "      <td>2021-06-28</td>\n",
       "      <td>0.39%</td>\n",
       "      <td>...</td>\n",
       "      <td>-</td>\n",
       "      <td>-</td>\n",
       "      <td>开放申购/开放赎回</td>\n",
       "      <td>最新份额：48522万份；增长：1.32%</td>\n",
       "      <td>4.48%</td>\n",
       "      <td>2021-06-28 15:00:03</td>\n",
       "      <td>中国互联</td>\n",
       "      <td>164906</td>\n",
       "      <td>21-06-25</td>\n",
       "      <td>21-06-25</td>\n",
       "    </tr>\n",
       "    <tr>\n",
       "      <th>3</th>\n",
       "      <td>164906</td>\n",
       "      <td>中国互联</td>\n",
       "      <td>E</td>\n",
       "      <td>交银施罗德</td>\n",
       "      <td>https://www.fund001.com/fund/164906/index.shtml</td>\n",
       "      <td>95.000</td>\n",
       "      <td>QDII</td>\n",
       "      <td>2.215</td>\n",
       "      <td>2021-01-20</td>\n",
       "      <td>3.80%</td>\n",
       "      <td>...</td>\n",
       "      <td>-</td>\n",
       "      <td>-</td>\n",
       "      <td>开放申购/开放赎回</td>\n",
       "      <td>最新份额：10234万份；增长：1.59%</td>\n",
       "      <td>7.12%</td>\n",
       "      <td>2021-01-20 15:00:03</td>\n",
       "      <td>中国互联</td>\n",
       "      <td>164906</td>\n",
       "      <td>21-01-19</td>\n",
       "      <td>21-01-19</td>\n",
       "    </tr>\n",
       "    <tr>\n",
       "      <th>4</th>\n",
       "      <td>164906</td>\n",
       "      <td>中国互联</td>\n",
       "      <td>E</td>\n",
       "      <td>交银施罗德</td>\n",
       "      <td>https://www.fund001.com/fund/164906/index.shtml</td>\n",
       "      <td>95.000</td>\n",
       "      <td>QDII</td>\n",
       "      <td>1.337</td>\n",
       "      <td>2021-08-05</td>\n",
       "      <td>-2.05%</td>\n",
       "      <td>...</td>\n",
       "      <td>-</td>\n",
       "      <td>-</td>\n",
       "      <td>开放申购/开放赎回</td>\n",
       "      <td>最新份额：83078万份；增长：0.15%</td>\n",
       "      <td>4.77%</td>\n",
       "      <td>2021-08-05 15:14:03</td>\n",
       "      <td>中国互联</td>\n",
       "      <td>NaN</td>\n",
       "      <td>21-08-04</td>\n",
       "      <td>21-08-04</td>\n",
       "    </tr>\n",
       "  </tbody>\n",
       "</table>\n",
       "<p>5 rows × 56 columns</p>\n",
       "</div>"
      ],
      "text/plain": [
       "  fund_id fund_nm qtype issuer_nm  \\\n",
       "0  164906    中国互联     E     交银施罗德   \n",
       "1  164906    中国互联     E     交银施罗德   \n",
       "2  164906    中国互联     E     交银施罗德   \n",
       "3  164906    中国互联     E     交银施罗德   \n",
       "4  164906    中国互联     E     交银施罗德   \n",
       "\n",
       "                                              urls asset_ratio lof_type  \\\n",
       "0  https://www.fund001.com/fund/164906/index.shtml      95.000     QDII   \n",
       "1  https://www.fund001.com/fund/164906/index.shtml      95.000     QDII   \n",
       "2  https://www.fund001.com/fund/164906/index.shtml      95.000     QDII   \n",
       "3  https://www.fund001.com/fund/164906/index.shtml      95.000     QDII   \n",
       "4  https://www.fund001.com/fund/164906/index.shtml      95.000     QDII   \n",
       "\n",
       "   price    price_dt increase_rt  ... est_val_tm2 ref_price2  \\\n",
       "0  1.986  2021-01-04      -0.50%  ...           -          -   \n",
       "1  2.134  2021-01-19       0.71%  ...           -          -   \n",
       "2  1.805  2021-06-28       0.39%  ...           -          -   \n",
       "3  2.215  2021-01-20       3.80%  ...           -          -   \n",
       "4  1.337  2021-08-05      -2.05%  ...           -          -   \n",
       "\n",
       "  apply_redeem_status       amount_incr_tips turnover_rt    last_est_datetime  \\\n",
       "0           开放申购/开放赎回   最新份额：9202万份；增长：0.99%       4.71%  2021-01-04 15:00:03   \n",
       "1           开放申购/开放赎回  最新份额：10074万份；增长：2.11%       9.77%  2021-01-19 15:00:03   \n",
       "2           开放申购/开放赎回  最新份额：48522万份；增长：1.32%       4.48%  2021-06-28 15:00:03   \n",
       "3           开放申购/开放赎回  最新份额：10234万份；增长：1.59%       7.12%  2021-01-20 15:00:03   \n",
       "4           开放申购/开放赎回  最新份额：83078万份；增长：0.15%       4.77%  2021-08-05 15:14:03   \n",
       "\n",
       "  fund_nm_color fund_id_color est_val_dt_s  nav_dt_s  \n",
       "0          中国互联        164906     20-12-31  20-12-31  \n",
       "1          中国互联        164906     21-01-18  21-01-18  \n",
       "2          中国互联        164906     21-06-25  21-06-25  \n",
       "3          中国互联        164906     21-01-19  21-01-19  \n",
       "4          中国互联           NaN     21-08-04  21-08-04  \n",
       "\n",
       "[5 rows x 56 columns]"
      ]
     },
     "execution_count": 18,
     "metadata": {},
     "output_type": "execute_result"
    }
   ],
   "source": [
    "df.head()"
   ]
  },
  {
   "cell_type": "code",
   "execution_count": 20,
   "metadata": {},
   "outputs": [],
   "source": [
    "new_df = df.sort_values(by='last_est_datetime')"
   ]
  },
  {
   "cell_type": "code",
   "execution_count": 21,
   "metadata": {},
   "outputs": [],
   "source": [
    "new_df.to_excel(\"中国互联.xlsx\",encoding='utf8')"
   ]
  },
  {
   "cell_type": "code",
   "execution_count": null,
   "metadata": {},
   "outputs": [],
   "source": []
  }
 ],
 "metadata": {
  "kernelspec": {
   "display_name": "Python 3",
   "language": "python",
   "name": "python3"
  },
  "language_info": {
   "codemirror_mode": {
    "name": "ipython",
    "version": 3
   },
   "file_extension": ".py",
   "mimetype": "text/x-python",
   "name": "python",
   "nbconvert_exporter": "python",
   "pygments_lexer": "ipython3",
   "version": "3.8.3"
  }
 },
 "nbformat": 4,
 "nbformat_minor": 4
}
