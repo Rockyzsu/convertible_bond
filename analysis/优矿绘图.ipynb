{
 "cells": [
  {
   "cell_type": "code",
   "execution_count": null,
   "metadata": {},
   "outputs": [],
   "source": [
    "import os\n",
    "import pandas as pd\n",
    "import pyecharts.options as opts\n",
    "from pyecharts.charts import Line\n",
    "from pyecharts.faker import Faker\n",
    "from pyecharts.commons.utils import JsCode\n",
    "from datetime import  datetime\n",
    "\n",
    "import matplotlib.pyplot as plt\n",
    "%matplotlib inline\n",
    "\n",
    "def convert_time(x):\n",
    "    return str(x).replace(' 00:00:00','')"
   ]
  },
  {
   "cell_type": "code",
   "execution_count": null,
   "metadata": {},
   "outputs": [],
   "source": [
    "ROOT=r'/home/xda/github/convertible_bond/data'"
   ]
  },
  {
   "cell_type": "code",
   "execution_count": null,
   "metadata": {},
   "outputs": [],
   "source": [
    "filename='bond_vol_percent-2022-08.xlsx'\n",
    "df = pd.read_excel(os.path.join(ROOT,filename))"
   ]
  },
  {
   "cell_type": "code",
   "execution_count": null,
   "metadata": {},
   "outputs": [],
   "source": [
    "# filename2='{}双低1天2021-all.xlsx'.format(date)\n",
    "filename2='2022-03-规模-双低.xlsx'\n",
    "df2 = pd.read_excel(os.path.join(ROOT,filename2))"
   ]
  },
  {
   "cell_type": "code",
   "execution_count": null,
   "metadata": {},
   "outputs": [],
   "source": [
    "filename3='{}低价1天2021-all.xlsx'.format(date)\n",
    "df3 = pd.read_excel(os.path.join(ROOT,filename3))"
   ]
  },
  {
   "cell_type": "code",
   "execution_count": null,
   "metadata": {},
   "outputs": [],
   "source": [
    "df['日期']=pd.to_datetime(df['日期'],format='%Y%m%d')\n",
    "df.set_index('日期',drop=True,inplace=True)"
   ]
  },
  {
   "cell_type": "code",
   "execution_count": null,
   "metadata": {},
   "outputs": [],
   "source": [
    "df2['日期']=pd.to_datetime(df2['日期'],format='%Y%m%d')\n",
    "df2.set_index('日期',drop=True,inplace=True)"
   ]
  },
  {
   "cell_type": "code",
   "execution_count": null,
   "metadata": {},
   "outputs": [],
   "source": [
    "df3['日期']=pd.to_datetime(df3['日期'],format='%Y%m%d')\n",
    "df3.set_index('日期',drop=True,inplace=True)"
   ]
  },
  {
   "cell_type": "code",
   "execution_count": null,
   "metadata": {},
   "outputs": [],
   "source": [
    "plt.figure(figsize=(12,16))\n",
    "df['当前市值'].plot()\n",
    "plt.show()"
   ]
  },
  {
   "cell_type": "code",
   "execution_count": null,
   "metadata": {},
   "outputs": [],
   "source": [
    "background_color_js = (\n",
    "    \"new echarts.graphic.LinearGradient(0, 0, 0, 1, \"\n",
    "    \"[{offset: 0, color: '#c86589'}, {offset: 1, color: '#06a7ff'}], false)\"\n",
    ")\n",
    "area_color_js = (\n",
    "    \"new echarts.graphic.LinearGradient(0, 0, 0, 1, \"\n",
    "    \"[{offset: 0, color: '#eb64fb'}, {offset: 1, color: '#3fbbff0d'}], false)\"\n",
    ")"
   ]
  },
  {
   "cell_type": "code",
   "execution_count": null,
   "metadata": {},
   "outputs": [],
   "source": [
    "ts = datetime.now().strftime('%Y%m%d')\n",
    "X=df.index.tolist()\n",
    "X=list(map(convert_time,X))\n",
    "Y=df['收益率'].tolist()\n",
    "Y2=df2['收益率'].tolist()\n",
    "\n",
    "c = (\n",
    "    Line(init_opts=opts.InitOpts(bg_color=JsCode(background_color_js)))\n",
    "    .add_xaxis(X)\n",
    "    .add_yaxis(\"只取未到转股期可转债收益率%\", Y, is_smooth=True,\n",
    "    areastyle_opts=opts.AreaStyleOpts(color=JsCode(area_color_js), opacity=1),linestyle_opts=opts.LineStyleOpts(width=1,color='rgb(0, 255, 0)'),label_opts=opts.LabelOpts(is_show=False),\n",
    "    )\n",
    "    .add_yaxis(\"所有可转债收益率%\", Y2, is_smooth=True,\n",
    "    areastyle_opts=opts.AreaStyleOpts(color=JsCode(area_color_js), opacity=1),linestyle_opts=opts.LineStyleOpts(width=1,color='rgb(255, 0, 0)'),label_opts=opts.LabelOpts(is_show=False),\n",
    "    )\n",
    "    .set_global_opts(\n",
    "        title_opts=opts.TitleOpts(title=\"折价策略收益率%\"),\n",
    "        xaxis_opts=opts.AxisOpts(\n",
    "                                name='日期',\n",
    "                                min_interval=5,\n",
    "                                splitline_opts=opts.SplitLineOpts(is_show=True)\n",
    "                                ),\n",
    "        yaxis_opts=opts.AxisOpts(\n",
    "                                interval=50,min_=-50,max_=600,\n",
    "            splitline_opts=opts.SplitLineOpts(is_show=True),\n",
    "        )\n",
    "                                    ).set_colors(['green','red'])\n",
    "    .render(f\"../plot_image/{}.html\")\n",
    ")"
   ]
  },
  {
   "cell_type": "code",
   "execution_count": null,
   "metadata": {},
   "outputs": [],
   "source": [
    "# 单张图 推荐\n",
    "ts = datetime.now().strftime('%Y-%m-%d %H-%M')\n",
    "X=df.index.tolist()\n",
    "X=list(map(convert_time,X))\n",
    "Y=list(map(lambda x:round(x,0),df['收益率'].tolist()))\n",
    "\n",
    "title=\"成交量 涨幅\"\n",
    "\n",
    "c = (\n",
    "    Line()\n",
    "    .add_xaxis(X)\n",
    "    .add_yaxis(title, Y, is_smooth=True,\n",
    "        linestyle_opts=opts.LineStyleOpts(width=2,color='rgb(255, 0, 0)'),\n",
    "        label_opts=opts.LabelOpts(is_show=False),\n",
    "    ).set_global_opts(\n",
    "        title_opts=opts.TitleOpts(title=title),\n",
    "        xaxis_opts=opts.AxisOpts(\n",
    "                                name='日期',\n",
    "                                # min_interval=5,\n",
    "                                splitline_opts=opts.SplitLineOpts(is_show=True),\n",
    "                                           axislabel_opts=opts.LabelOpts(rotate=45),\n",
    "\n",
    "                                ),\n",
    "        yaxis_opts=opts.AxisOpts(\n",
    "                                # interval=5,\n",
    "                                min_=min(Y)-1,\n",
    "                                max_=max(Y)+1,\n",
    "            splitline_opts=opts.SplitLineOpts(is_show=True),\n",
    "        )\n",
    "                                    ).set_colors(['green'])\n",
    "    .render(f\"../plot_image/{title}-{ts}.html\")\n",
    ")"
   ]
  },
  {
   "cell_type": "code",
   "execution_count": null,
   "metadata": {},
   "outputs": [],
   "source": [
    "name = datetime.now().strftime('%Y%m%d')\n",
    "X=df.index.tolist()\n",
    "X=list(map(convert_time,X))\n",
    "Y=df['收益率'].tolist()\n",
    "Y2= df2['收益率'].tolist()\n",
    "title=\"折价收益率%\"\n",
    "title2='持有5个转债'\n",
    "title1='持有10个转债'\n",
    "c = (\n",
    "    Line(init_opts=opts.InitOpts(bg_color=JsCode(background_color_js)))\n",
    "    .add_xaxis(X)\n",
    "    .add_yaxis(title2, Y2, is_smooth=True,\n",
    "    areastyle_opts=opts.AreaStyleOpts(color=JsCode(area_color_js), opacity=1),linestyle_opts=opts.LineStyleOpts(width=1,color='rgb(255, 255, 102)'),label_opts=opts.LabelOpts(is_show=True),\n",
    "    ).add_yaxis(title1, Y, is_smooth=True,\n",
    "    areastyle_opts=opts.AreaStyleOpts(color=JsCode(area_color_js), opacity=1),linestyle_opts=opts.LineStyleOpts(width=1,color='rgb(255, 0, 0)'),label_opts=opts.LabelOpts(is_show=True),\n",
    "    ).set_global_opts(\n",
    "        title_opts=opts.TitleOpts(title=title),\n",
    "        xaxis_opts=opts.AxisOpts(\n",
    "                                name='日期',\n",
    "                                min_interval=5,\n",
    "                                splitline_opts=opts.SplitLineOpts(is_show=True)\n",
    "                                ),\n",
    "        yaxis_opts=opts.AxisOpts(\n",
    "                                interval=50,min_=-50,max_=1000,\n",
    "            splitline_opts=opts.SplitLineOpts(is_show=True),\n",
    "        )\n",
    "                                    ).set_colors(['yellow','red'])\n",
    "    .render(f\"plot_line_{name}.html\")\n",
    ")"
   ]
  },
  {
   "cell_type": "code",
   "execution_count": null,
   "metadata": {},
   "outputs": [],
   "source": [
    "# 简单\n",
    "name = datetime.now().strftime('%Y%m%d')\n",
    "X=df.index.tolist()\n",
    "X=list(map(convert_time,X))\n",
    "Y=df['收益率'].map(lambda x:round(x,0)).tolist()\n",
    "title=\"2021年可转债价格轮动: 150买入,200卖出\"\n",
    "types=title\n",
    "c = (\n",
    "    Line()\n",
    "    .add_xaxis(X)\n",
    "    .add_yaxis(title, Y, is_smooth=True,\n",
    "  \n",
    "               linestyle_opts=opts.LineStyleOpts(width=2,color='rgb(255, 0, 0)'),label_opts=opts.LabelOpts(is_show=True),\n",
    "    ).set_global_opts(\n",
    "        title_opts=opts.TitleOpts(title=\"收益率曲线\"),\n",
    "        xaxis_opts=opts.AxisOpts(\n",
    "                                name='日期',\n",
    "                                min_interval=5,\n",
    "                                splitline_opts=opts.SplitLineOpts(is_show=True),\n",
    "           axislabel_opts=opts.LabelOpts(rotate=45),\n",
    "                                ),\n",
    "        yaxis_opts=opts.AxisOpts(name='收益率%',\n",
    "                                interval=5,min_=min(Y)-5,max_=max(Y)+5,\n",
    "            splitline_opts=opts.SplitLineOpts(is_show=True),\n",
    "        )\n",
    "                                    ).set_colors(['green']) # 点的颜色\n",
    "    .render(f\"../plot_image/plot_line_{name}_{types}.html\")\n",
    ")\n",
    "# c.render_notebook()"
   ]
  },
  {
   "cell_type": "code",
   "execution_count": null,
   "metadata": {},
   "outputs": [],
   "source": [
    "# 双曲线\n",
    "name = datetime.now().strftime('%Y%m%d')\n",
    "X=df.index.tolist()\n",
    "X=list(map(convert_time,X))\n",
    "Y=df['收益率'].map(lambda x:round(x,0)).tolist()\n",
    "Y2=df2['收益率'].map(lambda x:round(x,0)).tolist()\n",
    "title=\"折价收益率\"\n",
    "title2=\"双低收益率\"\n",
    "\n",
    "full_title = '双低与折价收益率'\n",
    "\n",
    "types=full_title\n",
    "y_min = min(min(Y),min(Y2))\n",
    "y_max = max(max(Y),max(Y2))\n",
    "\n",
    "c = (\n",
    "    Line()\n",
    "    .add_xaxis(X)\n",
    "    .add_yaxis(title, Y, is_smooth=True,\n",
    "linestyle_opts=opts.LineStyleOpts(width=2,color='rgb(255, 0, 0)'),label_opts=opts.LabelOpts(is_show=True),\n",
    "    ).add_yaxis(title2, Y2, is_smooth=True,\n",
    "linestyle_opts=opts.LineStyleOpts(width=2,color='rgb(0, 0, 255)'),label_opts=opts.LabelOpts(is_show=True),\n",
    "    ).set_global_opts(\n",
    "        title_opts=opts.TitleOpts(title=full_title),\n",
    "        xaxis_opts=opts.AxisOpts(\n",
    "                                name='日期',\n",
    "                                min_interval=5,\n",
    "                                splitline_opts=opts.SplitLineOpts(is_show=True),\n",
    "           axislabel_opts=opts.LabelOpts(rotate=45),\n",
    "                                ),\n",
    "        yaxis_opts=opts.AxisOpts(name='收益率%',\n",
    "                                interval=5,\n",
    "                                 min_=y_min-5,\n",
    "                                 max_=y_max+5,\n",
    "            splitline_opts=opts.SplitLineOpts(is_show=True),\n",
    "        )\n",
    "                                    ).set_colors(['red','blue']) # 点的颜色\n",
    "    .render(f\"plot_line/规模_{name}_{types}.html\")\n",
    ")\n"
   ]
  },
  {
   "cell_type": "code",
   "execution_count": null,
   "metadata": {},
   "outputs": [],
   "source": [
    "# 3曲线\n",
    "from datetime import datetime\n",
    "name = datetime.now().strftime('%Y%m%d')\n",
    "X=df.index.tolist()\n",
    "X=list(map(convert_time,X))\n",
    "Y=df['收益率'].map(lambda x:round(x,0)).tolist()\n",
    "Y2=df2['收益率'].map(lambda x:round(x,0)).tolist()\n",
    "Y3=df3['收益率'].map(lambda x:round(x,0)).tolist()\n",
    "title=\"低溢价\"\n",
    "title2=\"双低\"\n",
    "title3='低价'\n",
    "\n",
    "full_title = '2022年 低溢价，双低，低价[10只，1天轮]'\n",
    "full_title1 = '2022年 低溢价，双低，低价收益率【10只，1天轮动】'\n",
    "\n",
    "types=full_title1\n",
    "y_min = min(min(min(Y),min(Y2)),min(Y3))\n",
    "y_max = max(max(max(Y),max(Y2)),min(Y3))\n",
    "\n",
    "c = (\n",
    "    Line()\n",
    "    .add_xaxis(X)\n",
    "    .add_yaxis(title, Y, is_smooth=True,\n",
    "    label_opts=opts.LabelOpts(is_show=False),\n",
    "linestyle_opts=opts.LineStyleOpts(width=2,color='rgb(255, 0, 0)'),\n",
    "    ).add_yaxis(title2, Y2, is_smooth=True,\n",
    "linestyle_opts=opts.LineStyleOpts(width=2,color='rgb(0, 0, 255)'),\n",
    "label_opts=opts.LabelOpts(is_show=False),\n",
    "    ).add_yaxis(title3, Y3, is_smooth=True,\n",
    "linestyle_opts=opts.LineStyleOpts(width=2,color='rgb(0, 255, 0)'),\n",
    "label_opts=opts.LabelOpts(is_show=False),\n",
    "    ).set_global_opts(\n",
    "        title_opts=opts.TitleOpts(title=full_title),\n",
    "        xaxis_opts=opts.AxisOpts(\n",
    "                                name='日期',\n",
    "                                min_interval=1,\n",
    "                                splitline_opts=opts.SplitLineOpts(is_show=True),\n",
    "           axislabel_opts=opts.LabelOpts(rotate=35),\n",
    "                                ),\n",
    "        yaxis_opts=opts.AxisOpts(name='收益率%',\n",
    "                                interval=2,\n",
    "                                 min_=y_min-2,\n",
    "                                 max_=y_max+2,\n",
    "            splitline_opts=opts.SplitLineOpts(is_show=True),\n",
    "        )\n",
    "                                    )\n",
    "                                    .set_colors(['red','blue','green']) # 点的颜色\n",
    "    .render(f\"../plot_image/多曲线plot_line_{name}_{types}.html\")\n",
    ")"
   ]
  },
  {
   "cell_type": "code",
   "execution_count": null,
   "metadata": {},
   "outputs": [],
   "source": [
    "#收益率\n",
    "data_list = [df,df2,df3]\n",
    "label =['低溢价','双低','低价格']\n",
    "for index,x in enumerate(data_list):\n",
    "    v=x.iloc[-1]['收益率']\n",
    "    withdraw =x.iloc[-1]['最大回撤']\n",
    "    print(\"{}: \".format(label[index]),'收益率： {}%'.format(v),'最大回撤： {}%'.format(withdraw))\n"
   ]
  },
  {
   "cell_type": "code",
   "execution_count": null,
   "metadata": {},
   "outputs": [],
   "source": [
    "#收益率\n",
    "data_list = [df]\n",
    "label =['波动率']\n",
    "for index,x in enumerate(data_list):\n",
    "    v=x.iloc[-1]['收益率']\n",
    "    withdraw =x.iloc[-1]['最大回撤']\n",
    "    print(\"{}: \".format(label[index]),'收益率： {}%'.format(v),'最大回撤： {}%'.format(withdraw))"
   ]
  },
  {
   "cell_type": "code",
   "execution_count": null,
   "metadata": {},
   "outputs": [],
   "source": [
    "#收益率\n",
    "data_list = [df,df2,df3]\n",
    "label =['低溢价','双低','低价格']\n",
    "table ='''|策略|收益率|最大回撤|\n",
    "|---|---|---|\n",
    "'''\n",
    "for index,x in enumerate(data_list):\n",
    "    v=x.iloc[-1]['收益率']\n",
    "    withdraw =x.iloc[-1]['最大回撤']\n",
    "    table+='''|{}|{}|{}'''.format(label[index],v,withdraw)\n",
    "\n",
    "print(table)"
   ]
  },
  {
   "cell_type": "code",
   "execution_count": null,
   "metadata": {},
   "outputs": [],
   "source": [
    "# 2曲线\n",
    "from datetime import datetime\n",
    "name = datetime.now().strftime('%Y%m%d')\n",
    "X=df.index.tolist()\n",
    "X=list(map(convert_time,X))\n",
    "Y=df['收益率'].map(lambda x:round(x,0)).tolist()\n",
    "Y2=df2['收益率'].map(lambda x:round(x,0)).tolist()\n",
    "title=\"双低+规模\"\n",
    "title2=\"双低\"\n",
    "\n",
    "\n",
    "full_title = '双低+规模 vs 双低【10只，5天轮动】'\n",
    "full_title1 = '双低+规模 vs 双低【10只，5天轮动】'\n",
    "\n",
    "types=full_title1\n",
    "y_min = min(min(Y),min(Y2))\n",
    "y_max = max(max(Y),max(Y2))\n",
    "\n",
    "c = (\n",
    "    Line()\n",
    "    .add_xaxis(X)\n",
    "    .add_yaxis(title, Y, is_smooth=True,\n",
    "    label_opts=opts.LabelOpts(is_show=False),\n",
    "linestyle_opts=opts.LineStyleOpts(width=2,color='rgb(255, 0, 0)'),\n",
    "    ).add_yaxis(title2, Y2, is_smooth=True,\n",
    "linestyle_opts=opts.LineStyleOpts(width=2,color='rgb(0, 0, 255)'),\n",
    "label_opts=opts.LabelOpts(is_show=False),\n",
    "    ).set_global_opts(\n",
    "        title_opts=opts.TitleOpts(title=full_title),\n",
    "        xaxis_opts=opts.AxisOpts(\n",
    "                                name='日期',\n",
    "                                min_interval=100,\n",
    "                                splitline_opts=opts.SplitLineOpts(is_show=True),\n",
    "           axislabel_opts=opts.LabelOpts(rotate=45),\n",
    "                                ),\n",
    "        yaxis_opts=opts.AxisOpts(name='收益率%',\n",
    "                                # interval=30,\n",
    "                                #  min_=-15,\n",
    "                                #  max_=380,\n",
    "            splitline_opts=opts.SplitLineOpts(is_show=True),\n",
    "        )\n",
    "                                    )\n",
    "                                    .set_colors(['red','blue']) # 点的颜色\n",
    "    .render(f\"../plot_image/多曲线plot_line_{name}_{types}-规模.html\"))"
   ]
  },
  {
   "cell_type": "code",
   "execution_count": null,
   "metadata": {},
   "outputs": [],
   "source": [
    "df.tail()"
   ]
  },
  {
   "cell_type": "code",
   "execution_count": null,
   "metadata": {},
   "outputs": [],
   "source": [
    "df2.tail()"
   ]
  },
  {
   "cell_type": "code",
   "execution_count": null,
   "metadata": {},
   "outputs": [],
   "source": [
    "df3.tail()"
   ]
  },
  {
   "cell_type": "code",
   "execution_count": null,
   "metadata": {},
   "outputs": [],
   "source": [
    "# 绘制其他收益率曲线\n",
    "# 单张图 推荐\n",
    "file1=os.path.join(ROOT,\"2018正股等权.xlsx\")\n",
    "df1=pd.read_excel(file1)"
   ]
  },
  {
   "cell_type": "code",
   "execution_count": null,
   "metadata": {},
   "outputs": [],
   "source": [
    "df1.head()"
   ]
  },
  {
   "cell_type": "code",
   "execution_count": null,
   "metadata": {},
   "outputs": [],
   "source": [
    "\n",
    "\n",
    "ts = datetime.now().strftime('%Y-%m-%d %H-%M')\n",
    "# X=df.index.tolist()\n",
    "X=df1['tradeDate'].tolist()\n",
    "Y=df1[0].tolist()\n",
    "Y=list(map(lambda x:round(x*1000,0),Y))\n",
    "\n",
    "title=\"等权\"\n",
    "\n",
    "c = (\n",
    "    Line()\n",
    "    .add_xaxis(X)\n",
    "    .add_yaxis(title, Y, is_smooth=True,\n",
    "        linestyle_opts=opts.LineStyleOpts(width=1,color='rgb(255, 0, 0)'),\n",
    "        label_opts=opts.LabelOpts(is_show=False),\n",
    "    ).set_global_opts(\n",
    "        title_opts=opts.TitleOpts(title=title),\n",
    "        xaxis_opts=opts.AxisOpts(\n",
    "                                name='日期',\n",
    "                                min_interval=5,\n",
    "                                splitline_opts=opts.SplitLineOpts(is_show=True),\n",
    "                                axislabel_opts=opts.LabelOpts(rotate=45),\n",
    "\n",
    "                                ),\n",
    "        yaxis_opts=opts.AxisOpts(\n",
    "            name='等权指数',\n",
    "                                # interval=5,\n",
    "                                min_=min(Y),\n",
    "                                max_=max(Y),\n",
    "            splitline_opts=opts.SplitLineOpts(is_show=True),\n",
    "        )\n",
    "                                    ).set_colors(['green'])\n",
    "    .render(f\"../plot_image/{title}.html\")\n",
    ")"
   ]
  },
  {
   "cell_type": "code",
   "execution_count": null,
   "metadata": {},
   "outputs": [],
   "source": [
    "# 2条\n",
    "from datetime import datetime\n",
    "name = datetime.now().strftime('%Y%m%d')\n",
    "X=df.index.tolist()\n",
    "X=list(map(convert_time,X))\n",
    "Y=df['收益率'].map(lambda x:round(x,0)).tolist()\n",
    "Y2=df2['收益率'].map(lambda x:round(x,0)).tolist()\n",
    "Y3=df3['收益率'].map(lambda x:round(x,0)).tolist()\n",
    "title=\"低溢价\"\n",
    "title2=\"双低\"\n",
    "title3='低价'\n",
    "\n",
    "full_title = '2022年 低溢价，双低，低价[10只，1天轮]'\n",
    "full_title1 = '2022年 低溢价，双低，低价收益率【10只，1天轮动】'\n",
    "\n",
    "types=full_title1\n",
    "y_min = min(min(min(Y),min(Y2)),min(Y3))\n",
    "y_max = max(max(max(Y),max(Y2)),min(Y3))\n",
    "\n",
    "c = (\n",
    "    Line()\n",
    "    .add_xaxis(X)\n",
    "    .add_yaxis(title, Y, is_smooth=True,\n",
    "    label_opts=opts.LabelOpts(is_show=False),\n",
    "linestyle_opts=opts.LineStyleOpts(width=2,color='rgb(255, 0, 0)'),\n",
    "    ).add_yaxis(title2, Y2, is_smooth=True,\n",
    "linestyle_opts=opts.LineStyleOpts(width=2,color='rgb(0, 0, 255)'),\n",
    "label_opts=opts.LabelOpts(is_show=False),\n",
    "    ).set_global_opts(\n",
    "        title_opts=opts.TitleOpts(title=full_title),\n",
    "        xaxis_opts=opts.AxisOpts(\n",
    "                                name='日期',\n",
    "                                min_interval=1,\n",
    "                                splitline_opts=opts.SplitLineOpts(is_show=True),\n",
    "           axislabel_opts=opts.LabelOpts(rotate=35),\n",
    "                                ),\n",
    "        yaxis_opts=opts.AxisOpts(name='收益率%',\n",
    "                                interval=2,\n",
    "                                 min_=y_min-2,\n",
    "                                 max_=y_max+2,\n",
    "            splitline_opts=opts.SplitLineOpts(is_show=True),\n",
    "        )\n",
    "                                    )\n",
    "                                    .set_colors(['red','blue','green']) # 点的颜色\n",
    "    .render(f\"../plot_image/等权-双.html\")\n",
    ")"
   ]
  },
  {
   "cell_type": "code",
   "execution_count": null,
   "metadata": {},
   "outputs": [],
   "source": [
    "holding_df = pd.read_csv('../data/price-holding-v3.csv',index_col=None)"
   ]
  },
  {
   "cell_type": "code",
   "execution_count": null,
   "metadata": {},
   "outputs": [],
   "source": [
    "holding_df.head()"
   ]
  },
  {
   "cell_type": "code",
   "execution_count": null,
   "metadata": {},
   "outputs": [],
   "source": [
    "holding_df.to_excel('price-holding-v3.xlsx',encoding='utf8')"
   ]
  },
  {
   "cell_type": "code",
   "execution_count": null,
   "metadata": {},
   "outputs": [],
   "source": []
  }
 ],
 "metadata": {
  "interpreter": {
   "hash": "513dc2e41d739bb2c947903f3c0bbf636d03aa53ab50e61c694a27481c81805e"
  },
  "kernelspec": {
   "display_name": "Python 3.8.3 64-bit ('base': conda)",
   "name": "python3"
  },
  "language_info": {
   "codemirror_mode": {
    "name": "ipython",
    "version": 3
   },
   "file_extension": ".py",
   "mimetype": "text/x-python",
   "name": "python",
   "nbconvert_exporter": "python",
   "pygments_lexer": "ipython3",
   "version": "3.9.7"
  }
 },
 "nbformat": 4,
 "nbformat_minor": 2
}
