{
 "cells": [
  {
   "cell_type": "code",
   "execution_count": 53,
   "metadata": {},
   "outputs": [],
   "source": [
    "import sys\n",
    "sys.path.append('..')\n",
    "from configure.settings import DBSelector\n",
    "from common.DataFetch import DataFetcher\n",
    "import pandas as pd\n",
    "import re\n",
    "import random\n",
    "from collections import Counter\n",
    "from itertools import combinations\n",
    "import networkx as nx\n",
    "import matplotlib.pyplot as plt"
   ]
  },
  {
   "cell_type": "code",
   "execution_count": 54,
   "metadata": {},
   "outputs": [],
   "source": [
    "doc_name = 'bond_top_10_holding_2022-09-02'\n",
    "client = DBSelector().mongo('qq')\n",
    "doc = client['db_stock'][doc_name]"
   ]
  },
  {
   "cell_type": "code",
   "execution_count": 55,
   "metadata": {},
   "outputs": [],
   "source": [
    "result =[]\n",
    "for item in doc.find({}):\n",
    "    del item['_id']\n",
    "    result.append(item)"
   ]
  },
  {
   "cell_type": "code",
   "execution_count": 56,
   "metadata": {},
   "outputs": [],
   "source": [
    "df = pd.DataFrame(result)"
   ]
  },
  {
   "cell_type": "code",
   "execution_count": 57,
   "metadata": {},
   "outputs": [
    {
     "data": {
      "text/html": [
       "<div>\n",
       "<style scoped>\n",
       "    .dataframe tbody tr th:only-of-type {\n",
       "        vertical-align: middle;\n",
       "    }\n",
       "\n",
       "    .dataframe tbody tr th {\n",
       "        vertical-align: top;\n",
       "    }\n",
       "\n",
       "    .dataframe thead th {\n",
       "        text-align: right;\n",
       "    }\n",
       "</style>\n",
       "<table border=\"1\" class=\"dataframe\">\n",
       "  <thead>\n",
       "    <tr style=\"text-align: right;\">\n",
       "      <th></th>\n",
       "      <th>SECUCODE</th>\n",
       "      <th>SECURITY_CODE</th>\n",
       "      <th>BOND_NAME_ABBR</th>\n",
       "      <th>HOLDER_NAME</th>\n",
       "      <th>END_DATE</th>\n",
       "      <th>HOLD_NUM</th>\n",
       "      <th>HOLD_RATIO</th>\n",
       "      <th>HOLDER_RANK</th>\n",
       "    </tr>\n",
       "  </thead>\n",
       "  <tbody>\n",
       "    <tr>\n",
       "      <th>0</th>\n",
       "      <td>113502.SH</td>\n",
       "      <td>113502</td>\n",
       "      <td>嘉澳转债</td>\n",
       "      <td>华夏基金延年益寿5号纯债固定收益型养老金产品-中国农业银行股份有限公司</td>\n",
       "      <td>2022-06-30 00:00:00</td>\n",
       "      <td>92410</td>\n",
       "      <td>5.02</td>\n",
       "      <td>1</td>\n",
       "    </tr>\n",
       "    <tr>\n",
       "      <th>1</th>\n",
       "      <td>113502.SH</td>\n",
       "      <td>113502</td>\n",
       "      <td>嘉澳转债</td>\n",
       "      <td>中融国际信托有限公司-中融-墨砺29号证券投资集合资金信托计划</td>\n",
       "      <td>2022-06-30 00:00:00</td>\n",
       "      <td>81300</td>\n",
       "      <td>4.41</td>\n",
       "      <td>2</td>\n",
       "    </tr>\n",
       "    <tr>\n",
       "      <th>2</th>\n",
       "      <td>113502.SH</td>\n",
       "      <td>113502</td>\n",
       "      <td>嘉澳转债</td>\n",
       "      <td>平安银行股份有限公司-长信可转债债券型证券投资基金</td>\n",
       "      <td>2022-06-30 00:00:00</td>\n",
       "      <td>80940</td>\n",
       "      <td>4.39</td>\n",
       "      <td>3</td>\n",
       "    </tr>\n",
       "    <tr>\n",
       "      <th>3</th>\n",
       "      <td>113502.SH</td>\n",
       "      <td>113502</td>\n",
       "      <td>嘉澳转债</td>\n",
       "      <td>华夏基金延年益寿7号固定收益型养老金产品-中信银行股份有限公司</td>\n",
       "      <td>2022-06-30 00:00:00</td>\n",
       "      <td>80530</td>\n",
       "      <td>4.37</td>\n",
       "      <td>4</td>\n",
       "    </tr>\n",
       "    <tr>\n",
       "      <th>4</th>\n",
       "      <td>113502.SH</td>\n",
       "      <td>113502</td>\n",
       "      <td>嘉澳转债</td>\n",
       "      <td>中国工商银行股份有限公司-银华可转债债券型证券投资基金</td>\n",
       "      <td>2022-06-30 00:00:00</td>\n",
       "      <td>75710</td>\n",
       "      <td>4.11</td>\n",
       "      <td>5</td>\n",
       "    </tr>\n",
       "  </tbody>\n",
       "</table>\n",
       "</div>"
      ],
      "text/plain": [
       "    SECUCODE SECURITY_CODE BOND_NAME_ABBR  \\\n",
       "0  113502.SH        113502           嘉澳转债   \n",
       "1  113502.SH        113502           嘉澳转债   \n",
       "2  113502.SH        113502           嘉澳转债   \n",
       "3  113502.SH        113502           嘉澳转债   \n",
       "4  113502.SH        113502           嘉澳转债   \n",
       "\n",
       "                           HOLDER_NAME             END_DATE  HOLD_NUM  \\\n",
       "0  华夏基金延年益寿5号纯债固定收益型养老金产品-中国农业银行股份有限公司  2022-06-30 00:00:00     92410   \n",
       "1      中融国际信托有限公司-中融-墨砺29号证券投资集合资金信托计划  2022-06-30 00:00:00     81300   \n",
       "2            平安银行股份有限公司-长信可转债债券型证券投资基金  2022-06-30 00:00:00     80940   \n",
       "3      华夏基金延年益寿7号固定收益型养老金产品-中信银行股份有限公司  2022-06-30 00:00:00     80530   \n",
       "4          中国工商银行股份有限公司-银华可转债债券型证券投资基金  2022-06-30 00:00:00     75710   \n",
       "\n",
       "   HOLD_RATIO  HOLDER_RANK  \n",
       "0        5.02            1  \n",
       "1        4.41            2  \n",
       "2        4.39            3  \n",
       "3        4.37            4  \n",
       "4        4.11            5  "
      ]
     },
     "execution_count": 57,
     "metadata": {},
     "output_type": "execute_result"
    }
   ],
   "source": [
    "df.head()"
   ]
  },
  {
   "cell_type": "code",
   "execution_count": 6,
   "metadata": {},
   "outputs": [
    {
     "data": {
      "text/plain": [
       "22824"
      ]
     },
     "execution_count": 6,
     "metadata": {},
     "output_type": "execute_result"
    }
   ],
   "source": [
    "len(df)\n"
   ]
  },
  {
   "cell_type": "code",
   "execution_count": 10,
   "metadata": {},
   "outputs": [],
   "source": [
    "df_latest=df[df['name'].isnull()]"
   ]
  },
  {
   "cell_type": "code",
   "execution_count": 11,
   "metadata": {},
   "outputs": [
    {
     "data": {
      "text/plain": [
       "22824"
      ]
     },
     "execution_count": 11,
     "metadata": {},
     "output_type": "execute_result"
    }
   ],
   "source": [
    "len(df_latest)"
   ]
  },
  {
   "cell_type": "code",
   "execution_count": null,
   "metadata": {},
   "outputs": [],
   "source": [
    "df_latest.head()"
   ]
  },
  {
   "cell_type": "code",
   "execution_count": 17,
   "metadata": {},
   "outputs": [],
   "source": [
    "contains_df = df_latest[['SECUCODE','SECURITY_CODE','BOND_NAME_ABBR','HOLDER_NAME','END_DATE','HOLD_NUM','HOLD_RATIO','HOLDER_RANK']]"
   ]
  },
  {
   "cell_type": "code",
   "execution_count": 20,
   "metadata": {},
   "outputs": [],
   "source": [
    "contains_df.to_csv('2022-09-02-top-ten-holding.csv',encoding='utf8')"
   ]
  },
  {
   "cell_type": "code",
   "execution_count": 58,
   "metadata": {},
   "outputs": [],
   "source": [
    "df['END_DATE']=df['END_DATE'].map(lambda x:x.split(' ')[0])"
   ]
  },
  {
   "cell_type": "code",
   "execution_count": 6,
   "metadata": {},
   "outputs": [
    {
     "data": {
      "text/plain": [
       "113013    187\n",
       "113537    160\n",
       "113011    134\n",
       "113017    122\n",
       "113016    121\n",
       "         ... \n",
       "118014     11\n",
       "123148     11\n",
       "113061     11\n",
       "123152     11\n",
       "118015     11\n",
       "Name: SECURITY_CODE, Length: 432, dtype: int64"
      ]
     },
     "execution_count": 6,
     "metadata": {},
     "output_type": "execute_result"
    }
   ],
   "source": [
    "df['SECURITY_CODE'].value_counts()"
   ]
  },
  {
   "cell_type": "code",
   "execution_count": 31,
   "metadata": {},
   "outputs": [
    {
     "data": {
      "text/plain": [
       "5458"
      ]
     },
     "execution_count": 31,
     "metadata": {},
     "output_type": "execute_result"
    }
   ],
   "source": [
    "len(df[df['END_DATE']>'2021-12-31'])"
   ]
  },
  {
   "cell_type": "code",
   "execution_count": 59,
   "metadata": {},
   "outputs": [],
   "source": [
    "latest_df = df[df['END_DATE']>='2022-06-30']"
   ]
  },
  {
   "cell_type": "code",
   "execution_count": 41,
   "metadata": {},
   "outputs": [
    {
     "data": {
      "text/plain": [
       "4831"
      ]
     },
     "execution_count": 41,
     "metadata": {},
     "output_type": "execute_result"
    }
   ],
   "source": [
    "len(latest_df)"
   ]
  },
  {
   "cell_type": "code",
   "execution_count": 11,
   "metadata": {},
   "outputs": [
    {
     "data": {
      "text/plain": [
       "113060    22\n",
       "127065    22\n",
       "127064    22\n",
       "118009    22\n",
       "123149    22\n",
       "          ..\n",
       "113600    11\n",
       "113545    11\n",
       "113649    11\n",
       "110060    11\n",
       "123013    11\n",
       "Name: SECURITY_CODE, Length: 431, dtype: int64"
      ]
     },
     "execution_count": 11,
     "metadata": {},
     "output_type": "execute_result"
    }
   ],
   "source": [
    "latest_df['SECURITY_CODE'].value_counts()"
   ]
  },
  {
   "cell_type": "code",
   "execution_count": 60,
   "metadata": {},
   "outputs": [],
   "source": [
    "index=latest_df[latest_df['HOLDER_NAME']=='合计'].index"
   ]
  },
  {
   "cell_type": "code",
   "execution_count": 61,
   "metadata": {},
   "outputs": [],
   "source": [
    "latest_df1=latest_df.drop(index,axis=0)"
   ]
  },
  {
   "cell_type": "code",
   "execution_count": 54,
   "metadata": {},
   "outputs": [
    {
     "data": {
      "text/plain": [
       "4831"
      ]
     },
     "execution_count": 54,
     "metadata": {},
     "output_type": "execute_result"
    }
   ],
   "source": [
    "len(latest_df)"
   ]
  },
  {
   "cell_type": "code",
   "execution_count": 55,
   "metadata": {},
   "outputs": [
    {
     "data": {
      "text/plain": [
       "4392"
      ]
     },
     "execution_count": 55,
     "metadata": {},
     "output_type": "execute_result"
    }
   ],
   "source": [
    "len(latest_df1)"
   ]
  },
  {
   "cell_type": "code",
   "execution_count": 62,
   "metadata": {},
   "outputs": [],
   "source": [
    "more=latest_df1['BOND_NAME_ABBR'].value_counts()"
   ]
  },
  {
   "cell_type": "code",
   "execution_count": 63,
   "metadata": {},
   "outputs": [],
   "source": [
    "more_index = more[more==20].index"
   ]
  },
  {
   "cell_type": "code",
   "execution_count": 64,
   "metadata": {},
   "outputs": [],
   "source": [
    "index = latest_df1[(latest_df1['END_DATE']=='2022-06-30')&(latest_df1['BOND_NAME_ABBR'].isin(more_index))].index"
   ]
  },
  {
   "cell_type": "code",
   "execution_count": 65,
   "metadata": {},
   "outputs": [],
   "source": [
    "latest_df2=latest_df1.drop(index,axis=0)\n",
    "df=latest_df2.copy()"
   ]
  },
  {
   "cell_type": "code",
   "execution_count": 43,
   "metadata": {},
   "outputs": [
    {
     "data": {
      "text/plain": [
       "4312"
      ]
     },
     "execution_count": 43,
     "metadata": {},
     "output_type": "execute_result"
    }
   ],
   "source": [
    "len(latest_df2)"
   ]
  },
  {
   "cell_type": "code",
   "execution_count": 44,
   "metadata": {},
   "outputs": [
    {
     "data": {
      "text/plain": [
       "美诺转债    12\n",
       "嘉澳转债    10\n",
       "万青转债    10\n",
       "佳力转债    10\n",
       "奥飞转债    10\n",
       "        ..\n",
       "新星转债    10\n",
       "金能转债    10\n",
       "丰山转债    10\n",
       "天路转债    10\n",
       "横河转债    10\n",
       "Name: BOND_NAME_ABBR, Length: 431, dtype: int64"
      ]
     },
     "execution_count": 44,
     "metadata": {},
     "output_type": "execute_result"
    }
   ],
   "source": [
    "latest_df2['BOND_NAME_ABBR'].value_counts()"
   ]
  },
  {
   "cell_type": "code",
   "execution_count": null,
   "metadata": {},
   "outputs": [],
   "source": [
    "latest_df2[latest_df2['BOND_NAME_ABBR']=='美诺转债']"
   ]
  },
  {
   "cell_type": "code",
   "execution_count": 113,
   "metadata": {},
   "outputs": [],
   "source": [
    "df=latest_df2.copy()"
   ]
  },
  {
   "cell_type": "code",
   "execution_count": null,
   "metadata": {},
   "outputs": [],
   "source": [
    "latest_df[latest_df['SECURITY_CODE']=='113060']"
   ]
  },
  {
   "cell_type": "code",
   "execution_count": 30,
   "metadata": {},
   "outputs": [],
   "source": [
    "less_report = df[df['update_date']<'2021-12-31']"
   ]
  },
  {
   "cell_type": "code",
   "execution_count": 31,
   "metadata": {},
   "outputs": [],
   "source": [
    "codes_list = []\n",
    "for code ,sub_df in less_report.groupby('code'):\n",
    "    codes_list.append({'code':code,'name':code_name_mapper.get(code),'update_date':sub_df.iloc[0]['update_date']})"
   ]
  },
  {
   "cell_type": "code",
   "execution_count": 32,
   "metadata": {},
   "outputs": [],
   "source": [
    "not_release = pd.DataFrame(codes_list) # 为发年报"
   ]
  },
  {
   "cell_type": "code",
   "execution_count": 28,
   "metadata": {},
   "outputs": [
    {
     "data": {
      "text/html": [
       "<div>\n",
       "<style scoped>\n",
       "    .dataframe tbody tr th:only-of-type {\n",
       "        vertical-align: middle;\n",
       "    }\n",
       "\n",
       "    .dataframe tbody tr th {\n",
       "        vertical-align: top;\n",
       "    }\n",
       "\n",
       "    .dataframe thead th {\n",
       "        text-align: right;\n",
       "    }\n",
       "</style>\n",
       "<table border=\"1\" class=\"dataframe\">\n",
       "  <thead>\n",
       "    <tr style=\"text-align: right;\">\n",
       "      <th></th>\n",
       "      <th>code</th>\n",
       "      <th>name</th>\n",
       "      <th>update_date</th>\n",
       "    </tr>\n",
       "  </thead>\n",
       "  <tbody>\n",
       "    <tr>\n",
       "      <th>0</th>\n",
       "      <td>110038</td>\n",
       "      <td>济川转债</td>\n",
       "      <td>2021-06-30</td>\n",
       "    </tr>\n",
       "    <tr>\n",
       "      <th>1</th>\n",
       "      <td>110043</td>\n",
       "      <td>无锡转债</td>\n",
       "      <td>2021-06-30</td>\n",
       "    </tr>\n",
       "    <tr>\n",
       "      <th>2</th>\n",
       "      <td>110044</td>\n",
       "      <td>广电转债</td>\n",
       "      <td>2021-06-30</td>\n",
       "    </tr>\n",
       "    <tr>\n",
       "      <th>3</th>\n",
       "      <td>110045</td>\n",
       "      <td>海澜转债</td>\n",
       "      <td>2021-06-30</td>\n",
       "    </tr>\n",
       "    <tr>\n",
       "      <th>4</th>\n",
       "      <td>110047</td>\n",
       "      <td>山鹰转债</td>\n",
       "      <td>2021-06-30</td>\n",
       "    </tr>\n",
       "  </tbody>\n",
       "</table>\n",
       "</div>"
      ],
      "text/plain": [
       "     code  name update_date\n",
       "0  110038  济川转债  2021-06-30\n",
       "1  110043  无锡转债  2021-06-30\n",
       "2  110044  广电转债  2021-06-30\n",
       "3  110045  海澜转债  2021-06-30\n",
       "4  110047  山鹰转债  2021-06-30"
      ]
     },
     "execution_count": 28,
     "metadata": {},
     "output_type": "execute_result"
    }
   ],
   "source": [
    "not_release.head()"
   ]
  },
  {
   "cell_type": "code",
   "execution_count": 34,
   "metadata": {},
   "outputs": [],
   "source": [
    "not_release.to_excel('not_release_annual_year_report.xlsx',encoding='utf8')"
   ]
  },
  {
   "cell_type": "code",
   "execution_count": 35,
   "metadata": {},
   "outputs": [
    {
     "data": {
      "text/plain": [
       "258"
      ]
     },
     "execution_count": 35,
     "metadata": {},
     "output_type": "execute_result"
    }
   ],
   "source": [
    "len(not_release)"
   ]
  },
  {
   "cell_type": "code",
   "execution_count": 71,
   "metadata": {},
   "outputs": [],
   "source": [
    "df.to_excel('topTen20220902.xlsx',encoding='utf8')"
   ]
  },
  {
   "cell_type": "code",
   "execution_count": 7,
   "metadata": {},
   "outputs": [],
   "source": [
    "result_item = {}\n",
    "for code,sub_df in df.groupby('code'):\n",
    "#     print(code)\n",
    "    for date,sub_x in sub_df.groupby('update_date'):\n",
    "        result_item[code+'_'+date]=sub_x['name'].tolist()"
   ]
  },
  {
   "cell_type": "code",
   "execution_count": null,
   "metadata": {},
   "outputs": [],
   "source": [
    "result_item"
   ]
  },
  {
   "cell_type": "code",
   "execution_count": 9,
   "metadata": {},
   "outputs": [],
   "source": [
    "counter ={}\n",
    "for k,v in result_item.items():\n",
    "    for i in v:\n",
    "        counter.setdefault(i,0)\n",
    "        counter[i]+=1"
   ]
  },
  {
   "cell_type": "code",
   "execution_count": 10,
   "metadata": {},
   "outputs": [],
   "source": [
    "holding_list = list(sorted(counter.items(),key=lambda x:x[1],reverse=True))"
   ]
  },
  {
   "cell_type": "code",
   "execution_count": 11,
   "metadata": {},
   "outputs": [
    {
     "data": {
      "text/plain": [
       "[('UBS AG', 65),\n",
       " ('中国工商银行股份有限公司-汇添富可转换债券债券型证券投资基金', 57),\n",
       " ('富国富益进取固定收益型养老金产品-中国工商银行股份有限公司', 49),\n",
       " ('国信证券股份有限公司', 46),\n",
       " ('中国建设银行股份有限公司-易方达双债增强债券型证券投资基金', 45),\n",
       " ('中国农业银行股份有限公司-鹏华可转债债券型证券投资基金', 41),\n",
       " ('中国工商银行股份有限公司-天弘添利债券型证券投资基金(LOF)', 36),\n",
       " ('兴业银行股份有限公司-天弘永利债券型证券投资基金', 35),\n",
       " ('中国民生银行股份有限公司-安信稳健增值灵活配置混合型证券投资基金', 34),\n",
       " ('中国银行-易方达稳健收益债券型证券投资基金', 33)]"
      ]
     },
     "execution_count": 11,
     "metadata": {},
     "output_type": "execute_result"
    }
   ],
   "source": [
    "holding_list[:10]"
   ]
  },
  {
   "cell_type": "code",
   "execution_count": 23,
   "metadata": {},
   "outputs": [
    {
     "data": {
      "text/plain": [
       "375"
      ]
     },
     "execution_count": 23,
     "metadata": {},
     "output_type": "execute_result"
    }
   ],
   "source": [
    "len(result_item)"
   ]
  },
  {
   "cell_type": "code",
   "execution_count": null,
   "metadata": {
    "scrolled": false
   },
   "outputs": [],
   "source": [
    "holding_list"
   ]
  },
  {
   "cell_type": "code",
   "execution_count": null,
   "metadata": {},
   "outputs": [],
   "source": [
    "x=[i if i[1]>1 and len(i[0])<5 for i in holding_list]"
   ]
  },
  {
   "cell_type": "code",
   "execution_count": null,
   "metadata": {},
   "outputs": [],
   "source": [
    "for i in holding_list:\n",
    "    if len(i[0])<5:\n",
    "        print(i)"
   ]
  },
  {
   "cell_type": "code",
   "execution_count": null,
   "metadata": {},
   "outputs": [],
   "source": [
    "for i in holding_list:\n",
    "    if len(i[0])>3:\n",
    "        print(i)"
   ]
  },
  {
   "cell_type": "code",
   "execution_count": null,
   "metadata": {},
   "outputs": [],
   "source": [
    "df[df['code']=='123015']"
   ]
  },
  {
   "cell_type": "code",
   "execution_count": 9,
   "metadata": {},
   "outputs": [],
   "source": [
    "data_source = DataFetcher()"
   ]
  },
  {
   "cell_type": "code",
   "execution_count": 10,
   "metadata": {},
   "outputs": [],
   "source": [
    "jsl_data = data_source.jsl_bond"
   ]
  },
  {
   "cell_type": "code",
   "execution_count": 11,
   "metadata": {},
   "outputs": [
    {
     "data": {
      "text/plain": [
       "393"
      ]
     },
     "execution_count": 11,
     "metadata": {},
     "output_type": "execute_result"
    }
   ],
   "source": [
    "len(jsl_data)"
   ]
  },
  {
   "cell_type": "code",
   "execution_count": null,
   "metadata": {},
   "outputs": [],
   "source": [
    "jsl_data.head()"
   ]
  },
  {
   "cell_type": "code",
   "execution_count": 13,
   "metadata": {},
   "outputs": [],
   "source": [
    "code_name_mapper ={}\n",
    "for index,row in jsl_data.iterrows():\n",
    "    code_name_mapper[row['可转债代码']]=row['可转债名称']    "
   ]
  },
  {
   "cell_type": "code",
   "execution_count": 17,
   "metadata": {},
   "outputs": [],
   "source": [
    "df['zz_name']=df['code'].map(lambda x:code_name_mapper.get(x))"
   ]
  },
  {
   "cell_type": "code",
   "execution_count": null,
   "metadata": {},
   "outputs": [],
   "source": [
    "df.head()"
   ]
  },
  {
   "cell_type": "code",
   "execution_count": 24,
   "metadata": {},
   "outputs": [],
   "source": [
    "monster_bond = jsl_data[(jsl_data['可转债价格']>150) & (jsl_data['溢价率']>50)]['可转债代码'].tolist()"
   ]
  },
  {
   "cell_type": "code",
   "execution_count": null,
   "metadata": {},
   "outputs": [],
   "source": [
    "# del df['crawltime']\n",
    "\n",
    "for code in monster_bond:\n",
    "    print('='*20)\n",
    "    print(df[df['code']==code])"
   ]
  },
  {
   "cell_type": "code",
   "execution_count": 30,
   "metadata": {},
   "outputs": [],
   "source": [
    "monster_bond_df = df[df['code'].isin(monster_bond)]"
   ]
  },
  {
   "cell_type": "code",
   "execution_count": null,
   "metadata": {},
   "outputs": [],
   "source": [
    "monster_bond_df"
   ]
  },
  {
   "cell_type": "code",
   "execution_count": 32,
   "metadata": {},
   "outputs": [],
   "source": [
    "def name_mapper_func(x):\n",
    "    pass"
   ]
  },
  {
   "cell_type": "code",
   "execution_count": 36,
   "metadata": {},
   "outputs": [],
   "source": [
    "count_df = monster_bond_df['name'].value_counts()"
   ]
  },
  {
   "cell_type": "code",
   "execution_count": null,
   "metadata": {},
   "outputs": [],
   "source": [
    "for index in count_df.index:\n",
    "    print(index,count_df[index])\n",
    "    # print(index,count_df.index[index])"
   ]
  },
  {
   "cell_type": "code",
   "execution_count": 37,
   "metadata": {},
   "outputs": [],
   "source": []
  },
  {
   "cell_type": "code",
   "execution_count": 19,
   "metadata": {},
   "outputs": [],
   "source": [
    "\n",
    "def map_short_name(x):\n",
    "    if len(x)<5:\n",
    "        return x\n",
    "    for i in mapper_list:\n",
    "        if re.search(i,x):\n",
    "            return i\n",
    "    return ''"
   ]
  },
  {
   "cell_type": "code",
   "execution_count": 12,
   "metadata": {},
   "outputs": [
    {
     "data": {
      "text/plain": [
       "24"
      ]
     },
     "execution_count": 12,
     "metadata": {},
     "output_type": "execute_result"
    }
   ],
   "source": [
    "len(set(df[df['name'].str.contains('林园')]['code'].tolist()))"
   ]
  },
  {
   "cell_type": "code",
   "execution_count": null,
   "metadata": {},
   "outputs": [],
   "source": [
    "mapper_list =['林园','宁泉','甄投','明汯','汇添富','博时',\n",
    "'易方达','全国社保','兴全','东方红','南方东英','嘉实','富国','天弘',\n",
    "'光大保德','诺安','中欧','中邮','上海迎水','广发','鹏华','上海泉汐','上海睿郡']\n",
    "df['short_name']=df['name'].map(map_short_name)\n",
    "# print(df[['zz_name','short_name','name']])\n",
    "display_institute((df))"
   ]
  },
  {
   "cell_type": "code",
   "execution_count": 13,
   "metadata": {},
   "outputs": [],
   "source": [
    "def display_institute(df):\n",
    "    for index,row in df.iterrows():\n",
    "        if row['short_name']=='':\n",
    "            print(row['name'])"
   ]
  },
  {
   "cell_type": "code",
   "execution_count": 46,
   "metadata": {},
   "outputs": [],
   "source": [
    "def get_invest_company(x):\n",
    "    return x.split('-')[0]"
   ]
  },
  {
   "cell_type": "code",
   "execution_count": 19,
   "metadata": {},
   "outputs": [],
   "source": [
    "df['invest_company']=df['name'].map(get_invest_company)"
   ]
  },
  {
   "cell_type": "code",
   "execution_count": 22,
   "metadata": {},
   "outputs": [],
   "source": [
    "institute_counter ={}\n",
    "for index,row in df[df['name'].str.contains('私募')].iterrows():\n",
    "    # print(row['name'],row['holding_ratio'],row['zz_name'],row['invest_company'])\n",
    "    institute_counter.setdefault(get_invest_company(row['name']),0)\n",
    "    institute_counter[get_invest_company(row['name'])]+=1\n"
   ]
  },
  {
   "cell_type": "code",
   "execution_count": null,
   "metadata": {},
   "outputs": [],
   "source": [
    "for i in df['invest_company'].value_counts().index:\n",
    "    print(i)"
   ]
  },
  {
   "cell_type": "code",
   "execution_count": 83,
   "metadata": {},
   "outputs": [],
   "source": [
    "institution = list(sorted(institute_counter.items(),key=lambda x:x[1],reverse=True))"
   ]
  },
  {
   "cell_type": "code",
   "execution_count": 89,
   "metadata": {},
   "outputs": [],
   "source": [
    "X1=[]\n",
    "X2=[]\n",
    "for x1,x2 in institution:\n",
    "    X1.append(x1)\n",
    "    X2.append(x2)\n",
    "    # print(x1)\n",
    "    # print(x1,x2)\n",
    "institution_df  = pd.DataFrame({'name':X1,'count':X2})"
   ]
  },
  {
   "cell_type": "code",
   "execution_count": 24,
   "metadata": {},
   "outputs": [],
   "source": [
    "df.to_excel('institution-2022-04-16.xlsx',encoding='utf8')"
   ]
  },
  {
   "cell_type": "code",
   "execution_count": 58,
   "metadata": {},
   "outputs": [],
   "source": [
    "df1 = pd.DataFrame(result)"
   ]
  },
  {
   "cell_type": "code",
   "execution_count": 59,
   "metadata": {},
   "outputs": [],
   "source": [
    "df1.to_excel('kzz_top_holding.xlsx',encoding='utf8')"
   ]
  },
  {
   "cell_type": "code",
   "execution_count": 64,
   "metadata": {},
   "outputs": [
    {
     "data": {
      "text/plain": [
       "60"
      ]
     },
     "execution_count": 64,
     "metadata": {},
     "output_type": "execute_result"
    }
   ],
   "source": [
    "len(df[df['name'].str.contains('林园')][['zz_name','name','holding_ratio']])"
   ]
  },
  {
   "cell_type": "code",
   "execution_count": null,
   "metadata": {},
   "outputs": [],
   "source": [
    "df[df['name'].str.contains('林园')][['zz_name','name','holding_ratio']].groupby('zz_name').sum('holding_ratio').sort_values('holding_ratio',ascending=False)"
   ]
  },
  {
   "cell_type": "code",
   "execution_count": 23,
   "metadata": {},
   "outputs": [],
   "source": [
    "def convertor(x):\n",
    "    if re.search('万',x):\n",
    "        x=x.replace('万','')\n",
    "        x=float(x)*10**4\n",
    "    elif re.search('亿',x):\n",
    "        x=x.replace('亿','')\n",
    "        x=float(x)*10**9\n",
    "    \n",
    "    return float(x)\n",
    "\n",
    "df['amount_float']=df['amount'].map(convertor)"
   ]
  },
  {
   "cell_type": "code",
   "execution_count": null,
   "metadata": {},
   "outputs": [],
   "source": [
    "df[df['name'].str.contains('睿郡')][['zz_name','name','amount_float']].groupby('zz_name').sum('amount_float').sort_values('amount_float',ascending=False)"
   ]
  },
  {
   "cell_type": "code",
   "execution_count": null,
   "metadata": {},
   "outputs": [],
   "source": [
    "df[df['name'].str.contains('宁泉')][['zz_name','name','holding_ratio']].groupby('zz_name').sum('holding_ratio').sort_values('holding_ratio',ascending=False)"
   ]
  },
  {
   "cell_type": "code",
   "execution_count": null,
   "metadata": {},
   "outputs": [],
   "source": [
    "relationsihp ={}\n",
    "for index,row in df.iterrows():\n",
    "    \n",
    "    relationsihp.setdefault()"
   ]
  },
  {
   "cell_type": "code",
   "execution_count": 26,
   "metadata": {},
   "outputs": [],
   "source": [
    "# 分类"
   ]
  },
  {
   "cell_type": "code",
   "execution_count": 19,
   "metadata": {},
   "outputs": [],
   "source": [
    "def category(x):\n",
    "    # category_list = ['私募','']\n",
    "    if re.search('私募',x):\n",
    "        return '私募'\n",
    "\n",
    "    if len(x)<5:\n",
    "        return '个人'\n",
    "\n",
    "    if re.search('社保',x):\n",
    "        return '社保'\n",
    "\n",
    "    return '公募'"
   ]
  },
  {
   "cell_type": "code",
   "execution_count": 25,
   "metadata": {},
   "outputs": [],
   "source": [
    "df['category']=df['name'].map(category)"
   ]
  },
  {
   "cell_type": "code",
   "execution_count": 26,
   "metadata": {},
   "outputs": [
    {
     "data": {
      "text/html": [
       "<div>\n",
       "<style scoped>\n",
       "    .dataframe tbody tr th:only-of-type {\n",
       "        vertical-align: middle;\n",
       "    }\n",
       "\n",
       "    .dataframe tbody tr th {\n",
       "        vertical-align: top;\n",
       "    }\n",
       "\n",
       "    .dataframe thead th {\n",
       "        text-align: right;\n",
       "    }\n",
       "</style>\n",
       "<table border=\"1\" class=\"dataframe\">\n",
       "  <thead>\n",
       "    <tr style=\"text-align: right;\">\n",
       "      <th></th>\n",
       "      <th>code</th>\n",
       "      <th>name</th>\n",
       "      <th>amount</th>\n",
       "      <th>update_date</th>\n",
       "      <th>holding_ratio</th>\n",
       "      <th>crawltime</th>\n",
       "      <th>zz_name</th>\n",
       "      <th>invest_company</th>\n",
       "      <th>amount_float</th>\n",
       "      <th>category</th>\n",
       "    </tr>\n",
       "  </thead>\n",
       "  <tbody>\n",
       "    <tr>\n",
       "      <th>0</th>\n",
       "      <td>113036</td>\n",
       "      <td>宁波交通投资控股有限公司</td>\n",
       "      <td>161.48万</td>\n",
       "      <td>2021-06-30</td>\n",
       "      <td>29.91</td>\n",
       "      <td>2022-04-01 23:49:07.444</td>\n",
       "      <td>宁建转债</td>\n",
       "      <td>宁波交通投资控股有限公司</td>\n",
       "      <td>1614800.0</td>\n",
       "      <td>公募</td>\n",
       "    </tr>\n",
       "    <tr>\n",
       "      <th>1</th>\n",
       "      <td>113036</td>\n",
       "      <td>UBS AG</td>\n",
       "      <td>46.40万</td>\n",
       "      <td>2021-06-30</td>\n",
       "      <td>8.59</td>\n",
       "      <td>2022-04-01 23:49:07.444</td>\n",
       "      <td>宁建转债</td>\n",
       "      <td>UBS AG</td>\n",
       "      <td>464000.0</td>\n",
       "      <td>公募</td>\n",
       "    </tr>\n",
       "    <tr>\n",
       "      <th>2</th>\n",
       "      <td>113036</td>\n",
       "      <td>中国建设银行-易方达增强回报债券型证券投资基金</td>\n",
       "      <td>23.04万</td>\n",
       "      <td>2021-06-30</td>\n",
       "      <td>4.27</td>\n",
       "      <td>2022-04-01 23:49:07.444</td>\n",
       "      <td>宁建转债</td>\n",
       "      <td>中国建设银行</td>\n",
       "      <td>230400.0</td>\n",
       "      <td>公募</td>\n",
       "    </tr>\n",
       "    <tr>\n",
       "      <th>3</th>\n",
       "      <td>113036</td>\n",
       "      <td>中国银行-易方达稳健收益债券型证券投资基金</td>\n",
       "      <td>21.27万</td>\n",
       "      <td>2021-06-30</td>\n",
       "      <td>3.94</td>\n",
       "      <td>2022-04-01 23:49:07.444</td>\n",
       "      <td>宁建转债</td>\n",
       "      <td>中国银行</td>\n",
       "      <td>212700.0</td>\n",
       "      <td>公募</td>\n",
       "    </tr>\n",
       "    <tr>\n",
       "      <th>4</th>\n",
       "      <td>113036</td>\n",
       "      <td>中国民生银行股份有限公司-安信稳健增值灵活配置混合型证券投资基金</td>\n",
       "      <td>20.10万</td>\n",
       "      <td>2021-06-30</td>\n",
       "      <td>3.72</td>\n",
       "      <td>2022-04-01 23:49:07.444</td>\n",
       "      <td>宁建转债</td>\n",
       "      <td>中国民生银行股份有限公司</td>\n",
       "      <td>201000.0</td>\n",
       "      <td>公募</td>\n",
       "    </tr>\n",
       "  </tbody>\n",
       "</table>\n",
       "</div>"
      ],
      "text/plain": [
       "     code                              name   amount update_date  \\\n",
       "0  113036                      宁波交通投资控股有限公司  161.48万  2021-06-30   \n",
       "1  113036                            UBS AG   46.40万  2021-06-30   \n",
       "2  113036           中国建设银行-易方达增强回报债券型证券投资基金   23.04万  2021-06-30   \n",
       "3  113036             中国银行-易方达稳健收益债券型证券投资基金   21.27万  2021-06-30   \n",
       "4  113036  中国民生银行股份有限公司-安信稳健增值灵活配置混合型证券投资基金   20.10万  2021-06-30   \n",
       "\n",
       "   holding_ratio               crawltime zz_name invest_company  amount_float  \\\n",
       "0          29.91 2022-04-01 23:49:07.444    宁建转债   宁波交通投资控股有限公司     1614800.0   \n",
       "1           8.59 2022-04-01 23:49:07.444    宁建转债         UBS AG      464000.0   \n",
       "2           4.27 2022-04-01 23:49:07.444    宁建转债         中国建设银行      230400.0   \n",
       "3           3.94 2022-04-01 23:49:07.444    宁建转债           中国银行      212700.0   \n",
       "4           3.72 2022-04-01 23:49:07.444    宁建转债   中国民生银行股份有限公司      201000.0   \n",
       "\n",
       "  category  \n",
       "0       公募  \n",
       "1       公募  \n",
       "2       公募  \n",
       "3       公募  \n",
       "4       公募  "
      ]
     },
     "execution_count": 26,
     "metadata": {},
     "output_type": "execute_result"
    }
   ],
   "source": [
    "df.head()"
   ]
  },
  {
   "cell_type": "code",
   "execution_count": 27,
   "metadata": {},
   "outputs": [
    {
     "data": {
      "text/plain": [
       "公募    2710\n",
       "个人     782\n",
       "私募     292\n",
       "社保      87\n",
       "Name: category, dtype: int64"
      ]
     },
     "execution_count": 27,
     "metadata": {},
     "output_type": "execute_result"
    }
   ],
   "source": [
    "df['category'].value_counts()"
   ]
  },
  {
   "cell_type": "code",
   "execution_count": 34,
   "metadata": {},
   "outputs": [],
   "source": [
    "result_dict = {}\n",
    "for code,code_df in df.groupby('code'):\n",
    "    result_dict[code]=code_df['invest_company'].tolist()"
   ]
  },
  {
   "cell_type": "code",
   "execution_count": 35,
   "metadata": {},
   "outputs": [],
   "source": [
    "invest_name_code_dict = {}\n",
    "for k,v in result_dict.items():\n",
    "    for i in v:\n",
    "        invest_name_code_dict.setdefault(i,[])\n",
    "        invest_name_code_dict[i].append(k)"
   ]
  },
  {
   "cell_type": "code",
   "execution_count": 48,
   "metadata": {},
   "outputs": [],
   "source": [
    "\n",
    "relationship_dict ={}\n",
    "for k,v in invest_name_code_dict.items():\n",
    "    relationship_dict.setdefault(k,{})\n",
    "    # for i in v:\n",
    "    for other_k,other_v in invest_name_code_dict.items():\n",
    "        if k==other_k:\n",
    "            continue\n",
    "        relationship_dict[k].update({other_k:set(v)&set(other_v)})\n",
    "\n"
   ]
  },
  {
   "cell_type": "code",
   "execution_count": 49,
   "metadata": {},
   "outputs": [],
   "source": [
    "relation_len = {}\n",
    "for k,v in relationship_dict.items():\n",
    "    max_value = 0\n",
    "    max_value_name = ''\n",
    "\n",
    "    for name,value in v.items():\n",
    "        if len(value)>max_value:\n",
    "            max_value =len(value)\n",
    "            max_value_name = name\n",
    "\n",
    "    relation_len[k]=(max_value_name,max_value)"
   ]
  },
  {
   "cell_type": "code",
   "execution_count": null,
   "metadata": {},
   "outputs": [],
   "source": [
    "f=open('relation.txt','w',encoding='utf8')\n",
    "for k,v in relation_len.items():\n",
    "    if v[1]>2:\n",
    "        print(k,v)\n",
    "        f.write(f'{k}\\t{v}\\n')"
   ]
  },
  {
   "cell_type": "code",
   "execution_count": 44,
   "metadata": {},
   "outputs": [
    {
     "data": {
      "text/html": [
       "<div>\n",
       "<style scoped>\n",
       "    .dataframe tbody tr th:only-of-type {\n",
       "        vertical-align: middle;\n",
       "    }\n",
       "\n",
       "    .dataframe tbody tr th {\n",
       "        vertical-align: top;\n",
       "    }\n",
       "\n",
       "    .dataframe thead th {\n",
       "        text-align: right;\n",
       "    }\n",
       "</style>\n",
       "<table border=\"1\" class=\"dataframe\">\n",
       "  <thead>\n",
       "    <tr style=\"text-align: right;\">\n",
       "      <th></th>\n",
       "      <th>code</th>\n",
       "      <th>name</th>\n",
       "      <th>amount</th>\n",
       "      <th>update_date</th>\n",
       "      <th>holding_ratio</th>\n",
       "      <th>crawltime</th>\n",
       "      <th>zz_name</th>\n",
       "      <th>category</th>\n",
       "      <th>invest_company</th>\n",
       "    </tr>\n",
       "  </thead>\n",
       "  <tbody>\n",
       "    <tr>\n",
       "      <th>0</th>\n",
       "      <td>123102</td>\n",
       "      <td>深圳市平石资产管理有限公司-平石T5q1对冲私募证券投资基金</td>\n",
       "      <td>48.52万</td>\n",
       "      <td>2021-06-30</td>\n",
       "      <td>7.24</td>\n",
       "      <td>2021-09-05 22:36:01.154</td>\n",
       "      <td>华自转债</td>\n",
       "      <td>私募</td>\n",
       "      <td>深圳市平石资产管理有限公司</td>\n",
       "    </tr>\n",
       "    <tr>\n",
       "      <th>1</th>\n",
       "      <td>123102</td>\n",
       "      <td>上海宁泉资产管理有限公司-宁泉致远56号私募证券投资基金</td>\n",
       "      <td>33.94万</td>\n",
       "      <td>2021-06-30</td>\n",
       "      <td>5.07</td>\n",
       "      <td>2021-09-05 22:36:01.154</td>\n",
       "      <td>华自转债</td>\n",
       "      <td>私募</td>\n",
       "      <td>上海宁泉资产管理有限公司</td>\n",
       "    </tr>\n",
       "    <tr>\n",
       "      <th>2</th>\n",
       "      <td>123102</td>\n",
       "      <td>广州诚信创业投资有限公司</td>\n",
       "      <td>30.00万</td>\n",
       "      <td>2021-06-30</td>\n",
       "      <td>4.48</td>\n",
       "      <td>2021-09-05 22:36:01.154</td>\n",
       "      <td>华自转债</td>\n",
       "      <td>公募</td>\n",
       "      <td>广州诚信创业投资有限公司</td>\n",
       "    </tr>\n",
       "    <tr>\n",
       "      <th>3</th>\n",
       "      <td>123102</td>\n",
       "      <td>钟宝申</td>\n",
       "      <td>21.28万</td>\n",
       "      <td>2021-06-30</td>\n",
       "      <td>3.18</td>\n",
       "      <td>2021-09-05 22:36:01.154</td>\n",
       "      <td>华自转债</td>\n",
       "      <td>个人</td>\n",
       "      <td>钟宝申</td>\n",
       "    </tr>\n",
       "    <tr>\n",
       "      <th>4</th>\n",
       "      <td>123102</td>\n",
       "      <td>郑淑芬</td>\n",
       "      <td>19.72万</td>\n",
       "      <td>2021-06-30</td>\n",
       "      <td>2.94</td>\n",
       "      <td>2021-09-05 22:36:01.154</td>\n",
       "      <td>华自转债</td>\n",
       "      <td>个人</td>\n",
       "      <td>郑淑芬</td>\n",
       "    </tr>\n",
       "  </tbody>\n",
       "</table>\n",
       "</div>"
      ],
      "text/plain": [
       "     code                            name  amount update_date  holding_ratio  \\\n",
       "0  123102  深圳市平石资产管理有限公司-平石T5q1对冲私募证券投资基金  48.52万  2021-06-30           7.24   \n",
       "1  123102    上海宁泉资产管理有限公司-宁泉致远56号私募证券投资基金  33.94万  2021-06-30           5.07   \n",
       "2  123102                    广州诚信创业投资有限公司  30.00万  2021-06-30           4.48   \n",
       "3  123102                             钟宝申  21.28万  2021-06-30           3.18   \n",
       "4  123102                             郑淑芬  19.72万  2021-06-30           2.94   \n",
       "\n",
       "                crawltime zz_name category invest_company  \n",
       "0 2021-09-05 22:36:01.154    华自转债       私募  深圳市平石资产管理有限公司  \n",
       "1 2021-09-05 22:36:01.154    华自转债       私募   上海宁泉资产管理有限公司  \n",
       "2 2021-09-05 22:36:01.154    华自转债       公募   广州诚信创业投资有限公司  \n",
       "3 2021-09-05 22:36:01.154    华自转债       个人            钟宝申  \n",
       "4 2021-09-05 22:36:01.154    华自转债       个人            郑淑芬  "
      ]
     },
     "execution_count": 44,
     "metadata": {},
     "output_type": "execute_result"
    }
   ],
   "source": [
    "df.head()"
   ]
  },
  {
   "cell_type": "code",
   "execution_count": 28,
   "metadata": {},
   "outputs": [
    {
     "data": {
      "text/html": [
       "<div>\n",
       "<style scoped>\n",
       "    .dataframe tbody tr th:only-of-type {\n",
       "        vertical-align: middle;\n",
       "    }\n",
       "\n",
       "    .dataframe tbody tr th {\n",
       "        vertical-align: top;\n",
       "    }\n",
       "\n",
       "    .dataframe thead th {\n",
       "        text-align: right;\n",
       "    }\n",
       "</style>\n",
       "<table border=\"1\" class=\"dataframe\">\n",
       "  <thead>\n",
       "    <tr style=\"text-align: right;\">\n",
       "      <th></th>\n",
       "      <th>code</th>\n",
       "      <th>name</th>\n",
       "      <th>amount</th>\n",
       "      <th>update_date</th>\n",
       "      <th>holding_ratio</th>\n",
       "      <th>crawltime</th>\n",
       "      <th>zz_name</th>\n",
       "      <th>invest_company</th>\n",
       "      <th>amount_float</th>\n",
       "      <th>category</th>\n",
       "    </tr>\n",
       "  </thead>\n",
       "  <tbody>\n",
       "  </tbody>\n",
       "</table>\n",
       "</div>"
      ],
      "text/plain": [
       "Empty DataFrame\n",
       "Columns: [code, name, amount, update_date, holding_ratio, crawltime, zz_name, invest_company, amount_float, category]\n",
       "Index: []"
      ]
     },
     "execution_count": 28,
     "metadata": {},
     "output_type": "execute_result"
    }
   ],
   "source": [
    "df[df['name'].str.contains('希瓦')]"
   ]
  },
  {
   "cell_type": "code",
   "execution_count": null,
   "metadata": {},
   "outputs": [],
   "source": [
    "# 绘制关系图"
   ]
  },
  {
   "cell_type": "code",
   "execution_count": 84,
   "metadata": {},
   "outputs": [],
   "source": [
    "def show_figure(relationDict,namelist,title):\n",
    "    edgewidth = []\n",
    "\n",
    "    for i in relationDict.values():\n",
    "        edgewidth.append(i/5)\n",
    "\n",
    "    plt.figure(figsize=(16,9))\n",
    "    g = nx.MultiGraph()\n",
    "    g.add_edges_from(relationDict.keys())\n",
    "    d = dict(g.degree)\n",
    "\n",
    "    nx.draw_circular(g,nodelist=d.keys(),\n",
    "                     node_size=[v*100 for v in d.values()],\n",
    "                     node_color=range(len(namelist)),\n",
    "                     cmap=plt.cm.Paired,\n",
    "                     with_labels=True,\n",
    "                     edge_color=range(len(relationDict)),\n",
    "                     edge_cmap=plt.cm.Dark2,\n",
    "                     alpha=1.0, width=edgewidth)\n",
    "\n",
    "    plt.rcParams['font.sans-serif'] = ['SimHei']\n",
    "    plt.text(-1.05, 1.05, title, fontsize=12)  # -1，1字体位置\n",
    "    plt.savefig('tet.png')\n",
    "    plt.show()"
   ]
  },
  {
   "cell_type": "code",
   "execution_count": 38,
   "metadata": {},
   "outputs": [
    {
     "ename": "KeyError",
     "evalue": "'name'",
     "output_type": "error",
     "traceback": [
      "\u001b[0;31m---------------------------------------------------------------------------\u001b[0m",
      "\u001b[0;31mKeyError\u001b[0m                                  Traceback (most recent call last)",
      "File \u001b[0;32m~/miniconda3/envs/cpy/lib/python3.9/site-packages/pandas/core/indexes/base.py:3621\u001b[0m, in \u001b[0;36mIndex.get_loc\u001b[0;34m(self, key, method, tolerance)\u001b[0m\n\u001b[1;32m   <a href='file:///~/miniconda3/envs/cpy/lib/python3.9/site-packages/pandas/core/indexes/base.py?line=3619'>3620</a>\u001b[0m \u001b[39mtry\u001b[39;00m:\n\u001b[0;32m-> <a href='file:///~/miniconda3/envs/cpy/lib/python3.9/site-packages/pandas/core/indexes/base.py?line=3620'>3621</a>\u001b[0m     \u001b[39mreturn\u001b[39;00m \u001b[39mself\u001b[39;49m\u001b[39m.\u001b[39;49m_engine\u001b[39m.\u001b[39;49mget_loc(casted_key)\n\u001b[1;32m   <a href='file:///~/miniconda3/envs/cpy/lib/python3.9/site-packages/pandas/core/indexes/base.py?line=3621'>3622</a>\u001b[0m \u001b[39mexcept\u001b[39;00m \u001b[39mKeyError\u001b[39;00m \u001b[39mas\u001b[39;00m err:\n",
      "File \u001b[0;32m~/miniconda3/envs/cpy/lib/python3.9/site-packages/pandas/_libs/index.pyx:136\u001b[0m, in \u001b[0;36mpandas._libs.index.IndexEngine.get_loc\u001b[0;34m()\u001b[0m\n",
      "File \u001b[0;32m~/miniconda3/envs/cpy/lib/python3.9/site-packages/pandas/_libs/index.pyx:163\u001b[0m, in \u001b[0;36mpandas._libs.index.IndexEngine.get_loc\u001b[0;34m()\u001b[0m\n",
      "File \u001b[0;32mpandas/_libs/hashtable_class_helper.pxi:5198\u001b[0m, in \u001b[0;36mpandas._libs.hashtable.PyObjectHashTable.get_item\u001b[0;34m()\u001b[0m\n",
      "File \u001b[0;32mpandas/_libs/hashtable_class_helper.pxi:5206\u001b[0m, in \u001b[0;36mpandas._libs.hashtable.PyObjectHashTable.get_item\u001b[0;34m()\u001b[0m\n",
      "\u001b[0;31mKeyError\u001b[0m: 'name'",
      "\nThe above exception was the direct cause of the following exception:\n",
      "\u001b[0;31mKeyError\u001b[0m                                  Traceback (most recent call last)",
      "\u001b[1;32m/home/xda/github/convertible_bond/analysis/TopTenHolding.ipynb Cell 101'\u001b[0m in \u001b[0;36m<module>\u001b[0;34m\u001b[0m\n\u001b[0;32m----> <a href='vscode-notebook-cell:/home/xda/github/convertible_bond/analysis/TopTenHolding.ipynb#ch0000100?line=0'>1</a>\u001b[0m mask\u001b[39m=\u001b[39mdf[\u001b[39m'\u001b[39;49m\u001b[39mname\u001b[39;49m\u001b[39m'\u001b[39;49m]\u001b[39m.\u001b[39mstr\u001b[39m.\u001b[39mlen()\u001b[39m<\u001b[39m\u001b[39m5\u001b[39m\n\u001b[1;32m      <a href='vscode-notebook-cell:/home/xda/github/convertible_bond/analysis/TopTenHolding.ipynb#ch0000100?line=1'>2</a>\u001b[0m df_\u001b[39m=\u001b[39mdf\u001b[39m.\u001b[39mloc[mask]\n\u001b[1;32m      <a href='vscode-notebook-cell:/home/xda/github/convertible_bond/analysis/TopTenHolding.ipynb#ch0000100?line=2'>3</a>\u001b[0m namelist\u001b[39m=\u001b[39m[]\n",
      "File \u001b[0;32m~/miniconda3/envs/cpy/lib/python3.9/site-packages/pandas/core/frame.py:3505\u001b[0m, in \u001b[0;36mDataFrame.__getitem__\u001b[0;34m(self, key)\u001b[0m\n\u001b[1;32m   <a href='file:///~/miniconda3/envs/cpy/lib/python3.9/site-packages/pandas/core/frame.py?line=3502'>3503</a>\u001b[0m \u001b[39mif\u001b[39;00m \u001b[39mself\u001b[39m\u001b[39m.\u001b[39mcolumns\u001b[39m.\u001b[39mnlevels \u001b[39m>\u001b[39m \u001b[39m1\u001b[39m:\n\u001b[1;32m   <a href='file:///~/miniconda3/envs/cpy/lib/python3.9/site-packages/pandas/core/frame.py?line=3503'>3504</a>\u001b[0m     \u001b[39mreturn\u001b[39;00m \u001b[39mself\u001b[39m\u001b[39m.\u001b[39m_getitem_multilevel(key)\n\u001b[0;32m-> <a href='file:///~/miniconda3/envs/cpy/lib/python3.9/site-packages/pandas/core/frame.py?line=3504'>3505</a>\u001b[0m indexer \u001b[39m=\u001b[39m \u001b[39mself\u001b[39;49m\u001b[39m.\u001b[39;49mcolumns\u001b[39m.\u001b[39;49mget_loc(key)\n\u001b[1;32m   <a href='file:///~/miniconda3/envs/cpy/lib/python3.9/site-packages/pandas/core/frame.py?line=3505'>3506</a>\u001b[0m \u001b[39mif\u001b[39;00m is_integer(indexer):\n\u001b[1;32m   <a href='file:///~/miniconda3/envs/cpy/lib/python3.9/site-packages/pandas/core/frame.py?line=3506'>3507</a>\u001b[0m     indexer \u001b[39m=\u001b[39m [indexer]\n",
      "File \u001b[0;32m~/miniconda3/envs/cpy/lib/python3.9/site-packages/pandas/core/indexes/base.py:3623\u001b[0m, in \u001b[0;36mIndex.get_loc\u001b[0;34m(self, key, method, tolerance)\u001b[0m\n\u001b[1;32m   <a href='file:///~/miniconda3/envs/cpy/lib/python3.9/site-packages/pandas/core/indexes/base.py?line=3620'>3621</a>\u001b[0m     \u001b[39mreturn\u001b[39;00m \u001b[39mself\u001b[39m\u001b[39m.\u001b[39m_engine\u001b[39m.\u001b[39mget_loc(casted_key)\n\u001b[1;32m   <a href='file:///~/miniconda3/envs/cpy/lib/python3.9/site-packages/pandas/core/indexes/base.py?line=3621'>3622</a>\u001b[0m \u001b[39mexcept\u001b[39;00m \u001b[39mKeyError\u001b[39;00m \u001b[39mas\u001b[39;00m err:\n\u001b[0;32m-> <a href='file:///~/miniconda3/envs/cpy/lib/python3.9/site-packages/pandas/core/indexes/base.py?line=3622'>3623</a>\u001b[0m     \u001b[39mraise\u001b[39;00m \u001b[39mKeyError\u001b[39;00m(key) \u001b[39mfrom\u001b[39;00m \u001b[39merr\u001b[39;00m\n\u001b[1;32m   <a href='file:///~/miniconda3/envs/cpy/lib/python3.9/site-packages/pandas/core/indexes/base.py?line=3623'>3624</a>\u001b[0m \u001b[39mexcept\u001b[39;00m \u001b[39mTypeError\u001b[39;00m:\n\u001b[1;32m   <a href='file:///~/miniconda3/envs/cpy/lib/python3.9/site-packages/pandas/core/indexes/base.py?line=3624'>3625</a>\u001b[0m     \u001b[39m# If we have a listlike key, _check_indexing_error will raise\u001b[39;00m\n\u001b[1;32m   <a href='file:///~/miniconda3/envs/cpy/lib/python3.9/site-packages/pandas/core/indexes/base.py?line=3625'>3626</a>\u001b[0m     \u001b[39m#  InvalidIndexError. Otherwise we fall through and re-raise\u001b[39;00m\n\u001b[1;32m   <a href='file:///~/miniconda3/envs/cpy/lib/python3.9/site-packages/pandas/core/indexes/base.py?line=3626'>3627</a>\u001b[0m     \u001b[39m#  the TypeError.\u001b[39;00m\n\u001b[1;32m   <a href='file:///~/miniconda3/envs/cpy/lib/python3.9/site-packages/pandas/core/indexes/base.py?line=3627'>3628</a>\u001b[0m     \u001b[39mself\u001b[39m\u001b[39m.\u001b[39m_check_indexing_error(key)\n",
      "\u001b[0;31mKeyError\u001b[0m: 'name'"
     ]
    }
   ],
   "source": [
    "mask=df['name'].str.len()<5\n",
    "df_=df.loc[mask]\n",
    "namelist=[]\n",
    "combinations_name=[]\n",
    "relation_dict={}\n",
    "for index,row in df_.groupby('code'):\n",
    "    names = row['name'].tolist()\n",
    "    namelist+=names\n",
    "    combinations_name += combinations(sorted(set(names)),2)\n",
    "relation_dict = Counter(combinations_name)\n",
    "print(relation_dict)"
   ]
  },
  {
   "cell_type": "code",
   "execution_count": 15,
   "metadata": {},
   "outputs": [
    {
     "data": {
      "text/html": [
       "<div>\n",
       "<style scoped>\n",
       "    .dataframe tbody tr th:only-of-type {\n",
       "        vertical-align: middle;\n",
       "    }\n",
       "\n",
       "    .dataframe tbody tr th {\n",
       "        vertical-align: top;\n",
       "    }\n",
       "\n",
       "    .dataframe thead th {\n",
       "        text-align: right;\n",
       "    }\n",
       "</style>\n",
       "<table border=\"1\" class=\"dataframe\">\n",
       "  <thead>\n",
       "    <tr style=\"text-align: right;\">\n",
       "      <th></th>\n",
       "      <th>code</th>\n",
       "      <th>name</th>\n",
       "      <th>amount</th>\n",
       "      <th>update_date</th>\n",
       "      <th>holding_ratio</th>\n",
       "      <th>crawltime</th>\n",
       "      <th>zz_name</th>\n",
       "    </tr>\n",
       "  </thead>\n",
       "  <tbody>\n",
       "    <tr>\n",
       "      <th>0</th>\n",
       "      <td>123102</td>\n",
       "      <td>深圳市平石资产管理有限公司-平石T5q1对冲私募证券投资基金</td>\n",
       "      <td>48.52万</td>\n",
       "      <td>2021-06-30</td>\n",
       "      <td>7.24</td>\n",
       "      <td>2021-09-05 22:36:01.154</td>\n",
       "      <td>华自转债</td>\n",
       "    </tr>\n",
       "    <tr>\n",
       "      <th>1</th>\n",
       "      <td>123102</td>\n",
       "      <td>上海宁泉资产管理有限公司-宁泉致远56号私募证券投资基金</td>\n",
       "      <td>33.94万</td>\n",
       "      <td>2021-06-30</td>\n",
       "      <td>5.07</td>\n",
       "      <td>2021-09-05 22:36:01.154</td>\n",
       "      <td>华自转债</td>\n",
       "    </tr>\n",
       "    <tr>\n",
       "      <th>2</th>\n",
       "      <td>123102</td>\n",
       "      <td>广州诚信创业投资有限公司</td>\n",
       "      <td>30.00万</td>\n",
       "      <td>2021-06-30</td>\n",
       "      <td>4.48</td>\n",
       "      <td>2021-09-05 22:36:01.154</td>\n",
       "      <td>华自转债</td>\n",
       "    </tr>\n",
       "    <tr>\n",
       "      <th>3</th>\n",
       "      <td>123102</td>\n",
       "      <td>钟宝申</td>\n",
       "      <td>21.28万</td>\n",
       "      <td>2021-06-30</td>\n",
       "      <td>3.18</td>\n",
       "      <td>2021-09-05 22:36:01.154</td>\n",
       "      <td>华自转债</td>\n",
       "    </tr>\n",
       "    <tr>\n",
       "      <th>4</th>\n",
       "      <td>123102</td>\n",
       "      <td>郑淑芬</td>\n",
       "      <td>19.72万</td>\n",
       "      <td>2021-06-30</td>\n",
       "      <td>2.94</td>\n",
       "      <td>2021-09-05 22:36:01.154</td>\n",
       "      <td>华自转债</td>\n",
       "    </tr>\n",
       "  </tbody>\n",
       "</table>\n",
       "</div>"
      ],
      "text/plain": [
       "     code                            name  amount update_date  holding_ratio  \\\n",
       "0  123102  深圳市平石资产管理有限公司-平石T5q1对冲私募证券投资基金  48.52万  2021-06-30           7.24   \n",
       "1  123102    上海宁泉资产管理有限公司-宁泉致远56号私募证券投资基金  33.94万  2021-06-30           5.07   \n",
       "2  123102                    广州诚信创业投资有限公司  30.00万  2021-06-30           4.48   \n",
       "3  123102                             钟宝申  21.28万  2021-06-30           3.18   \n",
       "4  123102                             郑淑芬  19.72万  2021-06-30           2.94   \n",
       "\n",
       "                crawltime zz_name  \n",
       "0 2021-09-05 22:36:01.154    华自转债  \n",
       "1 2021-09-05 22:36:01.154    华自转债  \n",
       "2 2021-09-05 22:36:01.154    华自转债  \n",
       "3 2021-09-05 22:36:01.154    华自转债  \n",
       "4 2021-09-05 22:36:01.154    华自转债  "
      ]
     },
     "execution_count": 15,
     "metadata": {},
     "output_type": "execute_result"
    }
   ],
   "source": [
    "df.head()"
   ]
  },
  {
   "cell_type": "code",
   "execution_count": 16,
   "metadata": {},
   "outputs": [],
   "source": [
    "mask=df['name'].str.len()<5\n",
    "df_individual = df.loc[mask]"
   ]
  },
  {
   "cell_type": "code",
   "execution_count": null,
   "metadata": {},
   "outputs": [],
   "source": [
    "namelist=[]\n",
    "combinations_name=[]\n",
    "relation_dict={}\n",
    "for index,row in df_individual.groupby('code'):\n",
    "    names = row['name'].tolist()\n",
    "    namelist+=names\n",
    "    combinations_name += combinations(sorted(set(names)),2)\n",
    "relation_dict = Counter(combinations_name)\n",
    "print(relation_dict)"
   ]
  },
  {
   "cell_type": "code",
   "execution_count": 96,
   "metadata": {},
   "outputs": [],
   "source": [
    "def show_figure(relationDict,namelist_,title):\n",
    "    # relationDict namelist_\n",
    "\n",
    "    edgewidth = []\n",
    "\n",
    "    for i in relationDict.values():\n",
    "        edgewidth.append(i)\n",
    "\n",
    "    plt.figure(figsize=(8,5))\n",
    "    g = nx.MultiGraph()\n",
    "    g.add_edges_from(relationDict.keys())\n",
    "    d = dict(g.degree)\n",
    "\n",
    "    nx.draw_circular(g,nodelist=d.keys(),\n",
    "                     node_size=[v*500 for v in d.values()],\n",
    "                     node_color=range(len(namelist_)),\n",
    "                     cmap=plt.cm.Paired,\n",
    "                     with_labels=True,\n",
    "                     edge_color=range(len(relationDict)),\n",
    "                     edge_cmap=plt.cm.Dark2,\n",
    "                     alpha=1.0, width=edgewidth)\n",
    "\n",
    "    plt.rcParams['font.sans-serif'] = ['SimHei']\n",
    "    plt.text(-1.05, 1.05, title, fontsize=12)  # -1，1字体位置\n",
    "    plt.savefig('test1.png')\n",
    "    plt.show()"
   ]
  },
  {
   "cell_type": "code",
   "execution_count": 74,
   "metadata": {},
   "outputs": [],
   "source": [
    "namelist=[]\n",
    "combinations_name=[]\n",
    "relation_dict={}\n",
    "for index,row in person_df.groupby('SECURITY_CODE'):\n",
    "    names = row['HOLDER_NAME'].tolist()\n",
    "    namelist+=names\n",
    "    combinations_name += combinations(sorted(set(names)),2)\n",
    "relation_dict = Counter(combinations_name)\n",
    "# print(relation_dict)"
   ]
  },
  {
   "cell_type": "code",
   "execution_count": null,
   "metadata": {},
   "outputs": [],
   "source": []
  },
  {
   "cell_type": "code",
   "execution_count": 25,
   "metadata": {},
   "outputs": [
    {
     "data": {
      "text/plain": [
       "717"
      ]
     },
     "execution_count": 25,
     "metadata": {},
     "output_type": "execute_result"
    }
   ],
   "source": [
    "len(namelist)"
   ]
  },
  {
   "cell_type": "code",
   "execution_count": 24,
   "metadata": {},
   "outputs": [
    {
     "data": {
      "text/plain": [
       "1632"
      ]
     },
     "execution_count": 24,
     "metadata": {},
     "output_type": "execute_result"
    }
   ],
   "source": [
    "len(relation_dict)"
   ]
  },
  {
   "cell_type": "code",
   "execution_count": 99,
   "metadata": {},
   "outputs": [],
   "source": [
    "remain_dict ={}\n",
    "for k,v in relation_dict.items():\n",
    "    if v>=2:\n",
    "        remain_dict[k]=v"
   ]
  },
  {
   "cell_type": "code",
   "execution_count": 101,
   "metadata": {},
   "outputs": [
    {
     "data": {
      "text/plain": [
       "{('丁碧霞', '李怡名'): 14,\n",
       " ('陈晓红', '黄永山'): 2,\n",
       " ('丁碧霞', '黄巍然'): 2,\n",
       " ('李怡名', '黄巍然'): 2,\n",
       " ('蔡子跃', '蔡晓东'): 4,\n",
       " ('嵇方一', '方微'): 3,\n",
       " ('嵇方一', '苏巧霞'): 2,\n",
       " ('方微', '苏巧霞'): 2,\n",
       " ('丁碧霞', '张洪西'): 2,\n",
       " ('丁碧霞', '张鹏'): 3,\n",
       " ('张洪西', '张鹏'): 2,\n",
       " ('张洪西', '李怡名'): 2,\n",
       " ('张鹏', '李怡名'): 3,\n",
       " ('丁碧霞', '宋爱国'): 2,\n",
       " ('宋爱国', '张鹏'): 2,\n",
       " ('宋爱国', '李怡名'): 2,\n",
       " ('李志鹤', '李怡名'): 2,\n",
       " ('曹卫宏', '裘成'): 2,\n",
       " ('吴樟荣', '周志方'): 2,\n",
       " ('苏巧霞', '邱欣春'): 2,\n",
       " ('周志方', '张瑛'): 2,\n",
       " ('吴菊香', '郑步翠'): 2,\n",
       " ('苏巧霞', '郑步翠'): 2,\n",
       " ('苏巧霞', '钟原'): 2}"
      ]
     },
     "execution_count": 101,
     "metadata": {},
     "output_type": "execute_result"
    }
   ],
   "source": [
    "remain_dict"
   ]
  },
  {
   "cell_type": "code",
   "execution_count": 93,
   "metadata": {},
   "outputs": [],
   "source": [
    "name_list__ = []\n",
    "for k,v in remain_dict.items():\n",
    "    name_list__.append(k[0])\n",
    "    name_list__.append(k[1])"
   ]
  },
  {
   "cell_type": "code",
   "execution_count": 43,
   "metadata": {},
   "outputs": [],
   "source": [
    "name_list__ = []\n",
    "for k,v in relation_dict.items():\n",
    "    name_list__.append(k[0])\n",
    "    name_list__.append(k[1])"
   ]
  },
  {
   "cell_type": "code",
   "execution_count": 94,
   "metadata": {},
   "outputs": [],
   "source": [
    "name_list = list(set(name_list__))"
   ]
  },
  {
   "cell_type": "code",
   "execution_count": 39,
   "metadata": {},
   "outputs": [
    {
     "data": {
      "text/plain": [
       "29"
      ]
     },
     "execution_count": 39,
     "metadata": {},
     "output_type": "execute_result"
    }
   ],
   "source": [
    "len(name_list)"
   ]
  },
  {
   "cell_type": "code",
   "execution_count": 100,
   "metadata": {},
   "outputs": [
    {
     "data": {
      "image/png": "[encoded data removed]",
      "text/plain": [
       "<Figure size 576x360 with 1 Axes>"
      ]
     },
     "metadata": {},
     "output_type": "display_data"
    }
   ],
   "source": [
    "# namelist_ = list(set(namelist)) \n",
    "show_figure(remain_dict,name_list,'持有相同转债')"
   ]
  },
  {
   "cell_type": "code",
   "execution_count": 98,
   "metadata": {},
   "outputs": [],
   "source": [
    "kv_result=[]\n",
    "id=0\n",
    "for k,v in remain_dict.items():\n",
    "    d={}\n",
    "    d['Source']=k[0]\n",
    "    d['Target']=k[1]\n",
    "    d['Weight']=v\n",
    "    kv_result.append(d)\n",
    "    id+=1\n",
    "df = pd.DataFrame(kv_result)\n",
    "df.to_csv('mycsv4.csv',encoding='gbk',index_label=None,index=None)"
   ]
  },
  {
   "cell_type": "code",
   "execution_count": 64,
   "metadata": {},
   "outputs": [
    {
     "data": {
      "text/plain": [
       "{('丁碧霞', '李志鹤'): 4,\n",
       " ('丁碧霞', '李怡名'): 17,\n",
       " ('李志鹤', '李怡名'): 5,\n",
       " ('梁小红', '郑志坤'): 3,\n",
       " ('梁小红', '翟建琴'): 3,\n",
       " ('丁碧霞', '张鹏'): 3,\n",
       " ('张鹏', '李怡名'): 3,\n",
       " ('蔡子跃', '蔡晓东'): 3,\n",
       " ('曹卫宏', '裘成'): 3}"
      ]
     },
     "execution_count": 64,
     "metadata": {},
     "output_type": "execute_result"
    }
   ],
   "source": [
    "remain_dict"
   ]
  },
  {
   "cell_type": "code",
   "execution_count": 65,
   "metadata": {},
   "outputs": [
    {
     "data": {
      "text/html": [
       "<div>\n",
       "<style scoped>\n",
       "    .dataframe tbody tr th:only-of-type {\n",
       "        vertical-align: middle;\n",
       "    }\n",
       "\n",
       "    .dataframe tbody tr th {\n",
       "        vertical-align: top;\n",
       "    }\n",
       "\n",
       "    .dataframe thead th {\n",
       "        text-align: right;\n",
       "    }\n",
       "</style>\n",
       "<table border=\"1\" class=\"dataframe\">\n",
       "  <thead>\n",
       "    <tr style=\"text-align: right;\">\n",
       "      <th></th>\n",
       "      <th>Source</th>\n",
       "      <th>Target</th>\n",
       "      <th>Weight</th>\n",
       "    </tr>\n",
       "  </thead>\n",
       "  <tbody>\n",
       "    <tr>\n",
       "      <th>0</th>\n",
       "      <td>丁碧霞</td>\n",
       "      <td>李志鹤</td>\n",
       "      <td>4</td>\n",
       "    </tr>\n",
       "    <tr>\n",
       "      <th>1</th>\n",
       "      <td>丁碧霞</td>\n",
       "      <td>李怡名</td>\n",
       "      <td>17</td>\n",
       "    </tr>\n",
       "    <tr>\n",
       "      <th>2</th>\n",
       "      <td>李志鹤</td>\n",
       "      <td>李怡名</td>\n",
       "      <td>5</td>\n",
       "    </tr>\n",
       "    <tr>\n",
       "      <th>3</th>\n",
       "      <td>梁小红</td>\n",
       "      <td>郑志坤</td>\n",
       "      <td>3</td>\n",
       "    </tr>\n",
       "    <tr>\n",
       "      <th>4</th>\n",
       "      <td>梁小红</td>\n",
       "      <td>翟建琴</td>\n",
       "      <td>3</td>\n",
       "    </tr>\n",
       "  </tbody>\n",
       "</table>\n",
       "</div>"
      ],
      "text/plain": [
       "  Source Target  Weight\n",
       "0    丁碧霞    李志鹤       4\n",
       "1    丁碧霞    李怡名      17\n",
       "2    李志鹤    李怡名       5\n",
       "3    梁小红    郑志坤       3\n",
       "4    梁小红    翟建琴       3"
      ]
     },
     "execution_count": 65,
     "metadata": {},
     "output_type": "execute_result"
    }
   ],
   "source": [
    "df.head()"
   ]
  },
  {
   "cell_type": "code",
   "execution_count": null,
   "metadata": {},
   "outputs": [],
   "source": [
    "individual = mask_df['name'].value_counts()\n",
    "for i in individual.index:\n",
    "    print(f'{i:3}{individual.loc[i]:4}')"
   ]
  },
  {
   "cell_type": "code",
   "execution_count": 87,
   "metadata": {},
   "outputs": [
    {
     "ename": "AttributeError",
     "evalue": "'Series' object has no attribute 'bar'",
     "output_type": "error",
     "traceback": [
      "\u001b[1;31m---------------------------------------------------------------------------\u001b[0m",
      "\u001b[1;31mAttributeError\u001b[0m                            Traceback (most recent call last)",
      "\u001b[1;32m<ipython-input-87-2841a871a0df>\u001b[0m in \u001b[0;36m<module>\u001b[1;34m\u001b[0m\n\u001b[1;32m----> 1\u001b[1;33m \u001b[0mindividual\u001b[0m\u001b[1;33m[\u001b[0m\u001b[0mindividual\u001b[0m\u001b[1;33m>\u001b[0m\u001b[1;36m2\u001b[0m\u001b[1;33m]\u001b[0m\u001b[1;33m.\u001b[0m\u001b[0mbar\u001b[0m\u001b[1;33m(\u001b[0m\u001b[1;33m)\u001b[0m\u001b[1;33m\u001b[0m\u001b[1;33m\u001b[0m\u001b[0m\n\u001b[0m",
      "\u001b[1;32mC:\\anaconda\\lib\\site-packages\\pandas\\core\\generic.py\u001b[0m in \u001b[0;36m__getattr__\u001b[1;34m(self, name)\u001b[0m\n\u001b[0;32m   5134\u001b[0m             \u001b[1;32mif\u001b[0m \u001b[0mself\u001b[0m\u001b[1;33m.\u001b[0m\u001b[0m_info_axis\u001b[0m\u001b[1;33m.\u001b[0m\u001b[0m_can_hold_identifiers_and_holds_name\u001b[0m\u001b[1;33m(\u001b[0m\u001b[0mname\u001b[0m\u001b[1;33m)\u001b[0m\u001b[1;33m:\u001b[0m\u001b[1;33m\u001b[0m\u001b[1;33m\u001b[0m\u001b[0m\n\u001b[0;32m   5135\u001b[0m                 \u001b[1;32mreturn\u001b[0m \u001b[0mself\u001b[0m\u001b[1;33m[\u001b[0m\u001b[0mname\u001b[0m\u001b[1;33m]\u001b[0m\u001b[1;33m\u001b[0m\u001b[1;33m\u001b[0m\u001b[0m\n\u001b[1;32m-> 5136\u001b[1;33m             \u001b[1;32mreturn\u001b[0m \u001b[0mobject\u001b[0m\u001b[1;33m.\u001b[0m\u001b[0m__getattribute__\u001b[0m\u001b[1;33m(\u001b[0m\u001b[0mself\u001b[0m\u001b[1;33m,\u001b[0m \u001b[0mname\u001b[0m\u001b[1;33m)\u001b[0m\u001b[1;33m\u001b[0m\u001b[1;33m\u001b[0m\u001b[0m\n\u001b[0m\u001b[0;32m   5137\u001b[0m \u001b[1;33m\u001b[0m\u001b[0m\n\u001b[0;32m   5138\u001b[0m     \u001b[1;32mdef\u001b[0m \u001b[0m__setattr__\u001b[0m\u001b[1;33m(\u001b[0m\u001b[0mself\u001b[0m\u001b[1;33m,\u001b[0m \u001b[0mname\u001b[0m\u001b[1;33m:\u001b[0m \u001b[0mstr\u001b[0m\u001b[1;33m,\u001b[0m \u001b[0mvalue\u001b[0m\u001b[1;33m)\u001b[0m \u001b[1;33m->\u001b[0m \u001b[1;32mNone\u001b[0m\u001b[1;33m:\u001b[0m\u001b[1;33m\u001b[0m\u001b[1;33m\u001b[0m\u001b[0m\n",
      "\u001b[1;31mAttributeError\u001b[0m: 'Series' object has no attribute 'bar'"
     ]
    }
   ],
   "source": [
    "individual[individual>2].plot()"
   ]
  },
  {
   "cell_type": "code",
   "execution_count": 88,
   "metadata": {},
   "outputs": [
    {
     "data": {
      "text/plain": [
       "['individual.jb']"
      ]
     },
     "execution_count": 88,
     "metadata": {},
     "output_type": "execute_result"
    }
   ],
   "source": [
    "import joblib\n",
    "joblib.dump(individual,'individual.jb')"
   ]
  },
  {
   "cell_type": "code",
   "execution_count": 31,
   "metadata": {},
   "outputs": [],
   "source": [
    "from pyecharts import options as opts\n",
    "from pyecharts.charts import Bar\n",
    "import datetime\n",
    "# 翻转Y轴\n",
    "\n",
    "# data=individual[individual>2]\n",
    "# data=data.sort_values(ascending=False)\n",
    "# X=data.index.tolist()\n",
    "# Y=data.values.tolist()\n",
    "# print(X)\n",
    "# print(Y)\n",
    "X=[]\n",
    "Y=[]\n",
    "for i in result.keys():\n",
    "    if result[i]>=3:\n",
    "        X.append(i)\n",
    "        Y.append(result[i])\n",
    "\n",
    "c = (\n",
    "    Bar()\n",
    "    .add_xaxis(X)\n",
    "    .add_yaxis(\n",
    "        \"持有转债数目大于等于3个\", \n",
    "    Y,\n",
    "    # linestyle_opts=opts.LineStyleOpts(width=1,color='rgb(255, 0, 0)')\n",
    "    )\n",
    "    # .reversal_axis()\n",
    "    # .set_series_opts(label_opts=opts.LabelOpts(position=\"right\"))\n",
    "    .set_global_opts(title_opts=opts.TitleOpts(title=\"可转债牛散分布\"),\n",
    "    xaxis_opts=opts.AxisOpts(\n",
    "                                name='名称',\n",
    "                                min_interval=1,\n",
    "                                splitline_opts=opts.SplitLineOpts(is_show=True),\n",
    "                                axislabel_opts=opts.LabelOpts(rotate=45),\n",
    "\n",
    "                                ),\n",
    "                                yaxis_opts=opts.AxisOpts(\n",
    "                                name='个数',\n",
    "                                # min_interval=5,\n",
    "                                splitline_opts=opts.SplitLineOpts(is_show=True)\n",
    "                                ),).set_colors(['green'])\n",
    "    \n",
    ").render('十大持有人{}.html'.format(datetime.date.today()))"
   ]
  },
  {
   "cell_type": "code",
   "execution_count": null,
   "metadata": {},
   "outputs": [],
   "source": [
    "df[df['name'].str.contains('明汯')]"
   ]
  },
  {
   "cell_type": "code",
   "execution_count": 16,
   "metadata": {},
   "outputs": [],
   "source": [
    "df.to_excel('十大持有人2022-04-01.xlsx',encoding='utf8')"
   ]
  },
  {
   "cell_type": "code",
   "execution_count": 115,
   "metadata": {},
   "outputs": [
    {
     "data": {
      "text/html": [
       "<div>\n",
       "<style scoped>\n",
       "    .dataframe tbody tr th:only-of-type {\n",
       "        vertical-align: middle;\n",
       "    }\n",
       "\n",
       "    .dataframe tbody tr th {\n",
       "        vertical-align: top;\n",
       "    }\n",
       "\n",
       "    .dataframe thead th {\n",
       "        text-align: right;\n",
       "    }\n",
       "</style>\n",
       "<table border=\"1\" class=\"dataframe\">\n",
       "  <thead>\n",
       "    <tr style=\"text-align: right;\">\n",
       "      <th></th>\n",
       "      <th>code</th>\n",
       "      <th>name</th>\n",
       "      <th>amount</th>\n",
       "      <th>update_date</th>\n",
       "      <th>holding_ratio</th>\n",
       "      <th>crawltime</th>\n",
       "      <th>zz_name</th>\n",
       "    </tr>\n",
       "  </thead>\n",
       "  <tbody>\n",
       "    <tr>\n",
       "      <th>0</th>\n",
       "      <td>123102</td>\n",
       "      <td>深圳市平石资产管理有限公司-平石T5q1对冲私募证券投资基金</td>\n",
       "      <td>48.52万</td>\n",
       "      <td>2021-06-30</td>\n",
       "      <td>7.24</td>\n",
       "      <td>2021-09-05 22:36:01.154</td>\n",
       "      <td>华自转债</td>\n",
       "    </tr>\n",
       "    <tr>\n",
       "      <th>1</th>\n",
       "      <td>123102</td>\n",
       "      <td>上海宁泉资产管理有限公司-宁泉致远56号私募证券投资基金</td>\n",
       "      <td>33.94万</td>\n",
       "      <td>2021-06-30</td>\n",
       "      <td>5.07</td>\n",
       "      <td>2021-09-05 22:36:01.154</td>\n",
       "      <td>华自转债</td>\n",
       "    </tr>\n",
       "    <tr>\n",
       "      <th>2</th>\n",
       "      <td>123102</td>\n",
       "      <td>广州诚信创业投资有限公司</td>\n",
       "      <td>30.00万</td>\n",
       "      <td>2021-06-30</td>\n",
       "      <td>4.48</td>\n",
       "      <td>2021-09-05 22:36:01.154</td>\n",
       "      <td>华自转债</td>\n",
       "    </tr>\n",
       "    <tr>\n",
       "      <th>3</th>\n",
       "      <td>123102</td>\n",
       "      <td>钟宝申</td>\n",
       "      <td>21.28万</td>\n",
       "      <td>2021-06-30</td>\n",
       "      <td>3.18</td>\n",
       "      <td>2021-09-05 22:36:01.154</td>\n",
       "      <td>华自转债</td>\n",
       "    </tr>\n",
       "    <tr>\n",
       "      <th>4</th>\n",
       "      <td>123102</td>\n",
       "      <td>郑淑芬</td>\n",
       "      <td>19.72万</td>\n",
       "      <td>2021-06-30</td>\n",
       "      <td>2.94</td>\n",
       "      <td>2021-09-05 22:36:01.154</td>\n",
       "      <td>华自转债</td>\n",
       "    </tr>\n",
       "  </tbody>\n",
       "</table>\n",
       "</div>"
      ],
      "text/plain": [
       "     code                            name  amount update_date  holding_ratio  \\\n",
       "0  123102  深圳市平石资产管理有限公司-平石T5q1对冲私募证券投资基金  48.52万  2021-06-30           7.24   \n",
       "1  123102    上海宁泉资产管理有限公司-宁泉致远56号私募证券投资基金  33.94万  2021-06-30           5.07   \n",
       "2  123102                    广州诚信创业投资有限公司  30.00万  2021-06-30           4.48   \n",
       "3  123102                             钟宝申  21.28万  2021-06-30           3.18   \n",
       "4  123102                             郑淑芬  19.72万  2021-06-30           2.94   \n",
       "\n",
       "                crawltime zz_name  \n",
       "0 2021-09-05 22:36:01.154    华自转债  \n",
       "1 2021-09-05 22:36:01.154    华自转债  \n",
       "2 2021-09-05 22:36:01.154    华自转债  \n",
       "3 2021-09-05 22:36:01.154    华自转债  \n",
       "4 2021-09-05 22:36:01.154    华自转债  "
      ]
     },
     "execution_count": 115,
     "metadata": {},
     "output_type": "execute_result"
    }
   ],
   "source": [
    "df.head()"
   ]
  },
  {
   "cell_type": "code",
   "execution_count": 121,
   "metadata": {},
   "outputs": [
    {
     "data": {
      "text/plain": [
       "4306100.0"
      ]
     },
     "execution_count": 121,
     "metadata": {},
     "output_type": "execute_result"
    }
   ],
   "source": [
    "df[df['name']=='丁碧霞']['amount_float'].sum()"
   ]
  },
  {
   "cell_type": "code",
   "execution_count": 120,
   "metadata": {},
   "outputs": [
    {
     "data": {
      "text/plain": [
       "190     37.44万\n",
       "213     21.15万\n",
       "262     16.55万\n",
       "330     18.63万\n",
       "395      7.26万\n",
       "580     28.18万\n",
       "860     19.01万\n",
       "911      7.70万\n",
       "932     11.00万\n",
       "1078     6.39万\n",
       "1171    38.14万\n",
       "1512    25.36万\n",
       "1550     9.87万\n",
       "1668    32.75万\n",
       "1681     9.28万\n",
       "1709    12.54万\n",
       "1899     7.67万\n",
       "1912     3.59万\n",
       "2065    12.65万\n",
       "2111    35.76万\n",
       "2141    46.70万\n",
       "2402    28.51万\n",
       "2485     7.93万\n",
       "3003    67.97万\n",
       "3508     8.38万\n",
       "Name: amount, dtype: object"
      ]
     },
     "execution_count": 120,
     "metadata": {},
     "output_type": "execute_result"
    }
   ],
   "source": [
    "df[df['name']=='李怡名']['amount']"
   ]
  },
  {
   "cell_type": "code",
   "execution_count": 102,
   "metadata": {},
   "outputs": [
    {
     "name": "stdout",
     "output_type": "stream",
     "text": [
      "<class 'pandas.core.frame.DataFrame'>\n",
      "RangeIndex: 24 entries, 0 to 23\n",
      "Data columns (total 3 columns):\n",
      " #   Column  Non-Null Count  Dtype \n",
      "---  ------  --------------  ----- \n",
      " 0   Source  24 non-null     object\n",
      " 1   Target  24 non-null     object\n",
      " 2   Weight  24 non-null     int64 \n",
      "dtypes: int64(1), object(2)\n",
      "memory usage: 704.0+ bytes\n"
     ]
    }
   ],
   "source": [
    "df.info()"
   ]
  },
  {
   "cell_type": "code",
   "execution_count": 104,
   "metadata": {},
   "outputs": [
    {
     "name": "stdout",
     "output_type": "stream",
     "text": [
      "<class 'pandas.core.frame.DataFrame'>\n",
      "Int64Index: 852 entries, 210 to 22756\n",
      "Data columns (total 10 columns):\n",
      " #   Column          Non-Null Count  Dtype  \n",
      "---  ------          --------------  -----  \n",
      " 0   SECUCODE        852 non-null    object \n",
      " 1   SECURITY_CODE   852 non-null    object \n",
      " 2   BOND_NAME_ABBR  852 non-null    object \n",
      " 3   HOLDER_NAME     852 non-null    object \n",
      " 4   END_DATE        852 non-null    object \n",
      " 5   HOLD_NUM        852 non-null    int64  \n",
      " 6   HOLD_RATIO      852 non-null    float64\n",
      " 7   HOLDER_RANK     852 non-null    int64  \n",
      " 8   invest_company  852 non-null    object \n",
      " 9   person          852 non-null    bool   \n",
      "dtypes: bool(1), float64(1), int64(2), object(6)\n",
      "memory usage: 67.4+ KB\n"
     ]
    }
   ],
   "source": [
    "person_df.info()"
   ]
  },
  {
   "cell_type": "code",
   "execution_count": 112,
   "metadata": {},
   "outputs": [
    {
     "name": "stdout",
     "output_type": "stream",
     "text": [
      "奇精转债 \t 14.0 \t 5.0\n",
      "迪贝转债 \t 11.0 \t 7.0\n",
      "沪工转债 \t 2.0 \t 11.0\n",
      "淳中转债 \t 6.0 \t 12.0\n",
      "新星转债 \t 13.0 \t 7.0\n",
      "晨丰转债 \t 10.0 \t 7.0\n",
      "银信转债 \t 11.0 \t 4.0\n",
      "三超转债 \t 3.0 \t 8.0\n",
      "斯莱转债 \t 14.0 \t 2.0\n",
      "明电转债 \t 2.0 \t 8.0\n",
      "正丹转债 \t 1.0 \t 3.0\n",
      "瑞丰转债 \t 3.0 \t 6.0\n",
      "申昊转债 \t 2.0 \t 3.0\n",
      "迪龙转债 \t 7.0 \t 2.0\n"
     ]
    }
   ],
   "source": [
    "columns='SECUCODE'\n",
    "first_name='李怡名'\n",
    "second_name='丁碧霞'\n",
    "for code,row_df in person_df.groupby(columns):\n",
    "    if len(row_df[row_df['invest_company'].isin([first_name])])>0 and len(row_df[row_df['invest_company'].isin([second_name])])>0:\n",
    "        print(row_df['BOND_NAME_ABBR'].iloc[0],'\\t',round(row_df[row_df['invest_company']==first_name]['HOLD_RATIO'].iloc[0],0),'\\t',round(row_df[row_df['invest_company']==second_name]['HOLD_RATIO'].iloc[0],0))\n"
   ]
  },
  {
   "cell_type": "code",
   "execution_count": 73,
   "metadata": {},
   "outputs": [],
   "source": [
    "df['HOLDER_NAME'].value_counts().to_excel('holding_list.xlsx',encoding='utf8')"
   ]
  },
  {
   "cell_type": "code",
   "execution_count": 67,
   "metadata": {},
   "outputs": [],
   "source": [
    "df['invest_company']=df['HOLDER_NAME'].map(get_invest_company)"
   ]
  },
  {
   "cell_type": "code",
   "execution_count": 68,
   "metadata": {},
   "outputs": [
    {
     "data": {
      "text/html": [
       "<div>\n",
       "<style scoped>\n",
       "    .dataframe tbody tr th:only-of-type {\n",
       "        vertical-align: middle;\n",
       "    }\n",
       "\n",
       "    .dataframe tbody tr th {\n",
       "        vertical-align: top;\n",
       "    }\n",
       "\n",
       "    .dataframe thead th {\n",
       "        text-align: right;\n",
       "    }\n",
       "</style>\n",
       "<table border=\"1\" class=\"dataframe\">\n",
       "  <thead>\n",
       "    <tr style=\"text-align: right;\">\n",
       "      <th></th>\n",
       "      <th>SECUCODE</th>\n",
       "      <th>SECURITY_CODE</th>\n",
       "      <th>BOND_NAME_ABBR</th>\n",
       "      <th>HOLDER_NAME</th>\n",
       "      <th>END_DATE</th>\n",
       "      <th>HOLD_NUM</th>\n",
       "      <th>HOLD_RATIO</th>\n",
       "      <th>HOLDER_RANK</th>\n",
       "      <th>invest_company</th>\n",
       "    </tr>\n",
       "  </thead>\n",
       "  <tbody>\n",
       "    <tr>\n",
       "      <th>0</th>\n",
       "      <td>113502.SH</td>\n",
       "      <td>113502</td>\n",
       "      <td>嘉澳转债</td>\n",
       "      <td>华夏基金延年益寿5号纯债固定收益型养老金产品-中国农业银行股份有限公司</td>\n",
       "      <td>2022-06-30</td>\n",
       "      <td>92410</td>\n",
       "      <td>5.02</td>\n",
       "      <td>1</td>\n",
       "      <td>华夏基金延年益寿5号纯债固定收益型养老金产品</td>\n",
       "    </tr>\n",
       "    <tr>\n",
       "      <th>1</th>\n",
       "      <td>113502.SH</td>\n",
       "      <td>113502</td>\n",
       "      <td>嘉澳转债</td>\n",
       "      <td>中融国际信托有限公司-中融-墨砺29号证券投资集合资金信托计划</td>\n",
       "      <td>2022-06-30</td>\n",
       "      <td>81300</td>\n",
       "      <td>4.41</td>\n",
       "      <td>2</td>\n",
       "      <td>中融国际信托有限公司</td>\n",
       "    </tr>\n",
       "    <tr>\n",
       "      <th>2</th>\n",
       "      <td>113502.SH</td>\n",
       "      <td>113502</td>\n",
       "      <td>嘉澳转债</td>\n",
       "      <td>平安银行股份有限公司-长信可转债债券型证券投资基金</td>\n",
       "      <td>2022-06-30</td>\n",
       "      <td>80940</td>\n",
       "      <td>4.39</td>\n",
       "      <td>3</td>\n",
       "      <td>平安银行股份有限公司</td>\n",
       "    </tr>\n",
       "    <tr>\n",
       "      <th>3</th>\n",
       "      <td>113502.SH</td>\n",
       "      <td>113502</td>\n",
       "      <td>嘉澳转债</td>\n",
       "      <td>华夏基金延年益寿7号固定收益型养老金产品-中信银行股份有限公司</td>\n",
       "      <td>2022-06-30</td>\n",
       "      <td>80530</td>\n",
       "      <td>4.37</td>\n",
       "      <td>4</td>\n",
       "      <td>华夏基金延年益寿7号固定收益型养老金产品</td>\n",
       "    </tr>\n",
       "    <tr>\n",
       "      <th>4</th>\n",
       "      <td>113502.SH</td>\n",
       "      <td>113502</td>\n",
       "      <td>嘉澳转债</td>\n",
       "      <td>中国工商银行股份有限公司-银华可转债债券型证券投资基金</td>\n",
       "      <td>2022-06-30</td>\n",
       "      <td>75710</td>\n",
       "      <td>4.11</td>\n",
       "      <td>5</td>\n",
       "      <td>中国工商银行股份有限公司</td>\n",
       "    </tr>\n",
       "  </tbody>\n",
       "</table>\n",
       "</div>"
      ],
      "text/plain": [
       "    SECUCODE SECURITY_CODE BOND_NAME_ABBR  \\\n",
       "0  113502.SH        113502           嘉澳转债   \n",
       "1  113502.SH        113502           嘉澳转债   \n",
       "2  113502.SH        113502           嘉澳转债   \n",
       "3  113502.SH        113502           嘉澳转债   \n",
       "4  113502.SH        113502           嘉澳转债   \n",
       "\n",
       "                           HOLDER_NAME    END_DATE  HOLD_NUM  HOLD_RATIO  \\\n",
       "0  华夏基金延年益寿5号纯债固定收益型养老金产品-中国农业银行股份有限公司  2022-06-30     92410        5.02   \n",
       "1      中融国际信托有限公司-中融-墨砺29号证券投资集合资金信托计划  2022-06-30     81300        4.41   \n",
       "2            平安银行股份有限公司-长信可转债债券型证券投资基金  2022-06-30     80940        4.39   \n",
       "3      华夏基金延年益寿7号固定收益型养老金产品-中信银行股份有限公司  2022-06-30     80530        4.37   \n",
       "4          中国工商银行股份有限公司-银华可转债债券型证券投资基金  2022-06-30     75710        4.11   \n",
       "\n",
       "   HOLDER_RANK          invest_company  \n",
       "0            1  华夏基金延年益寿5号纯债固定收益型养老金产品  \n",
       "1            2              中融国际信托有限公司  \n",
       "2            3              平安银行股份有限公司  \n",
       "3            4    华夏基金延年益寿7号固定收益型养老金产品  \n",
       "4            5            中国工商银行股份有限公司  "
      ]
     },
     "execution_count": 68,
     "metadata": {},
     "output_type": "execute_result"
    }
   ],
   "source": [
    "df.head()"
   ]
  },
  {
   "cell_type": "code",
   "execution_count": 78,
   "metadata": {},
   "outputs": [],
   "source": [
    "df['invest_company'].value_counts().to_excel('invests.xlsx',encoding='utf8')"
   ]
  },
  {
   "cell_type": "code",
   "execution_count": null,
   "metadata": {},
   "outputs": [],
   "source": [
    "for index,row in df[df['invest_company']=='华夏基金延年益寿5号纯债固定收益型养老金产品'].iterrows():\n",
    "    print(row['HOLDER_NAME'])"
   ]
  },
  {
   "cell_type": "code",
   "execution_count": 69,
   "metadata": {},
   "outputs": [],
   "source": [
    "def private_person(x):\n",
    "    if len(x)<4:\n",
    "        return True\n",
    "    else:\n",
    "        return False\n",
    "\n",
    "df['person']=df['invest_company'].map(private_person)"
   ]
  },
  {
   "cell_type": "code",
   "execution_count": 70,
   "metadata": {},
   "outputs": [],
   "source": [
    "person_df = df[df['person']]"
   ]
  },
  {
   "cell_type": "code",
   "execution_count": 71,
   "metadata": {},
   "outputs": [
    {
     "data": {
      "text/html": [
       "<div>\n",
       "<style scoped>\n",
       "    .dataframe tbody tr th:only-of-type {\n",
       "        vertical-align: middle;\n",
       "    }\n",
       "\n",
       "    .dataframe tbody tr th {\n",
       "        vertical-align: top;\n",
       "    }\n",
       "\n",
       "    .dataframe thead th {\n",
       "        text-align: right;\n",
       "    }\n",
       "</style>\n",
       "<table border=\"1\" class=\"dataframe\">\n",
       "  <thead>\n",
       "    <tr style=\"text-align: right;\">\n",
       "      <th></th>\n",
       "      <th>SECUCODE</th>\n",
       "      <th>SECURITY_CODE</th>\n",
       "      <th>BOND_NAME_ABBR</th>\n",
       "      <th>HOLDER_NAME</th>\n",
       "      <th>END_DATE</th>\n",
       "      <th>HOLD_NUM</th>\n",
       "      <th>HOLD_RATIO</th>\n",
       "      <th>HOLDER_RANK</th>\n",
       "      <th>invest_company</th>\n",
       "      <th>person</th>\n",
       "    </tr>\n",
       "  </thead>\n",
       "  <tbody>\n",
       "    <tr>\n",
       "      <th>210</th>\n",
       "      <td>113635.SH</td>\n",
       "      <td>113635</td>\n",
       "      <td>升21转债</td>\n",
       "      <td>徐旭东</td>\n",
       "      <td>2022-06-30</td>\n",
       "      <td>2200860</td>\n",
       "      <td>16.30</td>\n",
       "      <td>2</td>\n",
       "      <td>徐旭东</td>\n",
       "      <td>True</td>\n",
       "    </tr>\n",
       "    <tr>\n",
       "      <th>242</th>\n",
       "      <td>123097.SZ</td>\n",
       "      <td>123097</td>\n",
       "      <td>美力转债</td>\n",
       "      <td>丁碧霞</td>\n",
       "      <td>2022-06-30</td>\n",
       "      <td>196326</td>\n",
       "      <td>6.55</td>\n",
       "      <td>1</td>\n",
       "      <td>丁碧霞</td>\n",
       "      <td>True</td>\n",
       "    </tr>\n",
       "    <tr>\n",
       "      <th>244</th>\n",
       "      <td>123097.SZ</td>\n",
       "      <td>123097</td>\n",
       "      <td>美力转债</td>\n",
       "      <td>张涛</td>\n",
       "      <td>2022-06-30</td>\n",
       "      <td>89840</td>\n",
       "      <td>3.00</td>\n",
       "      <td>3</td>\n",
       "      <td>张涛</td>\n",
       "      <td>True</td>\n",
       "    </tr>\n",
       "    <tr>\n",
       "      <th>249</th>\n",
       "      <td>123097.SZ</td>\n",
       "      <td>123097</td>\n",
       "      <td>美力转债</td>\n",
       "      <td>莫浩礼</td>\n",
       "      <td>2022-06-30</td>\n",
       "      <td>42320</td>\n",
       "      <td>1.41</td>\n",
       "      <td>8</td>\n",
       "      <td>莫浩礼</td>\n",
       "      <td>True</td>\n",
       "    </tr>\n",
       "    <tr>\n",
       "      <th>251</th>\n",
       "      <td>123097.SZ</td>\n",
       "      <td>123097</td>\n",
       "      <td>美力转债</td>\n",
       "      <td>章碧鸿</td>\n",
       "      <td>2022-06-30</td>\n",
       "      <td>40409</td>\n",
       "      <td>1.35</td>\n",
       "      <td>10</td>\n",
       "      <td>章碧鸿</td>\n",
       "      <td>True</td>\n",
       "    </tr>\n",
       "  </tbody>\n",
       "</table>\n",
       "</div>"
      ],
      "text/plain": [
       "      SECUCODE SECURITY_CODE BOND_NAME_ABBR HOLDER_NAME    END_DATE  HOLD_NUM  \\\n",
       "210  113635.SH        113635          升21转债         徐旭东  2022-06-30   2200860   \n",
       "242  123097.SZ        123097           美力转债         丁碧霞  2022-06-30    196326   \n",
       "244  123097.SZ        123097           美力转债          张涛  2022-06-30     89840   \n",
       "249  123097.SZ        123097           美力转债         莫浩礼  2022-06-30     42320   \n",
       "251  123097.SZ        123097           美力转债         章碧鸿  2022-06-30     40409   \n",
       "\n",
       "     HOLD_RATIO  HOLDER_RANK invest_company  person  \n",
       "210       16.30            2            徐旭东    True  \n",
       "242        6.55            1            丁碧霞    True  \n",
       "244        3.00            3             张涛    True  \n",
       "249        1.41            8            莫浩礼    True  \n",
       "251        1.35           10            章碧鸿    True  "
      ]
     },
     "execution_count": 71,
     "metadata": {},
     "output_type": "execute_result"
    }
   ],
   "source": [
    "person_df.head()"
   ]
  },
  {
   "cell_type": "code",
   "execution_count": 72,
   "metadata": {},
   "outputs": [],
   "source": [
    "result = person_df['invest_company'].value_counts().to_dict()"
   ]
  },
  {
   "cell_type": "code",
   "execution_count": 137,
   "metadata": {},
   "outputs": [
    {
     "data": {
      "text/plain": [
       "4312"
      ]
     },
     "execution_count": 137,
     "metadata": {},
     "output_type": "execute_result"
    }
   ],
   "source": [
    "len(df)"
   ]
  },
  {
   "cell_type": "code",
   "execution_count": 136,
   "metadata": {},
   "outputs": [
    {
     "data": {
      "text/html": [
       "<div>\n",
       "<style scoped>\n",
       "    .dataframe tbody tr th:only-of-type {\n",
       "        vertical-align: middle;\n",
       "    }\n",
       "\n",
       "    .dataframe tbody tr th {\n",
       "        vertical-align: top;\n",
       "    }\n",
       "\n",
       "    .dataframe thead th {\n",
       "        text-align: right;\n",
       "    }\n",
       "</style>\n",
       "<table border=\"1\" class=\"dataframe\">\n",
       "  <thead>\n",
       "    <tr style=\"text-align: right;\">\n",
       "      <th></th>\n",
       "      <th>SECURITY_CODE</th>\n",
       "      <th>BOND_NAME_ABBR</th>\n",
       "      <th>HOLDER_NAME</th>\n",
       "      <th>HOLD_NUM</th>\n",
       "      <th>HOLD_RATIO</th>\n",
       "      <th>HOLDER_RANK</th>\n",
       "    </tr>\n",
       "  </thead>\n",
       "  <tbody>\n",
       "  </tbody>\n",
       "</table>\n",
       "</div>"
      ],
      "text/plain": [
       "Empty DataFrame\n",
       "Columns: [SECURITY_CODE, BOND_NAME_ABBR, HOLDER_NAME, HOLD_NUM, HOLD_RATIO, HOLDER_RANK]\n",
       "Index: []"
      ]
     },
     "execution_count": 136,
     "metadata": {},
     "output_type": "execute_result"
    }
   ],
   "source": [
    "df[df['HOLDER_NAME'].str.contains('')].sort_values('HOLDER_RANK',ascending=True)[['SECURITY_CODE','BOND_NAME_ABBR','HOLDER_NAME','HOLD_NUM','HOLD_RATIO','HOLDER_RANK']]"
   ]
  },
  {
   "cell_type": "code",
   "execution_count": 123,
   "metadata": {},
   "outputs": [
    {
     "data": {
      "text/html": [
       "<div>\n",
       "<style scoped>\n",
       "    .dataframe tbody tr th:only-of-type {\n",
       "        vertical-align: middle;\n",
       "    }\n",
       "\n",
       "    .dataframe tbody tr th {\n",
       "        vertical-align: top;\n",
       "    }\n",
       "\n",
       "    .dataframe thead th {\n",
       "        text-align: right;\n",
       "    }\n",
       "</style>\n",
       "<table border=\"1\" class=\"dataframe\">\n",
       "  <thead>\n",
       "    <tr style=\"text-align: right;\">\n",
       "      <th></th>\n",
       "      <th>HOLD_NUM</th>\n",
       "      <th>HOLD_RATIO</th>\n",
       "      <th>HOLDER_RANK</th>\n",
       "    </tr>\n",
       "    <tr>\n",
       "      <th>BOND_NAME_ABBR</th>\n",
       "      <th></th>\n",
       "      <th></th>\n",
       "      <th></th>\n",
       "    </tr>\n",
       "  </thead>\n",
       "  <tbody>\n",
       "    <tr>\n",
       "      <th>纵横转债</th>\n",
       "      <td>350690</td>\n",
       "      <td>13.00</td>\n",
       "      <td>25</td>\n",
       "    </tr>\n",
       "    <tr>\n",
       "      <th>华体转债</th>\n",
       "      <td>262600</td>\n",
       "      <td>12.58</td>\n",
       "      <td>34</td>\n",
       "    </tr>\n",
       "    <tr>\n",
       "      <th>宝莱转债</th>\n",
       "      <td>211633</td>\n",
       "      <td>9.66</td>\n",
       "      <td>28</td>\n",
       "    </tr>\n",
       "    <tr>\n",
       "      <th>瀛通转债</th>\n",
       "      <td>275366</td>\n",
       "      <td>9.18</td>\n",
       "      <td>36</td>\n",
       "    </tr>\n",
       "    <tr>\n",
       "      <th>德尔转债</th>\n",
       "      <td>227008</td>\n",
       "      <td>9.05</td>\n",
       "      <td>36</td>\n",
       "    </tr>\n",
       "    <tr>\n",
       "      <th>翔港转债</th>\n",
       "      <td>140010</td>\n",
       "      <td>8.68</td>\n",
       "      <td>30</td>\n",
       "    </tr>\n",
       "    <tr>\n",
       "      <th>今飞转债</th>\n",
       "      <td>60700</td>\n",
       "      <td>3.52</td>\n",
       "      <td>18</td>\n",
       "    </tr>\n",
       "    <tr>\n",
       "      <th>全筑转债</th>\n",
       "      <td>81760</td>\n",
       "      <td>2.13</td>\n",
       "      <td>14</td>\n",
       "    </tr>\n",
       "    <tr>\n",
       "      <th>威唐转债</th>\n",
       "      <td>61836</td>\n",
       "      <td>2.05</td>\n",
       "      <td>7</td>\n",
       "    </tr>\n",
       "    <tr>\n",
       "      <th>嘉澳转债</th>\n",
       "      <td>37040</td>\n",
       "      <td>2.01</td>\n",
       "      <td>9</td>\n",
       "    </tr>\n",
       "    <tr>\n",
       "      <th>正裕转债</th>\n",
       "      <td>26010</td>\n",
       "      <td>1.74</td>\n",
       "      <td>6</td>\n",
       "    </tr>\n",
       "    <tr>\n",
       "      <th>翔鹭转债</th>\n",
       "      <td>51040</td>\n",
       "      <td>1.69</td>\n",
       "      <td>7</td>\n",
       "    </tr>\n",
       "    <tr>\n",
       "      <th>正邦转债</th>\n",
       "      <td>219890</td>\n",
       "      <td>1.38</td>\n",
       "      <td>18</td>\n",
       "    </tr>\n",
       "    <tr>\n",
       "      <th>迪贝转债</th>\n",
       "      <td>30580</td>\n",
       "      <td>1.33</td>\n",
       "      <td>7</td>\n",
       "    </tr>\n",
       "    <tr>\n",
       "      <th>广汇转债</th>\n",
       "      <td>423540</td>\n",
       "      <td>1.26</td>\n",
       "      <td>8</td>\n",
       "    </tr>\n",
       "    <tr>\n",
       "      <th>乐普转2</th>\n",
       "      <td>184498</td>\n",
       "      <td>1.13</td>\n",
       "      <td>9</td>\n",
       "    </tr>\n",
       "    <tr>\n",
       "      <th>特发转2</th>\n",
       "      <td>36950</td>\n",
       "      <td>0.89</td>\n",
       "      <td>10</td>\n",
       "    </tr>\n",
       "    <tr>\n",
       "      <th>华森转债</th>\n",
       "      <td>22570</td>\n",
       "      <td>0.75</td>\n",
       "      <td>10</td>\n",
       "    </tr>\n",
       "    <tr>\n",
       "      <th>城地转债</th>\n",
       "      <td>81360</td>\n",
       "      <td>0.68</td>\n",
       "      <td>8</td>\n",
       "    </tr>\n",
       "  </tbody>\n",
       "</table>\n",
       "</div>"
      ],
      "text/plain": [
       "                HOLD_NUM  HOLD_RATIO  HOLDER_RANK\n",
       "BOND_NAME_ABBR                                   \n",
       "纵横转债              350690       13.00           25\n",
       "华体转债              262600       12.58           34\n",
       "宝莱转债              211633        9.66           28\n",
       "瀛通转债              275366        9.18           36\n",
       "德尔转债              227008        9.05           36\n",
       "翔港转债              140010        8.68           30\n",
       "今飞转债               60700        3.52           18\n",
       "全筑转债               81760        2.13           14\n",
       "威唐转债               61836        2.05            7\n",
       "嘉澳转债               37040        2.01            9\n",
       "正裕转债               26010        1.74            6\n",
       "翔鹭转债               51040        1.69            7\n",
       "正邦转债              219890        1.38           18\n",
       "迪贝转债               30580        1.33            7\n",
       "广汇转债              423540        1.26            8\n",
       "乐普转2              184498        1.13            9\n",
       "特发转2               36950        0.89           10\n",
       "华森转债               22570        0.75           10\n",
       "城地转债               81360        0.68            8"
      ]
     },
     "execution_count": 123,
     "metadata": {},
     "output_type": "execute_result"
    }
   ],
   "source": [
    "result.groupby('BOND_NAME_ABBR').sum().sort_values('HOLD_RATIO',ascending=False)"
   ]
  },
  {
   "cell_type": "code",
   "execution_count": 125,
   "metadata": {},
   "outputs": [
    {
     "data": {
      "text/html": [
       "<div>\n",
       "<style scoped>\n",
       "    .dataframe tbody tr th:only-of-type {\n",
       "        vertical-align: middle;\n",
       "    }\n",
       "\n",
       "    .dataframe tbody tr th {\n",
       "        vertical-align: top;\n",
       "    }\n",
       "\n",
       "    .dataframe thead th {\n",
       "        text-align: right;\n",
       "    }\n",
       "</style>\n",
       "<table border=\"1\" class=\"dataframe\">\n",
       "  <thead>\n",
       "    <tr style=\"text-align: right;\">\n",
       "      <th></th>\n",
       "      <th>SECUCODE</th>\n",
       "      <th>SECURITY_CODE</th>\n",
       "      <th>BOND_NAME_ABBR</th>\n",
       "      <th>HOLDER_NAME</th>\n",
       "      <th>END_DATE</th>\n",
       "      <th>HOLD_NUM</th>\n",
       "      <th>HOLD_RATIO</th>\n",
       "      <th>HOLDER_RANK</th>\n",
       "    </tr>\n",
       "  </thead>\n",
       "  <tbody>\n",
       "    <tr>\n",
       "      <th>0</th>\n",
       "      <td>113502.SH</td>\n",
       "      <td>113502</td>\n",
       "      <td>嘉澳转债</td>\n",
       "      <td>华夏基金延年益寿5号纯债固定收益型养老金产品-中国农业银行股份有限公司</td>\n",
       "      <td>2022-06-30</td>\n",
       "      <td>92410</td>\n",
       "      <td>5.02</td>\n",
       "      <td>1</td>\n",
       "    </tr>\n",
       "    <tr>\n",
       "      <th>1</th>\n",
       "      <td>113502.SH</td>\n",
       "      <td>113502</td>\n",
       "      <td>嘉澳转债</td>\n",
       "      <td>中融国际信托有限公司-中融-墨砺29号证券投资集合资金信托计划</td>\n",
       "      <td>2022-06-30</td>\n",
       "      <td>81300</td>\n",
       "      <td>4.41</td>\n",
       "      <td>2</td>\n",
       "    </tr>\n",
       "    <tr>\n",
       "      <th>2</th>\n",
       "      <td>113502.SH</td>\n",
       "      <td>113502</td>\n",
       "      <td>嘉澳转债</td>\n",
       "      <td>平安银行股份有限公司-长信可转债债券型证券投资基金</td>\n",
       "      <td>2022-06-30</td>\n",
       "      <td>80940</td>\n",
       "      <td>4.39</td>\n",
       "      <td>3</td>\n",
       "    </tr>\n",
       "    <tr>\n",
       "      <th>3</th>\n",
       "      <td>113502.SH</td>\n",
       "      <td>113502</td>\n",
       "      <td>嘉澳转债</td>\n",
       "      <td>华夏基金延年益寿7号固定收益型养老金产品-中信银行股份有限公司</td>\n",
       "      <td>2022-06-30</td>\n",
       "      <td>80530</td>\n",
       "      <td>4.37</td>\n",
       "      <td>4</td>\n",
       "    </tr>\n",
       "    <tr>\n",
       "      <th>4</th>\n",
       "      <td>113502.SH</td>\n",
       "      <td>113502</td>\n",
       "      <td>嘉澳转债</td>\n",
       "      <td>中国工商银行股份有限公司-银华可转债债券型证券投资基金</td>\n",
       "      <td>2022-06-30</td>\n",
       "      <td>75710</td>\n",
       "      <td>4.11</td>\n",
       "      <td>5</td>\n",
       "    </tr>\n",
       "  </tbody>\n",
       "</table>\n",
       "</div>"
      ],
      "text/plain": [
       "    SECUCODE SECURITY_CODE BOND_NAME_ABBR  \\\n",
       "0  113502.SH        113502           嘉澳转债   \n",
       "1  113502.SH        113502           嘉澳转债   \n",
       "2  113502.SH        113502           嘉澳转债   \n",
       "3  113502.SH        113502           嘉澳转债   \n",
       "4  113502.SH        113502           嘉澳转债   \n",
       "\n",
       "                           HOLDER_NAME    END_DATE  HOLD_NUM  HOLD_RATIO  \\\n",
       "0  华夏基金延年益寿5号纯债固定收益型养老金产品-中国农业银行股份有限公司  2022-06-30     92410        5.02   \n",
       "1      中融国际信托有限公司-中融-墨砺29号证券投资集合资金信托计划  2022-06-30     81300        4.41   \n",
       "2            平安银行股份有限公司-长信可转债债券型证券投资基金  2022-06-30     80940        4.39   \n",
       "3      华夏基金延年益寿7号固定收益型养老金产品-中信银行股份有限公司  2022-06-30     80530        4.37   \n",
       "4          中国工商银行股份有限公司-银华可转债债券型证券投资基金  2022-06-30     75710        4.11   \n",
       "\n",
       "   HOLDER_RANK  \n",
       "0            1  \n",
       "1            2  \n",
       "2            3  \n",
       "3            4  \n",
       "4            5  "
      ]
     },
     "execution_count": 125,
     "metadata": {},
     "output_type": "execute_result"
    }
   ],
   "source": [
    "df.head()"
   ]
  },
  {
   "cell_type": "code",
   "execution_count": 126,
   "metadata": {},
   "outputs": [],
   "source": [
    "df.to_excel('2022-06-30年报十大持有人.xlsx',encoding='utf8')"
   ]
  },
  {
   "cell_type": "code",
   "execution_count": 131,
   "metadata": {},
   "outputs": [
    {
     "data": {
      "text/html": [
       "<div>\n",
       "<style scoped>\n",
       "    .dataframe tbody tr th:only-of-type {\n",
       "        vertical-align: middle;\n",
       "    }\n",
       "\n",
       "    .dataframe tbody tr th {\n",
       "        vertical-align: top;\n",
       "    }\n",
       "\n",
       "    .dataframe thead th {\n",
       "        text-align: right;\n",
       "    }\n",
       "</style>\n",
       "<table border=\"1\" class=\"dataframe\">\n",
       "  <thead>\n",
       "    <tr style=\"text-align: right;\">\n",
       "      <th></th>\n",
       "      <th>HOLD_NUM</th>\n",
       "      <th>HOLD_RATIO</th>\n",
       "      <th>HOLDER_RANK</th>\n",
       "      <th>person</th>\n",
       "    </tr>\n",
       "    <tr>\n",
       "      <th>BOND_NAME_ABBR</th>\n",
       "      <th></th>\n",
       "      <th></th>\n",
       "      <th></th>\n",
       "      <th></th>\n",
       "    </tr>\n",
       "  </thead>\n",
       "  <tbody>\n",
       "    <tr>\n",
       "      <th>天康转债</th>\n",
       "      <td>488650</td>\n",
       "      <td>57.58</td>\n",
       "      <td>55</td>\n",
       "      <td>10</td>\n",
       "    </tr>\n",
       "    <tr>\n",
       "      <th>蓝盾转债</th>\n",
       "      <td>84320</td>\n",
       "      <td>8.42</td>\n",
       "      <td>55</td>\n",
       "      <td>10</td>\n",
       "    </tr>\n",
       "    <tr>\n",
       "      <th>三超转债</th>\n",
       "      <td>471767</td>\n",
       "      <td>24.22</td>\n",
       "      <td>55</td>\n",
       "      <td>10</td>\n",
       "    </tr>\n",
       "    <tr>\n",
       "      <th>丰山转债</th>\n",
       "      <td>2810570</td>\n",
       "      <td>56.21</td>\n",
       "      <td>55</td>\n",
       "      <td>10</td>\n",
       "    </tr>\n",
       "    <tr>\n",
       "      <th>尚荣转债</th>\n",
       "      <td>161550</td>\n",
       "      <td>8.49</td>\n",
       "      <td>46</td>\n",
       "      <td>9</td>\n",
       "    </tr>\n",
       "    <tr>\n",
       "      <th>联得转债</th>\n",
       "      <td>215890</td>\n",
       "      <td>14.67</td>\n",
       "      <td>50</td>\n",
       "      <td>9</td>\n",
       "    </tr>\n",
       "    <tr>\n",
       "      <th>天铁转债</th>\n",
       "      <td>76885</td>\n",
       "      <td>13.12</td>\n",
       "      <td>54</td>\n",
       "      <td>9</td>\n",
       "    </tr>\n",
       "    <tr>\n",
       "      <th>永吉转债</th>\n",
       "      <td>53120</td>\n",
       "      <td>3.64</td>\n",
       "      <td>54</td>\n",
       "      <td>9</td>\n",
       "    </tr>\n",
       "    <tr>\n",
       "      <th>佳力转债</th>\n",
       "      <td>236910</td>\n",
       "      <td>7.95</td>\n",
       "      <td>51</td>\n",
       "      <td>9</td>\n",
       "    </tr>\n",
       "    <tr>\n",
       "      <th>盘龙转债</th>\n",
       "      <td>1354814</td>\n",
       "      <td>49.08</td>\n",
       "      <td>53</td>\n",
       "      <td>9</td>\n",
       "    </tr>\n",
       "    <tr>\n",
       "      <th>友发转债</th>\n",
       "      <td>11658680</td>\n",
       "      <td>58.30</td>\n",
       "      <td>50</td>\n",
       "      <td>9</td>\n",
       "    </tr>\n",
       "    <tr>\n",
       "      <th>起步转债</th>\n",
       "      <td>292450</td>\n",
       "      <td>11.00</td>\n",
       "      <td>49</td>\n",
       "      <td>9</td>\n",
       "    </tr>\n",
       "    <tr>\n",
       "      <th>丝路转债</th>\n",
       "      <td>188800</td>\n",
       "      <td>7.88</td>\n",
       "      <td>52</td>\n",
       "      <td>9</td>\n",
       "    </tr>\n",
       "    <tr>\n",
       "      <th>广电转债</th>\n",
       "      <td>94110</td>\n",
       "      <td>13.31</td>\n",
       "      <td>52</td>\n",
       "      <td>9</td>\n",
       "    </tr>\n",
       "    <tr>\n",
       "      <th>胜蓝转债</th>\n",
       "      <td>265588</td>\n",
       "      <td>8.05</td>\n",
       "      <td>53</td>\n",
       "      <td>9</td>\n",
       "    </tr>\n",
       "    <tr>\n",
       "      <th>泰林转债</th>\n",
       "      <td>1311286</td>\n",
       "      <td>62.44</td>\n",
       "      <td>36</td>\n",
       "      <td>8</td>\n",
       "    </tr>\n",
       "    <tr>\n",
       "      <th>卡倍转债</th>\n",
       "      <td>184945</td>\n",
       "      <td>6.61</td>\n",
       "      <td>47</td>\n",
       "      <td>8</td>\n",
       "    </tr>\n",
       "    <tr>\n",
       "      <th>博汇转债</th>\n",
       "      <td>433764</td>\n",
       "      <td>10.93</td>\n",
       "      <td>46</td>\n",
       "      <td>8</td>\n",
       "    </tr>\n",
       "    <tr>\n",
       "      <th>垒知转债</th>\n",
       "      <td>1128798</td>\n",
       "      <td>28.48</td>\n",
       "      <td>39</td>\n",
       "      <td>8</td>\n",
       "    </tr>\n",
       "    <tr>\n",
       "      <th>凯发转债</th>\n",
       "      <td>118784</td>\n",
       "      <td>10.24</td>\n",
       "      <td>48</td>\n",
       "      <td>8</td>\n",
       "    </tr>\n",
       "    <tr>\n",
       "      <th>福莱转债</th>\n",
       "      <td>29561140</td>\n",
       "      <td>73.92</td>\n",
       "      <td>39</td>\n",
       "      <td>8</td>\n",
       "    </tr>\n",
       "    <tr>\n",
       "      <th>新天转债</th>\n",
       "      <td>145960</td>\n",
       "      <td>9.48</td>\n",
       "      <td>44</td>\n",
       "      <td>8</td>\n",
       "    </tr>\n",
       "    <tr>\n",
       "      <th>华锐转债</th>\n",
       "      <td>958680</td>\n",
       "      <td>23.96</td>\n",
       "      <td>51</td>\n",
       "      <td>8</td>\n",
       "    </tr>\n",
       "    <tr>\n",
       "      <th>天地转债</th>\n",
       "      <td>469385</td>\n",
       "      <td>27.29</td>\n",
       "      <td>46</td>\n",
       "      <td>8</td>\n",
       "    </tr>\n",
       "    <tr>\n",
       "      <th>聚合转债</th>\n",
       "      <td>196000</td>\n",
       "      <td>9.60</td>\n",
       "      <td>52</td>\n",
       "      <td>8</td>\n",
       "    </tr>\n",
       "    <tr>\n",
       "      <th>永东转2</th>\n",
       "      <td>1495894</td>\n",
       "      <td>39.37</td>\n",
       "      <td>38</td>\n",
       "      <td>8</td>\n",
       "    </tr>\n",
       "    <tr>\n",
       "      <th>山石转债</th>\n",
       "      <td>128420</td>\n",
       "      <td>4.79</td>\n",
       "      <td>50</td>\n",
       "      <td>8</td>\n",
       "    </tr>\n",
       "    <tr>\n",
       "      <th>东时转债</th>\n",
       "      <td>138070</td>\n",
       "      <td>14.03</td>\n",
       "      <td>46</td>\n",
       "      <td>8</td>\n",
       "    </tr>\n",
       "    <tr>\n",
       "      <th>康医转债</th>\n",
       "      <td>3409068</td>\n",
       "      <td>48.69</td>\n",
       "      <td>49</td>\n",
       "      <td>8</td>\n",
       "    </tr>\n",
       "    <tr>\n",
       "      <th>搜特转债</th>\n",
       "      <td>677624</td>\n",
       "      <td>8.49</td>\n",
       "      <td>48</td>\n",
       "      <td>8</td>\n",
       "    </tr>\n",
       "    <tr>\n",
       "      <th>金农转债</th>\n",
       "      <td>171270</td>\n",
       "      <td>11.76</td>\n",
       "      <td>49</td>\n",
       "      <td>7</td>\n",
       "    </tr>\n",
       "    <tr>\n",
       "      <th>宏丰转债</th>\n",
       "      <td>1424403</td>\n",
       "      <td>44.34</td>\n",
       "      <td>37</td>\n",
       "      <td>7</td>\n",
       "    </tr>\n",
       "    <tr>\n",
       "      <th>花王转债</th>\n",
       "      <td>252330</td>\n",
       "      <td>7.65</td>\n",
       "      <td>41</td>\n",
       "      <td>7</td>\n",
       "    </tr>\n",
       "    <tr>\n",
       "      <th>航新转债</th>\n",
       "      <td>290250</td>\n",
       "      <td>11.62</td>\n",
       "      <td>38</td>\n",
       "      <td>7</td>\n",
       "    </tr>\n",
       "    <tr>\n",
       "      <th>金陵转债</th>\n",
       "      <td>92160</td>\n",
       "      <td>3.68</td>\n",
       "      <td>49</td>\n",
       "      <td>7</td>\n",
       "    </tr>\n",
       "    <tr>\n",
       "      <th>通光转债</th>\n",
       "      <td>41060</td>\n",
       "      <td>5.26</td>\n",
       "      <td>40</td>\n",
       "      <td>7</td>\n",
       "    </tr>\n",
       "    <tr>\n",
       "      <th>深科转债</th>\n",
       "      <td>1571900</td>\n",
       "      <td>43.65</td>\n",
       "      <td>32</td>\n",
       "      <td>7</td>\n",
       "    </tr>\n",
       "    <tr>\n",
       "      <th>英联转债</th>\n",
       "      <td>97440</td>\n",
       "      <td>6.42</td>\n",
       "      <td>41</td>\n",
       "      <td>7</td>\n",
       "    </tr>\n",
       "    <tr>\n",
       "      <th>道恩转债</th>\n",
       "      <td>227840</td>\n",
       "      <td>6.33</td>\n",
       "      <td>39</td>\n",
       "      <td>7</td>\n",
       "    </tr>\n",
       "    <tr>\n",
       "      <th>晶瑞转债</th>\n",
       "      <td>50000</td>\n",
       "      <td>9.44</td>\n",
       "      <td>38</td>\n",
       "      <td>7</td>\n",
       "    </tr>\n",
       "    <tr>\n",
       "      <th>联泰转债</th>\n",
       "      <td>124250</td>\n",
       "      <td>6.44</td>\n",
       "      <td>37</td>\n",
       "      <td>7</td>\n",
       "    </tr>\n",
       "    <tr>\n",
       "      <th>久其转债</th>\n",
       "      <td>711052</td>\n",
       "      <td>9.13</td>\n",
       "      <td>41</td>\n",
       "      <td>7</td>\n",
       "    </tr>\n",
       "    <tr>\n",
       "      <th>盛路转债</th>\n",
       "      <td>84617</td>\n",
       "      <td>15.99</td>\n",
       "      <td>39</td>\n",
       "      <td>7</td>\n",
       "    </tr>\n",
       "    <tr>\n",
       "      <th>京源转债</th>\n",
       "      <td>1207110</td>\n",
       "      <td>36.31</td>\n",
       "      <td>36</td>\n",
       "      <td>7</td>\n",
       "    </tr>\n",
       "    <tr>\n",
       "      <th>中陆转债</th>\n",
       "      <td>1331604</td>\n",
       "      <td>37.01</td>\n",
       "      <td>36</td>\n",
       "      <td>7</td>\n",
       "    </tr>\n",
       "    <tr>\n",
       "      <th>润禾转债</th>\n",
       "      <td>445979</td>\n",
       "      <td>15.26</td>\n",
       "      <td>38</td>\n",
       "      <td>6</td>\n",
       "    </tr>\n",
       "    <tr>\n",
       "      <th>苏利转债</th>\n",
       "      <td>5879660</td>\n",
       "      <td>61.42</td>\n",
       "      <td>23</td>\n",
       "      <td>6</td>\n",
       "    </tr>\n",
       "    <tr>\n",
       "      <th>开润转债</th>\n",
       "      <td>318710</td>\n",
       "      <td>14.36</td>\n",
       "      <td>29</td>\n",
       "      <td>6</td>\n",
       "    </tr>\n",
       "    <tr>\n",
       "      <th>松霖转债</th>\n",
       "      <td>2016680</td>\n",
       "      <td>33.06</td>\n",
       "      <td>33</td>\n",
       "      <td>6</td>\n",
       "    </tr>\n",
       "    <tr>\n",
       "      <th>铂科转债</th>\n",
       "      <td>1439575</td>\n",
       "      <td>33.47</td>\n",
       "      <td>28</td>\n",
       "      <td>6</td>\n",
       "    </tr>\n",
       "  </tbody>\n",
       "</table>\n",
       "</div>"
      ],
      "text/plain": [
       "                HOLD_NUM  HOLD_RATIO  HOLDER_RANK  person\n",
       "BOND_NAME_ABBR                                           \n",
       "天康转债              488650       57.58           55      10\n",
       "蓝盾转债               84320        8.42           55      10\n",
       "三超转债              471767       24.22           55      10\n",
       "丰山转债             2810570       56.21           55      10\n",
       "尚荣转债              161550        8.49           46       9\n",
       "联得转债              215890       14.67           50       9\n",
       "天铁转债               76885       13.12           54       9\n",
       "永吉转债               53120        3.64           54       9\n",
       "佳力转债              236910        7.95           51       9\n",
       "盘龙转债             1354814       49.08           53       9\n",
       "友发转债            11658680       58.30           50       9\n",
       "起步转债              292450       11.00           49       9\n",
       "丝路转债              188800        7.88           52       9\n",
       "广电转债               94110       13.31           52       9\n",
       "胜蓝转债              265588        8.05           53       9\n",
       "泰林转债             1311286       62.44           36       8\n",
       "卡倍转债              184945        6.61           47       8\n",
       "博汇转债              433764       10.93           46       8\n",
       "垒知转债             1128798       28.48           39       8\n",
       "凯发转债              118784       10.24           48       8\n",
       "福莱转债            29561140       73.92           39       8\n",
       "新天转债              145960        9.48           44       8\n",
       "华锐转债              958680       23.96           51       8\n",
       "天地转债              469385       27.29           46       8\n",
       "聚合转债              196000        9.60           52       8\n",
       "永东转2             1495894       39.37           38       8\n",
       "山石转债              128420        4.79           50       8\n",
       "东时转债              138070       14.03           46       8\n",
       "康医转债             3409068       48.69           49       8\n",
       "搜特转债              677624        8.49           48       8\n",
       "金农转债              171270       11.76           49       7\n",
       "宏丰转债             1424403       44.34           37       7\n",
       "花王转债              252330        7.65           41       7\n",
       "航新转债              290250       11.62           38       7\n",
       "金陵转债               92160        3.68           49       7\n",
       "通光转债               41060        5.26           40       7\n",
       "深科转债             1571900       43.65           32       7\n",
       "英联转债               97440        6.42           41       7\n",
       "道恩转债              227840        6.33           39       7\n",
       "晶瑞转债               50000        9.44           38       7\n",
       "联泰转债              124250        6.44           37       7\n",
       "久其转债              711052        9.13           41       7\n",
       "盛路转债               84617       15.99           39       7\n",
       "京源转债             1207110       36.31           36       7\n",
       "中陆转债             1331604       37.01           36       7\n",
       "润禾转债              445979       15.26           38       6\n",
       "苏利转债             5879660       61.42           23       6\n",
       "开润转债              318710       14.36           29       6\n",
       "松霖转债             2016680       33.06           33       6\n",
       "铂科转债             1439575       33.47           28       6"
      ]
     },
     "execution_count": 131,
     "metadata": {},
     "output_type": "execute_result"
    }
   ],
   "source": [
    "df.groupby('BOND_NAME_ABBR').sum().sort_values('person',ascending=False).head(50)"
   ]
  },
  {
   "cell_type": "code",
   "execution_count": null,
   "metadata": {},
   "outputs": [],
   "source": []
  }
 ],
 "metadata": {
  "interpreter": {
   "hash": "513dc2e41d739bb2c947903f3c0bbf636d03aa53ab50e61c694a27481c81805e"
  },
  "kernelspec": {
   "display_name": "Python 3.8.3 64-bit ('base': conda)",
   "name": "python3"
  },
  "language_info": {
   "codemirror_mode": {
    "name": "ipython",
    "version": 3
   },
   "file_extension": ".py",
   "mimetype": "text/x-python",
   "name": "python",
   "nbconvert_exporter": "python",
   "pygments_lexer": "ipython3",
   "version": "3.9.7"
  }
 },
 "nbformat": 4,
 "nbformat_minor": 4
}
